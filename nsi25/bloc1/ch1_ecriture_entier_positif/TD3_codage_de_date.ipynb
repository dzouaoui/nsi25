{
 "cells": [
  {
   "cell_type": "markdown",
   "metadata": {},
   "source": [
    "# Codage d'une date\n",
    "\n",
    "> L'objectif de cet exercice est de chercher une manière efficace de coder des dates en binaire. Par efficace, on veut dire : limiter au maximum le nombre de bits utilisés.\n",
    "\n",
    "1. Quel doit être le nombre minimal de bits pour coder un jour en binaire? \n",
    "    \n",
    "    \n",
    "2. Quel doit être le nombre minimal de bits pour coder un mois en binaire? \n",
    "\n",
    "    \n",
    "3. Quel doit être le nombre minimal de bits pour coder une année en binaire (on décide de se limiter jusqu'en 2097 inclus) ? \n",
    "\n",
    "    \n",
    "> On constate que le nombre de bits codant l'année est important. Pour le réduire, on se limite à coder des années comprises entre 1970 et 2097. Cela permet de coder non pas l'année directement mais **la différence entre l'année à coder et 1970**\n",
    "\n",
    "4. Quel est maintenant le nombre minimal de bits pour coder l'année en binaire\n",
    "\n",
    "   \n",
    "5. Coder de cette manière votre date de naissance."
   ]
  }
 ],
 "metadata": {
  "kernelspec": {
   "display_name": "Python 3",
   "language": "python",
   "name": "python3"
  },
  "language_info": {
   "codemirror_mode": {
    "name": "ipython",
    "version": 3
   },
   "file_extension": ".py",
   "mimetype": "text/x-python",
   "name": "python",
   "nbconvert_exporter": "python",
   "pygments_lexer": "ipython3",
   "version": "3.8.10"
  }
 },
 "nbformat": 4,
 "nbformat_minor": 4
}
