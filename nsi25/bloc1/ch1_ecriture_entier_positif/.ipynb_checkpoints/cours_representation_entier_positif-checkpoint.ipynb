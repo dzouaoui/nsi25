{
 "cells": [
  {
   "cell_type": "markdown",
   "metadata": {},
   "source": [
    "# Représentation des ENTIERS POSITIFS en base décimale, binaire et hexadécimale\n",
    "\n",
    "## Avertissement\n",
    "\n",
    "* Contrairement à ce que certains peuvent ressentir à la vue de ce cours et des formules mathématiques _\"monstrueuses\"_ , ce cours est **simple**. Les formules mathématiques _\"monstrueuses\"_ ne sont pas à apprendre et vous n'en aurait même jamais besoin en prébac. (Je les note dans ce cours pour vous montrer un aperçu des mathématiques à un niveau un peu supérieur)\n",
    "\n",
    "* Le plus important, ce sont les exemples, les exercices pour pratiquer et d'appliquer les méthodes. Par expérience, même les élèves _\"fâchés\"_ avec les maths réussissent bien cette partie du programme !\n",
    "\n",
    "* **Attention :** tout n'est pas noté dans ce cours : vous devez prendre des notes sur une feuille !\n",
    "\n",
    "## Notion de base\n",
    "\n",
    "**Attention**, il faut toujours indiquer la base dans laquelle un nombre est exprimé (sauf, par usage et commodité, en base 10) : $10 = 1010_{(2)} = A_{(16)}$\n",
    "\n",
    "* Les **humains** (*enfin pas tous, lire*  : [le principe de base](https://fr.wikipedia.org/wiki/Syst%C3%A8me_de_num%C3%A9ration)) utilisent le système **décimal (base 10)** pour écrire les nombres entiers. En effet dans ce système, on utilise **10 chiffres : de 0 à 9** pour écrire les nombres entiers\n",
    "\n",
    "\n",
    "* Les **machines** utilisent  le système **binaire (base 2)** pour écrire les nombres entiers. En effet dans ce système, on utilise **2 chiffres : de 0 à 1** pour écrire les nombres entiers\n",
    "<img src=\"img/teeShirt.jpg\" width = 30%/>\n",
    "\n",
    "\n",
    "* Les **informaticiens** utilisent souvent le système **hexadécimal (base 16)** pour écrire les nombres entiers. En effet dans ce système, on utilise **16 chiffres : de 0 à F** pour écrire les nombres entiers. \n",
    "En effet les informaticiens (et d'une manière plus large beaucoup d'ingénieurs) sont amenés à directement écrire des entiers en binaire dans une machine pour la programmer, la configurer, etc... . Or ceci n'est pas pratique : le risque d'erreur est grand !!\n",
    "Pour cette raison on utilise souvent **l'hexadécimal : c'est une manière pratique et condensée d'écrire en binaire**\n",
    "\n",
    "Remarque sur les nombres binaires :\n",
    "* Pour facilité la lecture et les conversions, écrire un nombre binaire en faisant des paquets de 4 bits **en commençant par la droite !!**\n",
    "    * Par exemple : $N = 10\\;1100\\;0100_{(2)}$ et pas $N = 1011000100_{(2)}$\n",
    "* On appelle **bit de poids fort** ou **MSB** (Most Significant bit), le bit le plus à **gauche**\n",
    "* On appelle **bit de poids faible** ou **LSB** (Least Significant bit), le bit le plus à **droite**\n",
    "\n",
    "#### Tableau de correspondance entre l'hexadécimal et le décimal :\n",
    "(*Vous devez retenir ce tableau. Horreur!!!!.... Mais on le retient sans effort.... il suffit de bien s'y prendre ! Il n'y a pas besoin de l'apprendre par coeur. Ouf!!*)\n",
    "\n",
    "|Chiffres hexadécimaux|Valeur en décimal|Valeur en binaire|\n",
    "|:--------:|:------:|:--------:|\n",
    "| 0 | 0 | 0000 |\n",
    "| 1 | 1 | 0001 |\n",
    "| 2 | 2 | 0010 |\n",
    "| 3 | 3 | 0011 |\n",
    "| 4 | 4 | 0100 |\n",
    "| 5 | 5 | 0101 |\n",
    "| 6 | 6 | 0110 |\n",
    "| 7 | 7 | 0111 |\n",
    "| 8 | 8 | 1000 |\n",
    "| 9 | 9 | 1001 |\n",
    "| A | 10 | 1010 |\n",
    "| B | 11 | 1011 |\n",
    "| C | 12 | 1100 |\n",
    "| D | 13 | 1101 |\n",
    "| E | 14 | 1110 |\n",
    "| F | 15 | 1111 |\n",
    "\n",
    "## Formalisation\n",
    "\n",
    "Tout nombre entier $N$ composé de $p$ chiffres peut s'écrire sous la forme :\n",
    "\n",
    "$N = c_{p-1}\\:\\: c_{p-2} \\ldots c_1\\:\\: c_0$ où  $\\:\\:c_i$ est le chiffre de rang $i$ du nombre $N$\n",
    "\n",
    "Exemple en base décimale  pour $N = 247$, on a : \n",
    " \n",
    "* $p = 3$, en effet $247$ est composé de $3$ chiffres\n",
    "* $c_0 = 7$, chiffre des unités\n",
    "* $c_1 = 4$, chiffre des dizaines\n",
    "* $c_2 = 2$, chiffre des centaines\n",
    "\n",
    "# Passage d'une représentation dans une base à une autre\n",
    "\n",
    "## Quelques astuces pour les conversions entre base\n",
    "\n",
    "* **_\"Commmencer par la droite et compter à partir de  0\"_**\n",
    "* Il est très facile de s'entraîner tout seul à faire des conversions entre base : Une calculatrice (par exemple la calculatrice windows en mode programmeur) vous donnera la réponse permettant de vous auto-corriger !\n",
    "* Certaines erreurs sont fréquentes si on se contente d'apprendre son cours à la va-vite.... La plupart seront vues en classe : soyez attentif et prenez des notes...\n",
    "* Attention à ne pas mélanger les méthodes. Elles sont résumées dans ce schéma (à apprendre en pratiquant) : ![conversion entres bases](img/conversion_base.png)\n",
    "\n",
    "## Formule (de base 2 ou 16 vers base 10)\n",
    "\n",
    "Soit un nombre entier positif $N_{(B)} = c_{p-1}\\:\\:  c_{p-2} \\ldots c_1 \\:\\: c_0\\:\\:$ écrit dans une base $B$  \n",
    "Sa valeur en décimale vaut :\n",
    "\n",
    "$N = \\sum_0^{p-1}{c_i B^i} = c_0 B^0 + \\ldots + c_{p-1} B^{p-1}$\n",
    "\n",
    "## Tableau des puissances de 2 (de base 10 vers base 2)\n",
    "\n",
    " Soit un nombre entier positif $N$ (écrit en base 10)\n",
    " \n",
    " 1. Etablir le tableau des puissances de 2 (en commençant par la droite et à la puissance 0)  \n",
    " *Remarque : avec l'habitude la première ligne pourra être oubliée*\n",
    " 2. Arrêter le tableau juste avant que la valeur de la puissance de 2 ne dépasse $N$ (*si on continue, ce n'est pas grave*)\n",
    " 3. Sélectionner les puissances de 2 dont la somme égale $N$ (*il y a une unique solution*)\n",
    " 4. Si une puissance de 2 a été sélectionnée, écrire 1, sinon écrire 0\n",
    " \n",
    " ça paraît compliqué mais avec un exemple, ça passe tout seul !\n",
    " \n",
    " prenons $N=52$. On aura : \n",
    " \n",
    "|$2^5$|$2^4$|$2^3$|$2^2$|$2^1$|$2^0$|\n",
    "|:--:|:--:|:--:|:--:|:--:|:--:|\n",
    "|32|16|8|4|2|1|\n",
    "|1|1|0|1|0|0|0|\n",
    " \n",
    " et donc $N = 11\\;0100_{(2)}$ car $N = 52 = 32 + 16 + 4$\n",
    " \n",
    "## Suite de divisions entières par 2\n",
    "(*Cette méthode est à mon avis moins pratique que la première, néanmoins, elle est très utilisée en algorithmie*)\n",
    "\n",
    "Rappel : Une division entière donne un quotient et un reste...\n",
    "\n",
    "* Enchaîner les divisions entières par 2 sur les quotients\n",
    "* Le premier quotient est le nombre $N$ à convertir\n",
    "* S'arrêter lorsque le quotient devient nul. (*si vous continuez, vous allez vite voir que c'est inutile... et que ça ne changera pas le résultat*)\n",
    "* Le résultat est composé des restes en lisant de haut en bas !!\n",
    "\n",
    "Exemple avec $N =77$\n",
    "\n",
    " ![divisions entières successives](img/division_entiere_2.jpeg)\n",
    " *(Source : https://sciences-du-numerique.fr/)*\n",
    "\n",
    "On obtient donc $77=100\\;1101_{(2)}$ \n",
    "\n",
    "## Suite de divisions entières par 16\n",
    "C'est la même principe que précédemment sauf qu'il faut enchaîner les divisions entières par 16.... Ce qui ne donne pas franchement envie...\n",
    "... Mais, regardez-bien le schéma récapitulant toutes les méthodes : il y a moyen de s'en passer !!\n",
    "\n",
    "## Méthode des paquets de 4 bits. (de base 2 vers base 16 et inversement)\n",
    "Souvenez-vous, **l'hexadécimal c'est du binaire sous forme _\"condensée\"_**. La conversion est donc immédiate : l'hexadécimal ça sert justement à ça !\n",
    "\n",
    "Chaque chiffre hexadécimal se code sur 4 bits en utilisant le tableau de conversion donné en début de cours. **Attention**, toujours faire des paquets en **commençant par la droite !!**\n",
    "\n",
    "# Multiples en informatique\n",
    "\n",
    "En informatique, il est très fréquent de manipuler des quantités très importantes de données. On utilise donc très souvent les multiples.\\\n",
    "Rappel :\n",
    "\n",
    "* $kilo = k = 10^3 = 1\\;000$\n",
    "* $méga = M = 10^6 = 1000\\;000$\n",
    "* $giga = G = 10^9 = 1\\;000\\;000\\;000$\n",
    "* $téra = T = 10^{12} = 1\\;000\\;000\\;000\\;000$\n",
    "\n",
    "Dans le monde informatique, les préfixes **\"kilo\", \"méga\", \"giga\", \"téra\" ne représentent pas des puissances de 10, mais des puissances de $2^{10}$ = 1024.**\n",
    "\n",
    "Même si cela ne correspond pas aux valeurs courantes, ce mésugage est encore courant aujourd'hui. \n",
    "Une nouvelle norme a été créée en 1998 pour noter les multiples de $2^{10} = 1024$ : les [\"kibi\", \"mébi\", \"gibi\", \"tébi\"](https://fr.wikipedia.org/wiki/Préfixe_binaire). Mais il est encore courant de ne pas respecter cette nouvelle norme.\n",
    "\n",
    "En conclusion, en informatique il faut **toujours considérer** que \"kilo\", \"méga\", \"giga\", \"téra\" signifient \"kibi\", \"mébi\", \"gibi\", \"tébi\". On a donc :\n",
    "\n",
    "![multiples en informatique](img/multiples_octets.png)\n",
    "*(source : https://fr.wikipedia.org/wiki/Octet)*\n",
    "\n",
    "## Attention : byte ne signifie pas bit \n",
    "\n",
    "**bytes** (noté **B**) = **octet** en anglais (*faux ami*)\n",
    "\n",
    "Ainsi une clé USB de 4GB a une capacité de\n",
    "* 4Gio = 4 Gioctets\n",
    "* 8*4 = 32 Gib = 32 Giobits\n",
    "* et pas 4 Gib = 4 Giobits !!\n",
    "\n",
    "# Influence du nombre de bits\n",
    "\n",
    "En informatique, le nombre $n$ de bits est souvent imposé pour des raisons technologiques (ex : taille maximale d'un espace mémoire).\n",
    "\n",
    "Cela va avoir des conséquences sur le nombre $N$ que l'on peut écrire. Ainsi on aura :\n",
    "* $N_{min} = 0 \\ldots 0_{(2)} = 0$ \n",
    "* **$N_{max} = 1 \\ldots 1_{(2)} = 2^n-1$**\n",
    "\n",
    "Il y a donc  **$2^n$ valeurs possibles** pour un nombre $N$ écrit sur $n$ bits\n",
    "\n",
    "**Activité : Ce genre de calcul est-il vraiment utile ??**\n",
    "\n",
    "| **Dépassement de capacité : un bug SILENCIEUX qui peut coûter cher !** |[**crash du vol 501**](https://fr.wikipedia.org/wiki/Vol_501_d%27Ariane_5) |\n",
    "|:-|:-:|\n",
    "|Cliquez sur l'image ci-contre pour pour lire la video. Nous allons maintenant tenter de mieux comprendre ce qui a entraîner le crash <br/> <br/> **Précisons que l'accélération d'Ariane 4 était codée sur 1 octet et sa valeur maximale de 64**<br/><br/> La vidéo parle de \"dépassement d'entier de l'ordinateur de guidage\"<br/> 1. Qu'est-ce que cela veut dire ? A quelle valeur d'accélération de Ariane 5 le bug s'est-il déclenché ? Pourquoi ?<br/><br/>2. La vidéo suggère que le système informatique a \"planté\". Et que \"l'ordinateur s'est retrouvé avec un nombre qu'il ne pouvait pas coder\". En fait, ce n'est exact. Pourquoi ? <br/><br/><br/> Nous expliquerons plus tard dans l'année pourquoi l'ordinateur a commandé un changement brutal de direction...|[<img src=\"img/ariane5.png\" width=50%/>](https://www.youtube.com/watch?v=t7pe1ph6EI0&t=75s)|\n",
    "\n",
    "**Conclusion : Celui qui ne veut pas faire ce genre de calcul me doit 150 millions d'euros...**\n",
    "\n",
    "\n",
    "# Conclusion\n",
    "\n",
    "## Autres bases\n",
    "\n",
    "Les bases 2, 10 et 16 sont dites *privilégiées* dans le programme de la spécialité NSI mais on y parle aussi de base $b\\ge2$.\n",
    "\n",
    "* Tout nombre $b\\ge2$ peut servir de base. On peut citer par exemple **l'octal (base 8)** encore marginalement utilisée.\n",
    "* **Le principe reste le même pour n'importe quelle base $b\\ge2$**. Ainsi  un nombre octal utilise des chiffres de 0 à 7 et par exemple :\n",
    "\n",
    "$123_{(8)} = 3.8^0+2.8^1+1.8^2 = 83_{(10)}$\n",
    "\n",
    "## Représentation en Python\n",
    "\n",
    "Python permet permet d'écrire directement des entiers écrits dans des bases différentes. Pour cela, il suffit de préciser ce nombre par le bon **préfixe**\n",
    "\n",
    "```python\n",
    "123 # le nombre 123 en décimal\n",
    "0x56E # le nombre 56E en hexadécimal\n",
    "0b1010 # le nombre 1010 en binaire\n",
    "0o45 # le nombre 45 en octal\n",
    "```"
   ]
  },
  {
   "cell_type": "code",
   "execution_count": 1,
   "metadata": {},
   "outputs": [
    {
     "data": {
      "text/plain": [
       "1390"
      ]
     },
     "execution_count": 1,
     "metadata": {},
     "output_type": "execute_result"
    }
   ],
   "source": [
    "# préfixe 0x : hexadécimal\n",
    "0x56E"
   ]
  },
  {
   "cell_type": "code",
   "execution_count": 2,
   "metadata": {},
   "outputs": [
    {
     "data": {
      "text/plain": [
       "10"
      ]
     },
     "execution_count": 2,
     "metadata": {},
     "output_type": "execute_result"
    }
   ],
   "source": [
    "# préfixe 0b : binaire\n",
    "0b1010"
   ]
  },
  {
   "cell_type": "code",
   "execution_count": 4,
   "metadata": {},
   "outputs": [
    {
     "data": {
      "text/plain": [
       "37"
      ]
     },
     "execution_count": 4,
     "metadata": {},
     "output_type": "execute_result"
    }
   ],
   "source": [
    "# préfixe 0o : octal\n",
    "0o45"
   ]
  },
  {
   "cell_type": "code",
   "execution_count": 3,
   "metadata": {},
   "outputs": [
    {
     "data": {
      "text/plain": [
       "123"
      ]
     },
     "execution_count": 3,
     "metadata": {},
     "output_type": "execute_result"
    }
   ],
   "source": [
    "# pas de préfixe : décimal\n",
    "123"
   ]
  }
 ],
 "metadata": {
  "kernelspec": {
   "display_name": "Python 3 (ipykernel)",
   "language": "python",
   "name": "python3"
  },
  "language_info": {
   "codemirror_mode": {
    "name": "ipython",
    "version": 3
   },
   "file_extension": ".py",
   "mimetype": "text/x-python",
   "name": "python",
   "nbconvert_exporter": "python",
   "pygments_lexer": "ipython3",
   "version": "3.8.10"
  },
  "latex_envs": {
   "LaTeX_envs_menu_present": true,
   "autoclose": false,
   "autocomplete": true,
   "bibliofile": "biblio.bib",
   "cite_by": "apalike",
   "current_citInitial": 1,
   "eqLabelWithNumbers": true,
   "eqNumInitial": 1,
   "hotkeys": {
    "equation": "Ctrl-E",
    "itemize": "Ctrl-I"
   },
   "labels_anchors": false,
   "latex_user_defs": false,
   "report_style_numbering": false,
   "user_envs_cfg": false
  }
 },
 "nbformat": 4,
 "nbformat_minor": 4
}
