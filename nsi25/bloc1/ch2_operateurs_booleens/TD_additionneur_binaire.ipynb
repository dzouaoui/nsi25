{
 "cells": [
  {
   "cell_type": "markdown",
   "metadata": {},
   "source": [
    "# Additionneur binaire : niveau difficile\n",
    "\n",
    "## Première partie\n",
    "\n",
    "* Question préliminaire : Poser et effectuer l'addition binaire ci dessous (faire apparaître les retenues):\n",
    "\n",
    "![addition binaire](img/Addition_binaire.gif)\n",
    "\n",
    "**Le but de cet exercice est de réaliser un circuit combinatoire permettant de réaliser une addition binaire**\n",
    "\n",
    "> On appelle demi-additionneur un circuit combinatoire réalisant une addition entre 2 bits (notés A et B) sans retenue entrante. Ainsi dans la question préliminaire, le demi-additionneur est le circuit permettant d'effectuer l'addition des bits de poids faibles (pas de retenue entrante)\n",
    "\n",
    "1. Compléter ci-dessous la table de vérité du demi-additionneur. On note S le résultat et C la retenue\n",
    "\n",
    "|A|B|S|C|\n",
    "|-|-|-|-|\n",
    "|0|0|\n",
    "|0|1|\n",
    "|1|0|\n",
    "|1|1|\n",
    "\n",
    "\n",
    "2. Donner l'expression booléenne de S et de C en fonction de A et de B puis dessiner le circuit combinatoire correspondant.\n",
    "\n",
    "> Un **additionneur complet 1 bit** nécessite une entrée supplémentaire : une retenue. Dans la question préliminaire, l'additionneur complet est le ciruit permettant d'effectuer l'addition de n'importe quel bit.\n",
    "On donne ci-dessous, le circuit combinatoire correspondant à un additionneur complet 1 bit. On note Cin la retenue entrante et Cout la retenue sortante.\n",
    "\n",
    "![additionneur complet 1 bit](img/additionneur_complet.png) *Source : wikipedia*\n",
    "\n",
    "> Dans la question précédente, nous avons réalisé un demi-additionneur en associant des portes logiques (eux-mêmes constitués de transistors). C'est l'idée de \"lego\" mentionnée dans le cours. De la même façon, on peut remarquer que l'additionneur complet 1 bit est basé sur l'association de 2 demi-additionneurs et d'une porte logique.\n",
    "\n",
    "3. Dessiner un schéma de l'additionneur complet 1 bit faisant apparaître l'association de 2 demi-additionneurs et d'une porte logique.\n",
    "\n",
    "4. \n",
    "    * Donner l'expression booléenne de S et de Cout en fonction de A, B et Cin.\n",
    "    * A l'aide des expressions ci-dessus, montrer que le demi-additionneur est un cas particulier de l'additionneur complet 1 bit pour lequel Cin = 0\n",
    "\n",
    "> Ainsi, on peut donc considérer que l'additionneur complet 1 bit est *\"la brique de base\"* permettant de réaliser nimporte quelle addition binaire (comme celle de la question préliminaire)\n",
    "\n",
    "5. Dessiner le schéma d'un additionneur complet 4 bits montrant l'association de plusieurs \"briques de base\" additionneur complet 1 bit\n",
    "\n",
    "> L'additionneur binaire complet ainsi réalisé est appelé *additionneur parallèle à propagation de retenue*. Même s'il donne des résultats justes, ce n'est pas ce circuit qui est utilisé dans les processeurs pour réaliser les additions car il a un inconvénient majeur.\n",
    "\n",
    "> Même s'ils sont très rapides, les circuits logiques ne donnent pas leur sortie instantannément : il y a un temps de propagation (de l'ordre de la ns) entre le moment où on injecte les entrées et où les résultats apparaissent sur les sorties. On appelle **t** le temps de propagation d'un additionneur complet 1 bit (**t** = temps de calcul d'un additionneur complet 1 bit).\n",
    "\n",
    "6.  \n",
    "    * Quel est le temps mis pour faire une addition binaire sur 4 bits. Donner la raison en une courte phrase.\n",
    "    * En déduire la formule mathématique donnant le temps de calcul de l'addition en fonction de la longueur des nombres à additionner (nombre de bits de ces nombres)\n",
    "    * Tracer l'allure de la courbe donnant le temps de calcul de l'addition en fonction du nombre de bits composant les nombres à additionner\n",
    "\n",
    "Il existe des additionneurs de technologie plus complexes (à retenue anticipée) mais qui permettent de calculer un résultat en un temps logarithmique de la taille des entrées\n",
    "\n",
    "7. Ajouter sur le graphique précédent la courbe pour les additionneurs à retenue anticipée.\n",
    "\n",
    "8. A l'aide du graphique, expliquer en quelques lignes l'avantage des additionneurs à retenue anticipée par rapport aux additionneurs parallèles à propagation de retenue.\n",
    "\n",
    "## Deuxième partie\n",
    "\n",
    "**La suite de l'exercice devra être réalisé en mettant en oeuvre les résultats précédemment trouvés !**\n",
    "\n",
    "1. Ecrire une fonction `str_to_bool` répondant à la documentation ci-dessous. Ainsi `str_to_bool('0')` devra renvoyer `False`. `str_to_bool('1')` devra renvoyer `True`"
   ]
  },
  {
   "cell_type": "code",
   "execution_count": null,
   "metadata": {},
   "outputs": [],
   "source": [
    "def str_to_bool(ch):\n",
    "    \"\"\"\n",
    "    Description de la fonction : convertit les chaînes de caractères '1' et '0' en type booléen\n",
    "    ch (str)\n",
    "    return (bool)\n",
    "    \"\"\"\n",
    "    # à compléter"
   ]
  },
  {
   "cell_type": "markdown",
   "metadata": {},
   "source": [
    "2. Ecrire une fonction `bool_to_str` répondant à la documentation ci-dessous. Ainsi `bool_to_str(True)` devra renvoyer `'1'`. `bool_to_str(False)` devra renvoyer `'0'`"
   ]
  },
  {
   "cell_type": "code",
   "execution_count": null,
   "metadata": {},
   "outputs": [],
   "source": [
    "def bool_to_str(booleen):\n",
    "    \"\"\"\n",
    "    Description de la fonction : Convertit un booléen en chaîne de caractère '1' et '0'\n",
    "    booleen (bool)\n",
    "    return (str)\n",
    "    \"\"\"\n",
    "    # à compléter"
   ]
  },
  {
   "cell_type": "markdown",
   "metadata": {},
   "source": [
    "> On donne la fonction `xor` permettant de calculer le résultat `x xor y` (voir TD `premiere/bloc1/operateurs_booleens/TD_operateurs_booleens.ipynb`)"
   ]
  },
  {
   "cell_type": "code",
   "execution_count": null,
   "metadata": {},
   "outputs": [],
   "source": [
    "def xor(x,y):\n",
    "    return (x and not(y) or y and not(x))"
   ]
  },
  {
   "cell_type": "markdown",
   "metadata": {},
   "source": [
    "3. Ecrire une fonction `addComplet_1bit` répondant à la documentation ci-dessous. Pour cela, vous devrez utiliser les fonctions `bool_to_str` et `str_to_bool` ainsi que `xor` précédente\n",
    "\n",
    "`addComplet_1bit('1','0','1')` devra renvoyer `('0', '1')`"
   ]
  },
  {
   "cell_type": "code",
   "execution_count": null,
   "metadata": {},
   "outputs": [],
   "source": [
    "\n",
    "def addComplet_1bit(A,B,Cin):\n",
    "    \"\"\"\n",
    "    Description de la fonction : Additionneur complet 1 bit\n",
    "    A (str) : 1er bit à additionner\n",
    "    B (str) : 2eme bit à additionner\n",
    "    Cin (str) : retenue entrante\n",
    "    Préconditions sur les paramètres : A, B et Cin ne peuvent être que des chaînes de caractères \n",
    "                                        égales à '0' ou '1'\n",
    "    return (tuple) : (S, Cout) avec S et Cout de type (str) ne pouvant être que des chaînes de caractères \n",
    "                                        égales à '0' ou '1'\n",
    "    \"\"\"\n",
    "    # à compléter"
   ]
  }
 ],
 "metadata": {
  "kernelspec": {
   "display_name": "Python 3",
   "language": "python",
   "name": "python3"
  },
  "language_info": {
   "codemirror_mode": {
    "name": "ipython",
    "version": 3
   },
   "file_extension": ".py",
   "mimetype": "text/x-python",
   "name": "python",
   "nbconvert_exporter": "python",
   "pygments_lexer": "ipython3",
   "version": "3.10.12"
  },
  "latex_envs": {
   "LaTeX_envs_menu_present": true,
   "autoclose": false,
   "autocomplete": true,
   "bibliofile": "biblio.bib",
   "cite_by": "apalike",
   "current_citInitial": 1,
   "eqLabelWithNumbers": true,
   "eqNumInitial": 1,
   "hotkeys": {
    "equation": "Ctrl-E",
    "itemize": "Ctrl-I"
   },
   "labels_anchors": false,
   "latex_user_defs": false,
   "report_style_numbering": false,
   "user_envs_cfg": false
  }
 },
 "nbformat": 4,
 "nbformat_minor": 2
}
