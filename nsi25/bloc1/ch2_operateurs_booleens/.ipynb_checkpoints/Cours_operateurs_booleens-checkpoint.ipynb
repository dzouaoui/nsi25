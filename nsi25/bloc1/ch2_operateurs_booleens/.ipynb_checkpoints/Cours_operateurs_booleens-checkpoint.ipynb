{
 "cells": [
  {
   "cell_type": "markdown",
   "metadata": {},
   "source": [
    "# Un peu d'électronique : considération Hardware\n",
    "\n",
    "**Rappel :** comme tous les constituants d'un ordinateur, le [processeur](https://fr.wikipedia.org/wiki/Processeur) est fabriqué à base de [transistors](https://fr.wikipedia.org/wiki/Transistor) qui sont des _\"nano-interrupteurs électroniques\"_ ne pouvant prendre que 2 états : ouvert / fermé.\n",
    "\n",
    "|schéma d'un transistor| |interrupteur|\n",
    "|:-:|:-:|:-:|\n",
    "|<img src=\"img/transistor.png\" width=\"50%\"/>|<img src=\"img/doubleFleche.jpg\" width=\"70%\"/>|![interrupteur](img/interrupteur.png)|\n",
    "\n",
    "Chaque transistor peut \"générer\" une tension électrique de 0Volt ou 5Volt (par exemple) selon qu'il est ouvert ou fermé. Ces deux états possibles sont \"informatiquement représentés\" par :\n",
    "* le booléen `False` ou l'entier 0 correspondant à une tension de 0Volt.\n",
    "* le booléen `True` ou l'entier 1 correspondant à une tension de 5Volt.\n",
    "\n",
    "Pour information, le [Intel 4004](https://fr.wikipedia.org/wiki/Intel_4004), premier processeur commercialisé de l'histoire en 1971 intégrait 2300 transistors sur sa puce. (Voir le [schéma interne du 4004](Intel-4004-schematics.pdf))\n",
    "\n",
    "\n",
    "![photo 4004](img/4004.jpg) *(Photo du 4004 - Source : wikipedia)*\n",
    "\n",
    "Avec les progrès de la microélectronique, les processeurs ont intégré de plus en plus de transistors, pour dépasser maintenant le milliard de transistors...\n",
    "\n",
    "![Moore](img/Moore.jpg)\n",
    "\n",
    "**Comment peut-on assembler plus d'un millard de transistors pour que cela fasse un processeur qui fonctionne ??**\n",
    "\n",
    "## Le processeur : un \"Lego\" de transistors\n",
    "\n",
    "![lego](img/lego.jpg)\n",
    "\n",
    "On ne construit pas une structure de plus d'un milliard d'éléments \"d'un seul coup\" mais on construit des blocs de plus en plus évolués à partir de blocs plus simples et on répète l'opération. C'est finalement le même principe d'**encapsulation** et de **modularité** vu avec les **fonctions**\n",
    "\n",
    "1. La pièce de base : Les transitors\n",
    "\n",
    "\n",
    "2. En assemblant quelques transistors on fabrique des portes logiques ou opérateurs logiques (voir suite du cours) \n",
    "\n",
    "![schema interne and](img/andTransistor.png) *Exemple : Assemblage de 6 transistors pour faire une porte logique and*\n",
    "\n",
    "\n",
    "3. En assemblant quelques portes logiques on fabrique des additionneurs, comparateurs, registres, etc...\n",
    "\n",
    "\n",
    "4. En assemblant ces structures plus complexes, on fabrique des Unités Arithmétique et Logique, des Unité de contrôle, etc... (voir cours sur l'architecture des ordinateurs)\n",
    "\n",
    "\n",
    "5. Un processeur est l'assemblage. Ce que l'on observe sur la photo ci-dessous : \n",
    "\n",
    "<img src=\"img/processeur.jpeg\" width=\"50%\"/> *(Photo - Wikipedia)*\n",
    "\n",
    "\n",
    "\n",
    "# Les portes logiques\n",
    "Les portes logiques sont des circuits électroniques permettant de réaliser des fonctions binaires élémentaires. Ces fonctions prennent 1 ou plusieurs bits en entrée et produisent 1 bit en sortie dont l'état (0 ou 1) ne dépend que de l'état des entrées (les fonctions sont dites combinatoires)\n",
    "\n",
    "![porte logique](img/porteLogique.png)\n",
    "\n",
    "## Comment apprendre ce tableau ?\n",
    "\n",
    "* Il suffit de retenir le nom des 4 premières portes logiques dites fondamentales (not, and, or, xor) ainsi que leurs symboles.\n",
    "\n",
    "* Tout le reste du tableau doit se retrouver facilement à partir de ces 4 noms !!\n",
    "\n",
    "* Si vous avez compris ce principe, alors ce sera exactement la même chose pour des portes à 3, 4 ou n entrées !!\n",
    "\n",
    "## Table de vérité\n",
    "\n",
    "* Il y a $2^{nb\\; d'entrées}$ lignes à la table de vérité (voir `premiere/bloc1/ecriture_entier_positif/cours_representation_entier_positif.ipynb`)\n",
    "* Les lignes doivent être classées dans l'ordre croissant de leur conversion décimale et n'apparaître qu'une seule fois\n",
    "\n",
    "**Activité :** Exercice 1 et 2 du TD\n",
    "\n",
    "# Utilisation des expressions booléennes\n",
    "\n",
    "**Dans une expression booléennenon parenthésée, le `and` est prioritaire sur le `or`.** (Il est préférable tout de même de mettre des parentèses pour lever toute ambiguïté).\n",
    "\n",
    "> Certains élèves se permettent de faire des manipulations qui change l'équation booléenne. Un conseil : lorsqu'on vous demande de calculer une expresssion booléenne, faîtes-le directement sans \"transformer\" l'équation...\n",
    "\n",
    "\n",
    "## Utilisation dans un test (`if`)"
   ]
  },
  {
   "cell_type": "code",
   "execution_count": 1,
   "metadata": {},
   "outputs": [],
   "source": [
    "def oral_rattrapage(note_bac):\n",
    "    if (note_bac < 8) or (note_bac > 10):\n",
    "        print(\"Vous n'êtes pas convoqué à l'oral de rattrapage\")\n",
    "    else :\n",
    "        print(\"Vous allez à l'oral de rattrapage\")"
   ]
  },
  {
   "cell_type": "code",
   "execution_count": 2,
   "metadata": {},
   "outputs": [
    {
     "name": "stdout",
     "output_type": "stream",
     "text": [
      "Vous n'êtes pas convoqué à l'oral de rattrapage\n"
     ]
    }
   ],
   "source": [
    "oral_rattrapage(10.2)"
   ]
  },
  {
   "cell_type": "markdown",
   "metadata": {},
   "source": [
    "## Utilisation dans des fonctions \"prédicat\"\n",
    "\n",
    "**Une fonction \"prédicat\" est une fonction renvoyant un résultat de type booléeen**. Le code d'une fonction prédicat peut donc s'écrire en une seule ligne : `return expression_boolenne`\n",
    "\n",
    "**Exemple :**  La fonction `est_liquide` est un prédicat"
   ]
  },
  {
   "cell_type": "code",
   "execution_count": 3,
   "metadata": {},
   "outputs": [],
   "source": [
    "def est_liquide(temperature):\n",
    "    \"\"\"\n",
    "    Description de la fonction : Détermine s'il est possible que de l'eau soit liquide\n",
    "    temperature (float) : température en degré centigrade.\n",
    "    return (bool) \n",
    "    \"\"\"\n",
    "    return temperature >= 0 and temperature <= 100"
   ]
  },
  {
   "cell_type": "code",
   "execution_count": 4,
   "metadata": {},
   "outputs": [
    {
     "data": {
      "text/plain": [
       "False"
      ]
     },
     "execution_count": 4,
     "metadata": {},
     "output_type": "execute_result"
    }
   ],
   "source": [
    "est_liquide(200)"
   ]
  },
  {
   "cell_type": "code",
   "execution_count": 5,
   "metadata": {},
   "outputs": [
    {
     "data": {
      "text/plain": [
       "True"
      ]
     },
     "execution_count": 5,
     "metadata": {},
     "output_type": "execute_result"
    }
   ],
   "source": [
    "est_liquide(50)"
   ]
  },
  {
   "cell_type": "markdown",
   "metadata": {},
   "source": [
    "**Remarque :** Certains seraient tenté d'écrire `return 0 <= temperature <= 100`.\n",
    "\n",
    "Cette syntaxe est autorisée en python mais interdite dans la plupart des autres langages informatiques. Comme en NSI, le but est d'apprendre la programmation avant d'apprendre le langage python, **j'interdis cette syntaxe**. D'autant plus qu'elle peut ouvrir la porte à des écritures franchement bizarres, et qu'elle n'aide vraiment pas à comprendre comment sont évaluées les instructions par un ordinateur. Plus d'info [ici](https://docs.python.org/fr/3/reference/expressions.html#comparisons)"
   ]
  },
  {
   "cell_type": "markdown",
   "metadata": {},
   "source": [
    "> Lorsqu'on débute en programmation, écrire un `return` suivi d'une expression booléenne n'est souvent pas naturel. Souvent c'est parce que la \"nature booléenne\" des opérateurs `==`, `!=`,`>`, `<`, `>=`, `=<` n'a pas été assimilée. Les débutants leur préfèrent des structures conditionnelles (`if`) qui certes, fonctionnent mais sont inutiles et indigestes... comme ci dessous :"
   ]
  },
  {
   "cell_type": "code",
   "execution_count": null,
   "metadata": {},
   "outputs": [],
   "source": [
    "# Version 2 : pas top !\n",
    "def est_liquide(temperature):\n",
    "    \"\"\"\n",
    "    Description de la fonction : Détermine s'il est possible que de l'eau soit liquide\n",
    "    temperature (float) : température en degré centigrade.\n",
    "    return (bool) \n",
    "    \"\"\"\n",
    "    if temperature >= 0 and temperature <= 100 :\n",
    "        return True\n",
    "    else:\n",
    "        return False"
   ]
  },
  {
   "cell_type": "code",
   "execution_count": null,
   "metadata": {},
   "outputs": [],
   "source": [
    "# Version 3 : vraiment pas top !\n",
    "def est_liquide(temperature):\n",
    "    \"\"\"\n",
    "    Description de la fonction : Détermine s'il est possible que de l'eau soit liquide\n",
    "    temperature (float) : température en degré centigrade.\n",
    "    return (bool) \n",
    "    \"\"\"\n",
    "    if temperature >= 0 :\n",
    "        if temperature <= 100 :\n",
    "            return True\n",
    "        else:\n",
    "            return False\n",
    "    else:\n",
    "        return False"
   ]
  },
  {
   "cell_type": "markdown",
   "metadata": {},
   "source": [
    "## Séquentialité des opérateurs `and` et `or`\n",
    "\n",
    "En Python, les opérateurs `and` et `or` sont séquentiels : la partie gauche est évaluée en premier, et la partie droite n'est évaluée ensuite que si c'est nécessaire.\n",
    "\n",
    "* `expression_gauche and expression_droite` : `expression_gauche` est évaluée, et si elle vaut `False`, il n'est pas nécessaire d'évaluer `expression_droite` (en effet, `False` `and` n'importe quoi vaut toujours `False`).\n",
    "\n",
    "\n",
    "* `expression_gauche or expression_droite` : `expression_gauche` est évaluée, et si elle vaut `True`, il n'est pas nécessaire d'évaluer `expression_droite` (en effet, `True` `or` n'importe quoi vaut toujours `True`).\n",
    "\n",
    "**Exemple** : Lorsque a = 0, 1/a n'a aucun sens. Ce que l'on observe dans le premier cas.\n",
    "\n",
    "Mais dans le deuxième cas, 1/a n'est même pas évalué (car c'est inutile) : aucune erreur n'est générée !!  \n",
    "En effet, avec a = 0, l'expression `(a != 0)` est donc `False`, et donc `(a != 0) and quelquechose` sera nécessairement `False`. Le \"quelquechose\"; c'est-à-dire `1/a` n'a donc pas besoin d'être calculé."
   ]
  },
  {
   "cell_type": "code",
   "execution_count": 6,
   "metadata": {},
   "outputs": [
    {
     "ename": "ZeroDivisionError",
     "evalue": "division by zero",
     "output_type": "error",
     "traceback": [
      "\u001b[1;31m---------------------------------------------------------------------------\u001b[0m",
      "\u001b[1;31mZeroDivisionError\u001b[0m                         Traceback (most recent call last)",
      "\u001b[1;32m<ipython-input-6-14238006af52>\u001b[0m in \u001b[0;36m<module>\u001b[1;34m\u001b[0m\n\u001b[0;32m      1\u001b[0m \u001b[0ma\u001b[0m \u001b[1;33m=\u001b[0m \u001b[1;36m0\u001b[0m\u001b[1;33m\u001b[0m\u001b[1;33m\u001b[0m\u001b[0m\n\u001b[0;32m      2\u001b[0m \u001b[1;33m\u001b[0m\u001b[0m\n\u001b[1;32m----> 3\u001b[1;33m \u001b[1;33m(\u001b[0m\u001b[1;36m1\u001b[0m\u001b[1;33m/\u001b[0m\u001b[0ma\u001b[0m\u001b[1;33m)\u001b[0m \u001b[1;32mand\u001b[0m  \u001b[1;33m(\u001b[0m\u001b[0ma\u001b[0m \u001b[1;33m!=\u001b[0m \u001b[1;36m0\u001b[0m\u001b[1;33m)\u001b[0m \u001b[1;33m>\u001b[0m \u001b[1;36m0\u001b[0m\u001b[1;33m\u001b[0m\u001b[1;33m\u001b[0m\u001b[0m\n\u001b[0m",
      "\u001b[1;31mZeroDivisionError\u001b[0m: division by zero"
     ]
    }
   ],
   "source": [
    "a = 0\n",
    "\n",
    "(1/a) and  (a != 0) > 0"
   ]
  },
  {
   "cell_type": "code",
   "execution_count": 7,
   "metadata": {},
   "outputs": [
    {
     "data": {
      "text/plain": [
       "False"
      ]
     },
     "execution_count": 7,
     "metadata": {},
     "output_type": "execute_result"
    }
   ],
   "source": [
    "a = 0\n",
    "\n",
    "(a != 0) and (1/a) > 0"
   ]
  },
  {
   "cell_type": "markdown",
   "metadata": {},
   "source": [
    "# Quelques compléments\n",
    "\n",
    "## Autre notation utilisée\n",
    "\n",
    "Il existe d'autres symboles mathématiques pour noter les expressions booléennes :\n",
    "\n",
    "||||\n",
    "|:-:|:-:|:-:|\n",
    "|not(a)|$\\bar a$|$\\lnot a$|\n",
    "| a and b| $a . b$| $a \\land b$|\n",
    "| a or b| $a + b$| $a \\lor b$|\n",
    "| a xor b | $a \\oplus  b$|\n",
    "\n",
    "Exemple $\\text{S = A and (B or not(C))}  = A . (B + \\bar C) = A \\land (B \\lor \\lnot C)$ "
   ]
  },
  {
   "cell_type": "markdown",
   "metadata": {},
   "source": [
    "## Opérateurs binaires en python\n",
    "\n",
    "Ces opérateurs s'effectuent entre objets s'écrivant sur plusieurs bits (exemple : variable de type entier)\n",
    "\n",
    "* `>>` : décalage à droite\n",
    "* `<<` : décalage à droite\n",
    "* `&` : ET bit-à-bit\n",
    "* `|` :  OU bit-à-bit\n",
    "* `^` : XOR bit-à-bit\n",
    "* `~` : NOT bit-à-bit (en codage complément à 2)"
   ]
  },
  {
   "cell_type": "code",
   "execution_count": 8,
   "metadata": {},
   "outputs": [
    {
     "data": {
      "text/plain": [
       "'0b101'"
      ]
     },
     "execution_count": 8,
     "metadata": {},
     "output_type": "execute_result"
    }
   ],
   "source": [
    "# on décale le nombre 10110 (exprimé en base 2) à droite de 2 rangs\n",
    "resultat = 0b10100 >> 2\n",
    "\n",
    "# On affiche le résultat en binaire\n",
    "bin(resultat)"
   ]
  },
  {
   "cell_type": "code",
   "execution_count": 9,
   "metadata": {},
   "outputs": [
    {
     "data": {
      "text/plain": [
       "5"
      ]
     },
     "execution_count": 9,
     "metadata": {},
     "output_type": "execute_result"
    }
   ],
   "source": [
    "# la même chose en exprimant les nombres en base 10\n",
    "20 >> 2"
   ]
  },
  {
   "cell_type": "code",
   "execution_count": 10,
   "metadata": {},
   "outputs": [
    {
     "data": {
      "text/plain": [
       "'0b1010000'"
      ]
     },
     "execution_count": 10,
     "metadata": {},
     "output_type": "execute_result"
    }
   ],
   "source": [
    "# décalage à gauche de 2 rangs\n",
    "bin(0b10100 << 2)"
   ]
  },
  {
   "cell_type": "code",
   "execution_count": 11,
   "metadata": {},
   "outputs": [
    {
     "data": {
      "text/plain": [
       "80"
      ]
     },
     "execution_count": 11,
     "metadata": {},
     "output_type": "execute_result"
    }
   ],
   "source": [
    "# la même chose en exprimant les nombres en base 10\n",
    "20 << 2"
   ]
  },
  {
   "cell_type": "code",
   "execution_count": 12,
   "metadata": {},
   "outputs": [
    {
     "data": {
      "text/plain": [
       "True"
      ]
     },
     "execution_count": 12,
     "metadata": {},
     "output_type": "execute_result"
    }
   ],
   "source": [
    "# Décaler un nombre d'un rang à gauche revient à le multiplier par 2\n",
    "\n",
    "a = 53\n",
    "(a * 2) == (a << 1) "
   ]
  },
  {
   "cell_type": "code",
   "execution_count": 13,
   "metadata": {},
   "outputs": [
    {
     "data": {
      "text/plain": [
       "True"
      ]
     },
     "execution_count": 13,
     "metadata": {},
     "output_type": "execute_result"
    }
   ],
   "source": [
    "# Décaler un nombre d'un rang à droite revient à le diviser par 2 (division entière !!)\n",
    "\n",
    "a = 53\n",
    "(a // 2) == (a >> 1) "
   ]
  },
  {
   "cell_type": "code",
   "execution_count": 14,
   "metadata": {},
   "outputs": [],
   "source": [
    "# L'opérateur ET est très utile pour isoler un \"paquet de bit\"\n",
    "# Exemple d'un pixel dont la couleur est codée en RVB\n",
    "\n",
    "couleur = 0b10000000_00001110_10101010"
   ]
  },
  {
   "cell_type": "code",
   "execution_count": 15,
   "metadata": {},
   "outputs": [
    {
     "name": "stdout",
     "output_type": "stream",
     "text": [
      "128\n"
     ]
    }
   ],
   "source": [
    "r = couleur & 0b11111111_00000000_00000000\n",
    "rouge = r >> 16\n",
    "print(rouge)"
   ]
  }
 ],
 "metadata": {
  "kernelspec": {
   "display_name": "Python 3 (ipykernel)",
   "language": "python",
   "name": "python3"
  },
  "language_info": {
   "codemirror_mode": {
    "name": "ipython",
    "version": 3
   },
   "file_extension": ".py",
   "mimetype": "text/x-python",
   "name": "python",
   "nbconvert_exporter": "python",
   "pygments_lexer": "ipython3",
   "version": "3.8.10"
  },
  "latex_envs": {
   "LaTeX_envs_menu_present": true,
   "autoclose": false,
   "autocomplete": true,
   "bibliofile": "biblio.bib",
   "cite_by": "apalike",
   "current_citInitial": 1,
   "eqLabelWithNumbers": true,
   "eqNumInitial": 1,
   "hotkeys": {
    "equation": "Ctrl-E",
    "itemize": "Ctrl-I"
   },
   "labels_anchors": false,
   "latex_user_defs": false,
   "report_style_numbering": false,
   "user_envs_cfg": false
  }
 },
 "nbformat": 4,
 "nbformat_minor": 2
}
