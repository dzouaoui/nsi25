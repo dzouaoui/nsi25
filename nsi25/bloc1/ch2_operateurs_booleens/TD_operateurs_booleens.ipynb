{
 "cells": [
  {
   "cell_type": "markdown",
   "metadata": {},
   "source": [
    "# Exercice 1\n",
    "\n",
    "A partir de l'expression `Y = not (A or B)`, retrouver \"tout le reste\" : nom, symbole, table de vérité\n",
    "\n",
    "\n",
    "# Exercice 2\n",
    "\n",
    "![ET à 3 entrées](img/ET_3entrees.png)\n",
    "\n",
    "A partir du  symbole ci-dessus, retrouver \"tout le reste\" : nom, expression booléenne, table de vérité\n",
    "\n",
    "\n",
    "# Exercice 3 \n",
    "\n",
    "1. Sur feuille, calculer le résultat des expressions suivantes :\n",
    "    * `S1 = True and False`\n",
    "    * `S2 = False or not(False)`\n",
    "    * `S3 = not(True and (False or True))`\n",
    "    * `S4 = True and (False or True)`\n",
    "    * `S5 =  not(True) or not((False or True))`\n",
    "\n",
    "\n",
    "2. Vérifiez vos résultat à l'aide de Thonny\n",
    "\n",
    "\n",
    "# Exercice 4\n",
    "\n",
    "\n",
    "1. On donne a = 1, b = 0, c = 1. Donner le résultat des expressions booléennes suivantes :\n",
    "    * `S6 = not(a) xor b`\n",
    "    * `S7 = a xor b xor c`\n",
    "    * `S8 = ((a or b) and c) xor c`\n",
    "    * `S9 = not(a) and (b or not(c))`\n",
    "    * `S10 = a or b and c`\n",
    "\n",
    "\n",
    "2. Vérifiez vos résultats à l'aide de Thonny\n",
    "\n",
    "\n",
    "3. Ecrire la table de vérité des expressions booléennes ci-dessus.   \n",
    "*(Conseil : Quand l'expression booléenne se complique, notamment pour S8, ajouter des colonnes dans la table de vérité permettant de faire des calculs intermédiaires.)*\n",
    "\n",
    "# Exercice 5\n",
    "\n",
    "Simplifier les expressions booléennes suivantes :\n",
    "\n",
    "* `S11 = x or x`\n",
    "* `S12 = e or not(e)`\n",
    "* `S13 = a and not(a)`\n",
    "* `S14 = y and (not(y) + x)`\n",
    "* `S15 = a or (not(a) and b)`\n",
    "\n",
    "# Exercice 6\n",
    "\n",
    "Pour chaque circuit combinatoire ci-dessous, donner l'équation booléenne de la sortie en fonction des entrées\n",
    "\n",
    "![logigramme2 norme US](img/logigramme2.png)\n",
    "![logigramme3 norme US](img/logigramme3.png)\n",
    "\n",
    "# Exercice 7\n",
    "\n",
    "1. Donner la table de vérité correspondant au circuit logique ci-dessous  \n",
    "*(Conseil : Ajouter des colonnes dans la table de vérité permettant de faire des calculs intermédiaires.)*\n",
    "\n",
    "![logigramme1 norme Eu](img/logigramme1.png)\n",
    "\n",
    "2. A partir de la table de vérité, donner sans calcul, l'expression booléenne simplifiée de S\n",
    "\n",
    "# Exercice 8\n",
    "\n",
    "Pour chaque expression booléenne ci-dessous, dessiner le circuit combinatoire correspondant.\n",
    "\n",
    "* En norme US : `S6 = not(a) xor b`\n",
    "* En norme internationale : `S8 = ((a or b) and c) xor b`\n",
    "* En norme US :  `S9 = not(a) and (b or not(c))`\n",
    "* En norme internationale : `S10 = a or b and c`\n",
    "\n",
    "# Exercice 9\n",
    "\n",
    "> L'opérateur `xor` n'existe pas en python. Nous allons donc y remédier en créant une fonction \n",
    "\n",
    "Ecrire en python, une fonction `xor` réalisant l'opération du même nom. Cette fonction : \n",
    "* prend deux **paramètres** de type **booléen**.\n",
    "* **Renvoi**e un résultat de type **booléen**.\n",
    "\n",
    "**Remarque :** Vous pouvez écrire 2 versions de cette fonction `xor` :\n",
    "* Version 1 : En utilisant une structure conditionnelle (`if`)\n",
    "* Version 2 (qui est meilleure) : En utilisant une seule expression booléenne (sans `if`). Pour cela, compléter d'abord l'égalité ci-dessous en observant la table de vérité de la porte logique `xor`\n",
    "\n",
    "`a xor b = (not(a) and b) or ....`\n",
    "\n",
    "# Exercice 10\n",
    "\n",
    "Remarque : \n",
    "* Si nécessaire revoir le cours sur la représentation des entiers positifs et le TD numération dans le bloc 1.\n",
    "* attention lorsque vous vérifiez vos résultats sous thonny, python renvoie systématiquement le résultat en forme décimale. Vous pouvez utiliser les fonctions bin() et hex() pour convertir votre résultat dans le base souhaitée\n",
    "\n",
    "\n",
    "1. Sans l'aide de l'ordinateur, calcuer le résultat des expressions python ci-dessous :\n",
    "    * `0b1010 << 3`\n",
    "    * `45 >> 1`\n",
    "    * `0b110101 & 0b1100`\n",
    "    * `0xE445 & 0x00FF`\n",
    "    * `0b110101 | 0b1100`\n",
    "    * `0xE445 | 0x00FF`\n",
    "    * `0b110101 ^ 0b1100`\n",
    "    * `85 ^ 47`\n",
    "\n",
    "\n",
    "2. Vérifiez vos résultats à l'aide de Thonny\n",
    "\n",
    "# Exercice 11 : niveau facile\n",
    "\n",
    "> On considère trois nombres a, b et c. On considère que ces trois nombres sont classés par ordre croissant si l'inégalité $a \\le b \\le c$ est vérifiée. La fonction `croissant` ci-dessous renvoie `True` si a, b et c sont classés par ordre croissant et `False` sinon."
   ]
  },
  {
   "cell_type": "code",
   "execution_count": 2,
   "metadata": {},
   "outputs": [],
   "source": [
    "def croissant(a,b,c):\n",
    "    if a <= b :\n",
    "        if b <= c :\n",
    "            resultat = True\n",
    "        else :\n",
    "            resultat = False\n",
    "    else :\n",
    "        resultat = False\n",
    "    return resultat"
   ]
  },
  {
   "cell_type": "code",
   "execution_count": 3,
   "metadata": {},
   "outputs": [
    {
     "data": {
      "text/plain": [
       "True"
      ]
     },
     "execution_count": 3,
     "metadata": {},
     "output_type": "execute_result"
    }
   ],
   "source": [
    "croissant (2,6,9)"
   ]
  },
  {
   "cell_type": "code",
   "execution_count": 4,
   "metadata": {},
   "outputs": [
    {
     "data": {
      "text/plain": [
       "False"
      ]
     },
     "execution_count": 4,
     "metadata": {},
     "output_type": "execute_result"
    }
   ],
   "source": [
    "croissant (2,6,5)"
   ]
  },
  {
   "cell_type": "markdown",
   "metadata": {},
   "source": [
    "Cette fonction étant un **prédicat**, compléter ci-dessous le code cette fonction en éliminant le `if` de son code"
   ]
  },
  {
   "cell_type": "code",
   "execution_count": null,
   "metadata": {},
   "outputs": [],
   "source": [
    "def croissant(a,b,c):\n",
    "    return ......"
   ]
  },
  {
   "cell_type": "markdown",
   "metadata": {},
   "source": [
    "# Exercice 12 : niveau facile\n",
    "*(D'après [Fil](https://www.fil.univ-lille1.fr))*\n",
    "\n",
    "1. Ecrire une fonction **prédicat** `est_positif` renvoyant `True` si le nombre passé en paramètre est positif ou nul, et `False` s'il est strictement négatif.\n",
    "\n",
    "\n",
    "2. Ecrire une fonction **prédicat** `meme_signe` renvoyant `True` si les deux nombres passés en paramètre sont soit tous les deux positifs ou nuls, soit tous les deux négatifs ou nuls, et `False` sinon"
   ]
  },
  {
   "cell_type": "markdown",
   "metadata": {},
   "source": [
    "# Exercice 13 : niveau intermédiaire\n",
    "*(D'après [Fil](https://www.fil.univ-lille1.fr))*\n",
    "\n",
    "Ecrire une fonction **prédicat** `dans_rectangle` prenant en **paramètres** deux nombres représentant l'abscisse et l'ordonnée d'un point M et renvoyant `True` si M est dans le rectangle rouge et `False` sinon.\n",
    "\n",
    "![rectangle](img/rectangle.png)"
   ]
  },
  {
   "cell_type": "markdown",
   "metadata": {},
   "source": [
    "# Exercice 14 : niveau difficile\n",
    "\n",
    "On donne la fonction `est_bissextile` suivante qui **renvoie un booléen égal à `True`** si et seulement si l'année (type `int`) passée en paramètre est bissextile. Remarque : une année bissextile n'est pas juste une année divisible par 4, c'est un peu plus compliqué que cela et c'est ce que réalise cette fonction."
   ]
  },
  {
   "cell_type": "code",
   "execution_count": 1,
   "metadata": {},
   "outputs": [],
   "source": [
    "def est_bissextile(annee):\n",
    "    if annee % 4 == 0:\n",
    "            if annee % 100 == 0:\n",
    "                    if annee % 400 == 0:\n",
    "                            return True\n",
    "                    else:\n",
    "                            return False\n",
    "            else:\n",
    "                    return True\n",
    "    else:\n",
    "            return False"
   ]
  },
  {
   "cell_type": "code",
   "execution_count": 2,
   "metadata": {},
   "outputs": [
    {
     "data": {
      "text/plain": [
       "True"
      ]
     },
     "execution_count": 2,
     "metadata": {},
     "output_type": "execute_result"
    }
   ],
   "source": [
    "est_bissextile(2000)"
   ]
  },
  {
   "cell_type": "code",
   "execution_count": 3,
   "metadata": {},
   "outputs": [
    {
     "data": {
      "text/plain": [
       "False"
      ]
     },
     "execution_count": 3,
     "metadata": {},
     "output_type": "execute_result"
    }
   ],
   "source": [
    "est_bissextile(1000)"
   ]
  },
  {
   "cell_type": "markdown",
   "metadata": {},
   "source": [
    "Cette fonction étant un **prédicat**, compléter ci-dessous le code cette fonction en éliminant le `if` de son code"
   ]
  },
  {
   "cell_type": "code",
   "execution_count": 9,
   "metadata": {},
   "outputs": [],
   "source": [
    "def est_bissextile(annee):\n",
    "    return ....."
   ]
  }
 ],
 "metadata": {
  "kernelspec": {
   "display_name": "Python 3",
   "language": "python",
   "name": "python3"
  },
  "language_info": {
   "codemirror_mode": {
    "name": "ipython",
    "version": 3
   },
   "file_extension": ".py",
   "mimetype": "text/x-python",
   "name": "python",
   "nbconvert_exporter": "python",
   "pygments_lexer": "ipython3",
   "version": "3.10.6"
  },
  "latex_envs": {
   "LaTeX_envs_menu_present": true,
   "autoclose": false,
   "autocomplete": true,
   "bibliofile": "biblio.bib",
   "cite_by": "apalike",
   "current_citInitial": 1,
   "eqLabelWithNumbers": true,
   "eqNumInitial": 1,
   "hotkeys": {
    "equation": "Ctrl-E",
    "itemize": "Ctrl-I"
   },
   "labels_anchors": false,
   "latex_user_defs": false,
   "report_style_numbering": false,
   "user_envs_cfg": false
  }
 },
 "nbformat": 4,
 "nbformat_minor": 2
}
