{
 "cells": [
  {
   "cell_type": "markdown",
   "metadata": {},
   "source": [
    "> ## Pour réaliser ce TD, vous aurez besoin :\n",
    "* des tables ASCII et ISO-8859-1 données dans le cours \n",
    "* du tableau explicatif sur l'encodage UTF-8 donné dans le cours\n",
    "* de [ce site](https://unicode-table.com) pour obtenir les points de code UTF-8\n",
    "* de cet [éditeur hexadécimal](https://hexed.it/) et de la documentation ci-dessous pour son utilisation\n",
    "\n",
    "![hexedit](img/editeurHexadecimal.png)\n",
    "\n",
    "# Exercice 1 : Niveau facile\n",
    "\n",
    "En ASCII :\n",
    "\n",
    "1. A quelle lettre correspond l’octet: $0100\\;1101_{(2)} = 0b0100\\;1101$?\n",
    "\n",
    "\n",
    "2. A quel octet correspond la même lettre en minuscule?\n",
    "\n",
    "\n",
    "3. A quelle lettre correspond l’octet: $72_{(16)} = 0x72$?\n",
    "\n",
    "\n",
    "4. A quel octet correspond la même lettre en majuscule?\n",
    "\n",
    "\n",
    "5. Quelle relation constate-t-on entre le code d'une lettre minuscule et le code de cette même lettre en majuscule ?"
   ]
  },
  {
   "cell_type": "markdown",
   "metadata": {},
   "source": [
    "# Exercice 2 : Niveau facile\n",
    "\n",
    "1. Déchiffrer le message suivant écrit ASCII (hexadécimal): 41 64 61 20 4C 6F 76 65 6C 61 63 65\n",
    "\n",
    "\n",
    "2. Vérifier votre réponse à l'aide de cet [éditeur hexadécimal](https://hexed.it/)."
   ]
  },
  {
   "cell_type": "markdown",
   "metadata": {},
   "source": [
    "# Exercice 3 : Niveau facile\n",
    "\n",
    "1. Ecrire le message suivant en ASCII (exprimé en hexadécimal): Cours de N.S.I.\n",
    "\n",
    "\n",
    "2. Vérifier votre réponse à l'aide de cet [éditeur hexadécimal](https://hexed.it/).\n",
    "\n",
    "> Bien sûr en machine, tout est stocké en binaire, pas en hexadécimal...\n",
    "\n",
    "3. Convertir en binaire la séquence hexadécimale précédente. (Ceci représente réellement comment est repésenté en machine \"Cours de N.S.I.\" encodé en ASCII)"
   ]
  },
  {
   "cell_type": "markdown",
   "metadata": {},
   "source": [
    "# Exercice 4 : Niveau intermédiaire\n",
    "\n",
    "> Il est très facile de se perdre dans cet exercice si on ne s'y prend pas correctement. Réfléchissez comment le faire efficacement avant de commencer et soyez méthodique...\n",
    "\n",
    "La suite de bit ci-dessous est un texte encodé en ASCII. Décodez-le afin de retrouver le texte :\n",
    "\n",
    "\n",
    "`0101001000101110001000000101001101110100011000010110110001101100011011010110000101101110`"
   ]
  },
  {
   "cell_type": "markdown",
   "metadata": {},
   "source": [
    "# Exercice 5 : Niveau Facile\n",
    "\n",
    "> **Indice :** Pour savoir \"dans quel sens\" lire la table ISO-8859-1, rappelez vous de sa compatibilité avec l'ASCII...\n",
    "\n",
    "1. Déchiffrer le message suivant écrit en ISO-8859-1 (hexadécimal): 44 E9 63 69 6D 61 6C\n",
    "\n",
    "> On souhaite encoder le texte suivant en ISO-8859-1 : Guido Van Rossum\n",
    "\n",
    "2. Combien d'octets ce texte va t-il occuper en machine ?\n",
    "\n",
    "\n",
    "3. Ecrire la séquence (en hexadécimal) de ce texte encodé en ISO-8859-1\n",
    "\n",
    "\n",
    "4. Ce texte aurait-il pu s'encoder en ASCII ?"
   ]
  },
  {
   "cell_type": "markdown",
   "metadata": {},
   "source": [
    "# Exercice 6 : Niveau intermédiaire\n",
    "\n",
    "1. Déchiffrer le message suivant écrit Unicode : U+0063 U+006F U+0073 U+0028 U+03B1 U+002B U+03B2 U+002\n",
    "\n",
    "> La fonction python `chr` renvoie le caractère correspondant à un point de code UTF-8 passé en paramètre\n",
    "\n",
    "2. Ecrire le code python permettant d'afficher le texte correspodant à la séquence Unicode précédente. *(Attention à la base dans laquelle sont écrits les nombres)*"
   ]
  },
  {
   "cell_type": "markdown",
   "metadata": {},
   "source": [
    "# Exercice 7 : Niveau facile\n",
    "\n",
    "> On dispose d'un fichier `informaticiensCelebres.txt` disponible dans github. Ce fichier ne contient que des **caractères ASCII**. Cependant il a été **encodé en UTF-8**\n",
    "\n",
    "1. Télécharger le fichier `informaticiensCelebres.txt`. Quelle est la taille de ce fichier en octets ? (pour cela, aller dans l'explorateur de fichier $\\rightarrow$ click droit sur le fichier $\\rightarrow$ propriétés)\n",
    "\n",
    "> Ouvrir le fichier `informaticiensCelebres.txt` dans Atom afin de visualiser son contenu\n",
    "\n",
    "2. Uploader le fichier `informaticiensCelebres.txt` dans cet [éditeur hexadécimal](https://hexed.it/). A quel code hexadécimal correspond le caractère _\"retour à la ligne\"_. Combien de sauts de ligne y a t'il dans ce fichier ?\n",
    "\n",
    "\n",
    "3. Ouvrir [cette page](https://fr.wikipedia.org/wiki/Carriage_Return_Line_Feed). A quoi historiquement correspondent les caractères **CR**, **LF** et **CRLF** ? En utilisant la table ASCII, les sauts de lignes de ce fichier ont-ils été encodés par des caractères **CR**, **LF** ou **CRLF** ? *(Plus d'informations seront éventuellement données lors de la correction de cet exercice)*\n",
    "\n",
    "\n",
    "4. Quelle est l'adresse (en hexadécimal) du **premier octet** de ce fichier ? Quelle est l'adresse (en hexadécimal) du **dernier octet** de ce fichier. Combien d'octets cela fait-il en tout ? *(Ceci explique la taille du fichier obtenu à la première question)* \n",
    "\n",
    "\n",
    "5. Exécuter le code suivant. Pourquoi retrouve t'on la taille du fichier exprimée en octet ? *(On rappelle que le fichier a été encodé en UTF-8)*"
   ]
  },
  {
   "cell_type": "code",
   "execution_count": 6,
   "metadata": {},
   "outputs": [
    {
     "name": "stdout",
     "output_type": "stream",
     "text": [
      "73\n"
     ]
    }
   ],
   "source": [
    "texte = \"\"\"Linus Torvalds 1969 - ?\n",
    "Ken Thompson 1943 - ?\n",
    "Dennis Ritchie 1941 - 2011\n",
    "\"\"\"\n",
    "\n",
    "print(len(texte))"
   ]
  },
  {
   "cell_type": "markdown",
   "metadata": {},
   "source": [
    "> **Remarque :** Pour avoir des informations sur ces informaticiens célèbres, cliquez [ici](https://fr.wikipedia.org/wiki/Liste_d%27informaticiens_et_pr%C3%A9curseurs_de_l%27informatique)"
   ]
  },
  {
   "cell_type": "markdown",
   "metadata": {},
   "source": [
    "# Exercice 8 : Niveau facile\n",
    "\n",
    "> On dispose de 2 fichiers contenant le même texte mais encodé dans deux normes différentes :\n",
    "* `informaticiensCelebres_Latin-1` encodé dans la norme ISO-8859-1\n",
    "* `informaticiensCelebres_UTF8` encodé en UTF-8   <br><br>\n",
    "Le texte contenu dans ce fichier est donné ci-dessous. Vous pouvez constater qu'il contient 58 caractères"
   ]
  },
  {
   "cell_type": "code",
   "execution_count": 7,
   "metadata": {},
   "outputs": [
    {
     "name": "stdout",
     "output_type": "stream",
     "text": [
      "58\n"
     ]
    }
   ],
   "source": [
    "texte = \"\"\"Al-Khwârizmî\n",
    "Frédéric Couchet\n",
    "René de Possel\n",
    "Corrado Böhm\n",
    "\"\"\"\n",
    "\n",
    "print(len(texte))"
   ]
  },
  {
   "cell_type": "markdown",
   "metadata": {},
   "source": [
    "1. Ouvrir ces fichiers avec Atom. Configurer Atom pour lire correctement ces fichiers (c'est-à-dire les décoder avec la bonne norme)\n",
    "\n",
    "\n",
    "2. Quelles sont les tailles en octet des fichiers `informaticiensCelebres_Latin-1` et `informaticiensCelebres_UTF8` ?\n",
    "\n",
    "\n",
    "3. Pourquoi le fichier `informaticiensCelebres_Latin-1` a t-il une taille égale au nombre de caractères ?\n",
    "\n",
    "\n",
    "4. Pourquoi le fichier `informaticiensCelebres_UTF8` a t-il une taille différente ? Quels sont les caractères responsables de cette différence ? Sur combien d'octets sont-ils encodés en UTF8 ? Ceci explique t-il la taille du fichier `informaticiensCelebres_UTF8` ?"
   ]
  },
  {
   "cell_type": "markdown",
   "metadata": {},
   "source": [
    "# Exercice 9 : Niveau Intermédiaire\n",
    "\n",
    "> Ouvrez Atom et configurez-le afin que le caractère \"retour à la ligne\" soit codé en [**CRLF**](https://fr.wikipedia.org/wiki/Carriage_Return_Line_Feed). Contrairement au caractère **LF** précédemment utilisé, chaque retour à la ligne sera sonc codé sur 2 caractères ASCII et donc 2 octets\n",
    "\n",
    "1. A l'aide de Atom, écrire le texte `Spécialité N.S.I en première` ci-dessous dans 3 fichiers :\n",
    "    * un fichier `exercice9_UTF8` (encodage UTF-8)\n",
    "    * un fichier `exercice9_UTF16` (encodage UTF-16)\n",
    "    * un fichier `exercice9_ISO8859-1` (encodage ISO8859-1)\n",
    "\n",
    "\n",
    "2. Quelle est la taille de chaque fichier en octets. (Pour cela, aller dans l'explorateur de fichier $\\rightarrow$ click droit sur le fichier $\\rightarrow$ propriétés)\n",
    "\n",
    "\n",
    "3. A partir du nombre de caractère du texte encodé, retrouver par le calcul les trois tailles précédentes. (**Attention :** Atom ajoute systématiquement un retour à la ligne en fin de fichier, même si vous n'en avez pas mis) "
   ]
  },
  {
   "cell_type": "markdown",
   "metadata": {},
   "source": [
    "# Exercice 10 : Niveau intermédiaire\n",
    "\n",
    "> Les fonctions `ord` et `chr` permettent d'obtenir le point de code UTF-8 correspondant à un caractère et vice-versa. Regarder le schéma ci-dessous et étudier les lignes de code qui suivent.\n",
    "\n",
    "![fonctions ord et chr](img/ordchr.png)"
   ]
  },
  {
   "cell_type": "code",
   "execution_count": 9,
   "metadata": {},
   "outputs": [
    {
     "name": "stdout",
     "output_type": "stream",
     "text": [
      "point de code de du caractère \"é\" exprimé en décimal : 233\n",
      "point de code de du caractère \"é\" exprimé en hexadécimal : 0xe9\n"
     ]
    }
   ],
   "source": [
    "pointDeCodeEnDecimal = ord(\"é\")\n",
    "\n",
    "pointDeCodeEnHexadecimal =  hex(pointDeCodeEnDecimal)\n",
    "\n",
    "print('point de code de du caractère \"é\" exprimé en décimal :', pointDeCodeEnDecimal)\n",
    "\n",
    "print('point de code de du caractère \"é\" exprimé en hexadécimal :', pointDeCodeEnHexadecimal)"
   ]
  },
  {
   "cell_type": "code",
   "execution_count": 10,
   "metadata": {},
   "outputs": [
    {
     "data": {
      "text/plain": [
       "'é'"
      ]
     },
     "execution_count": 10,
     "metadata": {},
     "output_type": "execute_result"
    }
   ],
   "source": [
    "chr(233)"
   ]
  },
  {
   "cell_type": "code",
   "execution_count": 11,
   "metadata": {},
   "outputs": [
    {
     "data": {
      "text/plain": [
       "'é'"
      ]
     },
     "execution_count": 11,
     "metadata": {},
     "output_type": "execute_result"
    }
   ],
   "source": [
    "chr(0xE9)"
   ]
  },
  {
   "cell_type": "markdown",
   "metadata": {},
   "source": [
    "> **A l'aide des fonctions `ord` et `chr`**, écrire les 2 fonctions suivantes :\n",
    "\n",
    "1. Ecrire une fonction `est_un_chiffre` qui **renvoie** `True` si un caractère représente un chiffre.\n",
    "*(Indication : Il faudra **tester** le point de code...)*"
   ]
  },
  {
   "cell_type": "code",
   "execution_count": 16,
   "metadata": {},
   "outputs": [
    {
     "data": {
      "text/plain": [
       "True"
      ]
     },
     "execution_count": 16,
     "metadata": {},
     "output_type": "execute_result"
    }
   ],
   "source": [
    "est_un_chiffre('3')"
   ]
  },
  {
   "cell_type": "code",
   "execution_count": 17,
   "metadata": {},
   "outputs": [
    {
     "data": {
      "text/plain": [
       "False"
      ]
     },
     "execution_count": 17,
     "metadata": {},
     "output_type": "execute_result"
    }
   ],
   "source": [
    "est_un_chiffre('a')"
   ]
  },
  {
   "cell_type": "markdown",
   "metadata": {},
   "source": [
    "2. Ecrire une fonction `en_majuscule` qui **renvoie** le caractère majuscule correspondant au caractère minuscule passé en paramètre  \n",
    "*(Indication : Il faudra utiliser le résultat constaté à la dernière question de l'exercice 1)*"
   ]
  },
  {
   "cell_type": "code",
   "execution_count": 19,
   "metadata": {},
   "outputs": [
    {
     "data": {
      "text/plain": [
       "'A'"
      ]
     },
     "execution_count": 19,
     "metadata": {},
     "output_type": "execute_result"
    }
   ],
   "source": [
    "en_majuscule('a')"
   ]
  },
  {
   "cell_type": "code",
   "execution_count": 20,
   "metadata": {},
   "outputs": [
    {
     "data": {
      "text/plain": [
       "'M'"
      ]
     },
     "execution_count": 20,
     "metadata": {},
     "output_type": "execute_result"
    }
   ],
   "source": [
    "en_majuscule('m')"
   ]
  },
  {
   "cell_type": "markdown",
   "metadata": {},
   "source": [
    "# Exercice 11 : Niveau intermédiaire\n",
    "\n",
    "> Lorsqu'on ouvre le fichier `informaticiensCelebres_UTF8` en utilisant la norme ISO-8859-1 plutôt que l'UTF-8, on constate que les caractères accentués ne s'affichent pas correctement, ce qui est normal car ces 2 normes sont incompatibles.  \n",
    "Notamment les `é` s'affichent ainsi : `Ã©`. L'objectif de cet exercice est de montrer pourquoi ?\n",
    "\n",
    "Le point de code (exprimé en hexadécimal) du caractère `é` est égal à `0x00E9`"
   ]
  },
  {
   "cell_type": "code",
   "execution_count": 21,
   "metadata": {},
   "outputs": [
    {
     "data": {
      "text/plain": [
       "'0xe9'"
      ]
     },
     "execution_count": 21,
     "metadata": {},
     "output_type": "execute_result"
    }
   ],
   "source": [
    "hex(ord('é'))"
   ]
  },
  {
   "cell_type": "markdown",
   "metadata": {},
   "source": [
    "|points de code|Suite d’octets (en binaire)|bits significatifs|Caractères disponibles dans cet intervalle|\n",
    "|:------------:|:-------------------------:|:----------------:|:----------------------------------------:|\n",
    "|U+0000 à U+007F|0xxxxxxx|7|caractères ASCII|\n",
    "|U+0080 à U+07FF|110xxxxx 10xxxxxx|11|alphabets d’Europe et du Moyen-Orient |\n",
    "U+0800 à U+FFFF|1110xxxx 10xxxxxx 10xxxxxx|16|la quasi-totalité des alphabets actuels ([BMP](https://en.wikipedia.org/wiki/Plane_%28Unicode%29#Basic_Multilingual_Plane))|\n",
    "U+10000 à U+10FFFF|11110xxx 10xxxxxx 10xxxxxx 10xxxxxx|21|tout le reste|\n",
    "\n",
    "\n",
    "A l'aide de ce tableau, on constate que le caractère `é` doit se coder sur 2 octets en UTF8.  Les bits significatifs du caractère `é` sont `11101001`. En effet :"
   ]
  },
  {
   "cell_type": "code",
   "execution_count": 22,
   "metadata": {},
   "outputs": [
    {
     "data": {
      "text/plain": [
       "'0b11101001'"
      ]
     },
     "execution_count": 22,
     "metadata": {},
     "output_type": "execute_result"
    }
   ],
   "source": [
    "bin(0xE9)"
   ]
  },
  {
   "cell_type": "markdown",
   "metadata": {},
   "source": [
    "En ajoutant les 5 \"bits englobants\" on obtient sur 16 bits (2 octets) : **110**000*11* **10**_101001_ :\n",
    "* Les \"bits englobants\" apparaissent en gras\n",
    "* Le binaire correspondant à 0xE9 apparaît en italique\n",
    "* Il faut ajouter trois 0 à gauche pour amener le tout sur 16 bits (2 octets)\n",
    "\n",
    "La conversion en hexadécimal de ces octets donne $0xC3A9 = C3A9_{(16)}$. En effet :"
   ]
  },
  {
   "cell_type": "code",
   "execution_count": 23,
   "metadata": {},
   "outputs": [
    {
     "data": {
      "text/plain": [
       "'0xc3a9'"
      ]
     },
     "execution_count": 23,
     "metadata": {},
     "output_type": "execute_result"
    }
   ],
   "source": [
    "hex(0b1100001110101001)"
   ]
  },
  {
   "cell_type": "markdown",
   "metadata": {},
   "source": [
    "Dans la table ISO8859-1 :\n",
    "* $C3_{(16)}$ correspond au caractère `Ã`\n",
    "* $A9_{(16)}$ correspond au caractère `©`\n",
    "\n",
    "$\\Longrightarrow$ on retrouve donc bien le caractère `Ã©`.   \n",
    "**CQFD**\n",
    "\n",
    "# Exercice 12 : Niveau intermédiaire\n",
    "\n",
    "> On encode le texte 'Noël' en *UTF-8*. \n",
    "\n",
    "1. Combien d'octets sont utilisés pour cet encodage ?\n",
    "\n",
    "\n",
    "2. On décode le texte en *latin1*. Quel affichage cela donnera t'il ?\n",
    "\t*  Faire d'abord cet exercice sans l'aide de l'ordinateur en utilisant une démarche équivalente à celle faîte en classe\n",
    "\t*  Vérifier à l'aide de l'ordinateur en utilisant les méthodes `encode()` et `decode()` définies dans la classe `str`. (utiliser la documentation avec la fonction `help()` si nécessaire)"
   ]
  },
  {
   "cell_type": "markdown",
   "metadata": {},
   "source": [
    "> On encode le texte 'Noël' en *ISO-8859-1*.\n",
    "\n",
    "3. Combien d'octets sont utilisés pour cet encodage ?\n",
    "\n",
    "> On considère les lignes de codes suivantes"
   ]
  },
  {
   "cell_type": "code",
   "execution_count": 24,
   "metadata": {},
   "outputs": [],
   "source": [
    "encodage = \"Noël\".encode('iso-8859-1')"
   ]
  },
  {
   "cell_type": "code",
   "execution_count": 25,
   "metadata": {},
   "outputs": [
    {
     "ename": "UnicodeDecodeError",
     "evalue": "'utf-8' codec can't decode byte 0xeb in position 2: invalid continuation byte",
     "output_type": "error",
     "traceback": [
      "\u001b[1;31m---------------------------------------------------------------------------\u001b[0m",
      "\u001b[1;31mUnicodeDecodeError\u001b[0m                        Traceback (most recent call last)",
      "\u001b[1;32m<ipython-input-25-3f82d7910754>\u001b[0m in \u001b[0;36m<module>\u001b[1;34m\u001b[0m\n\u001b[1;32m----> 1\u001b[1;33m \u001b[0mencodage\u001b[0m\u001b[1;33m.\u001b[0m\u001b[0mdecode\u001b[0m\u001b[1;33m(\u001b[0m\u001b[1;34m'utf8'\u001b[0m\u001b[1;33m)\u001b[0m\u001b[1;33m\u001b[0m\u001b[1;33m\u001b[0m\u001b[0m\n\u001b[0m",
      "\u001b[1;31mUnicodeDecodeError\u001b[0m: 'utf-8' codec can't decode byte 0xeb in position 2: invalid continuation byte"
     ]
    }
   ],
   "source": [
    "encodage.decode('utf8')"
   ]
  },
  {
   "cell_type": "markdown",
   "metadata": {},
   "source": [
    "4. A l'aide du tableau précédent, expliquer l'origine de l'erreur (inutile d'essayer de la corriger)"
   ]
  }
 ],
 "metadata": {
  "kernelspec": {
   "display_name": "Python 3 (ipykernel)",
   "language": "python",
   "name": "python3"
  },
  "language_info": {
   "codemirror_mode": {
    "name": "ipython",
    "version": 3
   },
   "file_extension": ".py",
   "mimetype": "text/x-python",
   "name": "python",
   "nbconvert_exporter": "python",
   "pygments_lexer": "ipython3",
   "version": "3.8.10"
  },
  "latex_envs": {
   "LaTeX_envs_menu_present": true,
   "autoclose": false,
   "autocomplete": true,
   "bibliofile": "biblio.bib",
   "cite_by": "apalike",
   "current_citInitial": 1,
   "eqLabelWithNumbers": true,
   "eqNumInitial": 1,
   "hotkeys": {
    "equation": "Ctrl-E",
    "itemize": "Ctrl-I"
   },
   "labels_anchors": false,
   "latex_user_defs": false,
   "report_style_numbering": false,
   "user_envs_cfg": false
  }
 },
 "nbformat": 4,
 "nbformat_minor": 2
}
