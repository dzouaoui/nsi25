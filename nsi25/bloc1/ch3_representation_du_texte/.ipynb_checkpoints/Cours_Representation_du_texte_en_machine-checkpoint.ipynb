{
 "cells": [
  {
   "cell_type": "markdown",
   "metadata": {},
   "source": [
    "# Encodage et décodage du texte\n",
    "\n",
    "## De quoi s'agit-il ?\n",
    "\n",
    "Quand nous manipulons du texte, même s'il apparaît \"tel quel\" sur les écrans, en réalité il est codé en machine par une suite de 1 et de 0 (comme n'importe quelle donnée, voir [cours d'introduction à la représentation des données](../Cours_Introduction_a_la_representation_des_donnees.ipynb))\n",
    "\n",
    "![Encodage et Decodage](img/encodageDecodage.png)\n",
    "\n",
    " * Quand on **écrit du texte** et qu'on l'**enregistre dans un fichier**, l'ordinateur réalise un **encodage**\n",
    " * Quand on **ouvre un fichier** contenant du texte pour l'**afficher** à l'écran, l'ordinateur réalise un **décodage**\n",
    "\n",
    "L'encodage se fait grâce à une **table** ou **norme** qui fait correspondre pour chaque caractère \"humain\" un nombre (donc une suite de 1 et de 0).\n",
    "\n",
    "Il existe beaucoup de tables différentes, parmi lesquelles 3 sont à connaître : la table **ASCII**, la table **ISO-8859-1** (encore appelée **Latin-1**) et la norme **UNICODE**.\n",
    " \n",
    "## ASCII\n",
    "ASCII (*American Standard Code for Information Interchange*) est la **première norme** largement utilisée pour encoder des caractères.  Comme son nom l'indique cette norme est **américaine et elle n'inclut donc que les lettres latines non\n",
    "accentuées** (en plus des chiffres, opérateurs mathématiques, caractères de ponctuation ou de délimitation et certains caractères spéciaux).\n",
    "\n",
    "Voici les caractères de la table ASCII (les 33 premiers, et le dernier, ne sont pas imprimables) :\n",
    "\n",
    "![table ascii](img/ASCII.png) _\"Source : Wikipedia\"_\n",
    "\n",
    "Exemple : En ASCII, le caractère **`a`** est codé par le nombre $97 = 61_{(16)} = 0110 0001_{(2)}$  \n",
    "Autrement dit, le caractère **`a`** est **encodé** en machine par la suite 0110 0001\n",
    "\n",
    "### Quelques caractéristiques à connaître sur la norme ASCII\n",
    "\n",
    "* Chaque caractère est encodé sur 1 octet (donc 8 bits) mais en pratique **7 bits** servent à l'encodage (le 8ème étant réservé pour détecter les éventuelles erreurs de transmission). \n",
    "\n",
    "\n",
    "* La norme ASCII permet d'encoder uniquement $2^7 = 128$ caractères\n",
    "\n",
    "\n",
    "* Les caractères accentués ne sont pas encodables en ASCII\n",
    "\n",
    "## ISO-8859-1 ou LATIN-1\n",
    "\n",
    "Par la suite d'autres encodages ont vu le jour afin de pallier les limites de l'ASCII.  L'ISO-8859-1 a vu le jour en 1986 en Europe occidentale pour combler les caractères non encodables en ASCII. Pour le français il manque cependant le œ, le Œ et le Ÿ et, bien entendu, le symbole €.  \n",
    "\n",
    "Voici [la table des caractères ISO-8859-1](http://std.dkuug.dk/jtc1/sc2/wg3/docs/n411.pdf) :\n",
    "\n",
    "![latin1](img/iso-8859-1.png) _\"Source : http://std.dkuug.dk/jtc1/sc2/wg3/docs/n411.pdf\"_\n",
    "\n",
    "Exemple : En ISO-8859-1, le caractère **`é`** est codé par le nombre $E9_{(16)} = 233 = 1110 1001_{(2)}$\n",
    "\n",
    "### Quelques caractéristiques à connaître sur la norme ISO-8859-1\n",
    "\n",
    "* Chaque caractère est encodé sur 1 octet (donc 8 bits)\n",
    "\n",
    "\n",
    "* La norme ISO-8859-1 permet d'encoder uniquement $2^8 = 256$ caractères\n",
    "\n",
    "\n",
    "* La norme ISO-8859-1 est **compatible avec la norme ASCII**. Ceci veut dire que les 128 caractères de la table ASCII possède le même encodage en ISO-8859-1.  \n",
    "_Exemple : le caractère **`a`** est codé par le nombre $97 = 61_{(16)} = 0110 0001_{(2)}$ en ASCII comme en ISO-8859-1_\n",
    "\n",
    "\n",
    "* La norme ISO-8859-1 permet d'encoder la plupart des caractères utilisés dans les langues d'Europe occidentale\n",
    "\n",
    "## Comment manipuler l'encodage en Python\n",
    "\n",
    "Les méthodes `encode` et `decode` permettent d'encoder et de décoder des chaînes de caractères dans différentes normes. Exemples :"
   ]
  },
  {
   "cell_type": "code",
   "execution_count": 8,
   "metadata": {},
   "outputs": [
    {
     "name": "stdout",
     "output_type": "stream",
     "text": [
      "b'\\xe9'\n"
     ]
    }
   ],
   "source": [
    "caractereEncode = 'é'.encode('iso-8859-1')\n",
    "\n",
    "print(caractereEncode)"
   ]
  },
  {
   "cell_type": "markdown",
   "metadata": {},
   "source": [
    "On retrouve bien que le caractère **`é`** s'encode en $E9_{(16)}$ dans la norme ISO-8859-1.  \n",
    "\n",
    "**Remarque :** \n",
    "* le `b` montre que le résultat est de type `bytes` : qui correspond à la suite de 1 et de 0 stockée en machine, c'est-à-dire à l'encodage\n",
    "* le `\\x` montre que le résultat est exprimé en hexadécimal."
   ]
  },
  {
   "cell_type": "code",
   "execution_count": 9,
   "metadata": {},
   "outputs": [
    {
     "name": "stdout",
     "output_type": "stream",
     "text": [
      "é\n"
     ]
    }
   ],
   "source": [
    "# La méthode decode permet bien de retrouver le caractère 'é'\n",
    "\n",
    "caractereDecode = caractereEncode.decode('latin1')\n",
    "print(caractereDecode)"
   ]
  },
  {
   "cell_type": "markdown",
   "metadata": {},
   "source": [
    "**Activité :** Faire les exercices 1 à 5 de la feuille de TD\n",
    "\n",
    "## Dans la jungle des normes d'encodage...\n",
    "\n",
    "La norme ISO-8859-1 ne permet bien sûr pas d'encoder des caractères particuliers à certains alphabet (comme l'alphabet cyrillique par exemple). Ceci a conduit d'autres pays à créer leur propre norme. C’est pourquoi il n’y a pas une mais seize tables notées ISO-8859-1 à ISO-8859-16. Certaines de ces tables ont un nom simplifié (latin-1 à latin-10).\n",
    "\n",
    "| Norme ISO|Zone|\n",
    "|:--------:|:--:|\n",
    "| 8859-1 (latin-1)|Europe occidentale|\n",
    "|8859-2 (latin-2)|Europe centrale ou de l’est|\n",
    "|8859-3 (latin-3)|Europe du sud|\n",
    "|8859-4 (latin-4)|Europe du nord|\n",
    "|8859-5|Cyrillique|\n",
    "|8859-6|Arabe|\n",
    "|...|...|\n",
    "|8859-15 (latin-9)|Révision du latin-1 avec le symbole € |\n",
    "8859-16 (latin-10)|Europe du sud-est\n",
    "\n",
    "Néanmoins, avec ces seizes tables, il n’est toujours pas possible d’écrire en chinois, en japonais, etc... Et il est compliqué d’écrire en plusieurs langues dans le même document. Ainsi d'autres normes ont encore été créées. En plus de cela, certaines entreprises informatiques ont créées leur propre norme, comme Microsoft avec le [cp1252](https://fr.wikipedia.org/wiki/Windows-1252) utilisé par windows en Europe occidentale, dont la France. Et non **cp1252** n'est pas compatible avec la norme ISO-8859-1 !! \n",
    "\n",
    "Au final, il existe de [très nombreux encodages différents](https://fr.wikipedia.org/wiki/Codage_des_caract%C3%A8res#Jeux_de_caract%C3%A8res_cod%C3%A9s_populaires,_par_pays). Vous pouvez exécuter les lignes de code ci-dessous pour obtenir la liste des encodage que peut gérer python..."
   ]
  },
  {
   "cell_type": "code",
   "execution_count": null,
   "metadata": {},
   "outputs": [],
   "source": [
    "import encodings\n",
    ">>> print(''.join('- ' + e + '\\n' for e in sorted(set(encodings.aliases.aliases.values()))))"
   ]
  },
  {
   "cell_type": "markdown",
   "metadata": {},
   "source": [
    "## ... Source de bugs informatiques et de problèmes d'affichage\n",
    "\n",
    "Alice écrit un texte qu'elle enregistre dans un fichier. Cela peut être un mail, un fichier html, un code source python, un rapport écrit dans un logiciel de traitement de texte comme ~~Word~~ ou LibreOffice etc... Au moment où elle enregistre son texte, celui-ci est **ENCODE avec la norme d'encodage utilisée sur SA MACHINE A ELLE**\n",
    "\n",
    "Ce texte est lu par Bob sur sa machine. Au moment où il ouvre le fichier produit par Alice, le texte est **DECODE avec la norme d'encodage utilisée sur SA MACHINE A LUI**\n",
    "\n",
    "Si la norme utilisée par la machine d'Alice pour encoder et la norme utilisée par la machine de Bob pour décoder ne sont pas les mêmes, on peut avoir au mieux des **Ã©**trange probl**Ã¨**me d'affichage génant pour la lecture, au pire des bugs informatiques. \n",
    "\n",
    "**Activité :** Ouvrir les fichiers la_guerre_des_mondes.txt en choisissant le mauvais encodage.  \n",
    "**Activité :** Ouvrir les pages web `premier.html` et `deuxieme.html`\n",
    "\n",
    "### Illustration en python"
   ]
  },
  {
   "cell_type": "code",
   "execution_count": 10,
   "metadata": {},
   "outputs": [
    {
     "name": "stdout",
     "output_type": "stream",
     "text": [
      "la chaîne originale : Le père Noël est une ordure\n",
      "la chaîne décodée : Le père Noël est une ordure\n"
     ]
    }
   ],
   "source": [
    "# Utilisation de la même norme (latin1) pour l'encodage et le décodage : Pas de problème d'affichage\n",
    "chaine = \"Le père Noël est une ordure\"\n",
    "\n",
    "encodage = chaine.encode('latin1') #encodage\n",
    "decodage = encodage.decode('latin1') #décodage\n",
    "\n",
    "print(\"la chaîne originale :\",chaine)\n",
    "print(\"la chaîne décodée :\",decodage)"
   ]
  },
  {
   "cell_type": "code",
   "execution_count": 11,
   "metadata": {},
   "outputs": [
    {
     "name": "stdout",
     "output_type": "stream",
     "text": [
      "la chaîne originale : Le père Noël est une ordure\n",
      "la chaîne décodée : Le pÒre NoŠl est une ordure\n"
     ]
    }
   ],
   "source": [
    "# Utilisation d'une norme différente pour l'encodage (latin1) et le décodage(hp_roman8) : Problème d'affichage\n",
    "chaine = \"Le père Noël est une ordure\"\n",
    "\n",
    "encodage = chaine.encode('latin1') #encodage\n",
    "decodage = encodage.decode('hp_roman8') #décodage\n",
    "\n",
    "print(\"la chaîne originale :\",chaine)\n",
    "print(\"la chaîne décodée :\",decodage)"
   ]
  },
  {
   "cell_type": "code",
   "execution_count": 12,
   "metadata": {},
   "outputs": [
    {
     "name": "stdout",
     "output_type": "stream",
     "text": [
      "la chaîne originale : Le père Noël est une ordure\n",
      "la chaîne décodée : <ÁøYÊÁ+?Ô%ÁËÈÍ>Á?ÊÀÍÊÁ\n"
     ]
    }
   ],
   "source": [
    "# Mais ça peut être bien pire...\n",
    "chaine = \"Le père Noël est une ordure\"\n",
    "\n",
    "encodage = chaine.encode('latin1') #encodage\n",
    "decodage = encodage.decode('cp1026') #décodage\n",
    "\n",
    "print(\"la chaîne originale :\",chaine)\n",
    "print(\"la chaîne décodée :\",decodage)"
   ]
  },
  {
   "cell_type": "code",
   "execution_count": 13,
   "metadata": {},
   "outputs": [
    {
     "name": "stdout",
     "output_type": "stream",
     "text": [
      "la chaîne originale : Le père Noël est une ordure\n",
      "la chaîne décodée : Le père Noël est une ordure\n"
     ]
    }
   ],
   "source": [
    "# Certaines normes sont compatibles entre elles... du moins pour les caractères utilisés ici...\n",
    "chaine = \"Le père Noël est une ordure\"\n",
    "\n",
    "encodage = chaine.encode('latin1') #encodage\n",
    "decodage = encodage.decode('latin8') #décodage\n",
    "\n",
    "print(\"la chaîne originale :\",chaine)\n",
    "print(\"la chaîne décodée :\",decodage)"
   ]
  },
  {
   "cell_type": "code",
   "execution_count": 14,
   "metadata": {},
   "outputs": [
    {
     "ename": "UnicodeDecodeError",
     "evalue": "'ascii' codec can't decode byte 0xe8 in position 4: ordinal not in range(128)",
     "output_type": "error",
     "traceback": [
      "\u001b[1;31m---------------------------------------------------------------------------\u001b[0m",
      "\u001b[1;31mUnicodeDecodeError\u001b[0m                        Traceback (most recent call last)",
      "\u001b[1;32m<ipython-input-14-3788a3d32059>\u001b[0m in \u001b[0;36m<module>\u001b[1;34m\u001b[0m\n\u001b[0;32m      3\u001b[0m \u001b[1;33m\u001b[0m\u001b[0m\n\u001b[0;32m      4\u001b[0m \u001b[0mencodage\u001b[0m \u001b[1;33m=\u001b[0m \u001b[0mchaine\u001b[0m\u001b[1;33m.\u001b[0m\u001b[0mencode\u001b[0m\u001b[1;33m(\u001b[0m\u001b[1;34m'latin1'\u001b[0m\u001b[1;33m)\u001b[0m \u001b[1;31m#encodage\u001b[0m\u001b[1;33m\u001b[0m\u001b[1;33m\u001b[0m\u001b[0m\n\u001b[1;32m----> 5\u001b[1;33m \u001b[0mdecodage\u001b[0m \u001b[1;33m=\u001b[0m \u001b[0mencodage\u001b[0m\u001b[1;33m.\u001b[0m\u001b[0mdecode\u001b[0m\u001b[1;33m(\u001b[0m\u001b[1;34m'ascii'\u001b[0m\u001b[1;33m)\u001b[0m \u001b[1;31m#décodage\u001b[0m\u001b[1;33m\u001b[0m\u001b[1;33m\u001b[0m\u001b[0m\n\u001b[0m\u001b[0;32m      6\u001b[0m \u001b[1;33m\u001b[0m\u001b[0m\n\u001b[0;32m      7\u001b[0m \u001b[0mprint\u001b[0m\u001b[1;33m(\u001b[0m\u001b[1;34m\"la chaîne originale :\"\u001b[0m\u001b[1;33m,\u001b[0m\u001b[0mchaine\u001b[0m\u001b[1;33m)\u001b[0m\u001b[1;33m\u001b[0m\u001b[1;33m\u001b[0m\u001b[0m\n",
      "\u001b[1;31mUnicodeDecodeError\u001b[0m: 'ascii' codec can't decode byte 0xe8 in position 4: ordinal not in range(128)"
     ]
    }
   ],
   "source": [
    "# Et parfois engendrer un bug\n",
    "chaine = \"Le père Noël est une ordure\"\n",
    "\n",
    "encodage = chaine.encode('latin1') #encodage\n",
    "decodage = encodage.decode('ascii') #décodage\n",
    "\n",
    "print(\"la chaîne originale :\",chaine)\n",
    "print(\"la chaîne décodée :\",decodage)"
   ]
  },
  {
   "cell_type": "markdown",
   "metadata": {},
   "source": [
    "## Bilan et bonnes pratiques sur l'encodage\n",
    "\n",
    "* Lorsqu'on encode un texte : il faut toujours préciser l'encodage utilisé !!\n",
    "\n",
    "* Privilégier autant que possible un encodage \"universel\" : l'**UTF-8**  \n",
    "\n",
    "* Pour aller plus loin, lire [cette page](http://nsivaugelas.free.fr/premiere/fichiers/texte_encodage/encoding_sametmax.html)\n",
    "\n",
    "\n",
    "**Exemple de bonne pratique :**\n",
    "\n",
    "Ici Atom a été configuré pour **encoder** le texte en **UTF-8** (voir en bas de la fenêtre)  \n",
    "En HTML, on précise grâce à la balise `<meta>` que l'encodage utilisé est UTF-8. Ainsi le navigateur sait avec quel norme il doit **décoder** le fichier HTML (ce qui évite les problèmes d'affichage)\n",
    "\n",
    "![atom](img/encodageAtom.png)"
   ]
  },
  {
   "cell_type": "markdown",
   "metadata": {},
   "source": [
    "## [UTF-8](https://unicode-table.com)\n",
    "\n",
    "Afin de régler les problèmes d’encodages qui persistaient, l’[ISO](https://www.iso.org/fr/home.html) a défini un jeu universel de caractères appelé UCS (Universal Character Set), aussi appelé ISO-10646. Chaque caractère (lettre, symbole, idéogramme, emoji  😇 ... ) est associé à un entier positif en base 10 appelé [point de code](https://fr.wikipedia.org/wiki/Point_de_code). Il y a environ 150 000 caractères recensés dans cette norme, qui devrait contenir tous les symboles nécessaires pour toutes les langues existantes. La capacité maximale est fixée à 4 294 967 295 caractères, c’est-à-dire le maximum pouvant être représenté sur 32 bits. Les 256 premiers points de codecorrespondent à l’ISO-8859-1.  \n",
    "On note en général **`U+xxxx` les points de code, où les x représentent des chiffres en hexadécimal**. Si c’est nécessaire, il est possible de rajouter des chiffres, mais il en faut au moins 4. Cette norme pose le problème de comporter beaucoup de 0 inutiles dans le cas d’un texte avec  des  caractères  des  tables  ASCII  ou  latin-1.  C’est  pourquoi  le  consortium  **Unicode** a proposé des techniques d’encodage. La plus utilisée est l'[UTF-8](https://fr.wikipedia.org/wiki/UTF-8), créé en 1992. L’idée est de pouvoir représenter les points de code sur un nombre variable d’octets, allant de 1 à 4. Ainsi lorsqu’on se restreint à l’ASCII, on n’utilise qu’un octet par caractère.\n",
    "\n",
    "|points de code|Suite d’octets (en binaire)|bits significatifs|Caractères disponibles dans cet intervalle|\n",
    "|:------------:|:-------------------------:|:----------------:|:----------------------------------------:|\n",
    "|U+0000 à U+007F|0xxxxxxx|7|caractères ASCII|\n",
    "|U+0080 à U+07FF|110xxxxx 10xxxxxx|11|alphabets d’Europe et du Moyen-Orient |\n",
    "U+0800 à U+FFFF|1110xxxx 10xxxxxx 10xxxxxx|16|la quasi-totalité des alphabets actuels ([BMP](https://en.wikipedia.org/wiki/Plane_%28Unicode%29#Basic_Multilingual_Plane))|\n",
    "U+10000 à U+10FFFF|11110xxx 10xxxxxx 10xxxxxx 10xxxxxx|21|tout le reste|\n",
    "\n",
    "En UTF-8, les bits de poids fort du premier octet de la séquence codée forment une suite de 1 de longueur égale au nombre total d’octets (au moins 2) utilisés pour la séquence entière suivie d'un 0 et les octets suivants nécessaires ont leurs deux bits de poids fort positionnés à 10\n",
    "\n",
    "L’UTF-16 utilise 2 ou 4 octets. Enfin, l’UTF-32 utilise 4 octets pour chaque caractère, ce qui est plus pratique pour la gestion des chaînes de caractères, mais bien plus gourmand en espace mémoire\n",
    "\n",
    "> **Remarque :** Pour être complet, utiliser l'UTF-8 ne garantit pas à lui seul l'absence de problème d'affichage des \"caractères exotiques\". En effet, il faut encore s'assurer que le **glyphe** c'est-à-dire le dessin, correspondant à ce caractère existe bien dans la police utilisée \n",
    "\n",
    "### Quelques caractéristiques à connaître sur la norme UTF-8\n",
    "\n",
    "* UTF-8 est **compatible avec l'ASCII**\n",
    "\n",
    "\n",
    "* UTF-8 est **incompatible avec l'ISO-8859-1** (pour les 128 derniers caractères non ascii)\n",
    "\n",
    "\n",
    "* UTF-8 est un **encodage de longueur variable**, contrairement à l'ASCII et au codage ISO-8859-1. Certains caractères sont codés sur un seul octet, ce sont les 128 caractères du codage ASCII.  Les autres caractères peuvent être codés sur 2, 3 ou 4 octets.  \n",
    "\n",
    "\n",
    "* Avantage : Comme UTF-8 possède tous les caractères du monde, il s'impose très largemement de nos jour, ce qui limite les problèmes d'encodage/décodage puisque tout le monde (doit) utilise(r) UTF-8. Ainsi, Python3 utilise UTF-8, UTF-8 est aussi devenu le standard du web. **Par défaut, vous DEVEZ UTILISER UTF-8**\n",
    "\n",
    "\n",
    "* Inconvénients : \n",
    "    * Perte de la correspondance _1 caractère $\\Leftrightarrow$ 1 octet_\n",
    "    * UTF-8 est un codage qui (pour les caractères non ascii) utilise **plus de ressource mémoire** que les autres normes pour encoder un texte\n",
    "    \n",
    "**Activité :** Faire avec le professeur l'exercice 11 de la feuille de TD"
   ]
  }
 ],
 "metadata": {
  "kernelspec": {
   "display_name": "Python 3 (ipykernel)",
   "language": "python",
   "name": "python3"
  },
  "language_info": {
   "codemirror_mode": {
    "name": "ipython",
    "version": 3
   },
   "file_extension": ".py",
   "mimetype": "text/x-python",
   "name": "python",
   "nbconvert_exporter": "python",
   "pygments_lexer": "ipython3",
   "version": "3.8.10"
  },
  "latex_envs": {
   "LaTeX_envs_menu_present": true,
   "autoclose": false,
   "autocomplete": true,
   "bibliofile": "biblio.bib",
   "cite_by": "apalike",
   "current_citInitial": 1,
   "eqLabelWithNumbers": true,
   "eqNumInitial": 1,
   "hotkeys": {
    "equation": "Ctrl-E",
    "itemize": "Ctrl-I"
   },
   "labels_anchors": false,
   "latex_user_defs": false,
   "report_style_numbering": false,
   "user_envs_cfg": false
  }
 },
 "nbformat": 4,
 "nbformat_minor": 2
}
