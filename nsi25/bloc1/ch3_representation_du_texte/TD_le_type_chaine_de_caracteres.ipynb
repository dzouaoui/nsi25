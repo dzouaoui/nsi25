{
 "cells": [
  {
   "cell_type": "markdown",
   "metadata": {},
   "source": [
    "# TD le type `str`\n",
    "\n",
    "## Rappel\n",
    "\n",
    "on définit la variable `a` grâce à l'instruction suivante :"
   ]
  },
  {
   "cell_type": "code",
   "execution_count": null,
   "metadata": {},
   "outputs": [],
   "source": [
    "a = 5"
   ]
  },
  {
   "cell_type": "markdown",
   "metadata": {},
   "source": [
    "1. Quel est le type de `a` ? Quel est le type de `'a'` ? Quelles instructions tapper à l'ordinateur pour vérifier vos réponses ?\n",
    "\n",
    "\n",
    "2. En déduire les affichages correspondant aux instructions suivantes ? Vérifier avec l'ordinateur."
   ]
  },
  {
   "cell_type": "code",
   "execution_count": null,
   "metadata": {},
   "outputs": [],
   "source": [
    "print(a)"
   ]
  },
  {
   "cell_type": "code",
   "execution_count": null,
   "metadata": {},
   "outputs": [],
   "source": [
    "print('a')"
   ]
  },
  {
   "cell_type": "markdown",
   "metadata": {},
   "source": [
    "> **A RETENIR** : \n",
    "* un _nom_ sans guillemets correspond à une variable (comme `a`)\n",
    "* un _nom_ avec guillements correspond à une chaine de caractères (comme `'a'`)\n",
    "\n",
    "## Exercice 1 : niveau facile\n",
    "On considère les 2 instructions ci-dessous : "
   ]
  },
  {
   "cell_type": "code",
   "execution_count": null,
   "metadata": {},
   "outputs": [],
   "source": [
    "var = \"Le Python\\nc'est super\"\n",
    "\n",
    "print(var)"
   ]
  },
  {
   "cell_type": "markdown",
   "metadata": {},
   "source": [
    "1. Exécuter ces instructions à l'ordinateur. En déduire à quoi correspond le caractère `\\n`\n",
    "\n",
    "\n",
    "2. Prédire le résultat de chaque instruction suivante **sans l'exécuter à l'ordinateur** :"
   ]
  },
  {
   "cell_type": "code",
   "execution_count": null,
   "metadata": {},
   "outputs": [],
   "source": [
    "len(var)"
   ]
  },
  {
   "cell_type": "code",
   "execution_count": null,
   "metadata": {},
   "outputs": [],
   "source": [
    "var[9]"
   ]
  },
  {
   "cell_type": "code",
   "execution_count": null,
   "metadata": {},
   "outputs": [],
   "source": [
    "var[-3]"
   ]
  },
  {
   "cell_type": "code",
   "execution_count": null,
   "metadata": {},
   "outputs": [],
   "source": [
    "var[3:7]"
   ]
  },
  {
   "cell_type": "markdown",
   "metadata": {},
   "source": [
    "3. Vérifier vos réponses précédentes en tappant les instructions à l'ordinateur\n",
    "\n",
    "> Au type `str` sont associées plusieurs _méthodes_ comme par exemple la _méthode_ `find` (On rappelle qu'une **méthode** associée au type `str` est une **fonction** qui utilise la notation pointée) \n",
    "\n",
    "4. Quel est l'indice du caractère `'y'` dans `var` ? En déduire l'instruction python permettant de récupérer le caractère `'y'` à l'aide de la variable `var`\n",
    "\n",
    "\n",
    "5. Donner l'instruction python permettant de récupérer le caractère `'u'` à l'aide de la variable `var`\n",
    "\n",
    "\n",
    "6. Donner une autre instruction python permettant de récupérer le caractère `'u'` à l'aide de la variable `var`.  \n",
    "*(Indication : Cela correspond à la numérotation qui commence par la fin)*"
   ]
  },
  {
   "cell_type": "markdown",
   "metadata": {},
   "source": [
    "## Exercice 2 : niveau intermédiaire\n",
    "\n",
    "1. Rechercher et lire la documentation de la méthode `find` (regarder la syntaxe dans le cours)7. Rechercher et lire la documentation de la méthode `find` (regarder la syntaxe dans le cours)\n",
    "\n",
    "\n",
    "2. Prédire le résultat de l'instruction suivante **sans l'exécuter à l'ordinateur**"
   ]
  },
  {
   "cell_type": "code",
   "execution_count": null,
   "metadata": {},
   "outputs": [],
   "source": [
    "var.find(\"t\")"
   ]
  },
  {
   "cell_type": "markdown",
   "metadata": {},
   "source": [
    "3. Vérifier votre réponse précédente en tappant l'instruction à l'ordinateur\n",
    "\n",
    "\n",
    "4. Prédire le résultat des instructions suivantes **sans les exécuter à l'ordinateur**"
   ]
  },
  {
   "cell_type": "code",
   "execution_count": null,
   "metadata": {},
   "outputs": [],
   "source": [
    "var.find(\"e\")"
   ]
  },
  {
   "cell_type": "code",
   "execution_count": null,
   "metadata": {},
   "outputs": [],
   "source": [
    "var.find(\" \")"
   ]
  },
  {
   "cell_type": "code",
   "execution_count": null,
   "metadata": {},
   "outputs": [],
   "source": [
    "var.find(\"p\")"
   ]
  },
  {
   "cell_type": "code",
   "execution_count": null,
   "metadata": {},
   "outputs": [],
   "source": [
    "var.find(\"c'est\")"
   ]
  },
  {
   "cell_type": "code",
   "execution_count": null,
   "metadata": {},
   "outputs": [],
   "source": [
    "var.find(\"z\")"
   ]
  },
  {
   "cell_type": "markdown",
   "metadata": {},
   "source": [
    "5. Vérifier vos réponses précédentes en tappant les instructions précédentes à l'ordinateur"
   ]
  },
  {
   "cell_type": "markdown",
   "metadata": {},
   "source": [
    "# Exercice 3 : Niveau intermédiaire\n",
    "\n",
    "Ecrire une fonction `commence_par_majuscule` qui **renvoie** `True` si la chaine de caractères passée en paramètre commence par une majuscule. *(Indication : Utiliser la méthode `isupper` associée au type `str`)*\n",
    "\n",
    "> Les appels ci-dessous permettent de tester votre fonction :"
   ]
  },
  {
   "cell_type": "code",
   "execution_count": 3,
   "metadata": {},
   "outputs": [
    {
     "data": {
      "text/plain": [
       "True"
      ]
     },
     "execution_count": 3,
     "metadata": {},
     "output_type": "execute_result"
    }
   ],
   "source": [
    "commence_par_majuscule(\"Bonjour\")"
   ]
  },
  {
   "cell_type": "code",
   "execution_count": 4,
   "metadata": {},
   "outputs": [
    {
     "data": {
      "text/plain": [
       "False"
      ]
     },
     "execution_count": 4,
     "metadata": {},
     "output_type": "execute_result"
    }
   ],
   "source": [
    "commence_par_majuscule(\"python\")"
   ]
  },
  {
   "cell_type": "code",
   "execution_count": 5,
   "metadata": {},
   "outputs": [
    {
     "data": {
      "text/plain": [
       "True"
      ]
     },
     "execution_count": 5,
     "metadata": {},
     "output_type": "execute_result"
    }
   ],
   "source": [
    "commence_par_majuscule(\"INFORMATIQUE\")"
   ]
  },
  {
   "cell_type": "markdown",
   "metadata": {},
   "source": [
    "## Exercice 4 : Niveau difficile\n",
    "\n",
    "> Dans l'exercice précédent, nous avons vu que la méthode `find` renvoyait des **indices positifs** (sauf cas où le caractère recherché n'existe pas). On se propose dans cette exercice d'écrire une **fonction** ( _pas une méthode_ ) qui renvoie les indices négatifs.  \n",
    "On souhaite donc écrire une fonction `find2` qui :\n",
    "* prend en paramètres:\n",
    "    * Une chaine de caractère : `chaine`\n",
    "    * Un caractère : `c`\n",
    "* **renvoie** :\n",
    "    * l'indice négatif correspondant au caractère `c` dans la chaine de caractère `chaine`\n",
    "    * `None` dans le cas où le caractère `c` n'est pas dans `chaine`\n",
    "    \n",
    "1. Ecrire la définition de cette fonction **en commençant par la documentation** (avant d'écrire le code !!)\n",
    "\n",
    "2. Vérifier le bon fonctionnement de `find2` grâce aux appels ci-dessous "
   ]
  },
  {
   "cell_type": "code",
   "execution_count": 3,
   "metadata": {},
   "outputs": [
    {
     "name": "stdout",
     "output_type": "stream",
     "text": [
      "-6\n"
     ]
    }
   ],
   "source": [
    "mot = \"python\"\n",
    "\n",
    "indice_negatif = find2(mot,'p')\n",
    "\n",
    "print(indice_negatif)"
   ]
  },
  {
   "cell_type": "code",
   "execution_count": 4,
   "metadata": {},
   "outputs": [
    {
     "name": "stdout",
     "output_type": "stream",
     "text": [
      "-1\n"
     ]
    }
   ],
   "source": [
    "mot = \"python\"\n",
    "\n",
    "indice_negatif = find2(mot,'n')\n",
    "\n",
    "print(indice_negatif)"
   ]
  },
  {
   "cell_type": "code",
   "execution_count": 5,
   "metadata": {},
   "outputs": [
    {
     "name": "stdout",
     "output_type": "stream",
     "text": [
      "-4\n"
     ]
    }
   ],
   "source": [
    "mot = \"python\"\n",
    "\n",
    "indice_negatif = find2(mot,'t')\n",
    "\n",
    "print(indice_negatif)"
   ]
  },
  {
   "cell_type": "code",
   "execution_count": 6,
   "metadata": {},
   "outputs": [
    {
     "name": "stdout",
     "output_type": "stream",
     "text": [
      "None\n"
     ]
    }
   ],
   "source": [
    "mot = \"python\"\n",
    "\n",
    "indice_negatif = find2(mot,'z')\n",
    "\n",
    "print(indice_negatif)"
   ]
  }
 ],
 "metadata": {
  "kernelspec": {
   "display_name": "Python 3",
   "language": "python",
   "name": "python3"
  },
  "language_info": {
   "codemirror_mode": {
    "name": "ipython",
    "version": 3
   },
   "file_extension": ".py",
   "mimetype": "text/x-python",
   "name": "python",
   "nbconvert_exporter": "python",
   "pygments_lexer": "ipython3",
   "version": "3.7.2"
  }
 },
 "nbformat": 4,
 "nbformat_minor": 2
}
