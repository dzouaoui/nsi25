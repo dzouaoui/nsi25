{
 "cells": [
  {
   "cell_type": "markdown",
   "metadata": {},
   "source": [
    "# Le type `str`\n",
    "\n",
    "Préambule : Ce cours ne prétend pas présenter de manière exhaustive les chaînes de caractères. Pour plus d'informations, consulter la [documentation officielle](https://docs.python.org/fr/3.6/tutorial/introduction.html#strings)\n",
    "\n",
    "## Ecriture des chaînes de caractères en python\n",
    "\n",
    "Une chaîne de caractère se délimite soit avec des guillemets simples `''` soit avec des guillemets doubles `\"\"` (c'est l'un ou l'autre !!)\n",
    "\n",
    "\n",
    "> **ATTENTION : Le mot \"CARACTERE\" doit s'entendre dans un sens très large : Les chaînes de caractères ne contiennent pas que des lettres ! N'importe quel symbole (visible ou invisible) peut faire partie d'une chaîne de caractères.** <br><br>\n",
    "* En python, tout ce qui se délimite par des guillemets est une chaîne de caractères\n",
    "* En python, dès que quelquechose est délimité par des guillemets, c'est une chaîne de caractères"
   ]
  },
  {
   "cell_type": "code",
   "execution_count": 1,
   "metadata": {},
   "outputs": [
    {
     "data": {
      "text/plain": [
       "str"
      ]
     },
     "execution_count": 1,
     "metadata": {},
     "output_type": "execute_result"
    }
   ],
   "source": [
    "# Avec des \"\"\n",
    "type(\"bonjour\")"
   ]
  },
  {
   "cell_type": "code",
   "execution_count": 2,
   "metadata": {},
   "outputs": [
    {
     "data": {
      "text/plain": [
       "str"
      ]
     },
     "execution_count": 2,
     "metadata": {},
     "output_type": "execute_result"
    }
   ],
   "source": [
    "# Avec des ''\n",
    "type('bonjour')"
   ]
  },
  {
   "cell_type": "code",
   "execution_count": 3,
   "metadata": {},
   "outputs": [
    {
     "ename": "SyntaxError",
     "evalue": "EOL while scanning string literal (<ipython-input-3-14a68494c4ec>, line 2)",
     "output_type": "error",
     "traceback": [
      "\u001b[0;36m  File \u001b[0;32m\"<ipython-input-3-14a68494c4ec>\"\u001b[0;36m, line \u001b[0;32m2\u001b[0m\n\u001b[0;31m    type(\"bonjour')\u001b[0m\n\u001b[0m                   ^\u001b[0m\n\u001b[0;31mSyntaxError\u001b[0m\u001b[0;31m:\u001b[0m EOL while scanning string literal\n"
     ]
    }
   ],
   "source": [
    "# Mais pas avec \"'\n",
    "type(\"bonjour')"
   ]
  },
  {
   "cell_type": "code",
   "execution_count": 4,
   "metadata": {},
   "outputs": [
    {
     "data": {
      "text/plain": [
       "'Ceci est une chaine\\nde caractères\\nécrite sur plusieurs lignes'"
      ]
     },
     "execution_count": 4,
     "metadata": {},
     "output_type": "execute_result"
    }
   ],
   "source": [
    "# Il est possible d'écrire les chaînes de caractères \n",
    "# sur plusieurs lignes avec des triples guillements \"\"\" comme dans les docstrings\n",
    "\n",
    "\"\"\"Ceci est une chaine\n",
    "de caractères\n",
    "écrite sur plusieurs lignes\"\"\""
   ]
  },
  {
   "cell_type": "markdown",
   "metadata": {},
   "source": [
    "## Erreur à ne pas comettre\n",
    "Ne pas confondre `4` et `'4'`. Pour la machine il ne s'agit pas du tout de la même chose :\n",
    "* Ce ne sont pas des objets de même type (`int` vs `str`)\n",
    "* Leur encodage (leur \"*traduction en 1 et 0 dans la machine\"*) est très différent"
   ]
  },
  {
   "cell_type": "code",
   "execution_count": 11,
   "metadata": {},
   "outputs": [
    {
     "data": {
      "text/plain": [
       "False"
      ]
     },
     "execution_count": 11,
     "metadata": {},
     "output_type": "execute_result"
    }
   ],
   "source": [
    "4 == '4'"
   ]
  },
  {
   "cell_type": "code",
   "execution_count": 1,
   "metadata": {},
   "outputs": [
    {
     "name": "stdout",
     "output_type": "stream",
     "text": [
      "<class 'int'>\n",
      "<class 'str'>\n"
     ]
    }
   ],
   "source": [
    "print(type(4))\n",
    "print(type('4'))"
   ]
  },
  {
   "cell_type": "markdown",
   "metadata": {},
   "source": [
    "Un espace, ce n'est pas \"rien\", c'est bien un caractère !"
   ]
  },
  {
   "cell_type": "code",
   "execution_count": 13,
   "metadata": {},
   "outputs": [
    {
     "data": {
      "text/plain": [
       "False"
      ]
     },
     "execution_count": 13,
     "metadata": {},
     "output_type": "execute_result"
    }
   ],
   "source": [
    "\"\" == \" \""
   ]
  },
  {
   "cell_type": "markdown",
   "metadata": {},
   "source": [
    "Ne pas confondre variable et chaîne de caractères..."
   ]
  },
  {
   "cell_type": "code",
   "execution_count": 14,
   "metadata": {},
   "outputs": [
    {
     "name": "stdout",
     "output_type": "stream",
     "text": [
      "5\n",
      "a\n"
     ]
    },
    {
     "ename": "TypeError",
     "evalue": "must be str, not int",
     "output_type": "error",
     "traceback": [
      "\u001b[0;31m---------------------------------------------------------------------------\u001b[0m",
      "\u001b[0;31mTypeError\u001b[0m                                 Traceback (most recent call last)",
      "\u001b[0;32m<ipython-input-14-1036c8fbeb22>\u001b[0m in \u001b[0;36m<module>\u001b[0;34m\u001b[0m\n\u001b[1;32m      5\u001b[0m \u001b[0;34m\u001b[0m\u001b[0m\n\u001b[1;32m      6\u001b[0m \u001b[0ma\u001b[0m \u001b[0;34m+\u001b[0m \u001b[0;36m2\u001b[0m \u001b[0;31m#Cela a du sens\u001b[0m\u001b[0;34m\u001b[0m\u001b[0;34m\u001b[0m\u001b[0m\n\u001b[0;32m----> 7\u001b[0;31m \u001b[0;34m\"a\"\u001b[0m \u001b[0;34m+\u001b[0m \u001b[0;36m2\u001b[0m \u001b[0;31m#Cela n'a pas de sens\u001b[0m\u001b[0;34m\u001b[0m\u001b[0;34m\u001b[0m\u001b[0m\n\u001b[0m",
      "\u001b[0;31mTypeError\u001b[0m: must be str, not int"
     ]
    }
   ],
   "source": [
    "a = 5 # Déclaration d'une variable a référençant l'objet entier 5\n",
    "\n",
    "print(a) # on affiche l'objet référencé par la variable a, c'est-à-dire 5\n",
    "print(\"a\") # on affiche la chaîne de caractère a\n",
    "\n",
    "a + 2 #Cela a du sens\n",
    "\"a\" + 2 #Cela n'a pas de sens"
   ]
  },
  {
   "cell_type": "markdown",
   "metadata": {},
   "source": [
    "Imaginons que nous voulons afficher une phrase indiquant le nom, l'age et l'adresse de la **personne** :\n",
    "\n",
    "_**Anne**_ a _**30**_ ans et habite _**Paris**_"
   ]
  },
  {
   "cell_type": "code",
   "execution_count": 7,
   "metadata": {},
   "outputs": [],
   "source": [
    "#Déclaration de 3 variables\n",
    "nom = \"Alice\"\n",
    "age = 30\n",
    "adresse = \"Paris\""
   ]
  },
  {
   "cell_type": "code",
   "execution_count": 8,
   "metadata": {},
   "outputs": [
    {
     "name": "stdout",
     "output_type": "stream",
     "text": [
      "Alice a 30 ans et habite Paris\n"
     ]
    }
   ],
   "source": [
    "# Méthode peu pratique : on se perd facilement dans les guillemets et les virgules\n",
    "print(nom,\"a\",age,\"ans et habite\",adresse)"
   ]
  },
  {
   "cell_type": "markdown",
   "metadata": {},
   "source": [
    "# Manipulation des chaînes de caractères en Python\n",
    "\n",
    "Grâce au mécanisme de \"Surcharge d'opérateur\" (mécanisme hors programme), on peut donner une signification à des opérateurs à priori *arihmétiques* sur des chaînes de caractères (on l'a déjà vu pour `>` par exemple...)"
   ]
  },
  {
   "cell_type": "code",
   "execution_count": 15,
   "metadata": {},
   "outputs": [
    {
     "data": {
      "text/plain": [
       "'bonjourMonsieur'"
      ]
     },
     "execution_count": 15,
     "metadata": {},
     "output_type": "execute_result"
    }
   ],
   "source": [
    "# + est l'opérateur concaténation\n",
    "\"bonjour\"+\"Monsieur\""
   ]
  },
  {
   "cell_type": "code",
   "execution_count": 2,
   "metadata": {},
   "outputs": [
    {
     "data": {
      "text/plain": [
       "'PythonPythonPythonPythonPython'"
      ]
     },
     "execution_count": 2,
     "metadata": {},
     "output_type": "execute_result"
    }
   ],
   "source": [
    "# * permet de répéter des caractères\n",
    "\"Python\"*5"
   ]
  },
  {
   "cell_type": "markdown",
   "metadata": {},
   "source": [
    "## Longueur d'une chaine\n",
    "\n",
    "La longueur d'une chaîne de caractères s'obtient grâce à la fonction `len()`. Cette fonction doit être connue : elle est souvent utilisée !!"
   ]
  },
  {
   "cell_type": "code",
   "execution_count": 18,
   "metadata": {},
   "outputs": [
    {
     "data": {
      "text/plain": [
       "6"
      ]
     },
     "execution_count": 18,
     "metadata": {},
     "output_type": "execute_result"
    }
   ],
   "source": [
    "#Le mot python contient 6 caractères\n",
    "ma_chaine=\"python\"\n",
    "len(ma_chaine)"
   ]
  },
  {
   "cell_type": "markdown",
   "metadata": {},
   "source": [
    "## Les slices\n",
    "\n",
    "Pour comprendre les slices, il faut savoir que les caractères d'une chaîne de caractère peuvent se numéroter **EN COMMENCANT PAR ZERO**. En effet, une chaîne de caractère est une **séquence ORDONNEE de caractères**. Ces numéros s'appellent des **INDICES**\n",
    "\n",
    "Exemple pour la chaîne de caractères `\"python\"`:\n",
    "\n",
    "|p|y|t|h|o|n|\n",
    "|-|-|-|-|-|-|\n",
    "|0|1|2|3|4|5|\n",
    "\n",
    "Dans la chaine de caractères `'python'`, le caractère `'p'` est d'indice 0 et le caractère `'h'` est d'indice 3\n"
   ]
  },
  {
   "cell_type": "code",
   "execution_count": 19,
   "metadata": {},
   "outputs": [
    {
     "data": {
      "text/plain": [
       "'t'"
      ]
     },
     "execution_count": 19,
     "metadata": {},
     "output_type": "execute_result"
    }
   ],
   "source": [
    "#Accès à un caractère\n",
    "ma_chaine=\"python\"\n",
    "ma_chaine[2]"
   ]
  },
  {
   "cell_type": "code",
   "execution_count": 20,
   "metadata": {},
   "outputs": [
    {
     "data": {
      "text/plain": [
       "'yth'"
      ]
     },
     "execution_count": 20,
     "metadata": {},
     "output_type": "execute_result"
    }
   ],
   "source": [
    "#Accès à un slice (une tranche)\n",
    "\n",
    "ma_chaine[1:4] # Attention, on prend la tranche allant de 1 inclus à 4 EXCLUS"
   ]
  },
  {
   "cell_type": "markdown",
   "metadata": {},
   "source": [
    "On peut aussi numéroter les caractères en commençant par la fin et à -1\n",
    "\n",
    "|p|y|t|h|o|n|\n",
    "|-|-|-|-|-|-|\n",
    "|-6|-5|-4|-3|-2|-1|"
   ]
  },
  {
   "cell_type": "code",
   "execution_count": 21,
   "metadata": {},
   "outputs": [
    {
     "data": {
      "text/plain": [
       "'y'"
      ]
     },
     "execution_count": 21,
     "metadata": {},
     "output_type": "execute_result"
    }
   ],
   "source": [
    "ma_chaine[-5]"
   ]
  },
  {
   "cell_type": "code",
   "execution_count": 22,
   "metadata": {
    "code_folding": []
   },
   "outputs": [
    {
     "data": {
      "text/plain": [
       "'tho'"
      ]
     },
     "execution_count": 22,
     "metadata": {},
     "output_type": "execute_result"
    }
   ],
   "source": [
    "# Tranche allant de -4 inclus à -1 EXCLUS\n",
    "ma_chaine[-4:-1]"
   ]
  },
  {
   "cell_type": "markdown",
   "metadata": {},
   "source": [
    "Bien d'autres choses peuvent être faites avec les slices : Ne pas hésiter à consulter la [documentation officielle](https://docs.python.org/fr/3.6/tutorial/introduction.html#strings)"
   ]
  },
  {
   "cell_type": "markdown",
   "metadata": {},
   "source": [
    "## test d'appartenance `in`"
   ]
  },
  {
   "cell_type": "code",
   "execution_count": 4,
   "metadata": {},
   "outputs": [
    {
     "data": {
      "text/plain": [
       "True"
      ]
     },
     "execution_count": 4,
     "metadata": {},
     "output_type": "execute_result"
    }
   ],
   "source": [
    "ma_chaine=\"python\"\n",
    "'y' in ma_chaine"
   ]
  },
  {
   "cell_type": "code",
   "execution_count": 24,
   "metadata": {},
   "outputs": [
    {
     "data": {
      "text/plain": [
       "False"
      ]
     },
     "execution_count": 24,
     "metadata": {},
     "output_type": "execute_result"
    }
   ],
   "source": [
    "'r' in ma_chaine"
   ]
  },
  {
   "cell_type": "code",
   "execution_count": 5,
   "metadata": {},
   "outputs": [
    {
     "data": {
      "text/plain": [
       "True"
      ]
     },
     "execution_count": 5,
     "metadata": {},
     "output_type": "execute_result"
    }
   ],
   "source": [
    "'pyt' in ma_chaine"
   ]
  },
  {
   "cell_type": "markdown",
   "metadata": {},
   "source": [
    "# Les chaînes de caractères comme OBJET\n",
    "\n",
    "D'ailleurs **EN PYTHON TOUT EST OBJET**\n",
    "\n",
    "On peut donc utiliser sur les chaînes de caractères, les concepts de la programmation orientée objet.\n",
    "Ce concept sera abordé en terminale. En revanche certains **outils** sont utiles dès la première (sans comprendre le pourquoi du comment ils fonctionnent....)\n",
    "\n",
    "En tant qu'objet (en fait en tant que classe...), le type `str` possèdent des fonctions (on dira méthodes plutôt que fonctions) qui lui sont propres. Pour les utiliser, on utilise la notation pointée :"
   ]
  },
  {
   "cell_type": "code",
   "execution_count": null,
   "metadata": {},
   "outputs": [],
   "source": [
    "chaine_de_caracteres.methode(paramètres_éventuels) #Exécution de methode() sur chaine_de_caractere, objet de type `str`"
   ]
  },
  {
   "cell_type": "code",
   "execution_count": 25,
   "metadata": {},
   "outputs": [
    {
     "data": {
      "text/plain": [
       "['__add__',\n",
       " '__class__',\n",
       " '__contains__',\n",
       " '__delattr__',\n",
       " '__dir__',\n",
       " '__doc__',\n",
       " '__eq__',\n",
       " '__format__',\n",
       " '__ge__',\n",
       " '__getattribute__',\n",
       " '__getitem__',\n",
       " '__getnewargs__',\n",
       " '__gt__',\n",
       " '__hash__',\n",
       " '__init__',\n",
       " '__init_subclass__',\n",
       " '__iter__',\n",
       " '__le__',\n",
       " '__len__',\n",
       " '__lt__',\n",
       " '__mod__',\n",
       " '__mul__',\n",
       " '__ne__',\n",
       " '__new__',\n",
       " '__reduce__',\n",
       " '__reduce_ex__',\n",
       " '__repr__',\n",
       " '__rmod__',\n",
       " '__rmul__',\n",
       " '__setattr__',\n",
       " '__sizeof__',\n",
       " '__str__',\n",
       " '__subclasshook__',\n",
       " 'capitalize',\n",
       " 'casefold',\n",
       " 'center',\n",
       " 'count',\n",
       " 'encode',\n",
       " 'endswith',\n",
       " 'expandtabs',\n",
       " 'find',\n",
       " 'format',\n",
       " 'format_map',\n",
       " 'index',\n",
       " 'isalnum',\n",
       " 'isalpha',\n",
       " 'isdecimal',\n",
       " 'isdigit',\n",
       " 'isidentifier',\n",
       " 'islower',\n",
       " 'isnumeric',\n",
       " 'isprintable',\n",
       " 'isspace',\n",
       " 'istitle',\n",
       " 'isupper',\n",
       " 'join',\n",
       " 'ljust',\n",
       " 'lower',\n",
       " 'lstrip',\n",
       " 'maketrans',\n",
       " 'partition',\n",
       " 'replace',\n",
       " 'rfind',\n",
       " 'rindex',\n",
       " 'rjust',\n",
       " 'rpartition',\n",
       " 'rsplit',\n",
       " 'rstrip',\n",
       " 'split',\n",
       " 'splitlines',\n",
       " 'startswith',\n",
       " 'strip',\n",
       " 'swapcase',\n",
       " 'title',\n",
       " 'translate',\n",
       " 'upper',\n",
       " 'zfill']"
      ]
     },
     "execution_count": 25,
     "metadata": {},
     "output_type": "execute_result"
    }
   ],
   "source": [
    "#La fonction dir() permet d'afficher la liste de toutes les méthodes (fonctions)\n",
    "#qui sont définies pour un type donné\n",
    "\n",
    "dir(str) #Affiche la liste de toutes les méthodes utilisables sur des objets de type str"
   ]
  },
  {
   "cell_type": "markdown",
   "metadata": {},
   "source": [
    "On oublie les méthodes spéciales qui commencent par '__'"
   ]
  },
  {
   "cell_type": "code",
   "execution_count": 26,
   "metadata": {},
   "outputs": [
    {
     "name": "stdout",
     "output_type": "stream",
     "text": [
      "Help on method_descriptor:\n",
      "\n",
      "lower(...)\n",
      "    S.lower() -> str\n",
      "    \n",
      "    Return a copy of the string S converted to lowercase.\n",
      "\n"
     ]
    }
   ],
   "source": [
    "# Pour obtenir de l'aide sur une fonction particulière\n",
    "help(str.lower) #Aide sur la méthode lower()"
   ]
  },
  {
   "cell_type": "code",
   "execution_count": 27,
   "metadata": {},
   "outputs": [
    {
     "data": {
      "text/plain": [
       "'chaine'"
      ]
     },
     "execution_count": 27,
     "metadata": {},
     "output_type": "execute_result"
    }
   ],
   "source": [
    "# La méthode lower() met en minuscule\n",
    "\"CHAINE\".lower()"
   ]
  },
  {
   "cell_type": "code",
   "execution_count": 6,
   "metadata": {},
   "outputs": [
    {
     "data": {
      "text/plain": [
       "\"L'informatique, c'est super !!\""
      ]
     },
     "execution_count": 6,
     "metadata": {},
     "output_type": "execute_result"
    }
   ],
   "source": [
    "# Autre exemple, la méthode replace()....\n",
    "\n",
    "ma_chaine = \"L'informatique, c'est horrible !!\"\n",
    "\n",
    "ma_chaine.replace(\"horrible\", \"super\")"
   ]
  },
  {
   "cell_type": "markdown",
   "metadata": {},
   "source": [
    "### En résumé\n",
    "\n",
    "Soyez curieux !! et testez quelques méthodes (quelques fonctions) définies pour le type `str`\n",
    "\n",
    "# Quelques compléments (hors programme mais rencontré souvent dans du code informatique)\n",
    "\n",
    "## Caractères spéciaux\n",
    "Il existe certains caractères spéciaux dont l'écriture commence par un \" \\ \". On peut citer par exemple :\n",
    "* \\n : retour à la ligne qui est en fait 2 caractères : CR+LF. Ceci est variable suivant l'environnement (par exemple le système d'exploitation) et peut être la source de bug. Plus d'info [ici](https://fr.wikipedia.org/wiki/Carriage_Return_Line_Feed)\n",
    "* \\t : tabulation"
   ]
  },
  {
   "cell_type": "code",
   "execution_count": 5,
   "metadata": {},
   "outputs": [
    {
     "name": "stdout",
     "output_type": "stream",
     "text": [
      "retour \n",
      " à la ligne\n"
     ]
    }
   ],
   "source": [
    "print(\"retour \\n à la ligne\")"
   ]
  },
  {
   "cell_type": "code",
   "execution_count": 6,
   "metadata": {},
   "outputs": [
    {
     "name": "stdout",
     "output_type": "stream",
     "text": [
      "une \t tabulation\n"
     ]
    }
   ],
   "source": [
    "print(\"une \\t tabulation\")"
   ]
  },
  {
   "cell_type": "markdown",
   "metadata": {},
   "source": [
    "## Echapper un caractère\n",
    "échapper un caractère (à l'aide d'un \" \\ \"), c'est lui ôter une signification particulière..."
   ]
  },
  {
   "cell_type": "code",
   "execution_count": 7,
   "metadata": {},
   "outputs": [
    {
     "ename": "SyntaxError",
     "evalue": "invalid syntax (<ipython-input-7-d39ec67297a3>, line 2)",
     "output_type": "error",
     "traceback": [
      "\u001b[0;36m  File \u001b[0;32m\"<ipython-input-7-d39ec67297a3>\"\u001b[0;36m, line \u001b[0;32m2\u001b[0m\n\u001b[0;31m    'J'aime l'informatique'\u001b[0m\n\u001b[0m          ^\u001b[0m\n\u001b[0;31mSyntaxError\u001b[0m\u001b[0;31m:\u001b[0m invalid syntax\n"
     ]
    }
   ],
   "source": [
    "# Le problème se comprend vite grâce à la coloration syntaxique...\n",
    "'J'aime l'informatique'"
   ]
  },
  {
   "cell_type": "code",
   "execution_count": 8,
   "metadata": {},
   "outputs": [
    {
     "data": {
      "text/plain": [
       "\"J'aime l'informatique\""
      ]
     },
     "execution_count": 8,
     "metadata": {},
     "output_type": "execute_result"
    }
   ],
   "source": [
    "'J\\'aime l\\'informatique'"
   ]
  },
  {
   "cell_type": "code",
   "execution_count": 9,
   "metadata": {},
   "outputs": [
    {
     "name": "stdout",
     "output_type": "stream",
     "text": [
      "C:\temp\n"
     ]
    }
   ],
   "source": [
    "# Tentative d'affichage d'un chemin informatique (sous windows) : il y a un bug !\n",
    "print(\"C:\\temp\")"
   ]
  },
  {
   "cell_type": "code",
   "execution_count": 10,
   "metadata": {},
   "outputs": [
    {
     "name": "stdout",
     "output_type": "stream",
     "text": [
      "C:\\temp\n"
     ]
    }
   ],
   "source": [
    "# Bug corrigé !\n",
    "print(\"C:\\\\temp\")"
   ]
  },
  {
   "cell_type": "markdown",
   "metadata": {},
   "source": [
    "### Formatage des chaînes de caractères\n",
    "A priori hors programme mais très utile et utilisé...\n",
    "Les exemples ci-dessous ne sont qu'un aperçu, consulter la documentation Python pour plus d'informations"
   ]
  },
  {
   "cell_type": "code",
   "execution_count": 10,
   "metadata": {},
   "outputs": [],
   "source": [
    "#Déclaration de 3 variables\n",
    "nom = \"Alice\"\n",
    "age = 30\n",
    "adresse = \"Paris\""
   ]
  },
  {
   "cell_type": "code",
   "execution_count": 11,
   "metadata": {},
   "outputs": [
    {
     "name": "stdout",
     "output_type": "stream",
     "text": [
      "Alice a 30 ans et habite Paris\n"
     ]
    }
   ],
   "source": [
    "# Méthode .format()\n",
    "chaine = \"{} a {} ans et habite {}\".format(nom,age,adresse)\n",
    "print(chaine)"
   ]
  },
  {
   "cell_type": "code",
   "execution_count": 12,
   "metadata": {},
   "outputs": [
    {
     "name": "stdout",
     "output_type": "stream",
     "text": [
      "Alice a 30 ans et habite Paris\n"
     ]
    }
   ],
   "source": [
    "# Utilisation de f-strings\n",
    "chaine = f\"{nom} a {age} ans et habite {adresse}\"\n",
    "print(chaine)"
   ]
  }
 ],
 "metadata": {
  "kernelspec": {
   "display_name": "Python 3",
   "language": "python",
   "name": "python3"
  },
  "language_info": {
   "codemirror_mode": {
    "name": "ipython",
    "version": 3
   },
   "file_extension": ".py",
   "mimetype": "text/x-python",
   "name": "python",
   "nbconvert_exporter": "python",
   "pygments_lexer": "ipython3",
   "version": "3.10.12"
  }
 },
 "nbformat": 4,
 "nbformat_minor": 2
}
