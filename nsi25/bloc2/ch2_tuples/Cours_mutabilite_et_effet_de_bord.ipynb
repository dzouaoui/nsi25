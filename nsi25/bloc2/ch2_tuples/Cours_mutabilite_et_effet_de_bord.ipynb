{
 "cells": [
  {
   "cell_type": "markdown",
   "metadata": {},
   "source": [
    "# Illustration des effets de bords"
   ]
  },
  {
   "cell_type": "code",
   "execution_count": 1,
   "metadata": {},
   "outputs": [
    {
     "name": "stdout",
     "output_type": "stream",
     "text": [
      "[1, 2, 3]\n",
      "[1, 2, 3]\n"
     ]
    }
   ],
   "source": [
    "liste1 = [1,2,3]\n",
    "liste2 = liste1\n",
    "\n",
    "print(liste1)\n",
    "print(liste2)"
   ]
  },
  {
   "cell_type": "code",
   "execution_count": 2,
   "metadata": {},
   "outputs": [
    {
     "name": "stdout",
     "output_type": "stream",
     "text": [
      "[10, 2, 3]\n"
     ]
    }
   ],
   "source": [
    "liste1[0] = 10\n",
    "print(liste1)"
   ]
  },
  {
   "cell_type": "code",
   "execution_count": 3,
   "metadata": {},
   "outputs": [
    {
     "name": "stdout",
     "output_type": "stream",
     "text": [
      "[10, 2, 3]\n"
     ]
    }
   ],
   "source": [
    "print(liste2)"
   ]
  },
  {
   "cell_type": "markdown",
   "metadata": {},
   "source": [
    "`liste2` a été modifiée alors qu'on ne l'a pas demandé !!! On dit que `liste2` a été modifiée par **effet de bord**.\n",
    "\n",
    "### Que s'est-il passé ?\n",
    "\n",
    "Pour le comprendre, il faut savoir 3 choses :\n",
    "1. Contrairement à l'analogie \"simpliste\" donnée en début d'année, les **noms de variables ne sont pas des \"étiquettes\" collées sur des \"boîtes\" cases mémoire**. En fait, les **noms de variables sont des références qui POINTENT vers l'endroit de la mémoire où est stocké l'objet.** <br> <br>\n",
    "2. La mémoire (RAM) de l'ordinateur est une ressource limitée : Quand plusieurs variables \"contiennent\" le même objet, python ne duplique pas les objets en mémoire. Au lieu de cela ,python crée juste plusieurs variables qui pointent vers le même objet stocké en mémoire. Ceci est rendu visible dans pythonTutor à l'aide de flèches entre les noms de variables et les objets qu'elles référencent<br><br>\n",
    "3. Les listes ne contiennent pas les objets mais uniquement les références vers les objets qu'elles \"contiennent\". Ceci encore pour économiser la mémoire de l'ordinateur.<br><br>\n",
    "\n",
    "\n",
    "Plus d'informations (hors programme) :\n",
    "* mécanisme de [référence_partagée](https://fr.wikipedia.org/wiki/Partage_(programmation_informatique)) \n",
    "* notion de [pointeurs](https://fr.wikipedia.org/wiki/Pointeur_(programmation))"
   ]
  },
  {
   "cell_type": "code",
   "execution_count": 4,
   "metadata": {},
   "outputs": [],
   "source": [
    "#!pip install nbtutor\n",
    "#!jupyter nbextension install --overwrite --py nbtutor\n",
    "#!jupyter nbextension enable nbtutor --py\n",
    "%load_ext nbtutor"
   ]
  },
  {
   "cell_type": "code",
   "execution_count": 15,
   "metadata": {},
   "outputs": [
    {
     "name": "nbtutor",
     "output_type": "stream",
     "text": []
    }
   ],
   "source": [
    "%%nbtutor -r -f\n",
    "\n",
    "x = 3\n",
    "y = 4\n",
    "z = 4"
   ]
  },
  {
   "cell_type": "markdown",
   "metadata": {},
   "source": [
    "On constate bien que l'objet `4` stocké en mémoire est référencé à la fois par `y` et `z`. L'objet `4` n'existe donc qu'une seule fois en mémoire.\n",
    "\n",
    "Ce mécanisme est particulièrement intéressant sur les listes qui en pratique occupe beaucoup plus de place en mémoire. (il n'est pas rare d'avoir des listes de plusieurs milliers d'éléments)\n",
    "\n",
    "\n",
    "Reprenons l'exemple du début à l'aide de pythonTutor pour bien comprendre pourquoi liste2 a été modifié alors qu'on ne l'avait pas explicitement demandé"
   ]
  },
  {
   "cell_type": "code",
   "execution_count": 16,
   "metadata": {},
   "outputs": [
    {
     "name": "nbtutor",
     "output_type": "stream",
     "text": []
    }
   ],
   "source": [
    "%%nbtutor -r -f\n",
    "\n",
    "liste1 = [1,2,3]\n",
    "liste2 = liste1\n",
    "liste1[0] = 10"
   ]
  },
  {
   "cell_type": "markdown",
   "metadata": {},
   "source": [
    "# Le danger des types mutables\n",
    "\n",
    "**Tous les objets mutables sont susceptibles d'être affectés par les effets de bord, Les objets immuables non**. (Pour l'instant les listes sont les seuls objets mutables que vous connaissez)\n",
    "\n",
    "* Pas de danger particulier quand on utilise des types immuables : Le programme peut \"planter\" mais au moins on sait qu'il ne marche pas.\n",
    "\n",
    "\n",
    "* Il faut être très vigilant dès qu'on manipule des types mutables, car si on ne fait pas attention, des effets de bords peuvent se produire sans qu'on ne s'en rende compte. C'est un peu comme si Python faisait des choses \"dans notre dos\". Le programme ne \"plante\" pas mais aura un comportement très étrange... cette situation est beaucoup plus délicate à gérér qu'un programme qui \"plante franchement\"\n",
    "\n",
    "\n",
    "La méthode `copy` permettent de faire de \"vraies\" copies de liste et de se protéger contre l'effet de bord :"
   ]
  },
  {
   "cell_type": "code",
   "execution_count": 18,
   "metadata": {},
   "outputs": [
    {
     "name": "nbtutor",
     "output_type": "stream",
     "text": []
    }
   ],
   "source": [
    "%%nbtutor -r -f\n",
    "\n",
    "liste1 = [1,2,3]\n",
    "liste2 = liste1.copy()\n",
    "liste1[0] = 10"
   ]
  },
  {
   "cell_type": "markdown",
   "metadata": {},
   "source": [
    "# Fonctions utilisant les effets de bord\n",
    "\n",
    "Certaines méthodes utilisent les effets de bord comme la méthode `sort` (La méthode `sort` permet de trier les éléments d'une liste). Normalement tout effet de bord d'une fonction doit être écrit explicitement dans la documentation "
   ]
  },
  {
   "cell_type": "code",
   "execution_count": 19,
   "metadata": {},
   "outputs": [
    {
     "name": "stdout",
     "output_type": "stream",
     "text": [
      "None\n"
     ]
    }
   ],
   "source": [
    "liste = [7,3,8,2,4]\n",
    "\n",
    "liste_triee = liste.sort()\n",
    "\n",
    "print(liste_triee)\n",
    "\n",
    "# Erreur courante : sort modifie la liste par effet de bord mais ne renvoie pas une nouvelle liste !!"
   ]
  },
  {
   "cell_type": "code",
   "execution_count": 20,
   "metadata": {},
   "outputs": [
    {
     "name": "stdout",
     "output_type": "stream",
     "text": [
      "[2, 3, 4, 7, 8]\n"
     ]
    }
   ],
   "source": [
    "liste = [7,3,8,2,4]\n",
    "\n",
    "liste.sort()\n",
    "\n",
    "print(liste)\n",
    "\n",
    "# On voit bien que liste a été modifiée !!"
   ]
  },
  {
   "cell_type": "markdown",
   "metadata": {},
   "source": [
    "Remarquez comme dans la documentation de `sort`, on insiste sur le fait que le trie se fait **IN PLACE** (en place) : une façon de dire que la liste est modifée par effet de bord..."
   ]
  },
  {
   "cell_type": "code",
   "execution_count": 21,
   "metadata": {},
   "outputs": [
    {
     "name": "stdout",
     "output_type": "stream",
     "text": [
      "Help on method_descriptor:\n",
      "\n",
      "sort(self, /, *, key=None, reverse=False)\n",
      "    Sort the list in ascending order and return None.\n",
      "    \n",
      "    The sort is in-place (i.e. the list itself is modified) and stable (i.e. the\n",
      "    order of two equal elements is maintained).\n",
      "    \n",
      "    If a key function is given, apply it once to each list item and sort them,\n",
      "    ascending or descending, according to their function values.\n",
      "    \n",
      "    The reverse flag can be set to sort in descending order.\n",
      "\n"
     ]
    }
   ],
   "source": [
    "help(list.sort)"
   ]
  },
  {
   "cell_type": "markdown",
   "metadata": {},
   "source": [
    "La fonction `sorted` **renvoie** une nouvelle liste."
   ]
  },
  {
   "cell_type": "code",
   "execution_count": 22,
   "metadata": {},
   "outputs": [
    {
     "name": "stdout",
     "output_type": "stream",
     "text": [
      "[7, 3, 8, 2, 4]\n",
      "[2, 3, 4, 7, 8]\n"
     ]
    }
   ],
   "source": [
    "liste = [7,3,8,2,4]\n",
    "\n",
    "liste_triee = sorted(liste)\n",
    "\n",
    "print(liste)\n",
    "print(liste_triee)"
   ]
  },
  {
   "cell_type": "markdown",
   "metadata": {},
   "source": [
    "En résumé :\n",
    "* Avec la fonction `sorted` : \n",
    "    * Il n'y a donc pas d'effet de bord donc pas de danger \n",
    "    * mais on a 2 listes en mémoires plutôt qu'une seule (plus de ressource mémoire utilisée)\n",
    "   \n",
    "   \n",
    "* Avec la méthode `sort` : \n",
    "    * Il y a un effet de bord donc danger (si on ne fait pas attention)\n",
    "    * On a 1 seule liste en mémoire (optimisation de la ressource mémoire)\n",
    "    * La liste initiale (désordonnée) est définitivement perdue !\n",
    "    \n",
    "*(Conseil : En tant que débutant en programmation, éloignez-vous des effets de bord. On préférera donc `sorted` plutôt que `sort`)*"
   ]
  },
  {
   "cell_type": "markdown",
   "metadata": {},
   "source": [
    "### Remarque : Attention à l'opérateur  `*` sur les listes : il cache un effet de bord"
   ]
  },
  {
   "cell_type": "code",
   "execution_count": 23,
   "metadata": {},
   "outputs": [
    {
     "name": "stdout",
     "output_type": "stream",
     "text": [
      "[[0, 0, 0, 0, 0], [0, 0, 0, 0, 0], [0, 0, 0, 0, 0], [0, 0, 0, 0, 0], [0, 0, 0, 0, 0]]\n"
     ]
    }
   ],
   "source": [
    "#Création d'une matrice 5*5 de 0\n",
    "liste = [[0]*5]*5\n",
    "\n",
    "print(liste)\n"
   ]
  },
  {
   "cell_type": "code",
   "execution_count": 24,
   "metadata": {},
   "outputs": [
    {
     "name": "nbtutor",
     "output_type": "stream",
     "text": [
      "[[1, 0, 0, 0, 0], [1, 0, 0, 0, 0], [1, 0, 0, 0, 0], [1, 0, 0, 0, 0], [1, 0, 0, 0, 0]]\n"
     ]
    }
   ],
   "source": [
    "%%nbtutor -r -f\n",
    "\n",
    "#Création d'une matrice 5*5 de 0\n",
    "liste = [[0]*5]*5\n",
    "\n",
    "# Malheureusement toutes les listes \"internes\" sont des références partagées\n",
    "\n",
    "liste[0][0] = 1\n",
    "\n",
    "print(liste)"
   ]
  },
  {
   "cell_type": "code",
   "execution_count": null,
   "metadata": {},
   "outputs": [],
   "source": []
  }
 ],
 "metadata": {
  "celltoolbar": "Visualize",
  "kernelspec": {
   "display_name": "Python 3 (ipykernel)",
   "language": "python",
   "name": "python3"
  },
  "language_info": {
   "codemirror_mode": {
    "name": "ipython",
    "version": 3
   },
   "file_extension": ".py",
   "mimetype": "text/x-python",
   "name": "python",
   "nbconvert_exporter": "python",
   "pygments_lexer": "ipython3",
   "version": "3.8.10"
  },
  "latex_envs": {
   "LaTeX_envs_menu_present": true,
   "autoclose": false,
   "autocomplete": true,
   "bibliofile": "biblio.bib",
   "cite_by": "apalike",
   "current_citInitial": 1,
   "eqLabelWithNumbers": true,
   "eqNumInitial": 1,
   "hotkeys": {
    "equation": "Ctrl-E",
    "itemize": "Ctrl-I"
   },
   "labels_anchors": false,
   "latex_user_defs": false,
   "report_style_numbering": false,
   "user_envs_cfg": false
  }
 },
 "nbformat": 4,
 "nbformat_minor": 4
}
