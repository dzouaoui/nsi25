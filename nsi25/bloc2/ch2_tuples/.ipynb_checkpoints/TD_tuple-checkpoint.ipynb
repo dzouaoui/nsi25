{
 "cells": [
  {
   "cell_type": "markdown",
   "metadata": {},
   "source": [
    "# Exercice 1 : niveau facile\n",
    "\n",
    "`t = (3, 7, 2, 2, 10)`\n",
    "\n",
    "1. Sans l'aide de l'ordinateur, donner le résultat des expressions ci-dessous.   \n",
    "(Remarque : Certaines expressions renvoient une erreur)\n",
    "2. Vérifier vos réponses à l'aide de l'ordinateur"
   ]
  },
  {
   "cell_type": "code",
   "execution_count": null,
   "metadata": {},
   "outputs": [],
   "source": [
    "t[3]\n",
    "del(t[1])\n",
    "t(2)\n",
    "(1,) + t[4]\n",
    "3,4 + 5,5\n",
    "t[-3]\n",
    "t[1:3]"
   ]
  },
  {
   "cell_type": "markdown",
   "metadata": {},
   "source": [
    "# Exercice 2 : niveau facile\n",
    "\n",
    "Ecrire une fonction `quatreOperations` qui :\n",
    "* prend en **paramètre** 2 nombres\n",
    "* **renvoie** un tuple contenant les résultats des 4 opérations sur ces 2 nombres\n",
    "\n",
    "Un exemple d'appel de cette fonction est donné ci-dessous"
   ]
  },
  {
   "cell_type": "code",
   "execution_count": 5,
   "metadata": {},
   "outputs": [
    {
     "data": {
      "text/plain": [
       "(10, 6, 16, 4.0)"
      ]
     },
     "execution_count": 5,
     "metadata": {},
     "output_type": "execute_result"
    }
   ],
   "source": [
    "monTuple = quatreOperations(8,2)\n",
    "\n",
    "print(monTuple)\n",
    "\n",
    "# On remarque bien que monTuple contient 4 éléments la 8+2, 8-2, 8*2 et 8/2"
   ]
  },
  {
   "cell_type": "markdown",
   "metadata": {},
   "source": [
    "# Exercice 3 : niveau intermédiaire\n",
    "\n",
    "*(Dans cet exercice, on utilisera l'opérateur de concaténation `+`)*\n",
    "\n",
    "1. Ecrire une fonction `prefixe` qui \n",
    "    * prend en **paramètre** un tuple `t` et un élément `e`\n",
    "    * **renvoie** un tuple dans lequel l’élément `e` a été placé en début de tuple `t`\n",
    "\n",
    "Un exemple d'appel de cette fonction est donné ci-dessous"
   ]
  },
  {
   "cell_type": "code",
   "execution_count": 15,
   "metadata": {},
   "outputs": [
    {
     "name": "stdout",
     "output_type": "stream",
     "text": [
      "(4, 3, 1, 1, 5, 9)\n"
     ]
    }
   ],
   "source": [
    "nouveau_tuple = prefixe(4,(3,1,1,5,9))\n",
    "print(nouveau_tuple)"
   ]
  },
  {
   "cell_type": "code",
   "execution_count": 18,
   "metadata": {},
   "outputs": [
    {
     "name": "stdout",
     "output_type": "stream",
     "text": [
      "(3, 1, 1, 5, 9, 4)\n"
     ]
    }
   ],
   "source": [
    "nouveau_tuple = suffixe(4,(3,1,1,5,9))\n",
    "print(nouveau_tuple)"
   ]
  },
  {
   "cell_type": "markdown",
   "metadata": {},
   "source": [
    "2. Ecrire une fonction `suffixe` qui \n",
    "    * prend en **paramètre** un tuple `t` et un élément `e`\n",
    "    * **renvoie** un tuple dans lequel l’élément `e` a été placé en fin de tuple `t`\n",
    "\n",
    "Un exemple d'appel de cette fonction est donné ci-dessous"
   ]
  },
  {
   "cell_type": "markdown",
   "metadata": {},
   "source": [
    "3. Ecrire une fonction `insere` qui \n",
    "    * prend en **paramètre** un tuple `t` et un élément `e` et un indice `i` tel que $0\\le i \\lt len(t)$\n",
    "    * **renvoie** un tuple dans lequel l’élément `e` a été inséré à l’indice `i` dans le tuple `t`\n",
    "\n",
    "\n",
    "Ecrire une fonction `insere` qui **renvoie**  avec `e`, `i` et `t` passés en **paramètre**.\n",
    "\n",
    "Un exemple d'appel de cette fonction est donné ci-dessous"
   ]
  },
  {
   "cell_type": "code",
   "execution_count": 20,
   "metadata": {},
   "outputs": [
    {
     "name": "stdout",
     "output_type": "stream",
     "text": [
      "(3, 1, 4, 1, 5, 9)\n"
     ]
    }
   ],
   "source": [
    "# Insertion de l'entier 4 à l'indice 2\n",
    "nouveau_tuple = insere(4,2,(3,1,1,5,9))\n",
    "print(nouveau_tuple)"
   ]
  },
  {
   "cell_type": "markdown",
   "metadata": {},
   "source": [
    "# Exercice 4 : niveau intermédiaire\n",
    "\n",
    "\n",
    "*(Dans cet exercice, on utilisera l'opérateur de concaténation `+`)*\n",
    "\n",
    "Ecrire une fonction `supprime` qui  :\n",
    "* prend en **paramètre** un tuple `t` et un indice `i` tel que $0\\le i \\lt len(t)$\n",
    "* **renvoie** un tuple contenant tous les éléments de ce tuple `t` sauf celui d’un indice `i` \n",
    "\n",
    "Un exemple d'appel de cette fonction est donné ci-dessous"
   ]
  },
  {
   "cell_type": "code",
   "execution_count": 22,
   "metadata": {},
   "outputs": [
    {
     "name": "stdout",
     "output_type": "stream",
     "text": [
      "(3, 1, 1, 9)\n"
     ]
    }
   ],
   "source": [
    "# Suppression de l'élément d'indice 3\n",
    "nouveau_tuple = supprime(3,(3,1,1,5,9))\n",
    "print(nouveau_tuple)"
   ]
  },
  {
   "cell_type": "markdown",
   "metadata": {},
   "source": [
    "# Exercice 5 : niveau intermédiaire"
   ]
  },
  {
   "cell_type": "code",
   "execution_count": null,
   "metadata": {},
   "outputs": [],
   "source": [
    "def ajoute(t1,t2):\n",
    "    t = ()\n",
    "    for i in range(len(t1)):\n",
    "        # A compléter\n",
    "        \n",
    "        \n",
    "    return t"
   ]
  },
  {
   "cell_type": "markdown",
   "metadata": {},
   "source": [
    "Compléter la fonction `ajoute` qui :\n",
    "* prend en **paramètre** 2 tuples `t1` et `t2` de même longueur et contenant des entiers\n",
    "* **renvoie** un tuple dont chaque élément est la somme des éléments de `t1` et `t2`\n",
    "\n",
    "Un exemple d'appel de cette fonction est donné ci-dessous"
   ]
  },
  {
   "cell_type": "code",
   "execution_count": 3,
   "metadata": {},
   "outputs": [
    {
     "name": "stdout",
     "output_type": "stream",
     "text": [
      "(9, 1, 7)\n"
     ]
    }
   ],
   "source": [
    "nouveau_tuple = ajoute( (3,1,5), (6,0,2) )\n",
    "print(nouveau_tuple)"
   ]
  },
  {
   "cell_type": "markdown",
   "metadata": {},
   "source": [
    "# Exercice 6 : niveau difficile\n",
    "\n",
    "\n",
    "Ecrire une fonction `zipper` qui :\n",
    "* prend en **paramètre** 2 listes `liste1` et `liste2` de même longueur\n",
    "* **renvoie** une liste contenant des tuples. Chaque tuple contenant un élément de `liste1` avec l'élément de `liste2` de même indice\n",
    "\n",
    "Un exemple d'appel de cette fonction est donné ci-dessous"
   ]
  },
  {
   "cell_type": "code",
   "execution_count": 14,
   "metadata": {},
   "outputs": [
    {
     "data": {
      "text/plain": [
       "[(1, 'a'), (2, 'b'), (3, 'c'), (4, 'd')]"
      ]
     },
     "execution_count": 14,
     "metadata": {},
     "output_type": "execute_result"
    }
   ],
   "source": [
    "a = [1,2,3,4]\n",
    "b =[\"a\",\"b\",\"c\",\"d\"]\n",
    "\n",
    "zipper(a,b)"
   ]
  }
 ],
 "metadata": {
  "kernelspec": {
   "display_name": "Python 3 (ipykernel)",
   "language": "python",
   "name": "python3"
  },
  "language_info": {
   "codemirror_mode": {
    "name": "ipython",
    "version": 3
   },
   "file_extension": ".py",
   "mimetype": "text/x-python",
   "name": "python",
   "nbconvert_exporter": "python",
   "pygments_lexer": "ipython3",
   "version": "3.8.10"
  }
 },
 "nbformat": 4,
 "nbformat_minor": 4
}
