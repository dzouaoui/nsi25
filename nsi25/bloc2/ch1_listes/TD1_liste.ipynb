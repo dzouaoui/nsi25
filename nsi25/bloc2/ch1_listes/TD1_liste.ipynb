{
 "cells": [
  {
   "cell_type": "markdown",
   "metadata": {},
   "source": [
    "# Exercice 1 : niveau facile"
   ]
  },
  {
   "cell_type": "code",
   "execution_count": null,
   "metadata": {},
   "outputs": [],
   "source": [
    "liste = [4,7,3,4,6,9,13,2]"
   ]
  },
  {
   "cell_type": "markdown",
   "metadata": {},
   "source": [
    "* Répondre aux questions suivantes sans utiliser l'ordinateur :\n",
    "\n",
    "1. Quelle instruction python permet d'accéder à l'entier `9` ?\n",
    "2. Quelle est la longueur de la liste ? Ecrire l'instruction python correspondante\n",
    "3. Que renvoie l'instruction `liste[4]` ?\n",
    "4. Que renvoie l'instruction `liste[-4]` ?\n",
    "5. Que renvoie l'instruction `liste[-9]` ?\n",
    "6. Que renvoie l'instruction `liste[1:7]` ?\n",
    "7. Que vaut la liste après l'instruction `liste[3]=5` ?\n",
    "8. Que vaut la liste après l'instruction `del(liste[5])` ?\n",
    "\n",
    "* Vérifier vos réponses à l'aide de l'ordinateur"
   ]
  },
  {
   "cell_type": "markdown",
   "metadata": {},
   "source": [
    "# Exercice 2 : niveau facile\n",
    "\n",
    "`liste = ['Alice', 'Bob', 'Tom']`\n",
    "\n",
    "1. Ecrire l'instruction python permettant d'obtenir la documentation de la **méthode** de liste `insert`"
   ]
  },
  {
   "cell_type": "markdown",
   "metadata": {},
   "source": [
    "2. Utiliser la méthode `insert` afin que `liste = ['Alice', 'Bob', 'Marc', 'Tom']`"
   ]
  },
  {
   "cell_type": "markdown",
   "metadata": {},
   "source": [
    "# Exercice 3 : niveau facile\n",
    "\n",
    "On donne le code ci-dessous :"
   ]
  },
  {
   "cell_type": "code",
   "execution_count": 4,
   "metadata": {},
   "outputs": [],
   "source": [
    "t = []\n",
    "for i in range(10):\n",
    "    t.append(i**2)"
   ]
  },
  {
   "cell_type": "markdown",
   "metadata": {},
   "source": [
    "1. Exécuter le code ci-dessous à la main (sans ordinateur !!) afin de donner la valeur de `t` après l'exécution de ce code.\n",
    "2. Vérifier à l'aide de l'ordinateur\n",
    "\n",
    "3. Modifier le programme précédent afin que t soit égal à `[0,4,16,36,64]`"
   ]
  },
  {
   "cell_type": "markdown",
   "metadata": {},
   "source": [
    "# Exercice 4 : niveau facile\n",
    "\n",
    "On donne le code ci-dessous :"
   ]
  },
  {
   "cell_type": "code",
   "execution_count": null,
   "metadata": {},
   "outputs": [],
   "source": [
    "t = [0]*10\n",
    "\n",
    "for i in range(len(t)):\n",
    "    t[i] = 10 - i"
   ]
  },
  {
   "cell_type": "markdown",
   "metadata": {},
   "source": [
    "1. Exécuter le code ci-dessous à la main (sans ordinateur !!) afin de donner la valeur de `t` après l'exécution de ce code.\n",
    "2. Vérifier à l'aide de l'ordinateur"
   ]
  },
  {
   "cell_type": "markdown",
   "metadata": {},
   "source": [
    "# Exercice 5 : niveau facile"
   ]
  },
  {
   "cell_type": "code",
   "execution_count": null,
   "metadata": {},
   "outputs": [],
   "source": [
    "def longueurNomV1(liste_nom) : \n",
    "    liste_longueur = []\n",
    "    for nom in liste_nom:\n",
    "        # A compléter"
   ]
  },
  {
   "cell_type": "markdown",
   "metadata": {},
   "source": [
    "1. Compléter la **fonction** `longueurNomV1` qui : \n",
    "    * prend une liste de noms en **paramètre**\n",
    "    * **renvoie** la liste contenant le nombre de caractères de chacun des noms\n",
    "\n",
    "Un exemple d'appel est donné ci-dessous"
   ]
  },
  {
   "cell_type": "code",
   "execution_count": 10,
   "metadata": {},
   "outputs": [],
   "source": [
    "liste_nom = ['Jean-Michel', 'Marc', 'Vanessa', 'Anne', 'Maximilien', 'Alexandre-Benoît', 'Louise']"
   ]
  },
  {
   "cell_type": "code",
   "execution_count": 14,
   "metadata": {},
   "outputs": [
    {
     "name": "stdout",
     "output_type": "stream",
     "text": [
      "[11, 4, 7, 4, 10, 16, 6]\n"
     ]
    }
   ],
   "source": [
    "t = longueurNomV1(liste_nom)\n",
    "\n",
    "print(t)"
   ]
  },
  {
   "cell_type": "markdown",
   "metadata": {},
   "source": [
    "2. Compléter la **fonction** `longueurNomV2` qui : \n",
    "    * prend une liste de noms en **paramètre**\n",
    "    * **renvoie** la liste contenant le nombre de caractères de chacun des noms"
   ]
  },
  {
   "cell_type": "code",
   "execution_count": null,
   "metadata": {},
   "outputs": [],
   "source": [
    "def longueurNomv2(liste_nom) : \n",
    "    liste_longueur = [0]*len(liste_nom)\n",
    "    for i in range(len(liste_nom)):\n",
    "        # A compléter"
   ]
  },
  {
   "cell_type": "markdown",
   "metadata": {},
   "source": [
    "Un exemple d'appel est donné ci-dessous"
   ]
  },
  {
   "cell_type": "code",
   "execution_count": 10,
   "metadata": {},
   "outputs": [],
   "source": [
    "liste_nom = ['Jean-Michel', 'Marc', 'Vanessa', 'Anne', 'Maximilien', 'Alexandre-Benoît', 'Louise']"
   ]
  },
  {
   "cell_type": "code",
   "execution_count": 22,
   "metadata": {},
   "outputs": [
    {
     "name": "stdout",
     "output_type": "stream",
     "text": [
      "[11, 4, 7, 4, 10, 16, 6]\n"
     ]
    }
   ],
   "source": [
    "t = longueurNomV2(liste_nom)\n",
    "\n",
    "print(t)"
   ]
  },
  {
   "cell_type": "markdown",
   "metadata": {},
   "source": [
    "# Exercice 6 : niveau intermédiaire\n",
    "\n",
    "Écrire une **fonction** `affiche_liste` qui :\n",
    "* prend une liste en **paramètre**\n",
    "* **affiche** « proprement » tous les éléments d’une liste. (voir appel ci-dessous)\n",
    "\n",
    "*(Conseil : Après avoir consulté la documentation de la fonction `print`, on pourra utiliser son paramètre `end`)*\n",
    "\n",
    "Un exemple d'appel est donné ci-dessous"
   ]
  },
  {
   "cell_type": "code",
   "execution_count": 8,
   "metadata": {},
   "outputs": [],
   "source": [
    "t=['Janvier', 'Février', 'Mars', 'Avril', 'Mai', 'Juin', 'Juillet', 'Août', 'Septembre', 'Octobre', 'Novembre', 'Décembre']"
   ]
  },
  {
   "cell_type": "code",
   "execution_count": 9,
   "metadata": {},
   "outputs": [
    {
     "name": "stdout",
     "output_type": "stream",
     "text": [
      "Janvier Février Mars Avril Mai Juin Juillet Août Septembre Octobre Novembre Décembre "
     ]
    }
   ],
   "source": [
    "afficheListe(t)"
   ]
  },
  {
   "cell_type": "markdown",
   "metadata": {},
   "source": [
    "# Exercice 7 : niveau intermédiaire\n",
    "\n",
    "Écrire une **fonction** `enleveDoublon` qui : \n",
    "   * prend une liste d'entiers en **paramètre**\n",
    "   * **renvoie** une liste contenant la liste de ces entiers mais en omettant les doublons.\n",
    "    \n",
    "Un exemple d'appel est donné ci-dessous"
   ]
  },
  {
   "cell_type": "code",
   "execution_count": 23,
   "metadata": {},
   "outputs": [],
   "source": [
    "liste_entier = [23, 45, 23, 43, 7, 66, 21, 45, 23, 7, 200, 200]"
   ]
  },
  {
   "cell_type": "code",
   "execution_count": 31,
   "metadata": {},
   "outputs": [
    {
     "name": "stdout",
     "output_type": "stream",
     "text": [
      "[23, 45, 43, 7, 66, 21, 200]\n"
     ]
    }
   ],
   "source": [
    "liste = enleveDoublon(liste_entier)\n",
    "print(liste)"
   ]
  },
  {
   "cell_type": "markdown",
   "metadata": {},
   "source": [
    "# Exercice 8 : niveau intermediaire\n",
    "\n",
    "Écrire une **fonction** `alterne` qui  : \n",
    "* prend en **paramètres**  2 listes de **même longueur**\n",
    "* **renvoie** une nouvelle liste qui devra contenir tous les éléments des deux listes passées en paramètres en les alternant\n",
    "\n",
    "Un exemple d'appel est donné ci-dessous :"
   ]
  },
  {
   "cell_type": "code",
   "execution_count": 32,
   "metadata": {},
   "outputs": [],
   "source": [
    "t1 = ['Janvier', 'Février', 'Mars', 'Avril', 'Mai', 'Juin', 'Juillet', 'Août', 'Septembre', 'Octobre', 'Novembre', 'Décembre']\n",
    "t2 = [31, 28, 31, 30, 31, 30, 31, 31, 30, 31, 30, 31]"
   ]
  },
  {
   "cell_type": "code",
   "execution_count": 37,
   "metadata": {},
   "outputs": [
    {
     "name": "stdout",
     "output_type": "stream",
     "text": [
      "['Janvier', 31, 'Février', 28, 'Mars', 31, 'Avril', 30, 'Mai', 31, 'Juin', 30, 'Juillet', 31, 'Août', 31, 'Septembre', 30, 'Octobre', 31, 'Novembre', 30, 'Décembre', 31]\n"
     ]
    }
   ],
   "source": [
    "liste = alterne(t1,t2)\n",
    "\n",
    "print(liste)"
   ]
  },
  {
   "cell_type": "markdown",
   "metadata": {},
   "source": [
    "# Exercice 9 : niveau intermédiaire"
   ]
  },
  {
   "cell_type": "code",
   "execution_count": 38,
   "metadata": {},
   "outputs": [],
   "source": [
    "a = [8468, 4560, 3941, 3328, 7, 9910, 9208, 8400, 6502, 1076, 5921, 6720, 948, 9561, 7391, 7745, 9007, 9707, 4370, 9636, \n",
    "     5265, 2638, 8919, 7814, 5142, 1060, 6971, 4065, 4629, 4490, 2480, 9180, 5623, 6600, 1764, 9846, 7605, 8271, 4681, \n",
    "     2818, 832, 5280, 3170, 8965, 4332, 3198, 9454, 2025, 2373, 4067]\n",
    "\n",
    "b = [9093, 2559, 9664, 8075, 4525, 5847, 67, 8932, 5049, 5241, 5886, 1393, 9413, 8872, 2560, 4636, 9004, 7586, 1461, 350, \n",
    "     2627, 2187, 7778, 8933, 351, 7097, 356, 4110, 1393, 4864, 1088, 3904, 5623, 8040, 7273, 1114, 4394, 4108, 7123, 8001, \n",
    "     5715, 7215, 7460, 5829, 9513, 1256, 4052, 1585, 1608, 3941]"
   ]
  },
  {
   "cell_type": "markdown",
   "metadata": {},
   "source": [
    "> Il y a un nombre qui est exactement à la même place dans la liste `a` et dans la liste `b`\n",
    "\n",
    "Ecrire le programme qui permet de trouver ce nombre et son indice"
   ]
  },
  {
   "cell_type": "markdown",
   "metadata": {},
   "source": [
    "# Exercice 10 : niveau intermédiaire"
   ]
  },
  {
   "cell_type": "code",
   "execution_count": null,
   "metadata": {},
   "outputs": [],
   "source": [
    "def permute(liste,i,j):\n",
    "    \"\"\"\n",
    "    description: échange dans la liste les éléments d'indice i et j\n",
    "    liste (list)\n",
    "    i, j (int): indices des éléments à permuter \n",
    "    ATTENTION : MODIFICATION DE LA LISTE EN PLACE !!\n",
    "    \"\"\"\n",
    "    #A compléter"
   ]
  },
  {
   "cell_type": "markdown",
   "metadata": {},
   "source": [
    "1. Ecrire le code de la fonction `permute`\n",
    "    \n",
    "Un exemple d'appel est donné ci-dessous :"
   ]
  },
  {
   "cell_type": "code",
   "execution_count": 45,
   "metadata": {},
   "outputs": [],
   "source": [
    "liste = [\"Bob\", \"Alice\", \"Marc\", \"Tom\", \"John\"]"
   ]
  },
  {
   "cell_type": "code",
   "execution_count": 46,
   "metadata": {},
   "outputs": [
    {
     "name": "stdout",
     "output_type": "stream",
     "text": [
      "['Tom', 'Alice', 'Marc', 'Tom', 'John']\n"
     ]
    }
   ],
   "source": [
    "permute(liste,0,3)\n",
    "\n",
    "print(liste)"
   ]
  },
  {
   "cell_type": "code",
   "execution_count": null,
   "metadata": {},
   "outputs": [],
   "source": [
    "def reverse(liste):\n",
    "    \"\"\"\n",
    "    description: inverse l'ordre des éléménts de la liste\n",
    "    liste (list)\n",
    "    ATTENTION : MODIFICATION DE LA LISTE EN PLACE !!\n",
    "    \"\"\"\n",
    "    #A compléter"
   ]
  },
  {
   "cell_type": "markdown",
   "metadata": {},
   "source": [
    "2. Ecrire le code de la fonction `reverse` ci-dessus. On pourra utiliser la fonction `permute`\n",
    "\n",
    "Un exemple d'appel est donné ci-dessous :"
   ]
  },
  {
   "cell_type": "code",
   "execution_count": 52,
   "metadata": {},
   "outputs": [
    {
     "name": "stdout",
     "output_type": "stream",
     "text": [
      "['John', 'Tom', 'Marc', 'Tom', 'John']\n"
     ]
    }
   ],
   "source": [
    "liste = [\"Bob\", \"Alice\", \"Marc\", \"Tom\", \"John\"]\n",
    "\n",
    "reverse(liste)\n",
    "\n",
    "print(liste)"
   ]
  }
 ],
 "metadata": {
  "kernelspec": {
   "display_name": "Python 3",
   "language": "python",
   "name": "python3"
  },
  "language_info": {
   "codemirror_mode": {
    "name": "ipython",
    "version": 3
   },
   "file_extension": ".py",
   "mimetype": "text/x-python",
   "name": "python",
   "nbconvert_exporter": "python",
   "pygments_lexer": "ipython3",
   "version": "3.10.12"
  },
  "latex_envs": {
   "LaTeX_envs_menu_present": true,
   "autoclose": false,
   "autocomplete": true,
   "bibliofile": "biblio.bib",
   "cite_by": "apalike",
   "current_citInitial": 1,
   "eqLabelWithNumbers": true,
   "eqNumInitial": 1,
   "hotkeys": {
    "equation": "Ctrl-E",
    "itemize": "Ctrl-I"
   },
   "labels_anchors": false,
   "latex_user_defs": false,
   "report_style_numbering": false,
   "user_envs_cfg": false
  }
 },
 "nbformat": 4,
 "nbformat_minor": 4
}
