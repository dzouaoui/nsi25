{
 "cells": [
  {
   "cell_type": "markdown",
   "metadata": {},
   "source": [
    "# Type de base et type construit"
   ]
  },
  {
   "cell_type": "markdown",
   "metadata": {},
   "source": [
    "En python, on connaît les types de base : `int`, `float`, `bool`, `str`\n",
    "\n",
    "**Rappel :** le type `str` (*chaîne de caractères*) est un type déjà *plus complexe* puisqu'il s'agit d'une **séquence ORDONNÉE de caractères**."
   ]
  },
  {
   "cell_type": "code",
   "execution_count": 1,
   "metadata": {},
   "outputs": [
    {
     "data": {
      "text/plain": [
       "False"
      ]
     },
     "execution_count": 1,
     "metadata": {},
     "output_type": "execute_result"
    }
   ],
   "source": [
    "# L'ordre des caractères est important\n",
    "\"trie\" == \"tire\""
   ]
  },
  {
   "cell_type": "code",
   "execution_count": 2,
   "metadata": {},
   "outputs": [
    {
     "data": {
      "text/plain": [
       "'h'"
      ]
     },
     "execution_count": 2,
     "metadata": {},
     "output_type": "execute_result"
    }
   ],
   "source": [
    "# On accède à un caractère grâce à son INDICE, en utilisant la notation crochets []\n",
    "chaine = \"Python\"\n",
    "chaine[3]"
   ]
  },
  {
   "cell_type": "markdown",
   "metadata": {},
   "source": [
    "A partir de ces types de base, on construit des structures de données plus complexes : les listes `list`, les tuples `tuple`, les dictionnaires `dict` (pour ne parler que des types construits *natifs*)"
   ]
  },
  {
   "cell_type": "markdown",
   "metadata": {},
   "source": [
    "# Les listes\n",
    "\n",
    "## Définition\n",
    "Une liste est une **séquence ORDONNÉE** d'objet divers :\n",
    "* une liste est une collection d’éléments séparés par des virgules, l’ensemble étant enfermé dans des crochets\n",
    "* les objets d'une liste sont repérés par leur **INDICE** (notation crochets  `[ ]`)\n",
    "* les objets d'une liste peuvent être de type différent même si en pratique on utilise le plus souvent des listes d'objets de type identique\n",
    "\n",
    "Vous pouvez consulter [documentation officielle de python](https://docs.python.org/fr/3/tutorial/introduction.html#lists) sur les listes"
   ]
  },
  {
   "cell_type": "code",
   "execution_count": 3,
   "metadata": {},
   "outputs": [
    {
     "name": "stdout",
     "output_type": "stream",
     "text": [
      "['lundi', 45, True, 6.7, 'python', 22]\n"
     ]
    }
   ],
   "source": [
    "# Définition dune liste (notation crochets) de 6 objets de type différents\n",
    "ma_liste = [\"lundi\", 45, True, 6.7, \"python\", 22]\n",
    "print(ma_liste)"
   ]
  },
  {
   "cell_type": "code",
   "execution_count": 4,
   "metadata": {},
   "outputs": [
    {
     "data": {
      "text/plain": [
       "list"
      ]
     },
     "execution_count": 4,
     "metadata": {},
     "output_type": "execute_result"
    }
   ],
   "source": [
    "# une liste est de type `list`\n",
    "type(ma_liste)"
   ]
  },
  {
   "cell_type": "markdown",
   "metadata": {},
   "source": [
    "**Attention**, l'ordre des éléments d'une liste est important. Ainsi les 2 listes ci-dessous ne sont pas les mêmes !"
   ]
  },
  {
   "cell_type": "code",
   "execution_count": 5,
   "metadata": {},
   "outputs": [
    {
     "data": {
      "text/plain": [
       "False"
      ]
     },
     "execution_count": 5,
     "metadata": {},
     "output_type": "execute_result"
    }
   ],
   "source": [
    "liste1 = [5, 7, 3]\n",
    "liste2 = [3, 7, 5]\n",
    "\n",
    "liste1 == liste2  # Utilisation de == (opérateur booléen \"comparateur d'égalité\")"
   ]
  },
  {
   "cell_type": "markdown",
   "metadata": {},
   "source": [
    "**Attention** il existe beaucoup de similitude entre liste et chaîne de caractères mais on verra par la suite qu'il y a aussi des différences importantes !\n",
    "\n",
    "\n",
    "# Manipulation de listes\n",
    "\n",
    "## Accéder à un élément d'une liste\n",
    "* Il suffit de mettre l'**indice** de l'élément souhaité entre crochet  \n",
    "Syntaxe : `nomListe[indiceElement]`\n",
    "\n",
    "\n",
    "* **Attention** la numérotation des indices commence à 0\n",
    "\n",
    "\n",
    "* On peut aussi utiliser des indices négatifs qui correspondent à une numérotation en commençant par la fin"
   ]
  },
  {
   "cell_type": "code",
   "execution_count": 6,
   "metadata": {},
   "outputs": [],
   "source": [
    "ma_liste = [\"lundi\", \"mardi\", \"mercredi\", \"jeudi\", \"vendredi\", \"samedi\", \"dimanche\"]"
   ]
  },
  {
   "cell_type": "markdown",
   "metadata": {},
   "source": [
    "|éléments de la liste|\"lundi\"|\"mardi\"|\"mercredi\"|\"jeudi\"|\"vendredi\"|\"samedi\"|\"dimanche\"|\n",
    "|:-:|:-:|:-:|:-:|:-:|:-:|:-:|:-:|\n",
    "|indices des éléments de la liste |0|1|2|3|4|5|6|\n",
    "|indices des éléments de la liste |-7|-6|-5|-4|-3|-2|-1|"
   ]
  },
  {
   "cell_type": "code",
   "execution_count": 7,
   "metadata": {},
   "outputs": [
    {
     "name": "stdout",
     "output_type": "stream",
     "text": [
      "lundi\n"
     ]
    }
   ],
   "source": [
    "jour = ma_liste[0]\n",
    "print(jour)"
   ]
  },
  {
   "cell_type": "code",
   "execution_count": 8,
   "metadata": {},
   "outputs": [
    {
     "name": "stdout",
     "output_type": "stream",
     "text": [
      "dimanche\n"
     ]
    }
   ],
   "source": [
    "print(ma_liste[6])"
   ]
  },
  {
   "cell_type": "code",
   "execution_count": 9,
   "metadata": {},
   "outputs": [
    {
     "name": "stdout",
     "output_type": "stream",
     "text": [
      "samedi\n"
     ]
    }
   ],
   "source": [
    "print(ma_liste[-2])"
   ]
  },
  {
   "cell_type": "markdown",
   "metadata": {},
   "source": [
    "Tenter d'accéder à un indice qui n'existe pas donne lieu à une erreur `IndexError`"
   ]
  },
  {
   "cell_type": "code",
   "execution_count": 10,
   "metadata": {},
   "outputs": [
    {
     "ename": "IndexError",
     "evalue": "list index out of range",
     "output_type": "error",
     "traceback": [
      "\u001b[1;31m---------------------------------------------------------------------------\u001b[0m",
      "\u001b[1;31mIndexError\u001b[0m                                Traceback (most recent call last)",
      "\u001b[1;32m<ipython-input-10-9c722c1aed40>\u001b[0m in \u001b[0;36m<module>\u001b[1;34m\u001b[0m\n\u001b[1;32m----> 1\u001b[1;33m \u001b[0mprint\u001b[0m\u001b[1;33m(\u001b[0m\u001b[0mma_liste\u001b[0m\u001b[1;33m[\u001b[0m\u001b[1;36m7\u001b[0m\u001b[1;33m]\u001b[0m\u001b[1;33m)\u001b[0m\u001b[1;33m\u001b[0m\u001b[1;33m\u001b[0m\u001b[0m\n\u001b[0m",
      "\u001b[1;31mIndexError\u001b[0m: list index out of range"
     ]
    }
   ],
   "source": [
    "print(ma_liste[7])"
   ]
  },
  {
   "cell_type": "markdown",
   "metadata": {},
   "source": [
    "**Attention aux erreurs de \"débutants\":** Au début, lorsqu'on manipule des listes contenant des entiers,  il est fréquent de confondre les entiers contenus dans la liste avec leurs indices..."
   ]
  },
  {
   "cell_type": "code",
   "execution_count": 11,
   "metadata": {},
   "outputs": [],
   "source": [
    "ma_liste = [1,5,2,4,3,7]"
   ]
  },
  {
   "cell_type": "markdown",
   "metadata": {},
   "source": [
    "|éléments de la liste|1|5|2|4|3|7|\n",
    "|:-:|:-:|:-:|:-:|:-:|:-:|:-:|\n",
    "|indices des éléments de la liste |0|1|2|3|4|5|\n",
    "|indices des éléments de la liste |-6|-5|-4|-3|-2|-1|"
   ]
  },
  {
   "cell_type": "code",
   "execution_count": 12,
   "metadata": {},
   "outputs": [
    {
     "data": {
      "text/plain": [
       "1"
      ]
     },
     "execution_count": 12,
     "metadata": {},
     "output_type": "execute_result"
    }
   ],
   "source": [
    "ma_liste[0]"
   ]
  },
  {
   "cell_type": "code",
   "execution_count": 13,
   "metadata": {},
   "outputs": [
    {
     "data": {
      "text/plain": [
       "5"
      ]
     },
     "execution_count": 13,
     "metadata": {},
     "output_type": "execute_result"
    }
   ],
   "source": [
    "ma_liste[1]"
   ]
  },
  {
   "cell_type": "code",
   "execution_count": 14,
   "metadata": {},
   "outputs": [
    {
     "data": {
      "text/plain": [
       "2"
      ]
     },
     "execution_count": 14,
     "metadata": {},
     "output_type": "execute_result"
    }
   ],
   "source": [
    "ma_liste[2]"
   ]
  },
  {
   "cell_type": "code",
   "execution_count": 15,
   "metadata": {},
   "outputs": [
    {
     "data": {
      "text/plain": [
       "4"
      ]
     },
     "execution_count": 15,
     "metadata": {},
     "output_type": "execute_result"
    }
   ],
   "source": [
    "ma_liste[3]"
   ]
  },
  {
   "cell_type": "code",
   "execution_count": 16,
   "metadata": {},
   "outputs": [
    {
     "data": {
      "text/plain": [
       "3"
      ]
     },
     "execution_count": 16,
     "metadata": {},
     "output_type": "execute_result"
    }
   ],
   "source": [
    "ma_liste[4]"
   ]
  },
  {
   "cell_type": "markdown",
   "metadata": {},
   "source": [
    "## Longueur d'une liste\n",
    "\n",
    "La longueur d'une liste correspond au nombre d'éléments qu'elle contient. On accède à la longueur d'une liste grâce à la **fonction** `len()`"
   ]
  },
  {
   "cell_type": "code",
   "execution_count": 17,
   "metadata": {},
   "outputs": [
    {
     "data": {
      "text/plain": [
       "7"
      ]
     },
     "execution_count": 17,
     "metadata": {},
     "output_type": "execute_result"
    }
   ],
   "source": [
    "ma_liste = [1, 6, 7, 5, 6 ,12, 14]\n",
    "\n",
    "len(ma_liste)"
   ]
  },
  {
   "cell_type": "markdown",
   "metadata": {},
   "source": [
    "## Suppression d'un élément d'une liste\n",
    "\n",
    "On supprime un objet de la liste grâce à la fonction `del()`"
   ]
  },
  {
   "cell_type": "code",
   "execution_count": 18,
   "metadata": {},
   "outputs": [
    {
     "name": "stdout",
     "output_type": "stream",
     "text": [
      "[1, 6, 7, 5, 6, 12, 14]\n",
      "[1, 6, 5, 6, 12, 14]\n"
     ]
    }
   ],
   "source": [
    "ma_liste = [1, 6, 7, 5, 6 ,12, 14]\n",
    "print(ma_liste)\n",
    "\n",
    "del(ma_liste[2])\n",
    "print(ma_liste)"
   ]
  },
  {
   "cell_type": "markdown",
   "metadata": {},
   "source": [
    "**Remarque importante** : Quand on supprime un élément, **celui-ci ne laisse pas _\"une place vide\"_**. Les éléments suivants viennent directement se mettre à la suite... et donc leur indice change !!\n",
    "\n",
    "## Modification d'une liste"
   ]
  },
  {
   "cell_type": "code",
   "execution_count": 19,
   "metadata": {},
   "outputs": [
    {
     "name": "stdout",
     "output_type": "stream",
     "text": [
      "['Alice', 'Bob', 'Tom']\n",
      "['Alice', 'Python', 'Tom']\n"
     ]
    }
   ],
   "source": [
    "ma_liste = ['Alice', 'Bob', 'Tom']\n",
    "print(ma_liste)\n",
    "\n",
    "ma_liste[1] = 'Python'\n",
    "print(ma_liste)"
   ]
  },
  {
   "cell_type": "markdown",
   "metadata": {},
   "source": [
    "Remarque : **on a remplacé** l'élément `'Bob` par `'Python'`. **on n'a pas inséré** `'Bob'` à la place d'indice 2 !!\n",
    "\n",
    "## Concaténation de listes\n",
    "\n",
    "Concaténer des listes, c'est les mettre \"bout à bout\" pour en faire une seule."
   ]
  },
  {
   "cell_type": "code",
   "execution_count": 20,
   "metadata": {},
   "outputs": [
    {
     "name": "stdout",
     "output_type": "stream",
     "text": [
      "[1, 2, 3, 4, 5, 6]\n"
     ]
    }
   ],
   "source": [
    "ma_liste1 = [1 ,2 ,3]\n",
    "ma_liste2 = [4, 5, 6]\n",
    "\n",
    "ma_liste3 = ma_liste1 + ma_liste2\n",
    "print(ma_liste3)"
   ]
  },
  {
   "cell_type": "markdown",
   "metadata": {},
   "source": [
    "## Slice de liste\n",
    "\n",
    "Le slice correspond à un \"morceau\" d'une liste. la première borne est inclus, la deuxième exclue !"
   ]
  },
  {
   "cell_type": "code",
   "execution_count": 21,
   "metadata": {},
   "outputs": [
    {
     "data": {
      "text/plain": [
       "['mardi', 'mercredi', 'jeudi']"
      ]
     },
     "execution_count": 21,
     "metadata": {},
     "output_type": "execute_result"
    }
   ],
   "source": [
    "ma_liste = [\"lundi\", \"mardi\", \"mercredi\", \"jeudi\", \"vendredi\", \"samedi\", \"dimanche\"]\n",
    "ma_liste[1:4]"
   ]
  },
  {
   "cell_type": "markdown",
   "metadata": {},
   "source": [
    "## Test d'appartenance `in`\n",
    "\n",
    "**Syntaxe :** `element in liste`\n",
    "\n",
    "L'opérateur `in` renvoie un booléen :\n",
    " * `True` si element est dans la liste\n",
    " * `False` si element n'est pas dans la liste"
   ]
  },
  {
   "cell_type": "code",
   "execution_count": 22,
   "metadata": {},
   "outputs": [
    {
     "name": "stdout",
     "output_type": "stream",
     "text": [
      "[1, 5, 2, 4, 3, 7]\n"
     ]
    },
    {
     "data": {
      "text/plain": [
       "False"
      ]
     },
     "execution_count": 22,
     "metadata": {},
     "output_type": "execute_result"
    }
   ],
   "source": [
    "ma_liste = [1,5,2,4,3,7]\n",
    "print(ma_liste)\n",
    "6 in ma_liste"
   ]
  },
  {
   "cell_type": "code",
   "execution_count": 23,
   "metadata": {},
   "outputs": [
    {
     "data": {
      "text/plain": [
       "True"
      ]
     },
     "execution_count": 23,
     "metadata": {},
     "output_type": "execute_result"
    }
   ],
   "source": [
    "5 in ma_liste"
   ]
  },
  {
   "cell_type": "markdown",
   "metadata": {},
   "source": [
    "## Quelques usages courants\n",
    "\n",
    "* Liste vide"
   ]
  },
  {
   "cell_type": "code",
   "execution_count": 24,
   "metadata": {},
   "outputs": [],
   "source": [
    "liste_vide = [ ]"
   ]
  },
  {
   "cell_type": "code",
   "execution_count": 25,
   "metadata": {},
   "outputs": [
    {
     "data": {
      "text/plain": [
       "0"
      ]
     },
     "execution_count": 25,
     "metadata": {},
     "output_type": "execute_result"
    }
   ],
   "source": [
    "len(liste_vide)"
   ]
  },
  {
   "cell_type": "markdown",
   "metadata": {},
   "source": [
    "* Créer une liste à partir d'une chaîne de caractères grâce à la fonction `list`"
   ]
  },
  {
   "cell_type": "code",
   "execution_count": 26,
   "metadata": {},
   "outputs": [
    {
     "name": "stdout",
     "output_type": "stream",
     "text": [
      "['p', 'y', 't', 'h', 'o', 'n']\n"
     ]
    }
   ],
   "source": [
    "chaine =  \"python\"\n",
    "\n",
    "liste=list(chaine)\n",
    "print(liste)\n"
   ]
  },
  {
   "cell_type": "markdown",
   "metadata": {},
   "source": [
    "* Créer une liste des entiers successifs grâce aux fonctions `list` et `range`"
   ]
  },
  {
   "cell_type": "code",
   "execution_count": 27,
   "metadata": {},
   "outputs": [
    {
     "name": "stdout",
     "output_type": "stream",
     "text": [
      "[0, 1, 2, 3, 4, 5, 6, 7, 8, 9]\n"
     ]
    }
   ],
   "source": [
    "liste_entier = list(range(10))\n",
    "print(liste_entier)"
   ]
  },
  {
   "cell_type": "markdown",
   "metadata": {},
   "source": [
    "* Créer une liste de plusieurs éléments tous identiques grâce à l'opérateur `*` (peut être utile pour initialiser une liste)\n",
    "\n",
    "*Je déconseille cet usage car il cache un effet de bord, visible sur les listes de listes (que l'on verra plus tard)...*"
   ]
  },
  {
   "cell_type": "code",
   "execution_count": 28,
   "metadata": {},
   "outputs": [
    {
     "name": "stdout",
     "output_type": "stream",
     "text": [
      "[0, 0, 0, 0, 0, 0, 0, 0, 0, 0]\n"
     ]
    }
   ],
   "source": [
    "liste = [0]*10  # liste contenant dix 0\n",
    "print(liste)"
   ]
  },
  {
   "cell_type": "code",
   "execution_count": 29,
   "metadata": {},
   "outputs": [
    {
     "name": "stdout",
     "output_type": "stream",
     "text": [
      "['Alice', 'Alice', 'Alice', 'Alice', 'Alice']\n"
     ]
    }
   ],
   "source": [
    "liste = [\"Alice\"]*5 # liste contenant cinq fois la chaîne de caractères 'Alice'\n",
    "print(liste)"
   ]
  },
  {
   "cell_type": "markdown",
   "metadata": {},
   "source": [
    "# Parcourir une liste\n",
    "\n",
    "Une liste, étant une **séquence ordonnée d'éléments**, se parcourt facilement avec une boucle `for`. On pourra soit :\n",
    "* parcourir les éléments de la liste\n",
    "* parcourir les indices des éléments de la liste\n",
    "\n",
    "\n",
    "## Parcourir les éléments d'une liste"
   ]
  },
  {
   "cell_type": "code",
   "execution_count": 30,
   "metadata": {},
   "outputs": [
    {
     "name": "stdout",
     "output_type": "stream",
     "text": [
      "lundi\n",
      "mardi\n",
      "mercredi\n",
      "jeudi\n",
      "vendredi\n",
      "samedi\n",
      "dimanche\n"
     ]
    }
   ],
   "source": [
    "ma_liste = [\"lundi\", \"mardi\", \"mercredi\", \"jeudi\", \"vendredi\", \"samedi\", \"dimanche\"]\n",
    "    \n",
    "for element in ma_liste:\n",
    "    print(element)"
   ]
  },
  {
   "cell_type": "markdown",
   "metadata": {},
   "source": [
    "## Parcourir les indices des éléments d'une liste"
   ]
  },
  {
   "cell_type": "code",
   "execution_count": 31,
   "metadata": {},
   "outputs": [
    {
     "name": "stdout",
     "output_type": "stream",
     "text": [
      "0\n",
      "1\n",
      "2\n",
      "3\n",
      "4\n",
      "5\n",
      "6\n"
     ]
    }
   ],
   "source": [
    "ma_liste = [\"lundi\", \"mardi\", \"mercredi\", \"jeudi\", \"vendredi\", \"samedi\", \"dimanche\"]\n",
    "    \n",
    "for i in range(len(ma_liste)):\n",
    "    print(i)"
   ]
  },
  {
   "cell_type": "markdown",
   "metadata": {},
   "source": [
    "Arrêtons-nous sur la syntaxe `range(len(mot))` qui est très courante et qui pose parfois problèmes car on a 2 appels de fonctions imbriqués l'une dans l'autre. Quand cela se présente, il faut commencer par regarder l'appel \"le plus à l'intérieur\" :\n",
    "1. `len(ma_liste)` = `len([\"lundi\", \"mardi\", \"mercredi\", \"jeudi\", \"vendredi\", \"samedi\", \"dimanche\"])` = 7\n",
    "2. donc `range(len(ma_liste))` = `range(7)` = 0, 1, 2, 3, 4, 5, 6 $\\Longrightarrow$ Il s'agit bien de la séquence composée des indices des éléments\n",
    "\n",
    "Remarque : Une bonne façon d'assimiler cela est d'utiliser Thonny en mode debug : la décomposition en 2 étapes comme ci-dessus est parfaitement visible !"
   ]
  },
  {
   "cell_type": "markdown",
   "metadata": {},
   "source": [
    "# Les listes sont des objets\n",
    "\n",
    "Il existe donc des **fonctions \"réservées\" aux listes appelées méthodes** qui s'utilisent avec la **notation pointée**\n",
    "\n",
    "**syntaxe :** `ma_liste.methode(paramètres_éventuels)`\n",
    "\n",
    "On obtient la liste des méthodes disponibles pour les objets de type `list` grâce à la fonction `dir()`"
   ]
  },
  {
   "cell_type": "code",
   "execution_count": 32,
   "metadata": {},
   "outputs": [
    {
     "data": {
      "text/plain": [
       "['__add__',\n",
       " '__class__',\n",
       " '__contains__',\n",
       " '__delattr__',\n",
       " '__delitem__',\n",
       " '__dir__',\n",
       " '__doc__',\n",
       " '__eq__',\n",
       " '__format__',\n",
       " '__ge__',\n",
       " '__getattribute__',\n",
       " '__getitem__',\n",
       " '__gt__',\n",
       " '__hash__',\n",
       " '__iadd__',\n",
       " '__imul__',\n",
       " '__init__',\n",
       " '__init_subclass__',\n",
       " '__iter__',\n",
       " '__le__',\n",
       " '__len__',\n",
       " '__lt__',\n",
       " '__mul__',\n",
       " '__ne__',\n",
       " '__new__',\n",
       " '__reduce__',\n",
       " '__reduce_ex__',\n",
       " '__repr__',\n",
       " '__reversed__',\n",
       " '__rmul__',\n",
       " '__setattr__',\n",
       " '__setitem__',\n",
       " '__sizeof__',\n",
       " '__str__',\n",
       " '__subclasshook__',\n",
       " 'append',\n",
       " 'clear',\n",
       " 'copy',\n",
       " 'count',\n",
       " 'extend',\n",
       " 'index',\n",
       " 'insert',\n",
       " 'pop',\n",
       " 'remove',\n",
       " 'reverse',\n",
       " 'sort']"
      ]
     },
     "execution_count": 32,
     "metadata": {},
     "output_type": "execute_result"
    }
   ],
   "source": [
    "dir(list)"
   ]
  },
  {
   "cell_type": "markdown",
   "metadata": {},
   "source": [
    "Toutes les méthodes notées ainsi `__nomMethode__` sont dites spéciales et dépassent largement les notions de programmation utilisées en lycée. On peut donc conssidérer qu'il y a  11 méthodes disponibles pour les listes : `append`, `clear`, `copy`, `count`, `extend`, `index`, `insert`, `pop`, `remove`, `reverse` et `sort`\n",
    "\n",
    "## A quoi servent les méthodes définies pour les listes?\n",
    "\n",
    "Les méthodes sont des fonctions, donc des programmes, permettant de réaliser des manipulations courantes mais non disponibles par les opérations de base.\n",
    "\n",
    "**Exemple** :  On a vu que le code suivant mettait l'élément `'Python'` en position d'indice 1 et de ce fait ecrase l'élément `'Bob'`"
   ]
  },
  {
   "cell_type": "code",
   "execution_count": 33,
   "metadata": {},
   "outputs": [
    {
     "name": "stdout",
     "output_type": "stream",
     "text": [
      "['Alice', 'Bob', 'Tom']\n",
      "['Alice', 'Python', 'Tom']\n"
     ]
    }
   ],
   "source": [
    "ma_liste = ['Alice', 'Bob', 'Tom']\n",
    "print(ma_liste)\n",
    "\n",
    "ma_liste[1] = 'Python'\n",
    "print(ma_liste)"
   ]
  },
  {
   "cell_type": "markdown",
   "metadata": {},
   "source": [
    "Comment faire pour **insérer** l'élément `'Python'` en position d'indice 1 entre l'élément `'Alice'` et `'Bob'` ?\n",
    "\n",
    "Deux solutions :\n",
    "* On écrit un bout de programme python qui réalise cette actions\n",
    "* Plus malin : On utilise la méthode `insert`. (qui justement a été créée car **insérer est une manipulation de base** sur les listes !) \n",
    "\n",
    "## Comment utiliser une méthode ?\n",
    "\n",
    "Parmi ces méthodes, `append` est celle qui vous sera le plus utile !! Pour savoir comment l'utiliser, il suffit de consulter la documentation :"
   ]
  },
  {
   "cell_type": "code",
   "execution_count": 34,
   "metadata": {},
   "outputs": [
    {
     "name": "stdout",
     "output_type": "stream",
     "text": [
      "Help on method_descriptor:\n",
      "\n",
      "append(self, object, /)\n",
      "    Append object to the end of the list.\n",
      "\n"
     ]
    }
   ],
   "source": [
    "help(list.append)"
   ]
  },
  {
   "cell_type": "markdown",
   "metadata": {},
   "source": [
    "On peut lire que `append` permet d'**ajouter un élément en fin de liste**. \n",
    "\n",
    "**Exemple :**"
   ]
  },
  {
   "cell_type": "code",
   "execution_count": 35,
   "metadata": {},
   "outputs": [
    {
     "name": "stdout",
     "output_type": "stream",
     "text": [
      "[]\n"
     ]
    }
   ],
   "source": [
    "ma_liste = [] # liste vide\n",
    "\n",
    "print(ma_liste)"
   ]
  },
  {
   "cell_type": "code",
   "execution_count": 36,
   "metadata": {},
   "outputs": [
    {
     "name": "stdout",
     "output_type": "stream",
     "text": [
      "[5]\n"
     ]
    }
   ],
   "source": [
    "ma_liste.append(5) # Ajout de l'entier 5 à la liste\n",
    "\n",
    "print(ma_liste)"
   ]
  },
  {
   "cell_type": "code",
   "execution_count": 37,
   "metadata": {},
   "outputs": [
    {
     "name": "stdout",
     "output_type": "stream",
     "text": [
      "[5, 8]\n"
     ]
    }
   ],
   "source": [
    "ma_liste.append(8) # Ajout de l'entier 8 à la liste\n",
    "\n",
    "print(ma_liste)"
   ]
  },
  {
   "cell_type": "markdown",
   "metadata": {},
   "source": [
    "# Les listes sont mutables\n",
    "\n",
    "Jusqu'ici, vous pouvez une grande similitude entre les listes et les chaînes de caractères. En effet toutes les deux :\n",
    "* sont des séquences ordonnées\n",
    "* utilisent la notion d'**indice**\n",
    "* se par courent avec une boucle `for`\n",
    "* etc ...\n",
    "\n",
    "**Exemples :**"
   ]
  },
  {
   "cell_type": "code",
   "execution_count": 38,
   "metadata": {},
   "outputs": [],
   "source": [
    "liste = [2,6,3,8,9]\n",
    "chaine = \"python\""
   ]
  },
  {
   "cell_type": "code",
   "execution_count": 39,
   "metadata": {},
   "outputs": [
    {
     "data": {
      "text/plain": [
       "8"
      ]
     },
     "execution_count": 39,
     "metadata": {},
     "output_type": "execute_result"
    }
   ],
   "source": [
    "liste[3]"
   ]
  },
  {
   "cell_type": "code",
   "execution_count": 40,
   "metadata": {},
   "outputs": [
    {
     "data": {
      "text/plain": [
       "'h'"
      ]
     },
     "execution_count": 40,
     "metadata": {},
     "output_type": "execute_result"
    }
   ],
   "source": [
    "chaine[3]"
   ]
  },
  {
   "cell_type": "code",
   "execution_count": 41,
   "metadata": {},
   "outputs": [
    {
     "data": {
      "text/plain": [
       "5"
      ]
     },
     "execution_count": 41,
     "metadata": {},
     "output_type": "execute_result"
    }
   ],
   "source": [
    "len(liste)"
   ]
  },
  {
   "cell_type": "code",
   "execution_count": 42,
   "metadata": {},
   "outputs": [
    {
     "data": {
      "text/plain": [
       "6"
      ]
     },
     "execution_count": 42,
     "metadata": {},
     "output_type": "execute_result"
    }
   ],
   "source": [
    "len(chaine)"
   ]
  },
  {
   "cell_type": "markdown",
   "metadata": {},
   "source": [
    "Néanmoins il existe une **différence fondamentale** illustrée par les exmples ci-dessous :"
   ]
  },
  {
   "cell_type": "code",
   "execution_count": 43,
   "metadata": {},
   "outputs": [
    {
     "name": "stdout",
     "output_type": "stream",
     "text": [
      "[2, 6, 3, 12, 9]\n"
     ]
    }
   ],
   "source": [
    "liste = [2,6,3,8,9]\n",
    "\n",
    "liste[3] = 12\n",
    "print(liste)"
   ]
  },
  {
   "cell_type": "code",
   "execution_count": 44,
   "metadata": {},
   "outputs": [
    {
     "ename": "TypeError",
     "evalue": "'str' object does not support item assignment",
     "output_type": "error",
     "traceback": [
      "\u001b[1;31m---------------------------------------------------------------------------\u001b[0m",
      "\u001b[1;31mTypeError\u001b[0m                                 Traceback (most recent call last)",
      "\u001b[1;32m<ipython-input-44-09295e22ec6b>\u001b[0m in \u001b[0;36m<module>\u001b[1;34m\u001b[0m\n\u001b[0;32m      1\u001b[0m \u001b[0mchaine\u001b[0m \u001b[1;33m=\u001b[0m \u001b[1;34m\"python\"\u001b[0m\u001b[1;33m\u001b[0m\u001b[1;33m\u001b[0m\u001b[0m\n\u001b[0;32m      2\u001b[0m \u001b[1;33m\u001b[0m\u001b[0m\n\u001b[1;32m----> 3\u001b[1;33m \u001b[0mchaine\u001b[0m\u001b[1;33m[\u001b[0m\u001b[1;36m3\u001b[0m\u001b[1;33m]\u001b[0m \u001b[1;33m=\u001b[0m \u001b[1;34m\"a\"\u001b[0m\u001b[1;33m\u001b[0m\u001b[1;33m\u001b[0m\u001b[0m\n\u001b[0m\u001b[0;32m      4\u001b[0m \u001b[0mprint\u001b[0m\u001b[1;33m(\u001b[0m\u001b[0mchaine\u001b[0m\u001b[1;33m)\u001b[0m\u001b[1;33m\u001b[0m\u001b[1;33m\u001b[0m\u001b[0m\n",
      "\u001b[1;31mTypeError\u001b[0m: 'str' object does not support item assignment"
     ]
    }
   ],
   "source": [
    "chaine = \"python\"\n",
    "\n",
    "chaine[3] = \"a\"\n",
    "print(chaine)"
   ]
  },
  {
   "cell_type": "code",
   "execution_count": 45,
   "metadata": {},
   "outputs": [
    {
     "name": "stdout",
     "output_type": "stream",
     "text": [
      "[2, 6, 3, 9]\n"
     ]
    }
   ],
   "source": [
    "liste = [2,6,3,8,9]\n",
    "\n",
    "del(liste[3])\n",
    "print(liste)"
   ]
  },
  {
   "cell_type": "code",
   "execution_count": 46,
   "metadata": {},
   "outputs": [
    {
     "ename": "TypeError",
     "evalue": "'str' object doesn't support item deletion",
     "output_type": "error",
     "traceback": [
      "\u001b[1;31m---------------------------------------------------------------------------\u001b[0m",
      "\u001b[1;31mTypeError\u001b[0m                                 Traceback (most recent call last)",
      "\u001b[1;32m<ipython-input-46-9511f461e608>\u001b[0m in \u001b[0;36m<module>\u001b[1;34m\u001b[0m\n\u001b[0;32m      1\u001b[0m \u001b[0mchaine\u001b[0m \u001b[1;33m=\u001b[0m \u001b[1;34m\"python\"\u001b[0m\u001b[1;33m\u001b[0m\u001b[1;33m\u001b[0m\u001b[0m\n\u001b[0;32m      2\u001b[0m \u001b[1;33m\u001b[0m\u001b[0m\n\u001b[1;32m----> 3\u001b[1;33m \u001b[1;32mdel\u001b[0m\u001b[1;33m(\u001b[0m\u001b[0mchaine\u001b[0m\u001b[1;33m[\u001b[0m\u001b[1;36m3\u001b[0m\u001b[1;33m]\u001b[0m\u001b[1;33m)\u001b[0m\u001b[1;33m\u001b[0m\u001b[1;33m\u001b[0m\u001b[0m\n\u001b[0m\u001b[0;32m      4\u001b[0m \u001b[0mprint\u001b[0m\u001b[1;33m(\u001b[0m\u001b[0mchaine\u001b[0m\u001b[1;33m)\u001b[0m\u001b[1;33m\u001b[0m\u001b[1;33m\u001b[0m\u001b[0m\n",
      "\u001b[1;31mTypeError\u001b[0m: 'str' object doesn't support item deletion"
     ]
    }
   ],
   "source": [
    "chaine = \"python\"\n",
    "\n",
    "del(chaine[3])\n",
    "print(chaine)"
   ]
  },
  {
   "cell_type": "markdown",
   "metadata": {},
   "source": [
    "En fait, les **listes sont mutables** et les **chaînes de caractères sont immuables**. Cela signifie qu'il est **possible de modifier une liste** mais il est **impossible de modifier une chaine de caractères**\n",
    "\n",
    "Dans la pratique, cela aura de nombreuses conséquences sur lesquelles on reviendra plus tard..."
   ]
  }
 ],
 "metadata": {
  "celltoolbar": "Visualize",
  "kernelspec": {
   "display_name": "Python 3",
   "language": "python",
   "name": "python3"
  },
  "language_info": {
   "codemirror_mode": {
    "name": "ipython",
    "version": 3
   },
   "file_extension": ".py",
   "mimetype": "text/x-python",
   "name": "python",
   "nbconvert_exporter": "python",
   "pygments_lexer": "ipython3",
   "version": "3.10.6"
  },
  "latex_envs": {
   "LaTeX_envs_menu_present": true,
   "autoclose": false,
   "autocomplete": true,
   "bibliofile": "biblio.bib",
   "cite_by": "apalike",
   "current_citInitial": 1,
   "eqLabelWithNumbers": true,
   "eqNumInitial": 1,
   "hotkeys": {
    "equation": "Ctrl-E",
    "itemize": "Ctrl-I"
   },
   "labels_anchors": false,
   "latex_user_defs": false,
   "report_style_numbering": false,
   "user_envs_cfg": false
  }
 },
 "nbformat": 4,
 "nbformat_minor": 2
}
