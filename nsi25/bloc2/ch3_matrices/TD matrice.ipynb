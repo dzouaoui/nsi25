{
 "cells": [
  {
   "cell_type": "markdown",
   "metadata": {},
   "source": [
    "# Exercice 1"
   ]
  },
  {
   "cell_type": "code",
   "execution_count": null,
   "metadata": {},
   "outputs": [],
   "source": [
    "matrice = [['a', 'b', 'c'], ['d', 'e', 'f'], ['g', 'h', 'i'], ['j', 'k', 'l']]"
   ]
  },
  {
   "cell_type": "markdown",
   "metadata": {},
   "source": [
    "1. **Sans utiliser Thonny** donner l'interprétation de chaque ligne de code python ci-dessous (certaines comportent volontairement des erreurs !). **Vérifier ensuite à l'aide de Thonny**"
   ]
  },
  {
   "cell_type": "code",
   "execution_count": null,
   "metadata": {},
   "outputs": [],
   "source": [
    "matrice[0][0]"
   ]
  },
  {
   "cell_type": "code",
   "execution_count": null,
   "metadata": {},
   "outputs": [],
   "source": [
    "matrice[1][1]"
   ]
  },
  {
   "cell_type": "code",
   "execution_count": null,
   "metadata": {},
   "outputs": [],
   "source": [
    "matrice[2][2]"
   ]
  },
  {
   "cell_type": "code",
   "execution_count": null,
   "metadata": {},
   "outputs": [],
   "source": [
    "matrice[3][3]"
   ]
  },
  {
   "cell_type": "code",
   "execution_count": null,
   "metadata": {},
   "outputs": [],
   "source": [
    "matrice[0][1]"
   ]
  },
  {
   "cell_type": "code",
   "execution_count": null,
   "metadata": {},
   "outputs": [],
   "source": [
    "matrice[1][0]"
   ]
  },
  {
   "cell_type": "code",
   "execution_count": null,
   "metadata": {},
   "outputs": [],
   "source": [
    "matrice[0][3]"
   ]
  },
  {
   "cell_type": "code",
   "execution_count": null,
   "metadata": {},
   "outputs": [],
   "source": [
    "matrice[3][0]"
   ]
  },
  {
   "cell_type": "code",
   "execution_count": null,
   "metadata": {},
   "outputs": [],
   "source": [
    "matrice[2]"
   ]
  },
  {
   "cell_type": "code",
   "execution_count": null,
   "metadata": {},
   "outputs": [],
   "source": [
    "matrice[3]"
   ]
  },
  {
   "cell_type": "markdown",
   "metadata": {},
   "source": [
    "2. En utilisant la notation `matrice[i]` ou `matrice[i][j]`, donner la syntaxe python permettant d'accéder aux éléments ci dessous (puis vérifier à l'aide de Thonny)\n",
    "\n",
    "    * 'c'\n",
    "    * 'f'\n",
    "    * 'g'\n",
    "    * 'h'\n",
    "    * `['d', 'e', 'f']`\n",
    "    "
   ]
  },
  {
   "cell_type": "markdown",
   "metadata": {},
   "source": [
    "# Exercice 2\n",
    "\n",
    "On définit la matrice suivante :"
   ]
  },
  {
   "cell_type": "code",
   "execution_count": null,
   "metadata": {},
   "outputs": [],
   "source": [
    "t = [[1, 2, 3, 4], [5, 6, 7, 8], [9, 10, 11, 12]]"
   ]
  },
  {
   "cell_type": "markdown",
   "metadata": {},
   "source": [
    "1. Sur une feuile, dessiner sous forme de tableau la matrice *t* ci-dessus\n",
    "2. **Sans utiliser Thonny** donner l'interprétation de chaque ligne de code python ci-dessous (certaines comportent volontairement des erreurs !). **Vérifier ensuite à l'aide de Thonny**"
   ]
  },
  {
   "cell_type": "code",
   "execution_count": null,
   "metadata": {},
   "outputs": [],
   "source": [
    "t[0]"
   ]
  },
  {
   "cell_type": "code",
   "execution_count": null,
   "metadata": {},
   "outputs": [],
   "source": [
    "t[-1]"
   ]
  },
  {
   "cell_type": "code",
   "execution_count": null,
   "metadata": {},
   "outputs": [],
   "source": [
    "t[0][0]"
   ]
  },
  {
   "cell_type": "code",
   "execution_count": null,
   "metadata": {},
   "outputs": [],
   "source": [
    "t[1][2]"
   ]
  },
  {
   "cell_type": "code",
   "execution_count": null,
   "metadata": {},
   "outputs": [],
   "source": [
    "t[2][1]"
   ]
  },
  {
   "cell_type": "code",
   "execution_count": null,
   "metadata": {},
   "outputs": [],
   "source": [
    "t[3][0]"
   ]
  },
  {
   "cell_type": "code",
   "execution_count": null,
   "metadata": {},
   "outputs": [],
   "source": [
    "t[0][3]"
   ]
  },
  {
   "cell_type": "code",
   "execution_count": null,
   "metadata": {},
   "outputs": [],
   "source": [
    "t[0][1][2]"
   ]
  },
  {
   "cell_type": "markdown",
   "metadata": {},
   "source": [
    "3. En utilisant la notation `t[i]` ou `t[i][j]`, donner la syntaxe python permettant d'accéder aux éléments ci dessous (puis vérifier à l'aide de Thonny)\n",
    "\n",
    "    * 8\n",
    "    * 12\n",
    "    * 5\n",
    "    * 3\n",
    "    * `[5, 6, 7, 8]`\n",
    "    "
   ]
  },
  {
   "cell_type": "markdown",
   "metadata": {},
   "source": [
    "# Exercice 3 : Jeu de morpion"
   ]
  },
  {
   "cell_type": "markdown",
   "metadata": {},
   "source": [
    "Soit une grille de morpion *grilleMorpion* après 2 tours et la fonction mystere ci-dessous."
   ]
  },
  {
   "cell_type": "code",
   "execution_count": null,
   "metadata": {},
   "outputs": [],
   "source": [
    "grilleMorpion = [['X',' ',' '],\n",
    "                 [' ','X','O'],\n",
    "                 [' ',' ','X']]"
   ]
  },
  {
   "cell_type": "code",
   "execution_count": null,
   "metadata": {},
   "outputs": [],
   "source": [
    "def mystere(m):\n",
    "    for i in range(3):\n",
    "        for j in range(3):\n",
    "            if j <= 1:\n",
    "                print(' ', m[i][j], ' ', end=\"|\")\n",
    "            else:\n",
    "                print(' ', m[i][j])\n",
    "        if i <= 1:\n",
    "            print (\"-\"*5, \"|\", \"-\"*5, \"|\", \"-\"*5, sep='')"
   ]
  },
  {
   "cell_type": "markdown",
   "metadata": {},
   "source": [
    "1. En utilisant la fonction help() dans l'interpréteur, donner en une phrase simple le rôle des paramètres *sep* et *end* utilisés dans la fonction print()\n",
    "2. A l'aide du professeur, exécuter *à la main* l'appel suivant :`mystere(grilleMorpion)`. Quel est le rôle de cette fonction ?\n",
    "3. Bonne pratique : Afin d'être plus clair, renommer cette fonction et remplacer i, j et m par des noms mieux choisis...."
   ]
  },
  {
   "cell_type": "markdown",
   "metadata": {},
   "source": [
    "> On souhaite écrire une fonction *a_gagner()* répondant aux spécifications suivantes :\n",
    "> * prendre en paramètres :\n",
    ">     * une grille de jeu\n",
    ">     * le symbole recherché (on passera 'X' ou 'O' comme argument)\n",
    "> * **renvoyer** un booléen :\n",
    ">     * `True` si le joueur a gagné\n",
    ">     * `False` sinon"
   ]
  },
  {
   "cell_type": "markdown",
   "metadata": {},
   "source": [
    "4. Compléter la fonction *a_gagner()* ci dessous. **Ne pas oublier de compléter la documentation de cette fonction**"
   ]
  },
  {
   "cell_type": "code",
   "execution_count": 1,
   "metadata": {},
   "outputs": [],
   "source": [
    "def a_gagner(m,symbole):\n",
    "    \"\"\"\n",
    "    Description de la fonction : \n",
    "    parametre m (type) : \n",
    "    parametre symbole (type) :\n",
    "    Préconditions sur les paramètres : \n",
    "    return (type) :\n",
    "    Postcondition sur le résultat : \n",
    "    Effet de bord :\n",
    "    \"\"\"\n",
    "    \n",
    "    # return True si 3 symboles alignés sur 1 des lignes\n",
    "    for i in range(3) :\n",
    "        if m[i][0] == symbole:\n",
    "            if m[i][1] == symbole:\n",
    "                if m[i][2] == symbole:\n",
    "                    return True\n",
    "    \n",
    "    # return True si 3 symboles alignés sur 1 des colonnes\n",
    "    # A COMPLETER\n",
    "                \n",
    "    # return True si 3 symboles alignés sur la diagonale            \n",
    "    # A COMPLETER\n",
    "    \n",
    "    # return True si 3 symboles aligné sur l'antidiagonale\n",
    "    # A COMPLETER\n",
    "    \n",
    "    # return False dans les autres cas\n",
    "    return False\n",
    "\n",
    "if __name__ == '__main__':\n",
    "    import doctest\n",
    "    doctest.testmod(optionflags=doctest.NORMALIZE_WHITESPACE, verbose = True)"
   ]
  },
  {
   "cell_type": "markdown",
   "metadata": {},
   "source": [
    "> Les questions suivantes mettent en oeuvre le module *doctest* (voir cours et TP précédent : Mise au point d'un programme)\n",
    "\n",
    "5. Ecrire 6 tests permettant de vérifier le bon fonctionnement de la fonction *a_gagner()*. Prévoir :\n",
    "    * Test sur une grille vide\n",
    "    * Test sur une grille perdante\n",
    "    * Test sur une grille gagnante (ligne horizontale)\n",
    "    * Test sur une grille gagnante (ligne verticale)\n",
    "    * Test sur une grille gagnante (ligne diagonale)\n",
    "    * Test sur une grille gagnante (ligne antidiagonale)\n",
    "6. Vérifier le succès aux 6 tests précédents"
   ]
  }
 ],
 "metadata": {
  "kernelspec": {
   "display_name": "Python 3",
   "language": "python",
   "name": "python3"
  },
  "language_info": {
   "codemirror_mode": {
    "name": "ipython",
    "version": 3
   },
   "file_extension": ".py",
   "mimetype": "text/x-python",
   "name": "python",
   "nbconvert_exporter": "python",
   "pygments_lexer": "ipython3",
   "version": "3.10.6"
  },
  "latex_envs": {
   "LaTeX_envs_menu_present": true,
   "autoclose": false,
   "autocomplete": true,
   "bibliofile": "biblio.bib",
   "cite_by": "apalike",
   "current_citInitial": 1,
   "eqLabelWithNumbers": true,
   "eqNumInitial": 1,
   "hotkeys": {
    "equation": "Ctrl-E",
    "itemize": "Ctrl-I"
   },
   "labels_anchors": false,
   "latex_user_defs": false,
   "report_style_numbering": false,
   "user_envs_cfg": false
  }
 },
 "nbformat": 4,
 "nbformat_minor": 2
}
