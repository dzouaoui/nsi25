{
 "cells": [
  {
   "cell_type": "markdown",
   "metadata": {},
   "source": [
    "# Exercice 1 (niveau : facile)\n",
    "\n",
    "**INSTRUCTIONS POUR CHAQUE QUESTION :**\n",
    "1. Répondre sur feuille sans l'aide de l'ordinateur\n",
    "2. Vérifier sur ordinateur\n",
    "\n",
    "Soit un dictionnaire <i>fiche_informaticien</i>"
   ]
  },
  {
   "cell_type": "code",
   "execution_count": 1,
   "metadata": {},
   "outputs": [],
   "source": [
    "fiche_informaticien = {\"Prenom\":\"Alan\",\"Nom\":\"Turing\",\"Passion\":\"Casser des codes\",\"Age\":107,\n",
    "                       \"Date de naissance\":\"23/06/1912\" }"
   ]
  },
  {
   "cell_type": "markdown",
   "metadata": {},
   "source": [
    "**QUESTIONS :**\n",
    "\n",
    "1. Enumérer les clés et leur type\n",
    "2. Enumérer les valeurs et leur type\n",
    "3. Quel sera le contenu de ce dictionnaire après l'exécution de <code>del fiche_informaticien[\"Passion\"]</code> ?\n",
    "4. Sachant que Turing est de nationalité américaine, créer une nouvelle paire clé-valeur permettant d'ajouter cette information dans <i>fiche_informaticien</i>\n",
    "5. Ecrire l'instruction python qui permette d'incrémenter l'âge de Alan Turing dans <i>fiche_informaticien</i>\n",
    "6. Donner le résultat renvoyé par les instructions suivantes :\n",
    "    * `\"Turing\" in fiche_informaticien`\n",
    "    * `\"Turing\" in fiche_informaticien.values()`\n",
    "    * `\"Turing\" in fiche_informaticien.keys()`\n",
    "    * `108 in fiche_informaticien`\n",
    "    * `108 in fiche_informaticien.values()`\n",
    "    * `108 in fiche_informaticien.keys()`\n",
    "    "
   ]
  },
  {
   "cell_type": "markdown",
   "metadata": {},
   "source": [
    "# Exercice 2 (niveau : facile)\n",
    "\n",
    "> On va tâcher de représenter le parc de velibs à Paris à l'aide de dictionnaires\n",
    "\n",
    "Les clés et leurs valeurs possibles seront :\n",
    "\n",
    "* \"id\" qui correspond à l'identifiant du vélo (un entier)\n",
    "* \"typ\" qui peut-être \"électrique\" ou \"classique\"\n",
    "* \"station\" qui correspond à la station (chaîne de caractères) où est stationné le vélo ou celle il a été dernièrement stationné.\n",
    "* \"statut\" qui correspond au statut du vélo. Il peut être \"en déplacement\", \"dispo\" ou \"en panne\"\n",
    "\n",
    "**Questionnaire :**\n",
    "\n",
    "1. D'après cette représentation, créer un vélo électrique d'identifiant 1210, stationné à la place d'Italie mais en panne.\n",
    "2. Ce vélo est ensuite réparé et quitte sa station : modifier son dictionnaire en conséquence\n",
    "3. Vérifier à l'aide d'une ligne de code si la valeur \"dispo\" figure dans le dictionnaire."
   ]
  },
  {
   "cell_type": "markdown",
   "metadata": {},
   "source": [
    "# Exercice 2bis (niveau : intermédiaire)\n",
    "\n",
    "> Le parc de velibs est composé de plusieurs milliers de vélos. On va représenter le parc de vélos comme une liste de vélos, c'est-à-dire une **liste de dictionnaires**. Pour simplifier, on se limitera à 3 vélos.\n",
    "\n",
    "1. Créer ces 3 vélos (par commodité on pourra les appeler *velo1*, *velo2*, *velo3*) en inventant les caractéristiques de chaque vélo.\n",
    "2. En utilisant la **méthode de liste** `append()`, créer la liste *parc_velib* contenant ces 3 vélos\n",
    "3. Ecrire une fonction *recherche_velo()* qui **renvoie** un booléen selon qu'il y a un velib disponible dans le parc. **Indice** : utiliser une boucle `for` pour parcourir les vélos du parc de velib puis utiliser la réponde à la question 3 de l'exercice précédent\n",
    "4. Modifier la fonction précédente afin qu'elle **renvoie** tous les lieux où un velib est disponible (sous forme de **tuple**. Si aucun vélo n'est disponible, la fonction devra renvoyer la valeur `None`"
   ]
  },
  {
   "cell_type": "markdown",
   "metadata": {},
   "source": [
    "# Exercice 3 (niveau : intermédiaire)\n",
    "\n",
    "Les lignes de code ci-dessous permettent de construire un dictionnaire ayant pour **clés** un couple de coordonnées GPS (type `tuple`) et pour **valeurs** les villes correpondantes. "
   ]
  },
  {
   "cell_type": "code",
   "execution_count": 27,
   "metadata": {},
   "outputs": [],
   "source": [
    "positions = {}\n",
    "positions[(48.853585, 2.301490)] = \"Paris\"\n",
    "positions[(11.611358, 43.147752)] = \"Djibouti\"\n",
    "positions[(37.023113, -8.996601)] = \"Fortaleza de Sao Vicente\"\n",
    "positions[(7.677989,-5.025387)] = \"Bouaké\""
   ]
  },
  {
   "cell_type": "markdown",
   "metadata": {},
   "source": [
    "> Parmi les métadonnées d'une photo prise avec un smartphone, on peut retrouver les coodonnées GPS au moment de la prise de vue\n",
    "\n",
    "Ecrire une fonction *localisation_photo()* qui :\n",
    "* prend en paramètres :\n",
    "    * un couple de coordonnées GPS\n",
    "    * le dictionnaire précédent\n",
    "* **renvoie** le lieu correspondant\n",
    "\n",
    "**Remarques** : \n",
    "* On tolère une précision au dix-millième de degré sur les coordonnées. Ainsi, si les coordonnées sont (37.02311,-8.9966), la fonction doit nous renvoyer \"Fortaleza de Sao Vicente\".\n",
    "* Si on le lieu de la prise de vue ne figure pas dans le dictionnaire, la fonction devra renvoyer `None`\n",
    "* On pourra utiliser la fonction `abs()` appliquée à la différence entre les coordonnées recherchées et les coordonnées trouvées dans le dictionnaire"
   ]
  },
  {
   "cell_type": "markdown",
   "metadata": {},
   "source": [
    "# Exercice 4 (niveau : difficile)\n",
    "\n",
    "1. Ecrire une fonction *occurence()* qui :\n",
    "    * prend une chaîne de caractère en entrée\n",
    "    * **renvoie** un dictionnaire dont les clés sont les différentes lettres du texte et les valeurs le nombre d'occurences de chaque lettre.\n",
    "\n",
    "> La fonction suivante permet de renvoyer sous forme d'une chaîne de caractères le texte écrit dans un fichier"
   ]
  },
  {
   "cell_type": "code",
   "execution_count": 22,
   "metadata": {},
   "outputs": [],
   "source": [
    "def lecture(nom_fichier):\n",
    "    \"\"\"\n",
    "    description : ouvre un fichier texte et renvoie son contenu sous la forme d'une chaîne de caractère\n",
    "    paramètre nom_fichier(str) : nom du fichier\n",
    "    return (str) : contenu du fichier\n",
    "    \"\"\"\n",
    "    with open(nom_fichier,'r') as fichier:\n",
    "        return fichier.read()"
   ]
  },
  {
   "cell_type": "markdown",
   "metadata": {},
   "source": [
    "2. Utiliser la fonction occurence pour compter les différents caractères du fichier big_brother.txt\n",
    "\n",
    "> Le résultat obtenu n'est pas complètement satisfaisant puisqu'il compte tous les caractères y compris les espaces et les signes de ponctuation, qu'on aimerait ignorer. De plus, on aimerait que les majuscules et minuscules ne soient pas différenciées dans le comptage.\n",
    "\n",
    "3. Modifier la fonction *occurence()* afin de prendre en compte les remarques précédentes. Pour cela, on utilisera un seul test `if` dans toute la fonction. Indice : on pourra utiliser la chaîne de caractère \",;:!?.’«»- \\n\" et la **méthode de chaine de caractère** `lower()`"
   ]
  },
  {
   "cell_type": "code",
   "execution_count": null,
   "metadata": {},
   "outputs": [],
   "source": []
  }
 ],
 "metadata": {
  "kernelspec": {
   "display_name": "Python 3",
   "language": "python",
   "name": "python3"
  },
  "language_info": {
   "codemirror_mode": {
    "name": "ipython",
    "version": 3
   },
   "file_extension": ".py",
   "mimetype": "text/x-python",
   "name": "python",
   "nbconvert_exporter": "python",
   "pygments_lexer": "ipython3",
   "version": "3.10.12"
  }
 },
 "nbformat": 4,
 "nbformat_minor": 2
}
