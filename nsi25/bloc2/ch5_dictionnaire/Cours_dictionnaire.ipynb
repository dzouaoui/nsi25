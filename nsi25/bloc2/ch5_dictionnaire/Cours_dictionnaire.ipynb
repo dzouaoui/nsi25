{
 "cells": [
  {
   "cell_type": "markdown",
   "metadata": {},
   "source": [
    "# Introduction : une nouvelle structure de donnée\n",
    "\n",
    "Alice est une élève de première. Elle a obtenu une moyenne de 8 en français, 16 en mathématiques, 15 en NSI et 12 en anglais. Si on veut stocker ses résultats, on peut naturellement utiliser une liste."
   ]
  },
  {
   "cell_type": "code",
   "execution_count": null,
   "metadata": {},
   "outputs": [],
   "source": [
    " moyennes =  [8, 16, 15, 12]"
   ]
  },
  {
   "cell_type": "markdown",
   "metadata": {},
   "source": [
    "Si on veut accéder accéder à sa moyenne de NSI, il faudra écrire :"
   ]
  },
  {
   "cell_type": "code",
   "execution_count": null,
   "metadata": {},
   "outputs": [],
   "source": [
    "moyenneNSI = moyennes[2]"
   ]
  },
  {
   "cell_type": "markdown",
   "metadata": {},
   "source": [
    "En effet, **dans une liste on accède aux données par leurs indices**. Il faut donc se souvenir que sa moyenne de NSI a été stocké à l'indice 2. Ce qui est peu pratique !! Ceci est dû au fait que dans la structure de donnée de type liste on perd l'information comme quoi 8 correspond à la moyenne de français, 16 la moyenne en mathématiques etc... C'est au programmeur de s'en souvenir\n",
    "\n",
    "On préfèrerait une **nouvelle structure de données** qui permette d'associer chaque moyenne stockée à sa discipline. Ainsi on pourrait accéder à la moyenne de NSI en écrivant :"
   ]
  },
  {
   "cell_type": "code",
   "execution_count": null,
   "metadata": {},
   "outputs": [],
   "source": [
    "moyenneNSI = moyenne['NSI']"
   ]
  },
  {
   "cell_type": "markdown",
   "metadata": {},
   "source": [
    "Dans ce cas, il n'y a plus la notion d'indice et le programmeur n'a plus à se souvenir que telle moyenne est stocké à tel indice\n",
    "\n",
    "Cette nouvelle structure de données s'appelle en python un **dictionnaire**. Dans notre exemple :\n",
    "\n",
    "* les disciplines (français, mathématiques, NSI, anglais) sont appelées des **clés**\n",
    "* les moyennes stockées sont appelées des **valeurs**\n",
    "\n",
    "||||\n",
    "|-|-|-|\n",
    "|**DANS UN DICTIONNAIRE ON ACCEDE AUX VALEURS PAR LEURS CLES**|$\\neq$|**DANS UNE LISTE ON ACCEDE AUX VALEURS PAR LEURS INDICES**|\n"
   ]
  },
  {
   "cell_type": "markdown",
   "metadata": {},
   "source": [
    "# Définition et syntaxe d'un dictionnaire\n",
    "\n",
    "Un dictionnaire est un ensemble d'éléments entourés d'accolades `{ }`   \n",
    "Chaque élément d'un dictionnaire est composé d'une paire clé-valeur.  \n",
    "La clef et la valeur sont séparés par des `:`\n",
    "\n",
    "Dans l'exemple ci-dessous on utilise un dictionnaire pour stocker les moyennes d'un élève par discipline"
   ]
  },
  {
   "cell_type": "code",
   "execution_count": 1,
   "metadata": {},
   "outputs": [],
   "source": [
    "moyennes = {\"Français\" : 8 , \"Mathématiques\" : 16 , \"NSI\" : 15 ,\"Anglais\" : 12}"
   ]
  },
  {
   "cell_type": "code",
   "execution_count": 2,
   "metadata": {},
   "outputs": [
    {
     "data": {
      "text/plain": [
       "dict"
      ]
     },
     "execution_count": 2,
     "metadata": {},
     "output_type": "execute_result"
    }
   ],
   "source": [
    "type(moyennes)"
   ]
  },
  {
   "cell_type": "markdown",
   "metadata": {},
   "source": [
    "<code>len()</code> renvoie le nombre de paires clé-valeur."
   ]
  },
  {
   "cell_type": "code",
   "execution_count": 3,
   "metadata": {},
   "outputs": [
    {
     "data": {
      "text/plain": [
       "4"
      ]
     },
     "execution_count": 3,
     "metadata": {},
     "output_type": "execute_result"
    }
   ],
   "source": [
    "len(moyennes)"
   ]
  },
  {
   "cell_type": "markdown",
   "metadata": {},
   "source": [
    "Dans l'exemple du dictionnaire appelé *moyennes*, il y a 4 paires clé-valeur avec :\n",
    "* clés : \"Français\", \"Mathématiques\", \"NSI\", \"Anglais\"\n",
    "* valeurs associées aux clés précédentes : 8, 16, 15, 6\n",
    "\n",
    "Dans un dictionnaire :\n",
    "* Les clés sont obligatoirement de type **immuable** (généralemment des entiers ou des chaînes de caractères).  \n",
    "* Les valeurs peuvent être de n'importe quel type\n",
    "\n",
    "En interrogeant une clef du dictionnaire, on retrouve la valeur associée :"
   ]
  },
  {
   "cell_type": "code",
   "execution_count": 4,
   "metadata": {},
   "outputs": [
    {
     "data": {
      "text/plain": [
       "15"
      ]
     },
     "execution_count": 4,
     "metadata": {},
     "output_type": "execute_result"
    }
   ],
   "source": [
    "moyennes[\"NSI\"]"
   ]
  },
  {
   "cell_type": "code",
   "execution_count": 5,
   "metadata": {},
   "outputs": [
    {
     "data": {
      "text/plain": [
       "12"
      ]
     },
     "execution_count": 5,
     "metadata": {},
     "output_type": "execute_result"
    }
   ],
   "source": [
    "moyennes[\"Anglais\"]"
   ]
  },
  {
   "cell_type": "markdown",
   "metadata": {},
   "source": [
    "Alors que le nom du dictionnaire référence l'ensemble du dictionnaire."
   ]
  },
  {
   "cell_type": "code",
   "execution_count": 6,
   "metadata": {},
   "outputs": [
    {
     "data": {
      "text/plain": [
       "{'Français': 8, 'Mathématiques': 16, 'NSI': 15, 'Anglais': 12}"
      ]
     },
     "execution_count": 6,
     "metadata": {},
     "output_type": "execute_result"
    }
   ],
   "source": [
    "moyennes"
   ]
  },
  {
   "cell_type": "markdown",
   "metadata": {},
   "source": [
    "## Intérêt d'un dictionnaire\n",
    "\n",
    "Les dictionnaires permettent **d'identifier (par les clés) à quoi corresponde chacune des valeurs**. Pour cette raison, on appelle parfois les dictionnaires des *\"p-uplets nommés\"*, par opposition aux listes encore appelées *\"p-uplets\"*\n",
    "\n",
    "Contrairement à ce que l'on peut penser, et contrairement aux listes, **l'ordre d'écriture des paires clé-valeur n'a pas d'importance**. Ainsi :"
   ]
  },
  {
   "cell_type": "code",
   "execution_count": 7,
   "metadata": {},
   "outputs": [
    {
     "data": {
      "text/plain": [
       "True"
      ]
     },
     "execution_count": 7,
     "metadata": {},
     "output_type": "execute_result"
    }
   ],
   "source": [
    "## Créons deux dictionnaires avec des ordres différents des paires clé-valeur\n",
    "d1 = {\"prénom\" : \"Alan\", \"nom\" : \"Turing\", \"activité\" : \"informaticien\"} \n",
    "d2 = {\"nom\" : \"Turing\", \"activité\" : \"informaticien\", \"prénom\" : \"Alan\"}\n",
    "\n",
    "#Les dictionnaires d1 et d2 sont bien identiques\n",
    "d1 == d2 "
   ]
  },
  {
   "cell_type": "markdown",
   "metadata": {},
   "source": [
    "## Création d'un dictionnaire et ajout de paires clés-valeurs"
   ]
  },
  {
   "cell_type": "code",
   "execution_count": 8,
   "metadata": {},
   "outputs": [
    {
     "name": "stdout",
     "output_type": "stream",
     "text": [
      "{'France': 'Paris', 'Espagne': 'Madrid', 'Allemagne': 'Bonn'}\n"
     ]
    }
   ],
   "source": [
    "capitales = {}\n",
    "capitales[\"France\"] = \"Paris\"\n",
    "capitales[\"Espagne\"] = \"Madrid\"\n",
    "capitales[\"Allemagne\"] = \"Bonn\"\n",
    "print(capitales)"
   ]
  },
  {
   "cell_type": "code",
   "execution_count": 9,
   "metadata": {},
   "outputs": [
    {
     "data": {
      "text/plain": [
       "'Paris'"
      ]
     },
     "execution_count": 9,
     "metadata": {},
     "output_type": "execute_result"
    }
   ],
   "source": [
    "capitales[\"France\"]"
   ]
  },
  {
   "cell_type": "markdown",
   "metadata": {},
   "source": [
    "Un  dictionnaire est <b>mutable</b>.  On peut en modifier le contenu et supprimer des paires clé-valeur."
   ]
  },
  {
   "cell_type": "code",
   "execution_count": 10,
   "metadata": {},
   "outputs": [
    {
     "data": {
      "text/plain": [
       "{'France': 'Paris',\n",
       " 'Espagne': 'Madrid',\n",
       " 'Allemagne': 'Berlin',\n",
       " 'Belgique': 'Bruxelles'}"
      ]
     },
     "execution_count": 10,
     "metadata": {},
     "output_type": "execute_result"
    }
   ],
   "source": [
    "capitales[\"Allemagne\"] = \"Berlin\" # Cette clef existe déjà : il l'écrase.\n",
    "capitales[\"Belgique\"] = \"Bruxelles\"\n",
    "capitales"
   ]
  },
  {
   "cell_type": "markdown",
   "metadata": {},
   "source": [
    "<code>del()</code> permet de supprimer des clés."
   ]
  },
  {
   "cell_type": "code",
   "execution_count": 11,
   "metadata": {},
   "outputs": [
    {
     "data": {
      "text/plain": [
       "{'Espagne': 'Madrid', 'Allemagne': 'Berlin', 'Belgique': 'Bruxelles'}"
      ]
     },
     "execution_count": 11,
     "metadata": {},
     "output_type": "execute_result"
    }
   ],
   "source": [
    "del capitales[\"France\"]\n",
    "capitales"
   ]
  },
  {
   "cell_type": "markdown",
   "metadata": {},
   "source": [
    "# Parcourir un dictionnaire\n",
    "\n",
    "Une boucle `for` est particulièrement adaptée pour parcourir les éléments d'un dictionnaire. On peut parcourir :\n",
    "\n",
    "* Les clés du dictionnaire\n",
    "* les valeurs du dictionnaire\n",
    "* les couples clé-valeur\n",
    "\n",
    "**Attention** : Comme l'ordre des paires clé_valeur n'a pas d'importance, lorsqu'on va itérer sur un dictionnaire (rappel : itérer = parcourir avec une boucle for), il ne faut pas s'attendre à systématiquement obtenir les paires clé-valeurs dans l'ordre utilisé lors de la définition du dictionnaire.\n",
    "\n",
    "## Parcourir les clés d'un dictionnaire \n",
    "\n",
    "On utilise la méthode <code>keys()</code> pour obtenir toutes les clés du dictionnaire. Il suffit ensuite de les parcourir avec une boucle `for`"
   ]
  },
  {
   "cell_type": "code",
   "execution_count": 12,
   "metadata": {},
   "outputs": [
    {
     "name": "stdout",
     "output_type": "stream",
     "text": [
      "Français\n",
      "Mathématiques\n",
      "NSI\n",
      "Anglais\n"
     ]
    }
   ],
   "source": [
    "for matiere in moyennes.keys():\n",
    "    print(matiere)"
   ]
  },
  {
   "cell_type": "markdown",
   "metadata": {},
   "source": [
    "## Parcourir les valeurs d'un dictionnaire \n",
    "\n",
    "On utilise la méthode <code>values()</code> pour obtenir toutes les clés du dictionnaire. Il suffit ensuite de les parcourir avec une boucle `for`"
   ]
  },
  {
   "cell_type": "code",
   "execution_count": 13,
   "metadata": {},
   "outputs": [
    {
     "name": "stdout",
     "output_type": "stream",
     "text": [
      "8\n",
      "16\n",
      "15\n",
      "12\n"
     ]
    }
   ],
   "source": [
    "for moy in moyennes.values():\n",
    "    print(moy)"
   ]
  },
  {
   "cell_type": "markdown",
   "metadata": {},
   "source": [
    "## Parcourir les couples clé-valeur d'un dictionnaire\n",
    "\n",
    "On utilise la méthode `items()` pour obtenir toutes les paires clé-valeur du dictionnaire. Il suffit ensuite de les parcourir avec une boucle `for`. Les paires clé-valeur sont renvoyées sous forme de `tuple` (clé, valeur)"
   ]
  },
  {
   "cell_type": "code",
   "execution_count": 14,
   "metadata": {},
   "outputs": [
    {
     "name": "stdout",
     "output_type": "stream",
     "text": [
      "('Français', 8)\n",
      "('Mathématiques', 16)\n",
      "('NSI', 15)\n",
      "('Anglais', 12)\n"
     ]
    }
   ],
   "source": [
    "for paire in moyennes.items():\n",
    "    print(paire)"
   ]
  },
  {
   "cell_type": "markdown",
   "metadata": {},
   "source": [
    "Dans l'exemple précédent la variable de boucle *paire* est un `tuple`. On peut alors directement la noter sous forme de tuple *(matiere, moy)* :"
   ]
  },
  {
   "cell_type": "code",
   "execution_count": 15,
   "metadata": {},
   "outputs": [
    {
     "name": "stdout",
     "output_type": "stream",
     "text": [
      "8 de moyenne en Français\n",
      "16 de moyenne en Mathématiques\n",
      "15 de moyenne en NSI\n",
      "12 de moyenne en Anglais\n"
     ]
    }
   ],
   "source": [
    "for (matiere, moy) in moyennes.items():\n",
    "    print (moy, \"de moyenne en\", matiere)"
   ]
  },
  {
   "cell_type": "markdown",
   "metadata": {},
   "source": [
    "Cette façon de faire est très pratique...\n",
    "\n",
    "Comme les parenthèses sont facultatives dans les `tuple` (voirs cours sur les listes et les tuples), on peut donc plus simplement écrire la variable de boucle *paire* comme *matiere, moy*. Cette écriture est très courante : il faut donc la connaître ! "
   ]
  },
  {
   "cell_type": "code",
   "execution_count": null,
   "metadata": {},
   "outputs": [],
   "source": [
    "for matiere, moy in moyennes.items():\n",
    "    print (moy, \"de moyenne en\", matiere)"
   ]
  },
  {
   "cell_type": "markdown",
   "metadata": {},
   "source": [
    "## Remarque\n",
    "\n",
    "Attention, si on parcourt un dictionnaire sans faire appel aux méthodes `keys()`, `values()` ou `items()`, **PAR DEFAUT** on parcourt **LES CLES**. \n",
    "\n",
    "**Pourquoi ?**  \n",
    "Il faut bien comprendre qu'il n'y a pas équivalence entre clé et valeur, c'est-à-dire que leur rôle sont bien distincts. Il faut voir les clés comme le *\"point d'entrée\"* pour interroger le dictionnaire et les valeurs comme *\"la réponse à cette interrogation\"* "
   ]
  },
  {
   "cell_type": "code",
   "execution_count": 16,
   "metadata": {},
   "outputs": [
    {
     "name": "stdout",
     "output_type": "stream",
     "text": [
      "Français\n",
      "Mathématiques\n",
      "NSI\n",
      "Anglais\n"
     ]
    }
   ],
   "source": [
    "for moy in moyennes:\n",
    "    print(moy)"
   ]
  },
  {
   "cell_type": "markdown",
   "metadata": {},
   "source": [
    "# Test d'appartenance dans un dictionnaire\n",
    "\n",
    "Pour les mêmes raisons que celles expliquées dans la remarque précédente, une recherche grâce à l'opérateur `in` s'effectue **dans les clés** du dictionnaire.\n",
    "\n",
    "Pour des raisons non abordées ici et qui ont un rapport avec la structure de donnée (*table de hash*) qui *\"se cache\"* derrière le dictionnaire , la recherche (**dans les clés !!**) dans un dictionnaire est beaucoup plus efficace que la recherche dans une liste."
   ]
  },
  {
   "cell_type": "code",
   "execution_count": 17,
   "metadata": {},
   "outputs": [
    {
     "data": {
      "text/plain": [
       "True"
      ]
     },
     "execution_count": 17,
     "metadata": {},
     "output_type": "execute_result"
    }
   ],
   "source": [
    "\"Anglais\" in  moyennes"
   ]
  },
  {
   "cell_type": "code",
   "execution_count": 18,
   "metadata": {},
   "outputs": [
    {
     "data": {
      "text/plain": [
       "False"
      ]
     },
     "execution_count": 18,
     "metadata": {},
     "output_type": "execute_result"
    }
   ],
   "source": [
    "\"Espagnol\" in  moyennes"
   ]
  },
  {
   "cell_type": "code",
   "execution_count": 19,
   "metadata": {},
   "outputs": [
    {
     "data": {
      "text/plain": [
       "True"
      ]
     },
     "execution_count": 19,
     "metadata": {},
     "output_type": "execute_result"
    }
   ],
   "source": [
    "'Anglais' in  moyennes.keys()"
   ]
  },
  {
   "cell_type": "code",
   "execution_count": 20,
   "metadata": {},
   "outputs": [
    {
     "data": {
      "text/plain": [
       "False"
      ]
     },
     "execution_count": 20,
     "metadata": {},
     "output_type": "execute_result"
    }
   ],
   "source": [
    "'Anglais' in  moyennes.values()"
   ]
  },
  {
   "cell_type": "code",
   "execution_count": 21,
   "metadata": {},
   "outputs": [
    {
     "data": {
      "text/plain": [
       "True"
      ]
     },
     "execution_count": 21,
     "metadata": {},
     "output_type": "execute_result"
    }
   ],
   "source": [
    "12 in  moyennes.values()"
   ]
  }
 ],
 "metadata": {
  "kernelspec": {
   "display_name": "Python 3",
   "language": "python",
   "name": "python3"
  },
  "language_info": {
   "codemirror_mode": {
    "name": "ipython",
    "version": 3
   },
   "file_extension": ".py",
   "mimetype": "text/x-python",
   "name": "python",
   "nbconvert_exporter": "python",
   "pygments_lexer": "ipython3",
   "version": "3.7.2"
  }
 },
 "nbformat": 4,
 "nbformat_minor": 2
}
