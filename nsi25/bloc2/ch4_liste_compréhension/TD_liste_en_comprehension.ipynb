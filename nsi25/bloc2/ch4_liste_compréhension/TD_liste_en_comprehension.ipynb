{
 "cells": [
  {
   "cell_type": "markdown",
   "metadata": {},
   "source": [
    "# Exercice 1 : niveau facile\n",
    "\n",
    "1. Sans l'aide de l'ordinateur, écrire la liste générée par l'instruction suivante"
   ]
  },
  {
   "cell_type": "code",
   "execution_count": null,
   "metadata": {},
   "outputs": [],
   "source": [
    "liste = [(10-x) for x in range(11)]"
   ]
  },
  {
   "cell_type": "markdown",
   "metadata": {},
   "source": [
    "2. Vérifier à l'aide de l'ordinateur\n",
    "\n",
    "3. Compléter le code ci-dessous permettant de générer la même liste (sans utiliser une syntaxe de liste en compréhension)"
   ]
  },
  {
   "cell_type": "code",
   "execution_count": null,
   "metadata": {},
   "outputs": [],
   "source": [
    "liste = [0]*11\n",
    "for i in range(11):\n",
    "    # A compléter\n",
    "\n",
    "print(liste)"
   ]
  },
  {
   "cell_type": "markdown",
   "metadata": {},
   "source": [
    "4. Vérifier à l'aide de l'ordinateur"
   ]
  },
  {
   "cell_type": "markdown",
   "metadata": {},
   "source": [
    "# Exercice 2 : niveau intermédiaire\n",
    "\n",
    "1. Sans l'aide de l'ordinateur, écrire la liste générée par l'instruction suivante"
   ]
  },
  {
   "cell_type": "code",
   "execution_count": null,
   "metadata": {},
   "outputs": [],
   "source": [
    "liste = [lettre for lettre in \"informatique\" if lettre in \"aeiouy\"]"
   ]
  },
  {
   "cell_type": "markdown",
   "metadata": {},
   "source": [
    "2. Vérifier à l'aide de l'ordinateur\n",
    "\n",
    "3. compléter le code ci-dessous permettant de générer la même liste sans utiliser la syntaxe de liste en compréhension"
   ]
  },
  {
   "cell_type": "code",
   "execution_count": null,
   "metadata": {},
   "outputs": [],
   "source": [
    "liste = [ ]\n",
    "\n",
    "for lettre in \"informatique\":\n",
    "    # A compléter\n",
    "    \n",
    "print(liste)"
   ]
  },
  {
   "cell_type": "markdown",
   "metadata": {},
   "source": [
    "# Exercice 3 : niveau intermédiaire\n",
    "\n",
    "\n",
    "1. Ecrire la ligne de code permettant d'importer la fonction `randint` du module `random`\n",
    "\n",
    "2. Ecrire la ligne de code permettant d'obtenir la documentation de la fonction `randint` puis lire cette documentation\n",
    "\n",
    "3. En utilisant la syntaxe de liste par compréhension, construire une liste contenant 20 chiffres tirés au hasard entre 0 et 100\n",
    "\n",
    "*(conseil : pour ceux qui ont des difficultés, commencer par écrire le code sans utiliser de syntaxe de liste en compréhension)*"
   ]
  },
  {
   "cell_type": "markdown",
   "metadata": {},
   "source": [
    "# Exercice 4 : niveau difficile\n",
    "\n",
    "1. En utilisant la syntaxe de liste par compréhension, construire le tableau de taille $10\\times10$ ci-dessous\n",
    "\n",
    "```python\n",
    "[[0, 0, 0, 0, 0, 0, 0, 0, 0, 0],\n",
    " [0, 0, 0, 0, 0, 0, 0, 0, 0, 0],\n",
    " [0, 0, 0, 0, 0, 0, 0, 0, 0, 0],\n",
    " [0, 0, 0, 0, 0, 0, 0, 0, 0, 0],\n",
    " [0, 0, 0, 0, 0, 0, 0, 0, 0, 0],\n",
    " [0, 0, 0, 0, 0, 0, 0, 0, 0, 0],\n",
    " [0, 0, 0, 0, 0, 0, 0, 0, 0, 0],\n",
    " [0, 0, 0, 0, 0, 0, 0, 0, 0, 0],\n",
    " [0, 0, 0, 0, 0, 0, 0, 0, 0, 0],\n",
    " [0, 0, 0, 0, 0, 0, 0, 0, 0, 0]]\n",
    "```"
   ]
  },
  {
   "cell_type": "markdown",
   "metadata": {},
   "source": [
    "2. Sans l'aide de l'ordinateur, quel est le tableau donné par la syntaxe ci-dessous ?"
   ]
  },
  {
   "cell_type": "code",
   "execution_count": null,
   "metadata": {},
   "outputs": [],
   "source": [
    "[[(0 if i!=j else 1) for i in range(10) ] for j in range(10)]"
   ]
  },
  {
   "cell_type": "markdown",
   "metadata": {},
   "source": [
    "3. Vérifier votre réponse précédente à l'aide de l'ordinateur\n",
    "4. Modifier la ligne de code précédente afin d'obtenir le tableau ci-dessous\n",
    "\n",
    "```python\n",
    "[[0, 0, 0, 0, 0, 0, 0, 0, 0, 1],\n",
    " [0, 0, 0, 0, 0, 0, 0, 0, 1, 0],\n",
    " [0, 0, 0, 0, 0, 0, 0, 1, 0, 0],\n",
    " [0, 0, 0, 0, 0, 0, 1, 0, 0, 0],\n",
    " [0, 0, 0, 0, 0, 1, 0, 0, 0, 0],\n",
    " [0, 0, 0, 0, 1, 0, 0, 0, 0, 0],\n",
    " [0, 0, 0, 1, 0, 0, 0, 0, 0, 0],\n",
    " [0, 0, 1, 0, 0, 0, 0, 0, 0, 0],\n",
    " [0, 1, 0, 0, 0, 0, 0, 0, 0, 0],\n",
    " [1, 0, 0, 0, 0, 0, 0, 0, 0, 0]]\n",
    "```"
   ]
  },
  {
   "cell_type": "markdown",
   "metadata": {},
   "source": [
    "# Exercice 5 : niveau difficile\n",
    "\n",
    "En utilisant la syntaxe de liste par compréhension, construire le tableau `t` de taille $10\\times10$ ci-dessous. On pourra remarquer que `t[i][j] = i*j`.\n",
    "\n",
    "```python\n",
    "t =[[1, 2, 3, 4, 5, 6, 7, 8, 9, 10],\n",
    "    [2, 4, 6, 8, 10, 12, 14, 16, 18, 20],\n",
    "    [3, 6, 9, 12, 15, 18, 21, 24, 27, 30],\n",
    "    [4, 8, 12, 16, 20, 24, 28, 32, 36, 40],\n",
    "    [5, 10, 15, 20, 25, 30, 35, 40, 45, 50],\n",
    "    [6, 12, 18, 24, 30, 36, 42, 48, 54, 60],\n",
    "    [7, 14, 21, 28, 35, 42, 49, 56, 63, 70],\n",
    "    [8, 16, 24, 32, 40, 48, 56, 64, 72, 80],\n",
    "    [9, 18, 27, 36, 45, 54, 63, 72, 81, 90],\n",
    "    [10, 20, 30, 40, 50, 60, 70, 80, 90, 100]]\n",
    "```"
   ]
  }
 ],
 "metadata": {
  "kernelspec": {
   "display_name": "Python 3 (ipykernel)",
   "language": "python",
   "name": "python3"
  },
  "language_info": {
   "codemirror_mode": {
    "name": "ipython",
    "version": 3
   },
   "file_extension": ".py",
   "mimetype": "text/x-python",
   "name": "python",
   "nbconvert_exporter": "python",
   "pygments_lexer": "ipython3",
   "version": "3.8.10"
  },
  "latex_envs": {
   "LaTeX_envs_menu_present": true,
   "autoclose": false,
   "autocomplete": true,
   "bibliofile": "biblio.bib",
   "cite_by": "apalike",
   "current_citInitial": 1,
   "eqLabelWithNumbers": true,
   "eqNumInitial": 1,
   "hotkeys": {
    "equation": "Ctrl-E",
    "itemize": "Ctrl-I"
   },
   "labels_anchors": false,
   "latex_user_defs": false,
   "report_style_numbering": false,
   "user_envs_cfg": false
  }
 },
 "nbformat": 4,
 "nbformat_minor": 4
}
