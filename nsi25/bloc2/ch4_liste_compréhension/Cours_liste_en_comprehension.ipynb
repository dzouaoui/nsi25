{
 "cells": [
  {
   "cell_type": "markdown",
   "metadata": {},
   "source": [
    "# Listes en compréhension\n",
    "\n",
    "La compréhension de listes est une \"syntaxe condensée\" permettant de construire une liste. \n",
    "\n",
    "**Exemple :** Imaginons que l'on souhaite la liste des entiers élevés au carré..."
   ]
  },
  {
   "cell_type": "code",
   "execution_count": 2,
   "metadata": {},
   "outputs": [
    {
     "name": "stdout",
     "output_type": "stream",
     "text": [
      "[0, 1, 4, 9, 16, 25, 36, 49, 64, 81]\n"
     ]
    }
   ],
   "source": [
    "# Méthode \"classique\" utilisant une boucle for\n",
    "liste =[]\n",
    "for i in range(10):\n",
    "    liste.append(i**2)\n",
    "\n",
    "print(liste)"
   ]
  },
  {
   "cell_type": "code",
   "execution_count": 3,
   "metadata": {},
   "outputs": [
    {
     "name": "stdout",
     "output_type": "stream",
     "text": [
      "[0, 1, 4, 9, 16, 25, 36, 49, 64, 81]\n"
     ]
    }
   ],
   "source": [
    "# Méthode par compréhension de liste : beaucoup plus court ! ... et plus lisible (la plupart du temps)\n",
    "liste2 = [i**2 for i in range(10)]\n",
    "print(liste2)"
   ]
  },
  {
   "cell_type": "markdown",
   "metadata": {},
   "source": [
    "L'avantage des compréhensions de liste, c'est que le code ressemble à du langage humain parlé (en anglais)\n",
    "`[i**2 for i in range(10)]` se lit \"la liste des i² pour i compris entre 0 et 9\""
   ]
  },
  {
   "cell_type": "markdown",
   "metadata": {},
   "source": [
    "Imaginons maintenant que l'on souhaite la liste des carrés des nombres pairs..."
   ]
  },
  {
   "cell_type": "code",
   "execution_count": 4,
   "metadata": {},
   "outputs": [
    {
     "name": "stdout",
     "output_type": "stream",
     "text": [
      "[0, 4, 16, 36, 64]\n"
     ]
    }
   ],
   "source": [
    "# Méthode \"classique\"\n",
    "for i in range(10):\n",
    "    if i % 2 == 0 :\n",
    "        liste.append(i**2)\n",
    "\n",
    "print(liste)"
   ]
  },
  {
   "cell_type": "code",
   "execution_count": 5,
   "metadata": {},
   "outputs": [
    {
     "name": "stdout",
     "output_type": "stream",
     "text": [
      "[0, 4, 16, 36, 64]\n"
     ]
    }
   ],
   "source": [
    "# Méthode par compréhension de liste : beaucoup plus court ! ... et plus lisible (selon les points de vue)\n",
    "liste2 = [i**2 for i in range(10) if i % 2 == 0]\n",
    "print(liste2)"
   ]
  },
  {
   "cell_type": "markdown",
   "metadata": {},
   "source": [
    "Encore une fois, cette construction ressemble à du langage parlé \n",
    "`[i**2 for i in range(10) if i % 2 == 0]` se lit \"la liste des i² pour i compris entre 0 et 9 si i est pair\" \n",
    "\n",
    "# Syntaxe de liste en compréhension\n",
    "\n",
    "`[expression(i) for i in objet]`\n",
    "\n",
    "avec :\n",
    "* expression(i) : une expression dépendant de i\n",
    "* objet : objet sur lequel on peut itérer (parcourir par une boucle for)\n",
    "\n",
    "# Création de listes emboîtées par compréhension\n",
    "\n",
    "Il convient dans ce cas de bien distinguer boucle interne et boucle externe. Dans les exemples qui suivent, `x` parcourt la boucle externe et `y` la boucle interne\n",
    "\n",
    "Dans la syntaxe de liste en compréhension, les boucles s'écrivent dans l'ordre \"boucle externe puis boucle interne\""
   ]
  },
  {
   "cell_type": "code",
   "execution_count": 2,
   "metadata": {},
   "outputs": [
    {
     "name": "stdout",
     "output_type": "stream",
     "text": [
      "[[0, 0], [0, 1], [0, 2], [0, 3], [1, 0], [1, 1], [1, 2], [1, 3], [2, 0], [2, 1], [2, 2], [2, 3]]\n"
     ]
    }
   ],
   "source": [
    "# Méthode \"classique\"\n",
    "\n",
    "liste = []\n",
    "for x in range(3):\n",
    "    for y in range(4):\n",
    "        liste.append([x,y])\n",
    "\n",
    "print(liste)"
   ]
  },
  {
   "cell_type": "code",
   "execution_count": 3,
   "metadata": {},
   "outputs": [
    {
     "name": "stdout",
     "output_type": "stream",
     "text": [
      "[[0, 0], [0, 1], [0, 2], [0, 3], [1, 0], [1, 1], [1, 2], [1, 3], [2, 0], [2, 1], [2, 2], [2, 3]]\n"
     ]
    }
   ],
   "source": [
    "# Même chose en liste par compréhension\n",
    "\n",
    "liste = [[x,y] for x in range(3) for y in range(4)]\n",
    "\n",
    "print(liste)"
   ]
  },
  {
   "cell_type": "markdown",
   "metadata": {},
   "source": [
    "Un dernier exemple plus complexe... mais il faut faire attention que cela ne devienne pas illisible"
   ]
  },
  {
   "cell_type": "code",
   "execution_count": 4,
   "metadata": {},
   "outputs": [
    {
     "name": "stdout",
     "output_type": "stream",
     "text": [
      "[[0, 1], [0, 2], [0, 3], [1, 0], [1, 2], [1, 3], [2, 0], [2, 1], [2, 3]]\n"
     ]
    }
   ],
   "source": [
    "liste = [[x,y] for x in range(3) for y in range(4) if x !=y]\n",
    "\n",
    "print(liste)"
   ]
  }
 ],
 "metadata": {
  "kernelspec": {
   "display_name": "Python 3 (ipykernel)",
   "language": "python",
   "name": "python3"
  },
  "language_info": {
   "codemirror_mode": {
    "name": "ipython",
    "version": 3
   },
   "file_extension": ".py",
   "mimetype": "text/x-python",
   "name": "python",
   "nbconvert_exporter": "python",
   "pygments_lexer": "ipython3",
   "version": "3.8.10"
  },
  "latex_envs": {
   "LaTeX_envs_menu_present": true,
   "autoclose": false,
   "autocomplete": true,
   "bibliofile": "biblio.bib",
   "cite_by": "apalike",
   "current_citInitial": 1,
   "eqLabelWithNumbers": true,
   "eqNumInitial": 1,
   "hotkeys": {
    "equation": "Ctrl-E",
    "itemize": "Ctrl-I"
   },
   "labels_anchors": false,
   "latex_user_defs": false,
   "report_style_numbering": false,
   "user_envs_cfg": false
  }
 },
 "nbformat": 4,
 "nbformat_minor": 2
}
