{
 "cells": [
  {
   "cell_type": "markdown",
   "metadata": {},
   "source": [
    "# Exercice 1\n",
    "\n",
    "On reprend la fonction `indicemax_tableau` du cours qui renvoie l'indice du nombre le plus grand du tableau."
   ]
  },
  {
   "cell_type": "code",
   "execution_count": 9,
   "metadata": {},
   "outputs": [],
   "source": [
    "def indicemax_tableau(t):\n",
    "    m = 0\n",
    "    for i in range(len(t)):\n",
    "        if t[i] > t[m] :\n",
    "            m = i\n",
    "    return m"
   ]
  },
  {
   "cell_type": "markdown",
   "metadata": {},
   "source": [
    "1. Ecrire la documentation de cette fonction sous la forme d'une **docstring** (Reprendre le modèle de documentation du cours `bloc6/fonctions/Cours_definition_de_fonction` et le compléter)\n",
    "2. On a vu en cours que l'appel `indicemax_tableau([])` n'avait pas de sens et fournissait un résultat erroné. Ecrire une **assertion** permettant d'éviter ce problème\n",
    "3. Tester"
   ]
  },
  {
   "cell_type": "markdown",
   "metadata": {},
   "source": [
    "# Exercice 2\n",
    "\n",
    "On considère la fonction ci-dessous qui renvoie dans un `tuple` le quotient et le reste de la [**division euclienne**](https://fr.wikipedia.org/wiki/Division_euclidienne) de deux entiers\n",
    "\n",
    "1. Parcourir la  [**page wikipedia**](https://fr.wikipedia.org/wiki/Division_euclidienne) pour se rappeler ce qu'est une division euclidienne.\n",
    "2. Ecrire une **assertion** permettant de tester le résultat obtenu (postcondition)\n",
    "3. Faire quelques appels de cette fonction. Le code proposé est-il correct ?"
   ]
  },
  {
   "cell_type": "code",
   "execution_count": 5,
   "metadata": {},
   "outputs": [],
   "source": [
    "def divisionEuclidienne(a, b):\n",
    "    \"\"\"\n",
    "    Description de la fonction : calcule la division entière de 2 nombres\n",
    "    a, b (int) : 2 entiers\n",
    "    return (tuple) : (quotient, reste)\n",
    "    \"\"\"\n",
    "    resultat = (a//b, a%b)\n",
    "    return resultat"
   ]
  },
  {
   "cell_type": "code",
   "execution_count": 7,
   "metadata": {},
   "outputs": [
    {
     "data": {
      "text/plain": [
       "(3, 1)"
      ]
     },
     "execution_count": 7,
     "metadata": {},
     "output_type": "execute_result"
    }
   ],
   "source": [
    "divisionEuclidienne(10,3)"
   ]
  }
 ],
 "metadata": {
  "kernelspec": {
   "display_name": "Python 3",
   "language": "python",
   "name": "python3"
  },
  "language_info": {
   "codemirror_mode": {
    "name": "ipython",
    "version": 3
   },
   "file_extension": ".py",
   "mimetype": "text/x-python",
   "name": "python",
   "nbconvert_exporter": "python",
   "pygments_lexer": "ipython3",
   "version": "3.10.12"
  },
  "latex_envs": {
   "LaTeX_envs_menu_present": true,
   "autoclose": false,
   "autocomplete": true,
   "bibliofile": "biblio.bib",
   "cite_by": "apalike",
   "current_citInitial": 1,
   "eqLabelWithNumbers": true,
   "eqNumInitial": 1,
   "hotkeys": {
    "equation": "Ctrl-E",
    "itemize": "Ctrl-I"
   },
   "labels_anchors": false,
   "latex_user_defs": false,
   "report_style_numbering": false,
   "user_envs_cfg": false
  }
 },
 "nbformat": 4,
 "nbformat_minor": 4
}
