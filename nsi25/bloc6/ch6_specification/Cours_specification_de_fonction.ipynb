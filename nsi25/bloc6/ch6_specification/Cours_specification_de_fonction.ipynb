{
 "cells": [
  {
   "cell_type": "markdown",
   "metadata": {},
   "source": [
    "# Mon programme fonctionne t-il ? (1er cours)\n",
    "\n",
    "C'est une question très importante :la preuve !!\n",
    "\n",
    "Le vol 501 d'Ariane 5 : le bug le plus cher de l'histoire de l'informatique...\n",
    "![vol501](img/vol501.gif)\n",
    "_Source : https://www.supinfo.com_\n",
    "\n",
    "Une vidéo plus nette du crash est disponible [ici](https://www.youtube.com/watch?v=PK_yguLapgA&t=108s)\n",
    "\n",
    "## Constats\n",
    "\n",
    "_...Quelques idées reçues qu'ont les élèves sur les erreurs de programme en informatique..._\n",
    "\n",
    "#### Constat 1 : Ce n'est pas parce qu'un programme ne plante pas qu'il fonctionne correctement\n",
    "#### Constat 2 : Ce n'est pas parce qu'un programme fonctionne dans quelques cas que vous pouvez garantir qu'il fonctionnera toujours\n",
    "\n",
    "La preuve :"
   ]
  },
  {
   "cell_type": "code",
   "execution_count": null,
   "metadata": {},
   "outputs": [],
   "source": [
    "def JaiMonBac(moyenne):\n",
    "    if moyenne > 10 :\n",
    "        print(\"Bravo vous avez obtenu votre bac\")\n",
    "    else:\n",
    "        print(\"Malheureusement non...\") "
   ]
  },
  {
   "cell_type": "markdown",
   "metadata": {},
   "source": [
    "#### Constat 3 : Pour savoir si son programme fonctionne, un élève demande à son professeur...\n",
    "\n",
    "$\\Longrightarrow$ Ceci n'a pas de sens : dans la \"vraie vie\" des informaticiens, aucun professeur omniscient ne va valider votre programme et encore moins le corriger \n",
    "\n",
    "**Activité 1 :** _Dans le laboratoire du CNES, une équipe d'informaticiens est en train de développer un programme qui doit calculer l'accélération moyenne de la fusée. Il existe 2 versions différentes du programme : `accelerationMoyennev1` et `accelerationMoyennev2`, quelle version est la plus **dangereuse** ?_\n",
    "\n",
    "_Remarque : Les programmes python ont été volontairement offusqué(rendu illisible) car le but n'est pas de les corriger_"
   ]
  },
  {
   "cell_type": "code",
   "execution_count": null,
   "metadata": {},
   "outputs": [],
   "source": [
    "def accelerationMoyennev1 (*args):\n",
    "    import base64, codecs\n",
    "    magic = 'cHJp'\n",
    "    love = 'oaDb'\n",
    "    god = 'MTAv'\n",
    "    destiny = 'ZPx='\n",
    "    joy = '\\x72\\x6f\\x74\\x31\\x33'\n",
    "    trust = eval('\\x6d\\x61\\x67\\x69\\x63') + eval('\\x63\\x6f\\x64\\x65\\x63\\x73\\x2e\\x64\\x65\\x63\\x6f\\x64\\x65\\x28\\x6c\\x6f\\x76\\x65\\x2c\\x20\\x6a\\x6f\\x79\\x29') + eval('\\x67\\x6f\\x64') + eval('\\x63\\x6f\\x64\\x65\\x63\\x73\\x2e\\x64\\x65\\x63\\x6f\\x64\\x65\\x28\\x64\\x65\\x73\\x74\\x69\\x6e\\x79\\x2c\\x20\\x6a\\x6f\\x79\\x29')\n",
    "    eval(compile(base64.b64decode(eval('\\x74\\x72\\x75\\x73\\x74')),'<string>','exec'))"
   ]
  },
  {
   "cell_type": "code",
   "execution_count": null,
   "metadata": {},
   "outputs": [],
   "source": [
    "accelerationMoyennev1(-10,23,5)"
   ]
  },
  {
   "cell_type": "code",
   "execution_count": null,
   "metadata": {},
   "outputs": [],
   "source": [
    "def accelerationMoyennev2 (*args):\n",
    "    import base64, codecs\n",
    "    magic = 'diA9IHN1bShhcmdzKS9sZW4oYXJn'\n",
    "    love = 'plxAPzyzVTSfoPuupzqmXGbAPvNt'\n",
    "    god = 'ICBwcmludCh2KQ0KZWxzZSA6ICAN'\n",
    "    destiny = 'PvNtVPOjpzyhqPtgZv4kZlNdVULc'\n",
    "    joy = '\\x72\\x6f\\x74\\x31\\x33'\n",
    "    trust = eval('\\x6d\\x61\\x67\\x69\\x63') + eval('\\x63\\x6f\\x64\\x65\\x63\\x73\\x2e\\x64\\x65\\x63\\x6f\\x64\\x65\\x28\\x6c\\x6f\\x76\\x65\\x2c\\x20\\x6a\\x6f\\x79\\x29') + eval('\\x67\\x6f\\x64') + eval('\\x63\\x6f\\x64\\x65\\x63\\x73\\x2e\\x64\\x65\\x63\\x6f\\x64\\x65\\x28\\x64\\x65\\x73\\x74\\x69\\x6e\\x79\\x2c\\x20\\x6a\\x6f\\x79\\x29')\n",
    "    eval(compile(base64.b64decode(eval('\\x74\\x72\\x75\\x73\\x74')),'<string>','exec'))"
   ]
  },
  {
   "cell_type": "code",
   "execution_count": null,
   "metadata": {},
   "outputs": [],
   "source": [
    "accelerationMoyennev2(-10,23,5)"
   ]
  },
  {
   "cell_type": "markdown",
   "metadata": {},
   "source": [
    "|Valeurs en entrées de la fonction|Résultat de `accelerationMoyennev1`|Résultat de `accelerationMoyennev1`|Résultat exact de professeur omniscient|\n",
    "|:-:|:-:|:-:|:-:|\n",
    "|10,10,10|Erreur|10|10|\n",
    "|-65, 4, 12|Erreur|-16.33|-16.33|\n",
    "|32, 0 ,7|Erreur|-27.69|13|\n",
    "|10,15,20|Erreur|15|15|\n",
    "|-10,23,5|Erreur|6|6|\n",
    "\n",
    "#### Constat 4 : Un programme qui plante est moins grave qu'un programme qui vous donne un mauvais résultat...\n",
    "\n",
    "Oui et cela contrairement à vos réflexes d'élèves... Pourquoi ?\n",
    "\n",
    "En **phase de développement** :\n",
    "\n",
    "* Une fonction qui plante, on sait qu'elle ne fonctionne pas ! \n",
    "* Alors qu'une fonction qui renvoie un résultat faux (surtout quand c'est seulement de temps en temps), cela peut passer inaperçu et entraîner des conséquences fâcheuses dans la suite du programme...\n",
    "\n",
    "\n",
    "**Activité 2 :** Soit la fonction `indicemax_tableau` qui renvoie l'indice du plus grand élément du tableau et les 2 appels suivants : `indicemax_tableau([12,3,6,45,6])` et `indicemax_tableau([])`. Les résultats obtenus sont-ils corrects ? Si la réponse est non, quels résultats auraient-on dû obtenir ? "
   ]
  },
  {
   "cell_type": "code",
   "execution_count": null,
   "metadata": {},
   "outputs": [],
   "source": [
    "def indicemax_tableau(t):\n",
    "    m = 0\n",
    "    for i in range(len(t)):\n",
    "        if t[i] > t[m] :\n",
    "            m = i\n",
    "    return m"
   ]
  },
  {
   "cell_type": "code",
   "execution_count": null,
   "metadata": {},
   "outputs": [],
   "source": [
    "indicemax_tableau([12,3,6,45,6])"
   ]
  },
  {
   "cell_type": "code",
   "execution_count": null,
   "metadata": {},
   "outputs": [],
   "source": [
    "indicemax_tableau([])"
   ]
  },
  {
   "cell_type": "markdown",
   "metadata": {},
   "source": [
    "#### Constat 5 : Dans certaines situations, il FAUT que le programme plante...\n",
    "\n",
    "... En effet, une erreur obtenue interrompt le programme alors qu'un résultat faux le laisse continuer et faire potentiellement n'importe quoi !\n",
    "\n",
    "#### Constat 6 : L'utilisateur d'un module ou d'une fonction n'est pas la même personne que celui qui en a écrit le code\n",
    "\n",
    "_Comment ces 2 personnes peuvent-elles se faire confiance ?_\n",
    "\n",
    "$\\Longrightarrow$ On rappelle qu'une fonction doit normalement être documentée (voir cours `premiere/bloc6/fonctions/Cours_definition_de_fonction`), ce qui permet au concepteur d'indiquer à toute personne (client) comment bien appeler la fonction (notamment les entrées autorisées). Malheureusement, il arrive que le client ne lise pas cette documentation...\n",
    "\n",
    "\n",
    "## La programmation par contrat\n",
    "\n",
    "\n",
    "On peut concevoir une fonction comme un **[contrat](https://fr.wikipedia.org/wiki/Programmation_par_contrat)** signé entre le **concepteur qui en a écrit le code** et le **client qui va appeler cette fonction** dans son propre programme.\n",
    "\n",
    "![contrat](img/contrat.png)\n",
    "\n",
    "**Précondition :** Les entrées doivent satisfaire certaine(s) conditions pour que le traitement de la fonction ait un sens ou soit possible (Dans l'exemple précédent, rechercher un maximum dans une liste de vide n'a pas de sens). Ces préconditions doivent garantir que l'exécution de la fonction est possible.\n",
    "**Postcondition :** En sortie de la fonction, on ajoute des conditions sur le résultat afin de garantir que le traitement a bien réalisé son travail.\n",
    "\n",
    "### `Assert`\n",
    "\n",
    "Le mot clé `assert` permet de vérifier une condition. Nous allons l'employer pour vérifier les préconditions et les postconditions.\n",
    "\n",
    "**Syntaxe :**\n",
    "```python\n",
    "assert expression_booléenne, \"message d'information\"\n",
    "```\n",
    "\n",
    "`assert` va tester la condition booléenne :\n",
    "* si celle-ci est fausse : python va générer une erreur (appelée `AssertionError` et afficher le message d'information\n",
    "* si celle-ci est vrai : l'exécution du programme continue normalement\n",
    "\n",
    "**Exemple :**"
   ]
  },
  {
   "cell_type": "code",
   "execution_count": 1,
   "metadata": {},
   "outputs": [
    {
     "ename": "AssertionError",
     "evalue": "Echec : vous n'avez pas obtenu le bac !",
     "output_type": "error",
     "traceback": [
      "\u001b[0;31m---------------------------------------------------------------------------\u001b[0m",
      "\u001b[0;31mAssertionError\u001b[0m                            Traceback (most recent call last)",
      "\u001b[0;32m/tmp/ipykernel_20481/2718274200.py\u001b[0m in \u001b[0;36m<module>\u001b[0;34m\u001b[0m\n\u001b[1;32m      1\u001b[0m \u001b[0mmoyenne_bac\u001b[0m \u001b[0;34m=\u001b[0m \u001b[0;36m8\u001b[0m\u001b[0;34m\u001b[0m\u001b[0;34m\u001b[0m\u001b[0m\n\u001b[0;32m----> 2\u001b[0;31m \u001b[0;32massert\u001b[0m \u001b[0mmoyenne_bac\u001b[0m \u001b[0;34m>\u001b[0m \u001b[0;36m10\u001b[0m\u001b[0;34m,\u001b[0m \u001b[0;34m\"Echec : vous n'avez pas obtenu le bac !\"\u001b[0m\u001b[0;34m\u001b[0m\u001b[0;34m\u001b[0m\u001b[0m\n\u001b[0m\u001b[1;32m      3\u001b[0m \u001b[0mprint\u001b[0m\u001b[0;34m(\u001b[0m\u001b[0;34m\"Bienvenue à l'Université\"\u001b[0m\u001b[0;34m)\u001b[0m\u001b[0;34m\u001b[0m\u001b[0;34m\u001b[0m\u001b[0m\n",
      "\u001b[0;31mAssertionError\u001b[0m: Echec : vous n'avez pas obtenu le bac !"
     ]
    }
   ],
   "source": [
    "moyenne_bac = 8\n",
    "assert moyenne_bac > 10, \"Echec : vous n'avez pas obtenu le bac !\"\n",
    "print(\"Bienvenue à l'Université\")"
   ]
  },
  {
   "cell_type": "code",
   "execution_count": 2,
   "metadata": {},
   "outputs": [
    {
     "name": "stdout",
     "output_type": "stream",
     "text": [
      "Bienvenue à l'Université\n"
     ]
    }
   ],
   "source": [
    "moyenne_bac = 14\n",
    "assert moyenne_bac > 10, \"Echec : vous n'avez pas obtenu le bac !\"\n",
    "print(\"Bienvenue à l'Université\")"
   ]
  },
  {
   "cell_type": "markdown",
   "metadata": {},
   "source": [
    "## Activité : la programmation par contrat appliquée au vol501 d'Ariane 5\n",
    "\n",
    "Ci-dessous on a une fonction `poussee501` dont le but est de calculer la somme des poussées des 2 réacteurs de la fusée. "
   ]
  },
  {
   "cell_type": "code",
   "execution_count": null,
   "metadata": {},
   "outputs": [],
   "source": [
    "def poussee501(reacteur1, reacteur2):\n",
    "    \"\"\"\n",
    "    Description : Calcule la somme de la poussée des 2 réacteurs\n",
    "    reacteur1, reacteur2 (int) : poussée de chaque réacteur\n",
    "    préconditions sur les entrées : les paramètres doivent être positifs !\n",
    "    return (int) : somme des 2 poussées\n",
    "    \"\"\"\n",
    "    resultat = (reacteur1 & 0b11111111) + (reacteur2 & 0b11111111) &0b11111111\n",
    "    return resultat "
   ]
  },
  {
   "cell_type": "markdown",
   "metadata": {},
   "source": [
    "1. Tester les appels suivants : `poussee501(100,25)` puis `poussee501(-100,25)`\n",
    "2. Lire la documentation de la fonction : quel appel effectué par le client ne respecte pas les préconsitions ?\n",
    "3. Ajouter une assertion permettant de tester les préconditions. Le comportement de la fonction est-il meilleur ? Pourquoi ?\n",
    "\n",
    "### Le bug qui a provoqué le crash\n",
    "\n",
    "Ce qui a provoqué le crash de la fusée est un bug \"classique\" en programmation appelée **dépassement de capacité** ou **[overflow](https://fr.wikipedia.org/wiki/D%C3%A9passement_d%27entier)**\n",
    "\n",
    "Le code de la fonction `poussee` simule volontairement un problème d'_Overflow_ comme celui qui a provoqué le crash. (En python, il est quasiment impossible de rencontrer ce problème mais l'ordinateur de bord de la fusée était programmé en *ADA*). On ne va pas chercher à corriger cette fonction mais voir comment elle se comporte et ce que peut apporter la programmation par contrat à ce problème.\n",
    "\n",
    "1. Tester les appels suivants : `poussee501(200,35)` puis `poussee501(200,300)` pour mettre en évidence le bug\n",
    "2. Ajouter une postcondition sur le résultat sous la forme d'une assertion. Le comportement de la fonction est-il meilleur ? Pourquoi ?\n",
    "\n",
    "**Ci-dessous : La même fonction avec des préconditions et des postconditions**"
   ]
  },
  {
   "cell_type": "code",
   "execution_count": null,
   "metadata": {},
   "outputs": [],
   "source": [
    "def poussee501(reacteur1, reacteur2):\n",
    "    \"\"\"\n",
    "    Description : Calcule la somme de la poussée des 2 réacteurs\n",
    "    reacteur1, reacteur2 (int) : poussée de chaque réacteur\n",
    "    préconditions sur les entrées : les paramètres doivent être positifs !\n",
    "    return (int) : somme des 2 poussées\n",
    "    \"\"\"\n",
    "    assert (reacteur1 >= 0) and (reacteur2 >= 0) , \"Alerte : les paramètres doivent être positifs !\"\n",
    "    resultat = (reacteur1 & 0b11111111) + (reacteur2 & 0b11111111) &0b11111111\n",
    "    assert reacteur1 == resultat - reacteur2, \"Echec du calcul !\"\n",
    "    return resultat\n",
    "    "
   ]
  },
  {
   "cell_type": "markdown",
   "metadata": {},
   "source": [
    "## Pour aller plus loin... (hors programme)\n",
    "\n",
    "Le terme \"erreur\" quand un programme plante est impropre : Quand un programme rencontre un problème on dit qu'il génère une **[exception](https://fr.wikipedia.org/wiki/Syst%C3%A8me_de_gestion_d%27exceptions)**\n",
    "\n",
    "Tous les langages modernes, comme python, permettent de gérer les exceptions **et de les traiter** plutôt que de se terminer brutalement. (Imaginez les futures voitures autonomes où les ordinateurs de bord ne gèrent pas les exceptions : je ne mettrai plus un pied dehors !)\n",
    "\n",
    "Pour terminer, lors du vol Ariane 5, d'une certaine façon et étonamment, le programme s'est déroulé comme prévu !!! En effet le bug a bien été détecté par l'ordinateur de bord et l'exception a été gérée par celui-ci : c'est l'ordinateur qui a lancé la procédure d'auto-destruction...."
   ]
  }
 ],
 "metadata": {
  "kernelspec": {
   "display_name": "Python 3",
   "language": "python",
   "name": "python3"
  },
  "language_info": {
   "codemirror_mode": {
    "name": "ipython",
    "version": 3
   },
   "file_extension": ".py",
   "mimetype": "text/x-python",
   "name": "python",
   "nbconvert_exporter": "python",
   "pygments_lexer": "ipython3",
   "version": "3.10.12"
  },
  "latex_envs": {
   "LaTeX_envs_menu_present": true,
   "autoclose": false,
   "autocomplete": true,
   "bibliofile": "biblio.bib",
   "cite_by": "apalike",
   "current_citInitial": 1,
   "eqLabelWithNumbers": true,
   "eqNumInitial": 1,
   "hotkeys": {
    "equation": "Ctrl-E",
    "itemize": "Ctrl-I"
   },
   "labels_anchors": false,
   "latex_user_defs": false,
   "report_style_numbering": false,
   "user_envs_cfg": false
  }
 },
 "nbformat": 4,
 "nbformat_minor": 4
}
