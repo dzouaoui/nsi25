{
 "cells": [
  {
   "cell_type": "markdown",
   "id": "cdfafa51",
   "metadata": {},
   "source": [
    "## Exercice 1\n",
    "\n",
    "On considère deux fonctions python distinctes :\n",
    "\n",
    "* L'une permettant de renvoyer les solutions d'une équation du second dedré de la forme $a.x² + b.x + c = 0$\n",
    "* L'autre permettant de renvoyer la somme de nombres contenus dans une liste\n",
    "\n",
    "1. Pour l'une de ces fonctions, il est impossible d'écrire une **postcondition** permettant d'affirmer que le résultat renvoyé est correct. Expliquer\n",
    "2. Ecrire la postcondition pour la fonction où c'est possible\n",
    "3. Comment _se donner la chance_ de détecter des éventuels bugs dans la fonction pour laquelle il est impossible d'écrire une postcondition."
   ]
  },
  {
   "cell_type": "markdown",
   "id": "d26ea117",
   "metadata": {},
   "source": [
    "## Exercice 2\n",
    "\n",
    "**Attention, dans cet exercice, le but est de mettre en évidence TOUTES les EVENTUELLES erreurs dans le code. Pas de corriger celui-ci**\n",
    "\n",
    "On considère la fonction `puissance` ci-dessous.\n",
    "\n",
    "Proposer une série de tests pour cette fonction. On pensera notamment aux \"cas limites\" (voir cours). Ecrire ces tests en mettant en oeuvre le module `doctest`. Exécuter avec le mode \"bavard\" et \"non bavard\" et analyser les résultats obtenus. La fonction `puissance` est-elle correcte ?"
   ]
  },
  {
   "cell_type": "code",
   "execution_count": null,
   "id": "7625fa5e",
   "metadata": {},
   "outputs": [],
   "source": [
    "def puissance(x, n):\n",
    "    r = 1\n",
    "    for i in range(n):\n",
    "        r = r * x\n",
    "    return r"
   ]
  },
  {
   "cell_type": "markdown",
   "id": "2d1ed607",
   "metadata": {},
   "source": [
    "## Exercice 3\n",
    "\n",
    "Faire le même exercice que précédemment avec la fonction `appartient` suivante qui renvoie `True` si la valeur `v` est dans la liste `t` et `False` sinon."
   ]
  },
  {
   "cell_type": "code",
   "execution_count": 1,
   "id": "c81f93ee",
   "metadata": {},
   "outputs": [],
   "source": [
    "def appartient(v,t):\n",
    "    for element in t :\n",
    "        if v == element :\n",
    "            trouvee = True\n",
    "        else :\n",
    "            trouvee = False\n",
    "    return trouvee"
   ]
  },
  {
   "cell_type": "markdown",
   "id": "b0f141c4",
   "metadata": {},
   "source": [
    "## Exercice 4\n",
    "\n",
    "On donne ci-dessous quatres versions différentes pour une fonction `est_croissant` dont le but est de renvoyer `True` si les éléments d'un tableau d'entiers sont rangés dans l'ordre croissant et `False` sinon. Parmi ces quatres versions, une seule est correcte.\n",
    "\n",
    "1. Pour chaque version avec erreur, écrire un test mettant en évidence le problème.\n",
    "2. Vérifier que la version correcte valide tous les tests précedemment écrits"
   ]
  },
  {
   "cell_type": "code",
   "execution_count": null,
   "id": "05a98ab9",
   "metadata": {},
   "outputs": [],
   "source": [
    "#Version 1\n",
    "\n",
    "def est_croissant(t):\n",
    "    i = len(t) - 1\n",
    "    while i >= 0:\n",
    "        if t[i] <= t[i+1] :\n",
    "            return True\n",
    "        else :\n",
    "            return False\n",
    "        i = i - 1"
   ]
  },
  {
   "cell_type": "code",
   "execution_count": null,
   "id": "e6306cb1",
   "metadata": {},
   "outputs": [],
   "source": [
    "#Version 2\n",
    "\n",
    "def est_croissant(t):\n",
    "    i = len(t) - 1\n",
    "    while i >= 0:\n",
    "        if t[i-1] <= t[i] :\n",
    "            return True\n",
    "        else :\n",
    "            return False\n",
    "        i = i - 1"
   ]
  },
  {
   "cell_type": "code",
   "execution_count": null,
   "id": "062d1e00",
   "metadata": {},
   "outputs": [],
   "source": [
    "#Version 3\n",
    "\n",
    "def est_croissant(t):\n",
    "    i = len(t) - 1\n",
    "    while i >= 0:\n",
    "        if t[i-1] > t[i] :\n",
    "            return False\n",
    "        i = i - 1\n",
    "    return True"
   ]
  },
  {
   "cell_type": "code",
   "execution_count": null,
   "id": "6dbc1188",
   "metadata": {},
   "outputs": [],
   "source": [
    "#Version 4\n",
    "\n",
    "def est_croissant(t):\n",
    "    i = len(t) - 1\n",
    "    while i > 0:\n",
    "        if t[i-1] > t[i] :\n",
    "            return False\n",
    "        i = i - 1\n",
    "    return True"
   ]
  }
 ],
 "metadata": {
  "kernelspec": {
   "display_name": "Python 3 (ipykernel)",
   "language": "python",
   "name": "python3"
  },
  "language_info": {
   "codemirror_mode": {
    "name": "ipython",
    "version": 3
   },
   "file_extension": ".py",
   "mimetype": "text/x-python",
   "name": "python",
   "nbconvert_exporter": "python",
   "pygments_lexer": "ipython3",
   "version": "3.8.10"
  },
  "latex_envs": {
   "LaTeX_envs_menu_present": true,
   "autoclose": false,
   "autocomplete": true,
   "bibliofile": "biblio.bib",
   "cite_by": "apalike",
   "current_citInitial": 1,
   "eqLabelWithNumbers": true,
   "eqNumInitial": 1,
   "hotkeys": {
    "equation": "Ctrl-E",
    "itemize": "Ctrl-I"
   },
   "labels_anchors": false,
   "latex_user_defs": false,
   "report_style_numbering": false,
   "user_envs_cfg": false
  }
 },
 "nbformat": 4,
 "nbformat_minor": 5
}
