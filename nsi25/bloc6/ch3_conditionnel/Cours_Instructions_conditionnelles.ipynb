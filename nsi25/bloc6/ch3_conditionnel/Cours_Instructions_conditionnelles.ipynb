{
 "cells": [
  {
   "cell_type": "markdown",
   "metadata": {},
   "source": [
    "# Le type booléen et les expressions booléennes\n",
    "\n",
    "**Rappel :** Il existe uniquement 2 valeurs booléennes : `True` et `False` (Attention à la majuscule !!)\n",
    "\n",
    "Les booléens permettent de **tester** une propostion afin de dire si elle est vraie ou fausse. Une telle proposition qui n'admet que ces 2 réponses possibles est appelée **expressions booléennes**.\n",
    "\n",
    "On peut écrire des expressions booléennes en utilisant des **opérateurs de comparaison**\n",
    "\n",
    "|Opérateur|Expression booléenne (**Proposition TESTÉE**)|\n",
    "|:---------:|:------:|\n",
    "|x == y|\"x est égal à y\"|\n",
    "|x != y|\"x est différent de y\"|\n",
    "|x > y|\"x est strictement plus grand que y\"|\n",
    "|x < y|\"x est strictement plus petit que y\"|\n",
    "|x >= y|\"x est supérieur ou égal à y\"|\n",
    "|x <= y|\"x est inférieur ou égal à y\"|\n",
    "\n",
    "### Attention : Ne pas confondre le _test d'égalité_ `==` avec l'_affectation_ `=`\n",
    "### Les expressions booléennes sont des _tests_ , pas des _affirmations_\n",
    "\n",
    "\n",
    "**Activité** : TD exercice 1\n",
    "\n",
    "# Les instructions conditionnelles\n",
    "\n",
    "## L'Instruction `if`\n",
    "Instruction **_SI_**\n",
    "\n",
    "Exemple :"
   ]
  },
  {
   "cell_type": "code",
   "execution_count": 1,
   "metadata": {},
   "outputs": [
    {
     "name": "stdout",
     "output_type": "stream",
     "text": [
      "Elle s'appelle Alice\n"
     ]
    }
   ],
   "source": [
    "nomPersonne = 'Alice'\n",
    "if nomPersonne == 'Alice' :\n",
    "    print(\"Elle s'appelle Alice\")"
   ]
  },
  {
   "cell_type": "markdown",
   "metadata": {},
   "source": [
    "**Astuce :** Pour mieux comprendre l'instruction `if`, vous pouvez contater qu'elle s'écrit comme du langage humain :\n",
    "\n",
    "```\n",
    "Si le nom de la personne est Alice alors\n",
    "    Affiche à l'écran la phrase : \"Elle s'appelle Alice\"\n",
    "```\n",
    "\n",
    "### Syntaxe"
   ]
  },
  {
   "cell_type": "code",
   "execution_count": 2,
   "metadata": {},
   "outputs": [
    {
     "ename": "SyntaxError",
     "evalue": "invalid syntax (<ipython-input-2-3b5937d95fcf>, line 2)",
     "output_type": "error",
     "traceback": [
      "\u001b[0;36m  File \u001b[0;32m\"<ipython-input-2-3b5937d95fcf>\"\u001b[0;36m, line \u001b[0;32m2\u001b[0m\n\u001b[0;31m    bloc d instructions\u001b[0m\n\u001b[0m         ^\u001b[0m\n\u001b[0;31mSyntaxError\u001b[0m\u001b[0;31m:\u001b[0m invalid syntax\n"
     ]
    }
   ],
   "source": [
    "if expresssion_booléenne :\n",
    "    bloc d instructions"
   ]
  },
  {
   "cell_type": "markdown",
   "metadata": {},
   "source": [
    "**Règles de syntaxe :**\n",
    "* expression_booléenne est une expression du même type que ce qui a été vu auparavant\n",
    "* Les `:` et l'**indentation** (décalage) sont **obligatoires**\n",
    "* Si l'expression booléenne est VRAIE, le bloc d'instructions sera exécuté (dans le cas contraire il ne sera pas exécuté, python va l'ignorer et passer à la suite)\n",
    "* Le bloc d'instruction est délimité par l'**indentation**"
   ]
  },
  {
   "cell_type": "code",
   "execution_count": 3,
   "metadata": {},
   "outputs": [
    {
     "name": "stdout",
     "output_type": "stream",
     "text": [
      "Les instructions \"AVANT\" le if sont exécutées normalement\n",
      "a = 6\n",
      "\n",
      "le nombre a est positif, l'expression booléenne est vraie !\n",
      "python exécute donc les instructions du \"bloc du if\"\n",
      "\n",
      "Cette instruction est en dehors du \"bloc du if\" car elle n'est plus indentée\n",
      "elle est donc exécutée normalement\n"
     ]
    }
   ],
   "source": [
    "a = 6\n",
    "\n",
    "print ('Les instructions \"AVANT\" le if sont exécutées normalement')\n",
    "print(\"a =\", a)\n",
    "print('') # Pour passer une ligne\n",
    "\n",
    "if a > 0 :\n",
    "    print (\"le nombre a est positif, l'expression booléenne est vraie !\")\n",
    "    print ('python exécute donc les instructions du \"bloc du if\"')\n",
    "    print('')\n",
    "\n",
    "print ('Cette instruction est en dehors du \"bloc du if\" car elle n\\'est plus indentée')\n",
    "print('elle est donc exécutée normalement')"
   ]
  },
  {
   "cell_type": "code",
   "execution_count": 4,
   "metadata": {},
   "outputs": [
    {
     "name": "stdout",
     "output_type": "stream",
     "text": [
      "Les instructions \"AVANT\" le if sont exécutées normalement\n",
      "a = -6\n",
      "\n",
      "Cette instruction est en dehors du \"bloc du if\" car elle n'est plus indentée\n",
      "elle est donc exécutée normalement\n"
     ]
    }
   ],
   "source": [
    "a = -6\n",
    "\n",
    "print ('Les instructions \"AVANT\" le if sont exécutées normalement')\n",
    "print(\"a =\", a)\n",
    "print('') # Pour passer une ligne\n",
    "\n",
    "if a > 0 :\n",
    "    print (\"le nombre a est positif, l'expression booléenne est vraie !\")\n",
    "    print ('python exécute donc les instructions du \"bloc du if\"')\n",
    "    print('')\n",
    "\n",
    "print ('Cette instruction est en dehors du \"bloc du if\" car elle n\\'est plus indentée')\n",
    "print('elle est donc exécutée normalement')"
   ]
  },
  {
   "cell_type": "markdown",
   "metadata": {},
   "source": [
    "**Attention à l'erreur fréquente : ne pas confondre `==` et `=` :"
   ]
  },
  {
   "cell_type": "code",
   "execution_count": 5,
   "metadata": {},
   "outputs": [
    {
     "ename": "SyntaxError",
     "evalue": "invalid syntax (<ipython-input-5-af26fc3df6f9>, line 3)",
     "output_type": "error",
     "traceback": [
      "\u001b[0;36m  File \u001b[0;32m\"<ipython-input-5-af26fc3df6f9>\"\u001b[0;36m, line \u001b[0;32m3\u001b[0m\n\u001b[0;31m    if nomPersonne = 'Alice' :\u001b[0m\n\u001b[0m                   ^\u001b[0m\n\u001b[0;31mSyntaxError\u001b[0m\u001b[0;31m:\u001b[0m invalid syntax\n"
     ]
    }
   ],
   "source": [
    "# Attention : Ne pas confondre `==` (test d'égalité) et `=` (affectation)\n",
    "nomPersonne = 'Alice'\n",
    "if nomPersonne = 'Alice' :\n",
    "    print(\"Elle s'appelle Alice\")"
   ]
  },
  {
   "cell_type": "markdown",
   "metadata": {},
   "source": [
    "## Instruction `if ... else`\n",
    "Instruction **_SI ... SINON_**\n"
   ]
  },
  {
   "cell_type": "code",
   "execution_count": 6,
   "metadata": {},
   "outputs": [
    {
     "name": "stdout",
     "output_type": "stream",
     "text": [
      "Elle ne s'appelle pas Alice\n"
     ]
    }
   ],
   "source": [
    "nomPersonne = 'Marie'\n",
    "if nomPersonne == 'Alice' :\n",
    "    print(\"Elle s'appelle Alice\")\n",
    "else :\n",
    "    print(\"Elle ne s'appelle pas Alice\")"
   ]
  },
  {
   "cell_type": "markdown",
   "metadata": {},
   "source": [
    "**Astuce :** Pour mieux comprendre l'instruction `if ... else` , vous pouvez contater qu'elle s'écrit comme du langage humain :\n",
    "\n",
    "```\n",
    "SI le nom de la personne est Alice alors\n",
    "    Affiche à l'écran la phrase : \"Elle s'appelle Alice\"\n",
    "SINON\n",
    "    Affiche à l'écran la phrase : \"Elle ne s'appelle pas Alice\"\n",
    "```\n",
    "\n",
    "### Syntaxe"
   ]
  },
  {
   "cell_type": "code",
   "execution_count": null,
   "metadata": {},
   "outputs": [],
   "source": [
    "if expression_booléenne :\n",
    "    bloc d instructions\n",
    "else :\n",
    "    bloc d instructions"
   ]
  },
  {
   "cell_type": "markdown",
   "metadata": {},
   "source": [
    "**Règles de syntaxe :**\n",
    "* Mêmes règles que pour l'instruction `if`\n",
    "* Ne pas oublier les `:` après le `else`\n",
    "* Il n'y a **pas de condition après le `else`** : c'est un _\"sinon dans tous les autres cas\"_"
   ]
  },
  {
   "cell_type": "code",
   "execution_count": null,
   "metadata": {},
   "outputs": [],
   "source": [
    "a = 6\n",
    "\n",
    "print ('Les instructions \"AVANT\" le if sont exécutées normalement')\n",
    "print(\"a =\", a)\n",
    "print('') # Pour passer une ligne\n",
    "\n",
    "if a > 0 :\n",
    "    print (\"le nombre a est positif, l'expression booléenne est vraie !\")\n",
    "    print ('python exécute donc les instructions du \"bloc du if\"')\n",
    "    print('')\n",
    "\n",
    "else :\n",
    "    print (\"le nombre a est négatif, l'expression booléenne est fausse !\")\n",
    "    print ('python exécute donc les instructions du \"bloc du else\"')\n",
    "    print('')    \n",
    "    \n",
    "print ('Cette instruction est en dehors du \"bloc du if\" et du \"bloc du else\" car elle n\\'est plus indentée')\n",
    "print('elle est donc exécutée normalement')"
   ]
  },
  {
   "cell_type": "code",
   "execution_count": null,
   "metadata": {},
   "outputs": [],
   "source": [
    "a = -6\n",
    "\n",
    "print ('Les instructions \"AVANT\" le if sont exécutées normalement')\n",
    "print(\"a =\", a)\n",
    "print('') # Pour passer une ligne\n",
    "\n",
    "if a > 0 :\n",
    "    print (\"le nombre a est positif, l'expression booléenne est vraie !\")\n",
    "    print ('python exécute donc les instructions du \"bloc du if\"')\n",
    "    print('')\n",
    "\n",
    "else :\n",
    "    print (\"le nombre a est négatif, l'expression booléenne est fausse !\")\n",
    "    print ('python exécute donc les instructions du \"bloc du else\"')\n",
    "    print('')    \n",
    "    \n",
    "print ('Cette instruction est en dehors du \"bloc du if\" et du \"bloc du else\" car elle n\\'est plus indentée')\n",
    "print('elle est donc exécutée normalement')"
   ]
  },
  {
   "cell_type": "markdown",
   "metadata": {},
   "source": [
    "**Activité :** TD exercice 2\n",
    "\n",
    "## Instruction `if ... elif ... else`\n",
    "Instruction **_SI ... SINON SI ... SINON_**\n",
    "\n",
    "* Mêmes règles que précédemment\n",
    "* `elif` est la contraction de `else if` \n",
    "* Il peut y avoir **un ou plusieurs** `elif` en fonction des nécessités du programme à réaliser\n",
    "* Chaque `elif` est **obligatoirement** suivi d'une nouvelle **expression booléenne** et d'un `:`\n",
    "* Il y a **toujours un seul** `if` \n",
    "* Il y a **un seul ou aucun** `else`\n",
    "* Il n'y a **pas de condition après le `else`** : c'est un _\"sinon dans tous les autres cas\"_"
   ]
  },
  {
   "cell_type": "code",
   "execution_count": null,
   "metadata": {},
   "outputs": [],
   "source": [
    "#Exemple avec \"2 elif\"\n",
    "if expression_booléenne1 :\n",
    "    bloc d instructions\n",
    "elif expression_booléenne2 :\n",
    "    bloc d instructions\n",
    "elif expression_booléenne3 :\n",
    "    bloc d instructions\n",
    "else :\n",
    "    bloc d instructions"
   ]
  },
  {
   "cell_type": "code",
   "execution_count": null,
   "metadata": {
    "code_folding": []
   },
   "outputs": [],
   "source": [
    "note_bac = 19\n",
    "if note_bac < 8 :\n",
    "    print(\"Vous êtes recalé\")\n",
    "elif note_bac < 10 :\n",
    "    print(\"Vous devez aller à l'oral de rattrapage\")\n",
    "elif note_bac < 12 :\n",
    "    print(\"Vous êtes reçu\")\n",
    "elif note_bac < 14 :\n",
    "    print(\"Vous êtes reçu mention ASSEZ BIEN\")\n",
    "elif note_bac < 16 :\n",
    "    print(\"Vous êtes reçu mention BIEN\")\n",
    "else :\n",
    "    print(\"Vous êtes reçu mention TRES BIEN\")"
   ]
  },
  {
   "cell_type": "markdown",
   "metadata": {},
   "source": [
    "Attention ! les différentes conditions du (`if` et des `elif`) sont évaluées **dans l'ordre et dès qu'une expression booléenne est vraie, les autres ne sont pas évaluées** !!\n",
    "\n",
    "Par exemple si note_bac = 11 :\n",
    "* Le deuxième `elif` est vrai donc on affiche \"vous êtes reçu\" puis **PYTHON SORT DE L'INSTRUCTION CONDITIONNELLE**\n",
    "* Ainsi les `elif` suivants (qui sont pourtant aussi vrais) ne sont pas évalués\n",
    "\n",
    "Il s'agit bien d'une succession de **SINON-SI** et pas d'une succession de **SI**. La preuve :\n"
   ]
  },
  {
   "cell_type": "code",
   "execution_count": null,
   "metadata": {},
   "outputs": [],
   "source": [
    "# Même exemple que précédemment mais en remplaçant les elif par des if : le programme n'a pas le comportement attendu ! \n",
    "note_bac = 11\n",
    "if note_bac < 8 :\n",
    "    print(\"Vous êtes recalé\")\n",
    "    \n",
    "if note_bac < 10 :\n",
    "    print(\"Vous devez aller à l'oral de rattrapage\")\n",
    "    \n",
    "if note_bac < 12 :\n",
    "    print(\"Vous êtes reçu\")\n",
    "    \n",
    "if note_bac < 14 :\n",
    "    print(\"Vous êtes reçu mention ASSEZ BIEN\")\n",
    "    \n",
    "if note_bac < 16 :\n",
    "    print(\"Vous êtes reçu mention BIEN\")\n",
    "else :\n",
    "    print(\"Vous êtes reçu mention TRES BIEN\")"
   ]
  },
  {
   "cell_type": "markdown",
   "metadata": {},
   "source": [
    "# Quelques précisions sur les opérateurs de comparaison\n",
    "\n",
    "Les opérateurs de comparaison ne fonctionnent pas seulement avec les types numériques (`int` et `float`) mais aussi avec les chaînes de caractères (`str`). Dans ce cas, ils se basent sur l'ordre lexicographique (en fait sur leur valeur **Unicode** (voir bloc1))"
   ]
  },
  {
   "cell_type": "code",
   "execution_count": null,
   "metadata": {},
   "outputs": [],
   "source": [
    "# a est AVANT b dans l'ordre lexicographique\n",
    "'a' < 'b'"
   ]
  },
  {
   "cell_type": "code",
   "execution_count": null,
   "metadata": {},
   "outputs": [],
   "source": [
    "# a est avant b dans l'ordre lexicographique\n",
    "'a' >= 'b'"
   ]
  },
  {
   "cell_type": "code",
   "execution_count": null,
   "metadata": {},
   "outputs": [],
   "source": [
    "# les minuscules sont APRES les majuscules dans l'ordre lexicographique\n",
    "'a' > 'A'"
   ]
  },
  {
   "cell_type": "code",
   "execution_count": null,
   "metadata": {},
   "outputs": [],
   "source": [
    "# On peut aussi comparer des chaînes de caractères...\n",
    "'bac' < 'bateau'"
   ]
  },
  {
   "cell_type": "code",
   "execution_count": null,
   "metadata": {},
   "outputs": [],
   "source": [
    "# Les chaînes de caractères peuvent donc parfaitement être utilisées dans les clauses d'un if\n",
    "mot1 = 'bac'\n",
    "mot2 = 'bateau'\n",
    "if mot1 < mot2:\n",
    "    print(mot1,\"est avant\",mot2,\"dans le dictionnaire\")\n",
    "else :\n",
    "    print(mot1,\"est après\",mot2,\"dans le dictionnaire\")"
   ]
  },
  {
   "cell_type": "markdown",
   "metadata": {},
   "source": [
    "## Pour aller plus loin \n",
    "\n",
    "(*Normalement, vous ne deviez pas être confrontés à ce genre de syntaxe, sauf en projet car elle est parfois utilisée*)\n",
    "\n",
    "Par convention, Dans une expression booléenne utilisée dans un `if`, Python évalue à `True` tous les nombres non nuls et à `True` toutes les chaînes de caractères non vides"
   ]
  },
  {
   "cell_type": "code",
   "execution_count": null,
   "metadata": {},
   "outputs": [],
   "source": [
    "a = -6\n",
    "if a :\n",
    "    print(\"a est différent de 0\")\n",
    "else :\n",
    "    print(\"a est égal à 0\")"
   ]
  },
  {
   "cell_type": "code",
   "execution_count": null,
   "metadata": {},
   "outputs": [],
   "source": [
    "chaine = ''\n",
    "if chaine :\n",
    "    print(\"la chaîne est non vide\")\n",
    "else :\n",
    "    print(\"la chaîne est vide\")"
   ]
  }
 ],
 "metadata": {
  "kernelspec": {
   "display_name": "Python 3",
   "language": "python",
   "name": "python3"
  },
  "language_info": {
   "codemirror_mode": {
    "name": "ipython",
    "version": 3
   },
   "file_extension": ".py",
   "mimetype": "text/x-python",
   "name": "python",
   "nbconvert_exporter": "python",
   "pygments_lexer": "ipython3",
   "version": "3.10.12"
  }
 },
 "nbformat": 4,
 "nbformat_minor": 2
}
