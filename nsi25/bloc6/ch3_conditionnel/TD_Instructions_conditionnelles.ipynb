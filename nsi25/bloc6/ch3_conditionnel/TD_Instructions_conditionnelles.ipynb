{
 "cells": [
  {
   "cell_type": "markdown",
   "metadata": {},
   "source": [
    "# Exercice 1 : niveau facile\n",
    "\n",
    "> On considère les _propositions à tester_ suivantes :  \n",
    "* Il a eu la moyenne au dernier devoir\n",
    "* Cette fille s'appelle Alice\n",
    "* Cet individu est mineur\n",
    "* Il a obtenu au moins la mention \"assez bien\" au baccalauréat\n",
    "\n",
    "1. Traduire les _propositions à tester_ ci-dessus en **expressions booléennes** python. Pour cela utiliser les **opérateurs de comparaison** et choisir des **noms de variables adaptées**\n",
    "\n",
    "2. Affecter aux variables utilisées ci-dessus des valeurs choisies au hasard puis écrire dans le **shell** de Thonny les expressions booléennes ci-dessus. Observez le résultat. "
   ]
  },
  {
   "cell_type": "markdown",
   "metadata": {},
   "source": [
    "# Exercice 2 : niveau facile\n",
    "\n",
    "1. Ecrire une fonction `bac` :\n",
    "\n",
    "\n",
    "* qui prend en paramètres :\n",
    "    * un prenom de candidat\n",
    "    * un nom de candidat\n",
    "    * la moyenne obtenue au bac par ce candidat\n",
    " \n",
    " \n",
    "* et qui **affiche** une phrase du type `prenom nom a obtenu son baccalauréat, Félicitations !` uniquement si le candidat a été reçu   \n",
    "\n",
    "*(Voir les deux exemples d'appels de cette fonction)*"
   ]
  },
  {
   "cell_type": "code",
   "execution_count": 47,
   "metadata": {},
   "outputs": [
    {
     "name": "stdout",
     "output_type": "stream",
     "text": [
      "Alice Dupont a obtenu son baccalauréat, Félicitations !\n"
     ]
    }
   ],
   "source": [
    "bac(\"Alice\", \"Dupont\", 12)"
   ]
  },
  {
   "cell_type": "code",
   "execution_count": 48,
   "metadata": {},
   "outputs": [],
   "source": [
    "bac(\"Bob\", \"Martin\", 9)"
   ]
  },
  {
   "cell_type": "markdown",
   "metadata": {},
   "source": [
    "2. Ecrire une fonction `bac2` :\n",
    "\n",
    "\n",
    "* qui prend en paramètres :\n",
    "    * un prenom de candidat\n",
    "    * un nom de candidat\n",
    "    * la moyenne obtenue au bac par ce candidat\n",
    " \n",
    " \n",
    "* et qui **affiche** une phrase du type `prenom nom a obtenu son baccalauréat, Félicitations !` si le candidat a été reçu  et une phrase du type `prenom nom n'a pas obtenu son baccalauréat` sinon \n",
    "\n",
    "*(Voir les deux exemples d'appels de cette fonction)*"
   ]
  },
  {
   "cell_type": "code",
   "execution_count": 49,
   "metadata": {},
   "outputs": [
    {
     "name": "stdout",
     "output_type": "stream",
     "text": [
      "Alice Dupont a obtenu son baccalauréat, Félicitations !\n"
     ]
    }
   ],
   "source": [
    "bac2(\"Alice\", \"Dupont\", 12)"
   ]
  },
  {
   "cell_type": "code",
   "execution_count": 50,
   "metadata": {},
   "outputs": [
    {
     "name": "stdout",
     "output_type": "stream",
     "text": [
      "Bob Martin n'a pas obtenu son baccalauréat\n"
     ]
    }
   ],
   "source": [
    "bac2(\"Bob\", \"Martin\", 9)"
   ]
  },
  {
   "cell_type": "markdown",
   "metadata": {},
   "source": [
    "# Exercice 3 : niveau facile\n",
    "\n",
    "1. Ecrire une fonction `maximum` qui prend deux nombres en paramètre et **renvoie** le plus grand de ces 2 nombres  \n",
    "*(Indication : le maximum de $a$ et $b$ est $a$ si $a \\geq b$ et $b$ sinon...)*\n",
    "\n",
    "\n",
    "2. Ecrire une fonction `minimum` qui prend deux nombres en paramètre et **renvoie** le plus petit de ces 2 nombres  \n",
    "*(Indication : le maximum de $a$ et $b$ est $a$ si $a \\leq b$ et $b$ sinon...)*\n",
    "\n",
    "\n",
    "3. Ecrire une fonction `valeur_absolue` qui prend un nombre en paramètre et **renvoie** la valeur absolue de ce nombre.  \n",
    "*(Indication : la valeur absolue de $x$ est $x$ si $x \\geq 0$ et $-x$ sinon...)*"
   ]
  },
  {
   "cell_type": "markdown",
   "metadata": {},
   "source": [
    "# Exercice 4 : niveau intermédiaire\n",
    "\n",
    "> Le bowling comporte 10 quilles. Un joueur dispose de 2 boules pour tenter de renverser les 10 quilles. 3 cas sont possibles :\n",
    "* Il les renverse toutes dès la première boule : il fait un \"Strike\" et on affiche à l'écran \"X\".\n",
    "* Il les renverse toutes au bout de ses 2 essais, il fait un \"Spare\" et on affiche \"/\" à l'écran.\n",
    "* Il ne les renverse pas toutes à la fin de son deuxième jet : l'écran affiche le total de quilles renversées\n",
    "\n",
    "![bowling](img/bowling.jpg)\n",
    "\n",
    "Compléter la fonction `bowling` puis tester-la"
   ]
  },
  {
   "cell_type": "code",
   "execution_count": null,
   "metadata": {},
   "outputs": [],
   "source": [
    "def bowling(boule1, boule2):\n",
    "    \"\"\"\n",
    "    Description de la fonction : Affiche à l'écran les performances d'un joueur de bowling\n",
    "    boule1 (int) : nombre de quilles renversées avec la première boule\n",
    "    boule2 (int) : nombre de quilles renversées avec la deuxième boule\n",
    "    préconditions sur les entrées : boule1 + boule2 <= 10 \n",
    "    \"\"\""
   ]
  },
  {
   "cell_type": "markdown",
   "metadata": {},
   "source": [
    "# Exercice 5  : niveau intermédiaire\n",
    "\n",
    "On considère trois nombres a, b et c. On considère que ces trois nombres sont classés par ordre croissant si l'inégalité $a \\le b \\le c$ est vérifiée.\n",
    "\n",
    "1. Compléter la fonction `croissant` suivante afin qu'elle renvoie `True` si a, b et c sont classés par ordre croissant et `False` sinon."
   ]
  },
  {
   "cell_type": "code",
   "execution_count": 1,
   "metadata": {},
   "outputs": [
    {
     "ename": "SyntaxError",
     "evalue": "invalid syntax (3365054737.py, line 3)",
     "output_type": "error",
     "traceback": [
      "\u001b[0;36m  File \u001b[0;32m\"/tmp/ipykernel_10562/3365054737.py\"\u001b[0;36m, line \u001b[0;32m3\u001b[0m\n\u001b[0;31m    if ...... :\u001b[0m\n\u001b[0m          ^\u001b[0m\n\u001b[0;31mSyntaxError\u001b[0m\u001b[0;31m:\u001b[0m invalid syntax\n"
     ]
    }
   ],
   "source": [
    "def croissant(a,b,c):\n",
    "    if a <= b :\n",
    "        if ...... :\n",
    "            resultat = True\n",
    "        else :\n",
    "            ......\n",
    "    else :\n",
    "        ......\n",
    "    return resultat"
   ]
  },
  {
   "cell_type": "markdown",
   "metadata": {},
   "source": [
    "2. Vérifier votre fonction en la testant sur les appels suivants :"
   ]
  },
  {
   "cell_type": "code",
   "execution_count": null,
   "metadata": {},
   "outputs": [],
   "source": [
    "croissant(1,2,6)"
   ]
  },
  {
   "cell_type": "code",
   "execution_count": null,
   "metadata": {},
   "outputs": [],
   "source": [
    "croissant(1,1,5)"
   ]
  },
  {
   "cell_type": "code",
   "execution_count": null,
   "metadata": {},
   "outputs": [],
   "source": [
    "croissant(2,2,2)"
   ]
  },
  {
   "cell_type": "code",
   "execution_count": null,
   "metadata": {},
   "outputs": [],
   "source": [
    "croissant(2,1,1)"
   ]
  },
  {
   "cell_type": "code",
   "execution_count": null,
   "metadata": {},
   "outputs": [],
   "source": [
    "croissant(2,2,0)"
   ]
  },
  {
   "cell_type": "code",
   "execution_count": null,
   "metadata": {},
   "outputs": [],
   "source": [
    "croissant(5,2,1)"
   ]
  },
  {
   "cell_type": "code",
   "execution_count": null,
   "metadata": {},
   "outputs": [],
   "source": [
    "croissant(5,2,7)"
   ]
  },
  {
   "cell_type": "markdown",
   "metadata": {},
   "source": [
    "# Exercice 6 : niveau intermédiaire\n",
    "\n",
    "1. Ecrire une **expression booléenne** permettant de tester si une année est divisible par 4.\n",
    "*(Indication : Une année est divisible par 4 si le reste de la division euvlidienne de l'année par 4 est nul)*\n",
    "\n",
    "> Le texte ci-dessous précise les conditions à pour qu'une année soit bissextile :\n",
    "* Si une année n'est pas multiple de 4, elle n'est pas bissextile. \n",
    "* Si elle est multiple de 4, on regarde si elle est multiple de 100.\n",
    "\t* Si c'est le cas, on regarde si elle est multiple de 400.\n",
    "\t\t* Si c'est le cas, l'année est bissextile.\n",
    "\t\t* Sinon, elle n'est pas bissextile.\n",
    "\t* Sinon, elle est bissextile.\n",
    "\n",
    "2. Ecrire une fonction qui prend une année en paramètre et qui renvoie un booléen selon que l'année est bissextile ou pas.  \n",
    "*(Indication : Il faudra utiliser des structures conditionnelles imbriquées comme dans l'exercice précédent...)*\n",
    "\n",
    "\n",
    "3. Tester votre programme pour quelques années différentes. Vous pouvez utiliser [ce site](http://cosmos2000.chez.com/Vendredi13/AnneeBissextile.html)"
   ]
  },
  {
   "cell_type": "markdown",
   "metadata": {},
   "source": [
    "# Exercice 7 : niveau difficile\n",
    "\n",
    "Compléter le fonction `triangle` puis tester-la.   \n",
    "Cette fonction doit afficher si un triangle est équilatéral, isocèle ou scalène (ni équilatéral, ni isocèle).\n",
    "*(Indication : Il faudra utiliser des structures conditionnelles imbriquées...)*"
   ]
  },
  {
   "cell_type": "code",
   "execution_count": null,
   "metadata": {},
   "outputs": [],
   "source": [
    "def triangle(c1,c2,c3):\n",
    "    \"\"\"\n",
    "    description de la fonction : affiche une des caractéristiques du triangle suivante : équilatéral, isocèle ou scalène\n",
    "    c1, c2, c3 (int ou float) : trois côtés du triangle\n",
    "    précondition sur les entrées : on considère que les valeurs de c1, c2 et c3 doivent permettre de construire un triangle\n",
    "    return (None)\n",
    "    \"\"\""
   ]
  }
 ],
 "metadata": {
  "kernelspec": {
   "display_name": "Python 3",
   "language": "python",
   "name": "python3"
  },
  "language_info": {
   "codemirror_mode": {
    "name": "ipython",
    "version": 3
   },
   "file_extension": ".py",
   "mimetype": "text/x-python",
   "name": "python",
   "nbconvert_exporter": "python",
   "pygments_lexer": "ipython3",
   "version": "3.10.12"
  },
  "latex_envs": {
   "LaTeX_envs_menu_present": true,
   "autoclose": false,
   "autocomplete": true,
   "bibliofile": "biblio.bib",
   "cite_by": "apalike",
   "current_citInitial": 1,
   "eqLabelWithNumbers": true,
   "eqNumInitial": 1,
   "hotkeys": {
    "equation": "Ctrl-E",
    "itemize": "Ctrl-I"
   },
   "labels_anchors": false,
   "latex_user_defs": false,
   "report_style_numbering": false,
   "user_envs_cfg": false
  }
 },
 "nbformat": 4,
 "nbformat_minor": 2
}
