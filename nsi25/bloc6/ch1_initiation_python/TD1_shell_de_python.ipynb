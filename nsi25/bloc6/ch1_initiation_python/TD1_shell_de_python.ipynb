{
 "cells": [
  {
   "cell_type": "markdown",
   "metadata": {},
   "source": [
    "> Pensez à ouvrir `premiere/Outils_et_environnement_informatiques/Thonny` pour avoir de l'aide sur l'utilisation de Thonny\n",
    "\n",
    "# Le shell de python : python en mode interactif\n",
    "\n",
    "## Exercice 1\n",
    "\n",
    "> Cet exercice doit se faire dans la zone interactive de Thonny (**Shell**). Tout ce qui se passe dans la zone interactive ne peut pas être enregistré !\n",
    "\n",
    "1. Ouvrir le fichier `premiere/Outils_et_environnement_informatiques/mementopython3_lycee.pdf` \n",
    "\n",
    "> On considère les ordres suivants donnés par le programmeur à la machine : \n",
    "* Machine, Enlève 6 de 20\n",
    "* Machine, Multiple 2 et 31\n",
    "* Machine, Combien de lettres possède le mot Python\n",
    "* Machine, Calcule-moi 3% de 50\n",
    "\n",
    "2. En utilisant le mode interactif de Thonny et à l'aide du mememto, traduire ces 4 ordres en 4 instructions écrites en langage python. *(dans le dernier ordre, il faudra se souvenir comment, en mathématiques, on calcule des pourcentages)*. Vérifiez que le résultat envoyé par la machine est corect sinon c'est que vous avez mal écrit les instructions.\n",
    "\n",
    "\n",
    "3. Calculez les valeurs des expressions suivantes à l'aide de Python\n",
    "    * 10 + 2 * 7\n",
    "    * (10 + 2) * 7\n",
    "    * 35 - 5 * 2\n",
    "\n",
    "\n",
    "4. Par rapport à vos connaissances en mathématiques, quelle conclusion pouvez-vous faire concernant la priorités des opérateurs de calcul en python ?\n",
    "\n",
    "\n",
    "## Exercice 2 : la division euclidienne\n",
    "\n",
    "![division euclidienne](img/divisioneuclidienne.png)\n",
    "\n",
    "\n",
    "> Non, la division euclidienne n'est pas seulement une _\"curiosité inutile pour amuser les matheux\"_. En informatique la division euclidienne est l'opération de base permettant par exemple le cryptage des mots de passe ou le chiffrement/déchiffrement des communications sécurisées sur internet. C'est donc une opération fondamentale en informatique qu'on utilisera souvent cette année et vous devrez donc la retenir !!\n",
    "\n",
    "Dans l'exemple ci dessous on a posé une division euclidienne :\n",
    "\n",
    "![division euclidienne exemple](img/exempledivisioneuclidienne.png)\n",
    "\n",
    "La division euclidienne de 47 par 5 s'écrit : $47 = 5\\times 9 +2$\n",
    "\n",
    "* 9 est le **quotient**\n",
    "* 2 est le **reste**\n",
    "\n",
    "\n",
    "> Ouvrir la page sur la [division euclidienne](https://fr.wikipedia.org/wiki/Division_euclidienne) pour plus d'informations\n",
    "\n",
    "1. A l'aide de la page wikipedia que vous venez d'ouvrir, écrire sur une feuille la division euclidienne de 33 par 5\n",
    "2. Tappez dans le Shell de Thonny les 3 instructions suivantes et observez le résultat"
   ]
  },
  {
   "cell_type": "code",
   "execution_count": 1,
   "metadata": {},
   "outputs": [
    {
     "data": {
      "text/plain": [
       "2.625"
      ]
     },
     "execution_count": 1,
     "metadata": {},
     "output_type": "execute_result"
    }
   ],
   "source": [
    "21 / 8"
   ]
  },
  {
   "cell_type": "code",
   "execution_count": 2,
   "metadata": {},
   "outputs": [
    {
     "data": {
      "text/plain": [
       "2"
      ]
     },
     "execution_count": 2,
     "metadata": {},
     "output_type": "execute_result"
    }
   ],
   "source": [
    "21 // 8"
   ]
  },
  {
   "cell_type": "code",
   "execution_count": 3,
   "metadata": {},
   "outputs": [
    {
     "data": {
      "text/plain": [
       "5"
      ]
     },
     "execution_count": 3,
     "metadata": {},
     "output_type": "execute_result"
    }
   ],
   "source": [
    "21 % 8"
   ]
  },
  {
   "cell_type": "markdown",
   "metadata": {},
   "source": [
    "3. Compléter ci-dessous la traduction en français de chacune de ces instructions (comme dans l'énoncé de l'exercice 1)\n",
    "\n",
    "**Instruction 1**\n",
    "\n",
    "    Machine,......\n",
    "    \n",
    "**Instruction 2**\n",
    "\n",
    "    Machine,......\n",
    "    \n",
    "**Instruction 3**\n",
    "\n",
    "    Machine,......\n",
    "    \n",
    "    \n",
    "> Ouvrir la page wikipedia suivante : [Commentaires en programmation](https://fr.wikipedia.org/wiki/Commentaire_(informatique))\n",
    "\n",
    "4. En langage Python, quel symbole permet d'écrire un commentaire ?\n",
    "\n",
    "5. Dans le Shell de Thonny réécrire les 3 instructions précédentes en ajoutant à la suite de l'instruction un commentaire python. Ce commentaire sera la phrase correspondante écrite en français à la question 3. Observez que l'ajout des commentaires ne change rien au résultat affiché par la machine : les commentaires sont ignorés par la machine."
   ]
  }
 ],
 "metadata": {
  "kernelspec": {
   "display_name": "Python 3",
   "language": "python",
   "name": "python3"
  },
  "language_info": {
   "codemirror_mode": {
    "name": "ipython",
    "version": 3
   },
   "file_extension": ".py",
   "mimetype": "text/x-python",
   "name": "python",
   "nbconvert_exporter": "python",
   "pygments_lexer": "ipython3",
   "version": "3.6.9"
  }
 },
 "nbformat": 4,
 "nbformat_minor": 4
}
