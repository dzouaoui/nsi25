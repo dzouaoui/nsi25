{
 "cells": [
  {
   "cell_type": "markdown",
   "metadata": {},
   "source": [
    "# Python en mode interactif\n",
    "\n",
    "Le mode interactif instaure un **dialogue entre le programmeur (l'informaticien) et la machine**. Ce dialogue s'établit selon la règle suivante : \n",
    "1. Le programmeur pose une **question** ou donne un **ordre** à Python. Pour cela l'humain écrit une **INSTRUCTION**\n",
    "2. Python obéit : elle **EXECUTE** l'instruction demandée et **affiche le résulat SI il y en a un** (parfois il n'y a pas de résultat)\n",
    "3. Et ainsi de suite\n",
    "\n",
    "Dans ce dialogue, il y a un **maître** (le programmeur) et un **esclave** (la machine). C'est toujours le maître qui donne les ordres, jamais le contraire : la machine obéit toujours (si elle comprend l'instruction). La machine ne donne jamais d'ordre à l'informaticien.\n",
    "\n",
    "Pour que l'instruction donnée par l'informaticien soit comprise par la machine, il faut parler _la langue de la machine_. Cette langue c'est **python**. L'informaticien doit donc apprendre à _parler python_ pour se faire comprendre de la machine. **Apprendre à _parler à la machine en Python_ c'est apprendre à PROGRAMMER EN LANGAGE PYTHON**. \n",
    "\n",
    "* Dans Thonny, le mode interactif se déroule dans la fenêtre du bas : le **shell**. Le symbole `>>>` signifie que c'est au tour du programmeur (l'être humain) de parler. Le programmeur donne un ordre à Python. Il écrit donc une **instruction en langage python**\n",
    "\n",
    "\n",
    "* Dans les Notebook Jupyter (ce que j'utilise pour écrire les cours, TD et TP), `In` ou `Entrée` signifie que c'est au tour du programmeur de parler et `Out` ou `Sortie` montre la réponse de la machine.\n",
    "\n",
    "\n",
    "## Exemples de dialogue entre le programmeur et la machine\n",
    "\n",
    "Programmeur : >>> Machine, additionne 5 et 8  \n",
    "Machine : 13"
   ]
  },
  {
   "cell_type": "code",
   "execution_count": 6,
   "metadata": {},
   "outputs": [
    {
     "data": {
      "text/plain": [
       "13"
      ]
     },
     "execution_count": 6,
     "metadata": {},
     "output_type": "execute_result"
    }
   ],
   "source": [
    "5 + 8"
   ]
  },
  {
   "cell_type": "markdown",
   "metadata": {},
   "source": [
    "Programmeur : >>> Machine, multiple 3 et 7  \n",
    "Machine : 21"
   ]
  },
  {
   "cell_type": "code",
   "execution_count": 7,
   "metadata": {},
   "outputs": [
    {
     "data": {
      "text/plain": [
       "21"
      ]
     },
     "execution_count": 7,
     "metadata": {},
     "output_type": "execute_result"
    }
   ],
   "source": [
    "3 * 7"
   ]
  },
  {
   "cell_type": "markdown",
   "metadata": {},
   "source": [
    "Programmeur : >>> Machine, combien de lettres comportent le mot informatique  \n",
    "Machine : 12"
   ]
  },
  {
   "cell_type": "code",
   "execution_count": 8,
   "metadata": {},
   "outputs": [
    {
     "data": {
      "text/plain": [
       "12"
      ]
     },
     "execution_count": 8,
     "metadata": {},
     "output_type": "execute_result"
    }
   ],
   "source": [
    "len('informatique')"
   ]
  },
  {
   "cell_type": "markdown",
   "metadata": {},
   "source": [
    "Cette dernière instruction est sans doute inconnue pour vous : c'est normal, vous commencez votre apprentissage de Python.\n",
    "\n",
    "En mode interactif, Python se comporte un peu comme une calculatrice mais une calculatrice qui sait manipuler bien plus de choses que des nombres et avec laquelle on peut faire faire des choses bien plus complexes.\n",
    "\n",
    "# Python en mode programme\n",
    "\n",
    "Dans ce mode il n'y a plus de dialogue informaticien / machine.  \n",
    "* En **mode programme** ou **mode d'édition**, le programmeur peut écrire une **suite d'instructions**. Cette suite d'instruction s'appelle un **programme** ou un **code source**. \n",
    "\n",
    "\n",
    "* Lorsque le programmeur appuie sur le bouton **RUN  $\\blacktriangleright$** (touche `F5` sous Thonny). Il donne l'ordre à la machine d'exécuter ces instructions. Celle-ci va les exécuter **de manière séquentielle, c'est-à-dire les unes après les autres**\n",
    "\n",
    "\n",
    "* **Dans ce mode, python n'affiche plus les résultats de calcul.** Donc, si le programmeur souhaite que la machine affiche un résultat, il faut lui **demander explicitement avec l'instruction `print()`**. Celle-ci permet d'afficher ce qui est entre ses parenthèses. **L'affichage se fait dans la zone du Shell**\n",
    "\n",
    "\n",
    "_Remarque : je sais que print signifie imprimer mais cela n'a rien à voir avec une feuille de papier qui sort de l'imprimante. Il y aurait beaucoup à dire sur le print. Retenez juste pour l'instant : print = afficher à l'**écran**_\n",
    "\n",
    "## Mode interactif ou mode programme, quel mode utiliser ?\n",
    "\n",
    "**90% du temps vous utiliserez le mode programme, car c'est ce mode qui vous permet précisemment d'écrire le code source du programme et de l'enregistrer dans un fichier.**\n",
    "\n",
    "Le mode interactif est utilisé pour debugger ou exécuter une instruction ponctuellement qui _\"n'a rien à voir\"_ avec le programme en cours de développement ou pour demander de la documentation à Python (vous verrez à l'usage)"
   ]
  }
 ],
 "metadata": {
  "kernelspec": {
   "display_name": "Python 3",
   "language": "python",
   "name": "python3"
  },
  "language_info": {
   "codemirror_mode": {
    "name": "ipython",
    "version": 3
   },
   "file_extension": ".py",
   "mimetype": "text/x-python",
   "name": "python",
   "nbconvert_exporter": "python",
   "pygments_lexer": "ipython3",
   "version": "3.10.6"
  },
  "latex_envs": {
   "LaTeX_envs_menu_present": true,
   "autoclose": false,
   "autocomplete": true,
   "bibliofile": "biblio.bib",
   "cite_by": "apalike",
   "current_citInitial": 1,
   "eqLabelWithNumbers": true,
   "eqNumInitial": 1,
   "hotkeys": {
    "equation": "Ctrl-E",
    "itemize": "Ctrl-I"
   },
   "labels_anchors": false,
   "latex_user_defs": false,
   "report_style_numbering": false,
   "user_envs_cfg": false
  }
 },
 "nbformat": 4,
 "nbformat_minor": 4
}
