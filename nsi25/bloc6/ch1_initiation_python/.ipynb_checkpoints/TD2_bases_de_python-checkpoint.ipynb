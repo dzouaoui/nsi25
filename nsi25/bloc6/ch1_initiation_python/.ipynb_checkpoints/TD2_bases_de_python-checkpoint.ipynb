{
 "cells": [
  {
   "cell_type": "markdown",
   "metadata": {},
   "source": [
    "> Pensez à ouvrir `premiere/Outils_et_environnement_informatiques/Thonny` pour avoir de l'aide sur l'utilisation de Thonny\n",
    "\n",
    "\n",
    "# Activité 0\n",
    "\n",
    "Lire attentivement le document `premiere/Outils_et_environnement_informatiques/Comment_organiser_ses_fichiers_et_dossiers` et le document `premiere/Outils_et_environnement_informatiques/Comment_présenter_un_programme_sous_thonny`. Il faudra **impérativement** appliquer les procédures qui y sont expliquées dans ce TD mais aussi **systématiquement** pendant toute l'année.\n",
    "\n",
    "$\\Longrightarrow$Tous les exercices faits en mode d'édition (ou mode programme) de ce TD doivent être enregistrés dans un fichier d'extention `.py` réalisé avec Thonny. Ce fichier devra être déposé dans votre _repository_ **travail** sur **github** en respectant la bonne arborescence !\n",
    "\n",
    "$\\Longrightarrow$Certaines questions de ce TD ne sont pas des questions où il faut écrire du code. Ces questions doivent être faites sur feuille !\n",
    "\n",
    "# Exercice 1\n",
    "\n",
    "1. Sans utiliser python, prédire quel est le type des objets suivants :\n",
    "    * 'trois'\n",
    "    * 4\n",
    "    * '5'\n",
    "    * \"6\"\n",
    "\n",
    "\n",
    "2. Vérifier vos réponses précédentes en utilisant Python en mode interactif\n",
    "\n",
    "> Soit le calcul suivant : $\\frac{4,2 + 2}{2}$. \n",
    "\n",
    "3. Un élève a écrit l'instruction python ci-dessous afin de réaliser le calcul. Exécutez l'instruction. Le résultat affiché est-il correct ?"
   ]
  },
  {
   "cell_type": "code",
   "execution_count": null,
   "metadata": {},
   "outputs": [],
   "source": [
    "4,2 + 2 / 2"
   ]
  },
  {
   "cell_type": "markdown",
   "metadata": {},
   "source": [
    "> En programmation, ce n'est pas parce qu'il n'y a aucune erreur qui s'affiche que le code est correct !! (On reviendra un peu plus tard dans l'annnée sur la nécessité des tests en programmation). **Souvent les bugs les plus difficiles à corriger et les plus dangereux sont ceux qui ne génèrent pas de message d'erreur**, précisemment parce qu'ils peuvent passer inaperçus et les conséquences peuvent alors être très fâcheuses !!\n",
    "Un exemple très célèbre est [le vol 501 d'Ariane 5](https://fr.wikipedia.org/wiki/Vol_501_d%27Ariane_5) dont les conséquences dramatiques sont visibles [en video](https://www.youtube.com/watch?v=t7pe1ph6EI0)\n",
    "\n",
    "4. L'instruction précédente a donc été mal écrite (sans pour autant générer d'erreur) : elle ne correspond pas au calcul souhaité. Corrigez l'instruction et testez à nouveau ! (le résultat attendu est bien sûr `3.1`)\n",
    "\n",
    "> Les messages d'erreurs en programmation sont improprement appelés message d'erreurs. On les appelle **Exceptions** et leur gestion constitue un travail du métier de programmeur (mais cette partie n'est pas au programme)\n",
    "\n",
    "# Exercice 2\n",
    "\n",
    "> Cet exercice ne se résoud évidemment pas en supprimant les `'` ou les `\"` qui _\"dérangent\"_. Cet exercice doit se faire dans le mode shell de python\n",
    "\n",
    "1. Ecrire l'instruction python pour que la variable `phrase` prenne la chaîne de caractères `Il a 16 ans.`\n",
    "\n",
    "2. Ecrire l'instruction python pour que la variable `phrase` prenne la chaîne de caractères `Les cheveux de Jean n'ont pas poussé`\n",
    "\n",
    "3. Lire le début de [la page wikipedia sur le caractère d'échappement](https://fr.wikipedia.org/wiki/Caract%C3%A8re_d%27%C3%A9chappement).  \n",
    "Sachant qu'en python le caractère d'échappement est `\\`, écrire l'instruction python pour que la variable `phrase` prenne la chaîne de caractères `Il a crié : \"Oui, j'arrive !\"`.\n",
    "\n",
    "\n",
    "# Exercice 3\n",
    "\n",
    "> Cet exercice doit se faire dans la zone d'édition de Thonny. Tout ce qui se passe dans la zone d'édition peut et doit être enregistré dans un fichier puis déposé dans votre _repository_ **travail** sur github !\n",
    "\n",
    "1. Compte-tenu de ce que vous avez lu lors de l'activité 0, il y a quelquechose à faire **tout de suite** avant même de commencer cet exercice, laquelle ? Faites-le !\n",
    "\n",
    "> On considère les ordres suivants donnés par le programmeur à la machine (les mêmes que dans l'exercice 1) : \n",
    "* Machine, Enlève 6 de 20\n",
    "* Machine, Multiple 2 et 31\n",
    "* Machine, Combien de lettres possède le mot Python\n",
    "* Machine, Calcule-moi 3% de 50\n",
    "\n",
    "2. Réécrire les 4 instructions python correspondantes à ces ordres mais cette fois-ci dans la zone d'édition de Thonny. (vous êtes en train d'écrire le **code source** de votre premier programme de l'année)\n",
    "\n",
    "\n",
    "3. Lancez l'exécution du programme. Python affiche t-il les résultats ? Pourquoi ? (dans l'exercice 1, les résultats étaient bien affichés !)\n",
    "\n",
    "\n",
    "4. Ouvrir si nécessaire la zone _\"Variables\"_ de Thonny pour visualiser la mémoire. Les résultats sont-ils stockés en mémoire ?\n",
    "\n",
    "\n",
    "> On constate que lorsque python exécute vos 4 instructions, les résultats ne sont ni affichés à l'écran ni stockés en mémoire. Autrement dit, il n'y a aucune trace du travail effectué par python. En effet, en l'état vous n'avez pas utilisé de variables pour stocker les résultats en mémoire et vous n'avez pas demandé non plus à afficher les variables. Donc python n'a rien fait de tout ça : ce qui paraît évident de faire pour un être humain ne l'est pas pour la machine : en programmation, une machine ne fait **que ce que le programmeur lui a demandé et exactement comme le programmeur lui a demandé**. \n",
    "\n",
    "**On vous demande dans les questions suivantes de modifier votre programme. Afin de conserver la réponse des questions précédentes, vous devez copier coller le code et modifier ce copié-collé pour répondre à la nouvelle question**\n",
    "\n",
    "5. Modifier le programme afin de stocker les 4 résultats dans 4 variables puis lancez l'exécution du programme. (*Choisir des noms simples pour les noms de variables.*) Les résultats sont-ils maintenant stockés en mémoire. S'affichent-ils ?\n",
    "\n",
    "\n",
    "6. Modifier le programme afin que les variables stockées soient affichées à l'écran.\n",
    "\n",
    "\n",
    "7. Modifier le programme afin que les résultats soient affichés mais pas stockés en mémoire.\n",
    "\n",
    "> Une synthèse sera faite afin de :\n",
    "* ne pas confondre zone _\"Variables\"_ et zone d'affichage dans le **shell**\n",
    "* bien distinguer le rôle du programmeur (vous en NSI) du simple utilisateur du programme\n",
    "* comment utiliser les commentaires afin d'exécuter certaines parties uniquement du code.\n",
    "\n",
    "# Exercice 4\n",
    "\n",
    "> Cet exercice doit se faire en utilisant le mode d'édition de Thonny\n",
    "\n",
    "1. Prédire quel sera les valeurs de a et de b à la fin des instructions suivantes ? (utilisez l'analogie des boîtes comme dans le cours)"
   ]
  },
  {
   "cell_type": "code",
   "execution_count": null,
   "metadata": {},
   "outputs": [],
   "source": [
    "a = 42\n",
    "b = 66\n",
    "a = b\n",
    "b = a"
   ]
  },
  {
   "cell_type": "markdown",
   "metadata": {},
   "source": [
    "2. Afin de vérifier votre réponse,  écrire les instructions (en mode édition) et exécutez-les en mode **debug** (voir mode d'emploi de Thonny dans le dossier \"outil et environnement informatiques\"\n",
    "\n",
    "\n",
    "3. Prédire quel sera les valeurs de a, b et c à la fin des instructions suivantes ? (utilisez l'analogie des boîtes comme dans le cours)"
   ]
  },
  {
   "cell_type": "code",
   "execution_count": null,
   "metadata": {},
   "outputs": [],
   "source": [
    "a = 12\n",
    "b = 8\n",
    "c = a\n",
    "a = b\n",
    "b = c"
   ]
  },
  {
   "cell_type": "markdown",
   "metadata": {},
   "source": [
    "4. Afin de vérifier votre réponse,  écrire les instructions (en mode édition) et exécutez-les en mode **debug** (voir mode d'emploi de Thonny dans le dossier \"outil et environnement informatiques\""
   ]
  },
  {
   "cell_type": "markdown",
   "metadata": {},
   "source": [
    "# Exercice 5\n",
    "\n",
    "> Cet exercice doit se faire en utilisant le shell de Thonny\n",
    "\n",
    "1. Parmi les noms de variables suivantes, lesquelles **ne sont pas autorisées** et vont renvoyées des erreurs ? Donner la raison de l'erreur.\n",
    "    * mavariable \n",
    "    * toi&moi\n",
    "    * essai 1\n",
    "    * 2emeEssai\n",
    "    * LargeurRectangle\n",
    "    * ma-variable\n",
    "    * ma_variable\n",
    "    * _ma_variable\n",
    "    * MAVARIABLE\n",
    "    * nombreéchec\n",
    "    * point de vie\n",
    "\n",
    "\n",
    "2. Vérifiez vos réponses précédentes en utilisant Thonny. Pour cela, il suffira de les tester en leur affectant une donnée au hasard (par exemple 5)\n",
    "\n",
    "\n",
    "3. Parmi les noms de variables suivantes, lesquelles ne respectent pas **les bonnes pratiques** ? Donner la raison.\n",
    "    * x\n",
    "    * maVariable\n",
    "    * nombre\n",
    "    * mot_de_passe\n",
    "    * loginUtilisateur\n",
    "    * LongueurParcours\n",
    "    * prix_séjour"
   ]
  },
  {
   "cell_type": "markdown",
   "metadata": {},
   "source": [
    "# Exercice 6\n",
    "\n",
    "> Cet exercice doit se faire en utilisant le shell de Thonny\n",
    "\n",
    "> Lorsque vous allez écrire du code python, il y aura des erreurs, c'est normal !! **Tous les programmeurs** font des erreurs dans leur code. Mais **ne prenez pas l'habitude de m'appeler dès qu'une erreur s'affiche**. Votre travail consistera toujours en programmation à lire le message d'erreur, le comprendre, essayer de se mettre à la place de la machine pour en déterminer l'origine. Et si on n'a pas d'idée, il faut utiliser le mode **debug**. Parfois même les programmeurs très expérimentés mettent littéralement des heures à trouver le pourquoi d'une erreur et la corriger. C'est le côté un peu \"ingrat\" de l'activité de programmeur. Rassurez-vous je ne vais pas vous laisser chercher plusieurs heures, mais c'est sûr que je vous laisserai toujours chercher avant de vous aider !!\n",
    "\n",
    "Lorsqu'une instruction n'est pas comprise par python, la machine va afficher un message d'erreur. On distingue :\n",
    "* Les erreurs de type : lorsque le type d'un objet n'autorise pas l'opération demandée\n",
    "* Les erreurs de nom : lorsque Python ne trouve pas une variable\n",
    "* Les erreurs de syntaxe : lorsqu'une instruction est mal écrite, incomplète ou n'a pas de sens\n",
    "* Les erreurs d'indentation : lorsque le code écrit n'est pas bien aligné et collé sur le bord gauche (on verra par la suite pourquoi c'est important)\n",
    "* L'erreur `ZeroDivisionError` : qui est très explicite !\n",
    "\n",
    "Les codes suivants vont tous générer des erreurs. C'est fait exprès !!"
   ]
  },
  {
   "cell_type": "code",
   "execution_count": null,
   "metadata": {},
   "outputs": [],
   "source": [
    "# code 1\n",
    "mot = 'informatique"
   ]
  },
  {
   "cell_type": "code",
   "execution_count": null,
   "metadata": {},
   "outputs": [],
   "source": [
    "# code 2\n",
    "3 = variable"
   ]
  },
  {
   "cell_type": "code",
   "execution_count": null,
   "metadata": {},
   "outputs": [],
   "source": [
    "# code 3\n",
    "x = 5\n",
    "x = x + 2\n",
    " y = x"
   ]
  },
  {
   "cell_type": "code",
   "execution_count": null,
   "metadata": {},
   "outputs": [],
   "source": [
    "# code 4\n",
    "54 + '4'"
   ]
  },
  {
   "cell_type": "code",
   "execution_count": null,
   "metadata": {},
   "outputs": [],
   "source": [
    "# code 5\n",
    "x = (2 * (9 +2)"
   ]
  },
  {
   "cell_type": "code",
   "execution_count": null,
   "metadata": {},
   "outputs": [],
   "source": [
    "# code 6\n",
    "truc = 34\n",
    "truc = Truc + 6"
   ]
  },
  {
   "cell_type": "code",
   "execution_count": null,
   "metadata": {},
   "outputs": [],
   "source": [
    "# code 7\n",
    "'35' / 2"
   ]
  },
  {
   "cell_type": "code",
   "execution_count": null,
   "metadata": {},
   "outputs": [],
   "source": [
    "# code 8\n",
    "len(1234)"
   ]
  },
  {
   "cell_type": "code",
   "execution_count": null,
   "metadata": {},
   "outputs": [],
   "source": [
    "# code 9\n",
    "print 4 + 5"
   ]
  },
  {
   "cell_type": "code",
   "execution_count": null,
   "metadata": {},
   "outputs": [],
   "source": [
    "# code 10\n",
    "type(var)"
   ]
  },
  {
   "cell_type": "code",
   "execution_count": null,
   "metadata": {},
   "outputs": [],
   "source": [
    "# code 11\n",
    "mot = 'l'informatique'"
   ]
  },
  {
   "cell_type": "markdown",
   "metadata": {},
   "source": [
    "1. Avant de les exécuter, prédire s'il s'agit d'une erreur de type (`TypeError`), d'une erreur de nom (`NameError`), d'une erreur de syntaxe (`SyntaxError`), d'une erreur d'indentation(`IndentationError`) ou d'une erreur `ZeroDivisionError`. Préciser à quel endroit du code, Python ne comprend plus.\n",
    "\n",
    "\n",
    "2. En tappant le code dans python (en mode d'édition), vérifier si vous avez trouvé la bonne erreur et si python s'est arrété à l'endroit que vous avez prédit (python marque d'un symbole `^` l'endroit où il ne comprend plus)\n",
    "\n",
    "\n",
    "3. Corriger le code et vérifier qu'il n'y a plus de message d'erreur"
   ]
  },
  {
   "cell_type": "markdown",
   "metadata": {},
   "source": [
    "# Exercice 7\n",
    "\n",
    "> Cet exercice doit se faire en utilisant le shell de Thonny\n",
    "\n",
    "1. Traduire en langage python les expressions mathématiques suivantes :\n",
    "    * $3^2+2^3$\n",
    "    * $\\frac{5}{3} \\times \\frac{9}{2} + 12$\n",
    "    * $(\\frac{36}{25})^2$\n",
    "\n",
    "\n",
    "2. Si les résultats affichés par Thonny ne sont pas respectivement 17 19.5 et 2.0736, c'est que vous vous êtes trompés dans leur écriture en langage python. Dans ce cas, trouvez l'erreur !\n",
    "\n",
    "\n",
    "3. Écrivez les formules mathématiques suivantes sous forme d'expressions Python, et calculez les pour $a=1$, $b=2$, $c=3$ et $d=4$. bien sûr dans le cas où le résultat affiché par python n'est pas le bon, c'est que votre instruction python a été mal écrite et il faut trouver l'erreur !\n",
    "    * $(a + b)^2$\n",
    "    * $a^2 + 2ab + b^2$\n",
    "    * $\\frac{a+b}{c + d}$\n",
    "    * $\\frac{1}{a+1}$"
   ]
  },
  {
   "cell_type": "markdown",
   "metadata": {},
   "source": [
    "# Exercice 8\n",
    "\n",
    "1. Prédire les résultats des instructions python suivantes\n",
    "    * 7 + 2 / 3\n",
    "    * 7 + 2 // 3\n",
    "    * 7 + 2 % 3\n",
    "    \n",
    "    \n",
    "2. Vérifier à l'aide de thonny en mode shell que vous avez trouvé le bon résultat à la question précédente. Puis indiquer la signification des trois opérateurs `/`, `//` et `%`\n",
    "\n",
    "\n",
    "3. Prédire les résultats des instructions python suivantes\n",
    "    * 5 + 2\n",
    "    * '5' + '2'\n",
    "    * '5' + 2\n",
    "    * 5 + '2'\n",
    "\n",
    "\n",
    "4. Vérifier à l'aide de thonny en mode shell que vous avez trouvé le bon résultat à la question précédente. Expliquer pourquoi python affiche une erreur sur 2 de ces instructions\n",
    "\n",
    "\n",
    "5. Prédire les résultats des instructions python suivantes\n",
    "    * type('Python')\n",
    "    * len('Python')\n",
    "    * type(len('Python'))\n",
    "    \n",
    "    \n",
    "6. Vérifier à l'aide de thonny en mode shell que vous avez trouvé le bon résultat à la question précédente."
   ]
  },
  {
   "cell_type": "markdown",
   "metadata": {},
   "source": [
    "# Exercice 9\n",
    "\n",
    "> Cet exercice doit se faire en utilisant le mode d'édition de Thonny\n",
    "\n",
    "Pour chacun des code source 1 à 4 : \n",
    "\n",
    "1. Prédire quel sera les valeurs de toutes les variables utilisées dans le code source à la fin des instructions suivantes ? (utilisez l'analogie des boîtes comme dans le cours)\n",
    "\n",
    "2. Afin de vérifier votre réponse,  écrire les instructions (en mode édition) et exécutez-les en mode **debug** (voir mode d'emploi de Thonny dans le dossier \"outil et environnement informatiques\""
   ]
  },
  {
   "cell_type": "code",
   "execution_count": null,
   "metadata": {},
   "outputs": [],
   "source": [
    "# code source 1\n",
    "a = 12\n",
    "b = a + 1\n",
    "c = a\n",
    "a = a + 1\n",
    "b = 13"
   ]
  },
  {
   "cell_type": "code",
   "execution_count": null,
   "metadata": {},
   "outputs": [],
   "source": [
    "# code source 2\n",
    "toto = 13.4\n",
    "Toto = 10.5\n",
    "Toto = Toto-5.5"
   ]
  },
  {
   "cell_type": "code",
   "execution_count": null,
   "metadata": {},
   "outputs": [],
   "source": [
    "# code source 3\n",
    "a = '10'\n",
    "b = '2'\n",
    "c = a + b"
   ]
  },
  {
   "cell_type": "code",
   "execution_count": null,
   "metadata": {},
   "outputs": [],
   "source": [
    "# code source 4\n",
    "a = \"4*5\"\n",
    "a = a + '6'"
   ]
  },
  {
   "cell_type": "markdown",
   "metadata": {},
   "source": [
    "# Exercice 10\n",
    "\n",
    "> Cet exercice doit être réalisé en utilisant Thonny en mode programme\n",
    "\n",
    "> Cet exercice ne se résoud évidemment pas en écrivant `n2 = 'Un'` et `n1 = 'Deux'`. Pour ceux qui recherchent sur internet, il ne s'agit pas non plus d'écrire `n1, n2 = n2 , n1`\n",
    "\n",
    "Observez les deux lignes de code Python suivantes"
   ]
  },
  {
   "cell_type": "code",
   "execution_count": null,
   "metadata": {},
   "outputs": [],
   "source": [
    "n1 = 'Un'\n",
    "n2 = 'Deux'"
   ]
  },
  {
   "cell_type": "markdown",
   "metadata": {},
   "source": [
    "Cherchez une méthode pour échanger les valeurs des deux variables : à la fin, n1 doit contenir la valeur 'Deux' et n2 doit contenir 'Un'. Ecrivez les instructions en python  à écrire à la suite de ces deux instructions qui permettent d'appliquer cette méthode puis testez\n",
    "\n",
    "**Indice : Comme dans le cours, imaginez que n1 et n2 sont des boîtes, comment feriez-vous ?**\n",
    "\n",
    "# Exercice 11\n",
    "\n",
    "> Cet exercice doit être réalisé en utilisant Thonny en mode programme\n",
    "\n",
    "Soient c1 et c2 les longueurs des deux côtés de l'angle droit d'un triangle rectangle. \n",
    "Supposons que c1 = 4 et c2 = 5\n",
    "\n",
    "Ecrire le code python permettant de calculer d'afficher la valeur de l'hypothénuse h. Pour cela, vous aurez besoin que python calcule une racine carrée : le code ci-dessous devrait vous être utile..."
   ]
  },
  {
   "cell_type": "code",
   "execution_count": 2,
   "metadata": {},
   "outputs": [
    {
     "data": {
      "text/plain": [
       "5.0"
      ]
     },
     "execution_count": 2,
     "metadata": {},
     "output_type": "execute_result"
    }
   ],
   "source": [
    "# Le code ci-dessous permet de calculer la racine carrée de 25\n",
    "from math import sqrt\n",
    "sqrt(25)"
   ]
  },
  {
   "cell_type": "markdown",
   "metadata": {},
   "source": [
    "# Exercice 12\n",
    "\n",
    "> Cet exercice doit être réalisé en utilisant Thonny en mode programme\n",
    "\n",
    "Le numéro de sécurité sociale est constitué de 13 chiffres auquel s'ajoute la clé de contrôle (2 chiffres). ![Secu](img/Securite_sociale.png)\n",
    " \n",
    "La clé de contrôle est calculée de la façon suivante :\n",
    "\n",
    "1. On calcule le reste de la division euclidienne du numéro de sécurité sociale (sans les 2 derniers chiffres) par 97\n",
    "2. La clé de contrôle est égale à 97 moins le nombre trouvé au 1.\n",
    "\n",
    "**Travail à faire :**\n",
    "\n",
    "1. Soit `num_secu_sans_cle` la variable stockant un numéro de sécurité sociale sans les 2 derniers chiffres. Ecrire un programme qui calcule et affiche la clé de contrôle.\n",
    "2. Tester votre programme en utilisant votre carte de sécurité sociale : vous devriez retrouver les 2 derniers chiffres\n",
    "3. Modifier 1 seul chiffre de votre carte de sécurité sociale : vous devriez constater que les 2 derniers chiffres ont changé. En déduire l'intérêt que peut avoir la clé de contrôle.\n",
    "4. Aller sur ce [site web](http://mon-convertisseur.fr/calculateur-cle-numero-securite-sociale.php). Vous constaterez que ce site met en oeuvre un programme du même type que vous venez d'écrire car il _\"devine\"_ les 2 derniers chiffres d'un numéro de sécurité sociale\n"
   ]
  }
 ],
 "metadata": {
  "kernelspec": {
   "display_name": "Python 3 (ipykernel)",
   "language": "python",
   "name": "python3"
  },
  "language_info": {
   "codemirror_mode": {
    "name": "ipython",
    "version": 3
   },
   "file_extension": ".py",
   "mimetype": "text/x-python",
   "name": "python",
   "nbconvert_exporter": "python",
   "pygments_lexer": "ipython3",
   "version": "3.8.10"
  },
  "latex_envs": {
   "LaTeX_envs_menu_present": true,
   "autoclose": false,
   "autocomplete": true,
   "bibliofile": "biblio.bib",
   "cite_by": "apalike",
   "current_citInitial": 1,
   "eqLabelWithNumbers": true,
   "eqNumInitial": 1,
   "hotkeys": {
    "equation": "Ctrl-E",
    "itemize": "Ctrl-I"
   },
   "labels_anchors": false,
   "latex_user_defs": false,
   "report_style_numbering": false,
   "user_envs_cfg": false
  }
 },
 "nbformat": 4,
 "nbformat_minor": 4
}
