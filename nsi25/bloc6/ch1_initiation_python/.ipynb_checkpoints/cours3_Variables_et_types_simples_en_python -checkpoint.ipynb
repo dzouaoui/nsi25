{
 "cells": [
  {
   "cell_type": "markdown",
   "metadata": {},
   "source": [
    "# Les types de données\n",
    "\n",
    "Un ordinateur ne fait qu'une seule chose : manipuler des **informations**. Ces informations peuvent être de nature très différentes : nombres, texte, images, son, vidéo. \n",
    "\n",
    "La [**numérisation**](https://fr.wikipedia.org/wiki/Num%C3%A9risation) est le procédé qui permet de convertir les images, le son et la vidéo en une suite de nombre. (voir cours de SNT, de physique ou d'enseignement scientifique). Pour plus d'information sur ce sujet :[numérisation des images et du son](https://www.lumni.fr/video/stocker-les-images-ou-les-sons)\n",
    "\n",
    "$\\Longrightarrow$ Savoir représenter les nombres en machine permet de représenter en machine des images, de l'audio et de la video. On appelle **données** ou **data** toute information qui a été numérisée, c'est-à-dire transformée en une suite de nombre par le procédé de numérisation.\n",
    "\n",
    "En Python, il y a 4 types de base : \n",
    "* `int` : **entier** de l'anglais **int**eger\n",
    "* `float` : **nombre réel** ( _\"nombre à virgule\"_ ) de l'anglais **float**ing point number\n",
    "* `str` : **chaîne de caractères** de l'anglais **str**ing\n",
    "* `bool` : **booléen** de l'anglais **bool**ean (il existe uniquement 2 booléens : `True` et `False`)\n",
    "\n",
    "A partir de ces types de bases, on peut donc manipuler nimporte quel type d'informations : audio, image, video, texte, nombre etc...\n",
    "\n",
    "L'instruction `type()` permet de demander à la machine de donner le **type** de la donnée écrite entre les parenthèses."
   ]
  },
  {
   "cell_type": "code",
   "execution_count": 1,
   "metadata": {},
   "outputs": [
    {
     "data": {
      "text/plain": [
       "int"
      ]
     },
     "execution_count": 1,
     "metadata": {},
     "output_type": "execute_result"
    }
   ],
   "source": [
    "# 52 est un entier\n",
    "type(52)"
   ]
  },
  {
   "cell_type": "code",
   "execution_count": 2,
   "metadata": {},
   "outputs": [
    {
     "data": {
      "text/plain": [
       "float"
      ]
     },
     "execution_count": 2,
     "metadata": {},
     "output_type": "execute_result"
    }
   ],
   "source": [
    "# 8.24 est un nombre réel(float)\n",
    "type(8.24)"
   ]
  },
  {
   "cell_type": "code",
   "execution_count": 3,
   "metadata": {},
   "outputs": [
    {
     "data": {
      "text/plain": [
       "str"
      ]
     },
     "execution_count": 3,
     "metadata": {},
     "output_type": "execute_result"
    }
   ],
   "source": [
    "# 'informatique' est une chaîne de caractères\n",
    "type('informatique')"
   ]
  },
  {
   "cell_type": "code",
   "execution_count": 4,
   "metadata": {},
   "outputs": [
    {
     "data": {
      "text/plain": [
       "bool"
      ]
     },
     "execution_count": 4,
     "metadata": {},
     "output_type": "execute_result"
    }
   ],
   "source": [
    "# True et False sont des booléens\n",
    "type(True)"
   ]
  },
  {
   "cell_type": "markdown",
   "metadata": {},
   "source": [
    "## Le type `float`\n",
    "\n",
    "**attention :** en python les nombres réels s'écrivent avec un `.` et surtout pas une `,` !\n",
    "\n",
    "Le code ci-dessous montre que `8,24` n'est pas un nombre mais un objet de type `tuple`. On verra ce type d'objet plus tard dans l'année. Il n'a rien à vois avec des nombres !!"
   ]
  },
  {
   "cell_type": "code",
   "execution_count": 5,
   "metadata": {},
   "outputs": [
    {
     "data": {
      "text/plain": [
       "tuple"
      ]
     },
     "execution_count": 5,
     "metadata": {},
     "output_type": "execute_result"
    }
   ],
   "source": [
    "nb = 8,24\n",
    "type(nb)"
   ]
  },
  {
   "cell_type": "markdown",
   "metadata": {},
   "source": [
    "## Le type `str`\n",
    "\n",
    "En python, les **chaînes de caractères** doivent **impérativement** encadrée par des guillemets simple `'` ou guillemets doubles `\"`"
   ]
  },
  {
   "cell_type": "code",
   "execution_count": 6,
   "metadata": {},
   "outputs": [
    {
     "data": {
      "text/plain": [
       "str"
      ]
     },
     "execution_count": 6,
     "metadata": {},
     "output_type": "execute_result"
    }
   ],
   "source": [
    "c = 'info'\n",
    "type(c)"
   ]
  },
  {
   "cell_type": "code",
   "execution_count": 9,
   "metadata": {},
   "outputs": [
    {
     "data": {
      "text/plain": [
       "str"
      ]
     },
     "execution_count": 9,
     "metadata": {},
     "output_type": "execute_result"
    }
   ],
   "source": [
    "c = \"info\"\n",
    "type(c)"
   ]
  },
  {
   "cell_type": "markdown",
   "metadata": {},
   "source": [
    "**Attention :** Ne pas mélanger guillemets simple `'` et guillemets doubles `\"`. Il faut rester cohérent !"
   ]
  },
  {
   "cell_type": "code",
   "execution_count": 8,
   "metadata": {},
   "outputs": [
    {
     "ename": "SyntaxError",
     "evalue": "EOL while scanning string literal (<ipython-input-8-69c544018a84>, line 1)",
     "output_type": "error",
     "traceback": [
      "\u001b[0;36m  File \u001b[0;32m\"<ipython-input-8-69c544018a84>\"\u001b[0;36m, line \u001b[0;32m1\u001b[0m\n\u001b[0;31m    c = \"info'\u001b[0m\n\u001b[0m              ^\u001b[0m\n\u001b[0;31mSyntaxError\u001b[0m\u001b[0;31m:\u001b[0m EOL while scanning string literal\n"
     ]
    }
   ],
   "source": [
    "c = \"info'\n",
    "type(\"info')"
   ]
  },
  {
   "cell_type": "markdown",
   "metadata": {},
   "source": [
    "Contrairement à ce qu'on peut croire naïvement, une chaîne de caractères n'est pas uniquement composée de lettres mais de nimporte quel caractère, notamment numérique.  "
   ]
  },
  {
   "cell_type": "code",
   "execution_count": 10,
   "metadata": {},
   "outputs": [
    {
     "data": {
      "text/plain": [
       "int"
      ]
     },
     "execution_count": 10,
     "metadata": {},
     "output_type": "execute_result"
    }
   ],
   "source": [
    "type(12)"
   ]
  },
  {
   "cell_type": "code",
   "execution_count": 11,
   "metadata": {},
   "outputs": [
    {
     "data": {
      "text/plain": [
       "str"
      ]
     },
     "execution_count": 11,
     "metadata": {},
     "output_type": "execute_result"
    }
   ],
   "source": [
    "type('12')"
   ]
  },
  {
   "cell_type": "markdown",
   "metadata": {},
   "source": [
    "D'autre part l'espace est un caractère, certes invisible à nos yeux mais c'est un caractère à part entière pour python !"
   ]
  },
  {
   "cell_type": "code",
   "execution_count": 12,
   "metadata": {},
   "outputs": [
    {
     "data": {
      "text/plain": [
       "5"
      ]
     },
     "execution_count": 12,
     "metadata": {},
     "output_type": "execute_result"
    }
   ],
   "source": [
    "len ('etMoi')"
   ]
  },
  {
   "cell_type": "code",
   "execution_count": 2,
   "metadata": {},
   "outputs": [
    {
     "data": {
      "text/plain": [
       "6"
      ]
     },
     "execution_count": 2,
     "metadata": {},
     "output_type": "execute_result"
    }
   ],
   "source": [
    "len ('et Moi')"
   ]
  },
  {
   "cell_type": "markdown",
   "metadata": {},
   "source": [
    "**Faire les Exercices 1 et 2 du TD Les bases de Python**\n",
    "\n",
    "# Les variables\n",
    "\n",
    "Lorsqu'un logiciel (c'est-à-dire un programme) tourne, il a besoin de **STOCKER des DONNEES**. Exemple :\n",
    "* Dans un jeu vidéo, on a besoin de mémoriser la position d'un personnage ou le nombre de points de vie\n",
    "* Dans un logiciel de calcul, on a besoin de mémoriser le résultat d'un calcul pour le réutiliser plus tard dans un autre calcul\n",
    "\n",
    "D'autres part ces informations stockées peuvent **VARIER** au cours du déroulement d'un programme. Dans l'exemple précédent, la position du personnage est amenée à changer, son nombre de points de vie aussi\n",
    "\n",
    "**Les VARIABLES permettent de stocker des données temporairement en mémoire**.\n",
    "\n",
    "La mémoire d'un ordinateur peut être comparée à un entrepôt où sont rangés des boîtes en carton. Chaque boîte représente une case mémoire. Actuellement, les ordinateurs possèdent des mémoires (RAM) de plusieurs Giga Octets. Il faut donc imaginer une mémoire comme une entrepôt possédant plusieurs milliards de boîtes. \n",
    "\n",
    "<img src=\"img/analogie.png\" />\n",
    "\n",
    "Bien sûr, pour pouvoir retrouver la variable dans cette immensité, il vaut mieux **mettre des étiquettes** sur les boîtes c'est-à-dire **donner un nom à la variable**\n",
    "\n",
    "Voici quelques exemples de variables pouvant être utilisées dans un programme de jeu :"
   ]
  },
  {
   "cell_type": "code",
   "execution_count": 1,
   "metadata": {},
   "outputs": [],
   "source": [
    "pointDeVie = 10\n",
    "nom_joueur = 'Terminator'"
   ]
  },
  {
   "cell_type": "markdown",
   "metadata": {},
   "source": [
    "## L'opérateur d'affectation `=`\n",
    "\n",
    "L'opérateur d'affectation `=` permet de mettre une donnée dans la boîte\n",
    "\n",
    "L'instruction `x = 5` permet donc de créer une variable de nom `x` contient la donnée 5 de type `int`. On a donc maintenant une boîte étiquetée x, qui contient 5 dans l'entrepôt.\n",
    "![affectation](img/affectation.png)\n",
    "\n",
    "> **Attention, les variables fonctionnent un peu différemment des boîtes réelles :**\n",
    "* Une variable ne contient qu'une seule donnée (impossible de mettre 2 choses dans la boîte)\n",
    "* Si on met un objet dans une boîte non vide, le contenu initial de la boîte est d'abord vidé. On dit que la donnée est **écrasée**\n",
    "* Deux boîtes différentes ne peuvent pas avoir la même étiquette\n",
    "\n",
    "Donc si maintenant on écrit l'instruction `x = 3`, la boîte contient la donnée 3. Le 5 précédemment dans la boîte a été _\"mis à la poubelle\"_\n",
    "\n",
    "**Attention :** La machine ne répond rien à une instruction d'affectation comme `x = 5`. En effet, il n'y a aucun résultat au fait de mettre quelquechose dans une boîte, donc Thonny n'affiche rien mais il ne faut pas en conclure que rien ne s'est passé !!   \n",
    "Pour le voir, il suffit d'**afficher la fenêtre *Variables* dans Thonny, qui permet au programmeur de visualiser le contenu de la mémoire de l'ordinateur lors de l'exécution du programme**.\n",
    "\n",
    "*Remarque : L'analogie des boîtes et de l'entrepôt n'est pas tout à fait correcte (elle ne correspond pas à certains aspects plus évolués de la mémoire gérée par python) néanmoins on va l'utiliser pour l'instant car elle permet de bien comprendre les mécanismes de base sur les variables*\n",
    "\n",
    "### Mécanisme d'évaluation des expressions\n",
    "\n",
    "Une [expression](https://fr.wikipedia.org/wiki/Expression_(informatique)) est ce qu'on trouve **à droite** du signe d'affectation `=`\n",
    "\n",
    "Lorsqu'une instruction comporte une affectation, l'interpréteur Python réalise **toujours** la même chose **dans cet ordre** :\n",
    "1. Il commence par évaluer l'expression pas à pas\n",
    "2. Il affecte le résultat de cette expression à la variable notée **à gauche** du signe `=`\n",
    "\n",
    "Il est très important de bien comprendre ce mécanisme sinon vous risquez d'écrire des instructions qui vous semblent avoir du sens mais que python ne comprendra pas. **En tant que programmeur, vous devez vous mettre à la place de la machine**\n",
    "\n",
    "**ACTIVITE A FAIRE** : Exécutez les instructions en mode **debug** sous Thonny et bien observez la fenêtre *Variables* de Thonny pour comprendre le mécanisme d'évaluation des expressions et le mécanisme d'affectation"
   ]
  },
  {
   "cell_type": "code",
   "execution_count": 14,
   "metadata": {},
   "outputs": [],
   "source": [
    "x = 5\n",
    "y = 3 + 4\n",
    "x = y\n",
    "x = y - 2"
   ]
  },
  {
   "cell_type": "code",
   "execution_count": 16,
   "metadata": {},
   "outputs": [
    {
     "name": "stdout",
     "output_type": "stream",
     "text": [
      "5\n"
     ]
    }
   ],
   "source": [
    "print(x)"
   ]
  },
  {
   "cell_type": "markdown",
   "metadata": {},
   "source": [
    "### ATTENTION : Une affectation `=` n'a rien à voir avec une égalité en mathématiques\n",
    "\n",
    " |                  |En informatique|En mathématique|\n",
    " |:-------------:|:-------------------:|:-----------------------------------------------------------------:|\n",
    " |`x = 12`|a du sens|a du sens : Crée un objet 12 (de type entier) référencé par x|\n",
    " |`12 = x`|n'a pas de sens|a du sens : génère une erreur|\n",
    " |`x = x + 1`|a du sens|n'a pas de sens : Incrémentation de la valeur x|\n",
    " \n",
    "#### Mécanisme de l'instruction `x = x + 1` (*voir mode debug de thonny*) :\n",
    "*Imaginons une variable x = 12*\n",
    "\n",
    "* Python évalue `x + 1` :\n",
    "\t* Python évalue d'abord x. x vaut 12, il remplace donc x par 12\n",
    "\t* Python calcule 12 + 1. Il trouve 13\n",
    "* Python réalise l'affectation `=` : la valeur x vaut maintenant 13 (*la boîte x contient la donnée 13*)\n",
    "\n",
    "**Faire l'exercice 3 du TD Les bases de Python**\n",
    "\n",
    "\n",
    "## Nom des variables\n",
    "\n",
    "1. **Ce qui est imposé :**\n",
    "\n",
    "    * Un nom de variable est une séquence pouvant **uniquement** être composée de **lettres** (a → z , A → Z) de **chiffres** (0 → 9) et du **caractère _** \n",
    "    * Un nom de variable **ne doit pas commencer par un chiffre** \n",
    "    * Les espaces, les caractères spéciaux tels que \\$, #, @, etc. sont interdits (à l’exception du caractère _)\n",
    "\n",
    "\n",
    "2. **Ce qui est recommandé**  dans la conventions [PEP8](https://www.python.org/dev/peps/pep-0008/):\n",
    "\n",
    "    * Un nom de variable ne doit pas commencer par une majuscule.\n",
    "    * Ne pas utiliser de caractères accentués dans un nom de variable \n",
    "    * Ne pas prendre comme nom de variable un mot clé python (def, and, is etc...) ou un nom de fonction (print, type, abs etc...) : bien regarder la coloration syntaxique dans Thonny\n",
    "    * Les variables qui ne varient pas lors de l'exécution d'un programme sont appelées des **constantes**. On doit les identifier par leur nom **uniquement composé de majuscules**\n",
    "    * N’utiliser les majuscules qu’à l’intérieur même du nom, pour en augmenter éventuellement la lisibilité, comme dans tableDesMatieres (convention [camelCase](https://fr.wikipedia.org/wiki/Camel_case)), ou séparer les mots par le caractère souligné _ comme dans table_des_matieres\n",
    "    * **Choisir des noms de variables explicites** pour augmenter la lisibilité du code source. Exemple : pour une variable destinée à contenir les points de vie d'un joueur, il vaut mieux l'appeler `point_de_vie` que `point` ou pire `p`\n",
    "    \n",
    "\n",
    "**En classe de NSI, il faudra avoir de bonnes pratiques donc évidemment faire ce qui est imposé par le langage mais aussi ce qui est recommandé**\n",
    "\n",
    "Rappel : La casse est significative (les caractères majuscules et minuscules sont distingués). `pointdevie`, `POINTDEVIE` et `pointDeVie` sont donc des variables différentes. Soyez attentifs \n",
    "\n",
    "# La coloration syntaxique\n",
    "\n",
    "> Attention les instructions ci dessous n'ont aucun sens (leur exécution engendrera une erreur). Le but est uniquement de visualiser la coloration syntaxique"
   ]
  },
  {
   "cell_type": "code",
   "execution_count": null,
   "metadata": {},
   "outputs": [],
   "source": [
    "# Un commentaire"
   ]
  },
  {
   "cell_type": "code",
   "execution_count": null,
   "metadata": {},
   "outputs": [],
   "source": [
    "# Quelquechose qui n'a pas de signification particulière sera considéré comme des variables par python\n",
    "blablabla        nomDeVariable"
   ]
  },
  {
   "cell_type": "code",
   "execution_count": null,
   "metadata": {},
   "outputs": [],
   "source": [
    "# Un objet de type entier(int) ou un nombre à virgule (float)\n",
    "4     5.7      1234.78"
   ]
  },
  {
   "cell_type": "code",
   "execution_count": null,
   "metadata": {},
   "outputs": [],
   "source": [
    "# Un objet de type chaine de caractères\n",
    "'informatique'      \"pseudo1234\""
   ]
  },
  {
   "cell_type": "code",
   "execution_count": null,
   "metadata": {},
   "outputs": [],
   "source": [
    "# Des opérateurs\n",
    "+    /    *    -    %    //    =    !=    ==    >    =< "
   ]
  },
  {
   "cell_type": "code",
   "execution_count": null,
   "metadata": {},
   "outputs": [],
   "source": [
    "# Des mots réservés ayant une signification bien particulières et qui doivent être utilisées à bon escient\n",
    "def    del    is    if    for   while    from    and    not    return    True"
   ]
  },
  {
   "cell_type": "code",
   "execution_count": null,
   "metadata": {},
   "outputs": [],
   "source": [
    "# Des fonctions\n",
    "type()      print() "
   ]
  },
  {
   "cell_type": "markdown",
   "metadata": {},
   "source": [
    "Remarque : \n",
    "* La coloration syntaxique dépend de l'éditeur de texte utilisé (ainsi elle ne sera pas exactement la même selon que vous êtes sur Jupyter ou sur Thonny)\n",
    "* La coloration syntaxique proposée l'éditeur de texte est une aide précieuse pour le programmeur. Il faut y prêter attention. Elle permet de se rendre compte simplement d'erreur _\"bête\"_"
   ]
  },
  {
   "cell_type": "code",
   "execution_count": null,
   "metadata": {},
   "outputs": [],
   "source": [
    "# La chaine de caractère n'est pas fermée (visible avec Thonny mais pas avec Jupyter)\n",
    "'informatique"
   ]
  },
  {
   "cell_type": "code",
   "execution_count": null,
   "metadata": {},
   "outputs": [],
   "source": [
    "# true et True : ce n'est pas pareil. Python est sensible à la casse\n",
    "true True"
   ]
  },
  {
   "cell_type": "code",
   "execution_count": null,
   "metadata": {},
   "outputs": [],
   "source": [
    "# Les parenthèses ne sont pas fermées (visible avec Thonny mais pas avec Jupyter)\n",
    "(5 + 6"
   ]
  },
  {
   "cell_type": "markdown",
   "metadata": {},
   "source": [
    "## Opérateurs \n",
    "\n",
    "### Opérateurs numériques\n",
    "\n",
    "|opérateur|signification|\n",
    "|:--------:|:-----------:|\n",
    "|`+`|addition|\n",
    "|`-`|soustraction|\n",
    "|`*`|multiplication|\n",
    "|`/`|division *réelle*|\n",
    "|`//`|division *entière*|\n",
    "|`%`|reste de la division *entière* appelé le **modulo**|\n",
    "|`**`|puissance|\n",
    "\n",
    "Remarque : les priorités sont les mêmes qu'en mathématiques. Si nécessaire, ajouter des parenthèses aux expressions...\n",
    " \n",
    "### Opérateurs sur les chaînes des caractères\n",
    " \n",
    "L'opérateur de concaténation `+` permet de _\"rassembler plusieurs chaînes de caractères en une seule\"_. Attention : Il ne rajoute pas d'espace comme on a parfois envie de le penser !!"
   ]
  },
  {
   "cell_type": "code",
   "execution_count": null,
   "metadata": {},
   "outputs": [],
   "source": [
    "\"bonjour\" + \"Monsieur\""
   ]
  },
  {
   "cell_type": "code",
   "execution_count": null,
   "metadata": {},
   "outputs": [],
   "source": [
    "\"bonjour\" + \" Monsieur\""
   ]
  },
  {
   "cell_type": "markdown",
   "metadata": {},
   "source": [
    "L'opérateur de multiplication `*` permet de _\"répéter une chaîne de caractères plusieurs fois\"_"
   ]
  },
  {
   "cell_type": "code",
   "execution_count": null,
   "metadata": {},
   "outputs": [],
   "source": [
    "'Info' * 5"
   ]
  },
  {
   "cell_type": "markdown",
   "metadata": {},
   "source": [
    "**Attention :** On voit que l'effet des opérateurs `+` et `*` n'est pas le même selon qu'il s'applique sur des nombres ou des chaînes de caractères. Un programmeur doit donc toujours savoir quel est le type des variables qu'il manipule !!\n",
    "\n",
    "Observez les exemples ci-dessous : l'expression `a+b` ne renvoie pas le même résultat alors que `a` et `b` _\"semblent\"_ avoir les mêmes valeurs..."
   ]
  },
  {
   "cell_type": "code",
   "execution_count": null,
   "metadata": {},
   "outputs": [],
   "source": [
    "# Ici + est une addition car il s'applique sur des objets de type int\n",
    "a = 5\n",
    "b = 6\n",
    "a + b"
   ]
  },
  {
   "cell_type": "code",
   "execution_count": null,
   "metadata": {},
   "outputs": [],
   "source": [
    "# Ici + est une concaténation car il s'applique sur des objets de type str\n",
    "a = '5'\n",
    "b = '6'\n",
    "a + b"
   ]
  }
 ],
 "metadata": {
  "kernelspec": {
   "display_name": "Python 3 (ipykernel)",
   "language": "python",
   "name": "python3"
  },
  "language_info": {
   "codemirror_mode": {
    "name": "ipython",
    "version": 3
   },
   "file_extension": ".py",
   "mimetype": "text/x-python",
   "name": "python",
   "nbconvert_exporter": "python",
   "pygments_lexer": "ipython3",
   "version": "3.8.10"
  },
  "latex_envs": {
   "LaTeX_envs_menu_present": true,
   "autoclose": false,
   "autocomplete": true,
   "bibliofile": "biblio.bib",
   "cite_by": "apalike",
   "current_citInitial": 1,
   "eqLabelWithNumbers": true,
   "eqNumInitial": 1,
   "hotkeys": {
    "equation": "Ctrl-E",
    "itemize": "Ctrl-I"
   },
   "labels_anchors": false,
   "latex_user_defs": false,
   "report_style_numbering": false,
   "user_envs_cfg": false
  }
 },
 "nbformat": 4,
 "nbformat_minor": 4
}
