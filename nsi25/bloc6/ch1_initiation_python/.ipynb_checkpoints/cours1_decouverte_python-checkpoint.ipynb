{
 "cells": [
  {
   "cell_type": "markdown",
   "metadata": {},
   "source": [
    "<!-- TOC depthFrom:1 depthTo:6 withLinks:1 updateOnSave:1 orderedList:0 -->\n",
    "\n",
    "- [Qu'est-ce qu'un programme ?](#quest-ce-quun-programme-)\n",
    "- [Caractéristiques générales de Python](#caractristiques-gnrales-de-python)\n",
    "- [Comment s'exécute un programme ?](#comment-sexcute-un-programme-)\n",
    "- [Remarques générales sur l'activité de programmeur](#remarques-gnrales-sur-lactivit-de-programmeur)\n",
    "\n",
    "<!-- /TOC -->\n",
    "\n",
    "# Qu'est-ce qu'un programme ?\n",
    "\n",
    "Un programme est composé d'une suite d'**instructions** écrites dans un langage informatique (pour nous, python)\n",
    "Il existe de très nombreux [langages informatiques](https://fr.wikipedia.org/wiki/Liste_de_langages_de_programmation) !!!\n",
    "\n",
    "# Caractéristiques générales de Python\n",
    "*Sans entrer trop dans les détails... On y entrera au fur et à mesure lors de prochains cours...*\n",
    "\n",
    "* Langage sous [licence libre](https://fr.wikipedia.org/wiki/Licence_libre)\n",
    "* [Langage de haut niveau](https://fr.wikipedia.org/wiki/Langage_de_haut_niveau) (Ouf !!)\n",
    "* [Langage interprété](https://fr.wikipedia.org/wiki/Interpr%C3%A8te_(informatique)) (enfin pas tout à fait....)\n",
    "* [langage multiplateforme](https://fr.wikipedia.org/wiki/Plate-forme_(informatique))\n",
    "* Langage multi[paradigme](https://fr.wikipedia.org/wiki/Paradigme_(programmation)) :\n",
    "\t* [langage impératif](https://fr.wikipedia.org/wiki/Programmation_imp%C3%A9rative#Langages_imp%C3%A9ratifs_et_processeurs)\n",
    "\t* [langage objet](https://fr.wikipedia.org/wiki/Programmation_orient%C3%A9e_objet)\n",
    "\tEn python, tout est objet (notion vu en terminale) ... mais on peut très bien l'utiliser sans vraiment faire appel aux concepts de la programmation objet (c'est ce qu'on fera en première)\n",
    "\t* ... mais pas seulement\n",
    "* Langage à [typage dynamique](https://fr.wikipedia.org/wiki/Typage_dynamique) et [typage fort](https://fr.wikipedia.org/wiki/Typage_fort) (typage fort : définition peu claire...)\n",
    "* Python est [sensible à la casse](https://fr.wikipedia.org/wiki/Sensibilit%C3%A9_%C3%A0_la_casse)"
   ]
  },
  {
   "cell_type": "code",
   "execution_count": null,
   "metadata": {},
   "outputs": [],
   "source": [
    "# ceci est un CODE SOURCE écrit en Python\n",
    "def double(x):\n",
    "    result = x*2\n",
    "    return result"
   ]
  },
  {
   "cell_type": "markdown",
   "metadata": {},
   "source": [
    "# Comment s'exécute un programme ?\n",
    "\n",
    "Le [processeur](https://fr.wikipedia.org/wiki/Processeur) exécute les instructions qui composent le programme de manière **séquentielle** c'est-à-dire **l'une après l'autre** et **dans l’ordre**\n",
    "\n",
    "Comme python est un langage de haut niveau, le **[code source](https://fr.wikipedia.org/wiki/Code_source)** est incompéhensible par la machine. Chaque instruction du **code source** est traduite **au fur et à mesure** de l'exécution en langage machine pour être compréhensible par l'interpréteur python.\n",
    "\n",
    "Remarque : Dans un langage **compilé**, le code source est _\"traduit\"_ **entiérement et une bonne fois pour toute** en langage machine par le compilateur. C'est le **code machine** qui sera exécuté.\n",
    "\n",
    "# Remarques générales sur l'activité de programmeur\n",
    "\n",
    "1. Programmer, c'est **se faire comprendre par une machine** afin de lui faire faire ce qu'on souhaite.\n",
    "2. Se faire comprendre par une machine est **très différent** de se faire comprendre par un être humain.\n",
    "==> Cela demande **rigueur**, une _\"hyper\"_ **logique** ~~pathologique~~ et de l'**organisation**. En effet la véritable *intelligence artificielle* est, pour l'instant, [un mythe et du marketing](https://www.youtube.com/watch?v=B7P723NcDV4)... ce qui ne veut pas dire qu'il n'y a pas de _\"grandes avancées\"_ actuellement....\n",
    "3. **Programmer et déboguer, c'est la même chose !!**\n",
    "4. **Déboguer, c'est mener une enquête**\n",
    "5. Apprendre un langage informatique, c'est **un peu comme apprendre une langue étrangère**. Il faut **pratiquer souvent**. La différence avec une langue étrangère, c'est que chacun peut pratiquer chez soi : **Installer Thonny chez vous !**\n",
    "6. Un bon programme est un programme qui :\n",
    "\t* Fonctionne ...\n",
    "\t* Fonctionne dans tous les cas !\n",
    "\t* **écrit de manière très claire pour _\"l'humain programmeur\"_**\n",
    "\n",
    "Chaque [langage informatique](https://fr.wikipedia.org/wiki/Langage_de_programmation) se caractérise par :\n",
    "\n",
    "* son **vocabulaire** : l'ensemble des **mots-clés** définis par le langage\n",
    "* sa **syntaxe** : l'ensemble des règles (**grammaire** formelle) qui doivent être respectées\n",
    "* sa **sémantique** : les instructions écrites doivent posséder **un sens** pour pouvoir être exécutées par le processeur.\n",
    "\n",
    "==> Toutes erreurs dans le vocabulaire, la syntaxe ou la sémantique provoque des erreurs lors de l'exécution du programme. Le travail d'un informaticien, **votre travail**, c'est de mener l'enquête pour les corriger..."
   ]
  }
 ],
 "metadata": {
  "kernelspec": {
   "display_name": "Python 3 (ipykernel)",
   "language": "python",
   "name": "python3"
  },
  "language_info": {
   "codemirror_mode": {
    "name": "ipython",
    "version": 3
   },
   "file_extension": ".py",
   "mimetype": "text/x-python",
   "name": "python",
   "nbconvert_exporter": "python",
   "pygments_lexer": "ipython3",
   "version": "3.10.6"
  },
  "latex_envs": {
   "LaTeX_envs_menu_present": true,
   "autoclose": false,
   "autocomplete": true,
   "bibliofile": "biblio.bib",
   "cite_by": "apalike",
   "current_citInitial": 1,
   "eqLabelWithNumbers": true,
   "eqNumInitial": 1,
   "hotkeys": {
    "equation": "Ctrl-E",
    "itemize": "Ctrl-I"
   },
   "labels_anchors": false,
   "latex_user_defs": false,
   "report_style_numbering": false,
   "user_envs_cfg": false
  }
 },
 "nbformat": 4,
 "nbformat_minor": 4
}
