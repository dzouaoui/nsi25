{
 "cells": [
  {
   "cell_type": "markdown",
   "id": "392fb0ee",
   "metadata": {},
   "source": [
    "# Mini - projet : Le pendu\n",
    "\n",
    "## Présentation du projet :\n",
    "\n",
    "Vous connaissez probablement le jeu du pendu.\n",
    "La règle du jeu est la suivante :\n",
    "\n",
    "**Le programme** pense à un mot et le joueur devra le deviner. Pour ce faire, **le programme** écrit autant de tirets qu’il y a de lettres dans le mot.\n",
    "\n",
    "Le joueur tape une lettre au clavier. Deux possibillités :\n",
    "\n",
    "    - Si la lettre fait partie du mot à deviner, **le programme python** inscrit la lettre à sa place, sur le tiret correspondant, et autant de fois que la lettre apparaît dans le mot.\n",
    "\n",
    "    - Sinon, **le programme** décrémente un 'compteur de vie'.\n",
    "    \n",
    "Le jeu s'arrête dans les deux cas suivants :\n",
    "\n",
    "    - soit le joueur remporte la partie en découvrant toutes les lettres du mot.\n",
    "    - soit le joueur perd avec le compteur de vie qui arrive à 0. Dans ce cas c'est **le programme** qui gagne.\n"
   ]
  },
  {
   "cell_type": "markdown",
   "id": "26893967",
   "metadata": {},
   "source": [
    "Le programme python doit suivre les étapes suivantes :\n",
    "1. Choisir un mot dans un fichier\n",
    "2. Traduire le mot en miniscule sans retour chariot et sans accent.\n",
    "3. Créer une liste de tirets.\n",
    "4. Le joueur doit proposer une lettre\n",
    "5. Remplacer les tirets corresponadants à la lettre éventuelle proposée\n",
    "6. Compter incrémenter le nombre d'erreurs si la lettre n'est pas contenu dans le mot à deviner. "
   ]
  },
  {
   "cell_type": "markdown",
   "id": "4087ea5c",
   "metadata": {},
   "source": [
    "## 1ère étape:\n",
    "\n",
    "### Compter le nombre de lignes d'un fichier\n",
    "Il faut d'abord compter le nombre de lignes dans le fichier. \n",
    "\n",
    "```Python\n",
    "def nbre_lignes_fichier(nom_fichier):\n",
    "    '''\n",
    "    Description : renvoie le nombre de lignes dans un fichier\n",
    "    nom_fichier (str): nom de fichier\n",
    "    return (int) : Nombre de lignes dans le fichier.\n",
    "    '''\n",
    "    n = 0\n",
    "    with open(nom_fichier) as fich:\n",
    "        while fich.readline():\n",
    "            n = n + 1\n",
    "    return n\n",
    "```\n",
    "L'ouverture d'un fichier se fait avec l'instruction **with**. La commande **readline()** est pour lire une ligne entière.\n",
    "\n",
    "### choisir un mot d'une manière aléatoire dans un fichier.\n",
    "\n",
    "```python\n",
    "def choisir_mot(nom_fichier):\n",
    "    '''\n",
    "    Description : renvoie un mot tiré au hasard dans le fichier\n",
    "    nom_fichier (str): nom de fichier contenant un mot par ligne\n",
    "    return mot (str) : mot du fichier.\n",
    "    '''\n",
    "    nbre_mots = nbre_lignes_fichier(nom_fichier)\n",
    "    numero_ligne = randint(1,nbre_mots)\n",
    "    with open(nom_fichier) as f:\n",
    "        for k in range(numero_ligne-1):\n",
    "            f.readline()\n",
    "        mot = f.readline()\n",
    "        mot = mot[0:len(mot)-1]\n",
    "    return mot\n",
    "```\n"
   ]
  },
  {
   "cell_type": "markdown",
   "id": "7e0c2834",
   "metadata": {},
   "source": [
    "## 2ème étape.\n",
    "Ecrire une fonction enleve_accent\n",
    "\n",
    "```Python\n",
    ">>> enleve_accent(\"Lycée\")\n",
    "['l', 'y', 'c', 'e', 'e']\n",
    ">>> enleve_accent(\"Théâtre\")\n",
    "['t', 'h', 'e', 'a', 't', 'r', 'e']\n",
    "```\n",
    "La liste des lettres avec les accents est :\n",
    "```Python\n",
    "lst_accent=['é', 'è', 'ê', 'à', 'â', 'ù', 'û', 'î', 'ô','ç']\n",
    "```"
   ]
  },
  {
   "cell_type": "code",
   "execution_count": 1,
   "id": "a7619cbf",
   "metadata": {},
   "outputs": [],
   "source": [
    "def enleve_accent(mot):\n",
    "    '''\n",
    "    Description : mettre le mot en miniscules sans accent et\n",
    "        retourne la liste des lettres le composant\n",
    "    mot (str): nom de fichier contenant un mot par ligne\n",
    "    return  lst_lettres (list) : liste des lettres composant mot.\n",
    "    '''"
   ]
  },
  {
   "cell_type": "markdown",
   "id": "732a1573",
   "metadata": {},
   "source": [
    "## 3ème étape\n",
    "Créer une liste de tirets correspondants aux lettres du mot à chercher.\n",
    "### Exemple\n",
    "```Python\n",
    ">>> cree_lst_tirets(['l', 'y', 'c', 'e', 'e'])\n",
    "['_', '_', '_', '_', '_']\n",
    ">>> cree_lst_tirets(['t', 'h', 'e', 'a', 't', 'r', 'e'])\n",
    "['_', '_', '_', '_', '_', '_', '_']\n",
    "```"
   ]
  },
  {
   "cell_type": "code",
   "execution_count": null,
   "id": "74ac7886",
   "metadata": {},
   "outputs": [],
   "source": [
    "def cree_lst_tirets(lst_lettres):\n",
    "    '''\n",
    "    Description : créé liste de tirets avec autant de caractères \n",
    "    lst_lettres (list): liste des lettres\n",
    "    return  lst_tirets (list) : liste des tirets composant le mot recherché..\n",
    "    '''"
   ]
  },
  {
   "cell_type": "markdown",
   "id": "2d32712c",
   "metadata": {},
   "source": [
    "## 4ème étape\n",
    "Le joueur doit choisir une lettre valide. \n",
    "Si cette lettre a été déjà choisie, on lui proppsera de choisir une autre lettre.\n",
    "\n",
    "```Python\n",
    ">>> lettre = propose_lettre({'a', 'b', 'c'})\n",
    "Choisir une lettre : a\n",
    "Les lettres choisies sont :  {'a', 'b', 'c'}\n",
    "Lettre déjà choisie.  Choisir une autre lettre : d\n",
    ">>> print(lettre)\n",
    "d\n",
    "```"
   ]
  },
  {
   "cell_type": "code",
   "execution_count": 5,
   "id": "e35ba710",
   "metadata": {},
   "outputs": [],
   "source": [
    "def propose_lettre(lettres_deja_choisis):\n",
    "    '''\n",
    "    Description : interface avec l'utilisateur pour choisir une lettre.\n",
    "        On vérifie si la lettre était dans l'ensemble des lettres déjà choisies\n",
    "    lettres_deja_choisis (set): ensemble des lettres déjà choisies\n",
    "    return  lettre (str) : la lettre choisie par l'utilisateur.\n",
    "    '''"
   ]
  },
  {
   "cell_type": "markdown",
   "id": "7ef42f15",
   "metadata": {},
   "source": [
    "## 5ème étape.\n",
    "Cette fonction doit remplacer les tirets par la lettre corespondant au bon placement\n",
    "\n",
    "```Python\n",
    ">>> lst_secrete = ['t', 'e', 't', 'e']\n",
    ">>> chaine_tirets = ['_', '_', '_', '_']\n",
    ">>> remplace_tiret('e', lst_secrete, chaine_tirets)\n",
    ">>> print(chaine_tirets)\n",
    "['_', 'e', '_', 'e']\n",
    "```"
   ]
  },
  {
   "cell_type": "code",
   "execution_count": null,
   "id": "8d8aa3ae",
   "metadata": {},
   "outputs": [],
   "source": [
    "def remplace_tiret(lettre, lst_secrete, chaine_tirets):\n",
    "    '''\n",
    "    Description : met au bons emplacements la lettre dans la liste\n",
    "    lettre (str) : lettre de la soltion \n",
    "    lst_secrete (list): liste des lettres composant le mot recherché\n",
    "    chaine_tirets (list): liste à tirets avec des lettres\n",
    "    return  (none) : \n",
    "    '''"
   ]
  },
  {
   "cell_type": "markdown",
   "id": "4bfef350",
   "metadata": {},
   "source": [
    "La fonction **tiret_remplace** est un booléen qui teste si la lettre est trouvée ou pas. Si la lettre est dans la liste secrète, elle fait appel à la fonction **remplace_tiret**. Sinon elle envoie *False*"
   ]
  },
  {
   "cell_type": "code",
   "execution_count": null,
   "id": "74b4b640",
   "metadata": {},
   "outputs": [],
   "source": [
    "def tiret_remplace(lst_secrete, lettres_deja_choisis, chaine_tirets):\n",
    "    '''\n",
    "    Description : met au bons emplacements la lettre dans la liste\n",
    "    lst_secrete (list): liste des lettres composant le mot recherché\n",
    "    lettres_deja_choisis (set): ensemble des lettres déjà choisies\n",
    "    chaine_tirets (list): liste à tirets avec des lettres\n",
    "    return  (bool) : Vrai si la lettre est trouvée\n",
    "    '''"
   ]
  },
  {
   "cell_type": "markdown",
   "id": "eb399692",
   "metadata": {},
   "source": [
    "## 6ème et dernière étape\n",
    "La fonction **pendu** est le programme principale qui fait appel aux autres fonctions pour organiser le jeu. A vous de jouer.\n",
    "\n",
    "```Python\n",
    ">>> %Run pendu2.py\n",
    "['_', '_', '_', '_', '_', '_', '_', '_', '_']\n",
    "Choisir une lettre : e\n",
    "['_', '_', '_', 'e', '_', '_', 'e', '_', '_']\n",
    "Choisir une lettre : a\n",
    "Il vous reste  6  tentatives\n",
    "Choisir une lettre : p\n",
    "Il vous reste  5  tentatives\n",
    "Choisir une lettre : z\n",
    "Il vous reste  4  tentatives\n",
    "Choisir une lettre : m\n",
    "Il vous reste  3  tentatives\n",
    "Choisir une lettre : b\n",
    "Il vous reste  2  tentatives\n",
    "Choisir une lettre : d\n",
    "Il vous reste  1  tentatives\n",
    "Choisir une lettre : k\n",
    "Il vous reste  0  tentatives\n",
    "vous avez perdu. Le mot recherché est :  I N G E N I E U R\n",
    ">>> %Run pendu2.py\n",
    "['_', '_', '_', '_', '_', '_', '_', '_', '_', '_', '_', '_']\n",
    "Choisir une lettre : e\n",
    "['_', '_', '_', '_', '_', '_', '_', '_', '_', '_', '_', 'e']\n",
    "Choisir une lettre : i\n",
    "['i', '_', '_', '_', '_', '_', '_', '_', 'i', '_', '_', 'e']\n",
    "Choisir une lettre : a\n",
    "['i', '_', '_', '_', '_', '_', 'a', '_', 'i', '_', '_', 'e']\n",
    "Choisir une lettre : u\n",
    "['i', '_', '_', '_', '_', '_', 'a', '_', 'i', '_', 'u', 'e']\n",
    "Choisir une lettre : n\n",
    "['i', 'n', '_', '_', '_', '_', 'a', '_', 'i', '_', 'u', 'e']\n",
    "Choisir une lettre : f\n",
    "['i', 'n', 'f', '_', '_', '_', 'a', '_', 'i', '_', 'u', 'e']\n",
    "Choisir une lettre : u\n",
    "Les lettres choisies sont :  {'n', 'a', 'i', 'e', 'u', 'f'}\n",
    "Lettre déjà choisie.  Choisir une autre lettre : o\n",
    "['i', 'n', 'f', 'o', '_', '_', 'a', '_', 'i', '_', 'u', 'e']\n",
    "Choisir une lettre : r\n",
    "['i', 'n', 'f', 'o', 'r', '_', 'a', '_', 'i', '_', 'u', 'e']\n",
    "Choisir une lettre : m\n",
    "['i', 'n', 'f', 'o', 'r', 'm', 'a', '_', 'i', '_', 'u', 'e']\n",
    "Choisir une lettre : t\n",
    "['i', 'n', 'f', 'o', 'r', 'm', 'a', 't', 'i', '_', 'u', 'e']\n",
    "Choisir une lettre : s\n",
    "Il vous reste  6  tentatives\n",
    "Choisir une lettre : z\n",
    "Il vous reste  5  tentatives\n",
    "Choisir une lettre : q\n",
    "['i', 'n', 'f', 'o', 'r', 'm', 'a', 't', 'i', 'q', 'u', 'e']\n",
    "Bravo!! vous avez trouvé!\n",
    "\n",
    "```"
   ]
  },
  {
   "cell_type": "code",
   "execution_count": null,
   "id": "e6f4f21e",
   "metadata": {},
   "outputs": [],
   "source": [
    "def pendu(fichier):\n",
    "    '''\n",
    "    Description : fonction principale du jeu de pendu\n",
    "    lst_secrete (list): liste des lettres composant le mot recherché\n",
    "    lettres_deja_choisis (set): ensemble des lettres déjà choisies\n",
    "    chaine_tirets (list): liste à tirets avec des lettres\n",
    "    return  (bool) : Vrai si la lettre est trouvée\n",
    "    '''"
   ]
  }
 ],
 "metadata": {
  "kernelspec": {
   "display_name": "Python 3 (ipykernel)",
   "language": "python",
   "name": "python3"
  },
  "language_info": {
   "codemirror_mode": {
    "name": "ipython",
    "version": 3
   },
   "file_extension": ".py",
   "mimetype": "text/x-python",
   "name": "python",
   "nbconvert_exporter": "python",
   "pygments_lexer": "ipython3",
   "version": "3.8.10"
  },
  "latex_envs": {
   "LaTeX_envs_menu_present": true,
   "autoclose": false,
   "autocomplete": true,
   "bibliofile": "biblio.bib",
   "cite_by": "apalike",
   "current_citInitial": 1,
   "eqLabelWithNumbers": true,
   "eqNumInitial": 1,
   "hotkeys": {
    "equation": "Ctrl-E",
    "itemize": "Ctrl-I"
   },
   "labels_anchors": false,
   "latex_user_defs": false,
   "report_style_numbering": false,
   "user_envs_cfg": false
  }
 },
 "nbformat": 4,
 "nbformat_minor": 5
}
