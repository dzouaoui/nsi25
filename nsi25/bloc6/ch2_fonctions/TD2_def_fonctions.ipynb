{
 "cells": [
  {
   "cell_type": "markdown",
   "metadata": {},
   "source": [
    "# Exercice 1\n",
    "\n",
    "**Ecrire** la définition d'une fonction `surface_disque` qui **renvoie** l'[aire d'un disque](https://fr.wikipedia.org/wiki/Aire_de_surfaces_usuelles) connaissant son rayon. Un exemple d'appel de la fonction `surface_disque` est donné ci-dessous."
   ]
  },
  {
   "cell_type": "code",
   "execution_count": 1,
   "metadata": {},
   "outputs": [
    {
     "ename": "NameError",
     "evalue": "name 'surface_disque' is not defined",
     "output_type": "error",
     "traceback": [
      "\u001b[0;31m---------------------------------------------------------------------------\u001b[0m",
      "\u001b[0;31mNameError\u001b[0m                                 Traceback (most recent call last)",
      "\u001b[0;32m<ipython-input-1-218f7e90fd99>\u001b[0m in \u001b[0;36m<module>\u001b[0;34m\u001b[0m\n\u001b[0;32m----> 1\u001b[0;31m \u001b[0maire\u001b[0m \u001b[0;34m=\u001b[0m \u001b[0msurface_disque\u001b[0m\u001b[0;34m(\u001b[0m\u001b[0;36m2\u001b[0m\u001b[0;34m)\u001b[0m\u001b[0;34m\u001b[0m\u001b[0;34m\u001b[0m\u001b[0m\n\u001b[0m\u001b[1;32m      2\u001b[0m \u001b[0mprint\u001b[0m\u001b[0;34m(\u001b[0m\u001b[0maire\u001b[0m\u001b[0;34m)\u001b[0m\u001b[0;34m\u001b[0m\u001b[0;34m\u001b[0m\u001b[0m\n",
      "\u001b[0;31mNameError\u001b[0m: name 'surface_disque' is not defined"
     ]
    }
   ],
   "source": [
    "aire = surface_disque(2)\n",
    "print(aire)"
   ]
  },
  {
   "cell_type": "markdown",
   "metadata": {},
   "source": [
    "# Exercice 2\n",
    "\n",
    "Ecrire la définition d'une fonction `accueil2020` qui, à partir du prénom, du nom et de l'**année** de naissance permet d'**afficher** à l'écran une phrase de ce type `Bonjour prénom nom, vous avez xx ans.`Un exemple d'appel de la fonction `accueil2020` est donné ci-dessous."
   ]
  },
  {
   "cell_type": "code",
   "execution_count": 2,
   "metadata": {},
   "outputs": [
    {
     "ename": "NameError",
     "evalue": "name 'accueil2020' is not defined",
     "output_type": "error",
     "traceback": [
      "\u001b[0;31m---------------------------------------------------------------------------\u001b[0m",
      "\u001b[0;31mNameError\u001b[0m                                 Traceback (most recent call last)",
      "\u001b[0;32m<ipython-input-2-c9a019cb502a>\u001b[0m in \u001b[0;36m<module>\u001b[0;34m\u001b[0m\n\u001b[0;32m----> 1\u001b[0;31m \u001b[0maccueil2020\u001b[0m\u001b[0;34m(\u001b[0m\u001b[0;34m'Alice'\u001b[0m\u001b[0;34m,\u001b[0m\u001b[0;34m'MARTIN'\u001b[0m\u001b[0;34m,\u001b[0m\u001b[0;36m2004\u001b[0m\u001b[0;34m)\u001b[0m\u001b[0;34m\u001b[0m\u001b[0;34m\u001b[0m\u001b[0m\n\u001b[0m",
      "\u001b[0;31mNameError\u001b[0m: name 'accueil2020' is not defined"
     ]
    }
   ],
   "source": [
    "accueil2020('Alice','MARTIN',2004)"
   ]
  },
  {
   "cell_type": "markdown",
   "metadata": {},
   "source": [
    "# Exercice 3\n",
    "\n",
    "Ajouter la documentation aux fonctions écrites dans les 2 exercices précédents.  \n",
    "(*Normalement cela aurait même dû être fait AVANT !!*)"
   ]
  },
  {
   "cell_type": "markdown",
   "metadata": {},
   "source": [
    "> ### A partir de maintenant et pendant toute l'année, quand on vous demande d'écrire une fonction, il faudra SYSTEMATIQUEMENT COMMENCER PAR ECRIRE SA DOCUMENTATION. En cas d'oubli, vous perdrez des points et en TP je refuserai de venir vous aider à debuger tant que la documentation n'est pas écrite."
   ]
  },
  {
   "cell_type": "markdown",
   "metadata": {},
   "source": [
    "# Exercice 4\n",
    "Ecrire une fonction `tailleFichier` qui, à partir de la taille d'un fichier exprimée en kio  permet d'**afficher** une phrase du type `La taille de votre fichier est de xxx octets et xxx bits.` Un exemple d'appel de la fonction `tailleFichier` est donné ci-dessous.  \n",
    "(*Si nécessaire, voir cours dans le bloc1 pour des rappels sur les kio*)"
   ]
  },
  {
   "cell_type": "code",
   "execution_count": 9,
   "metadata": {},
   "outputs": [
    {
     "name": "stdout",
     "output_type": "stream",
     "text": [
      "La taille de votre fichier est de 3072 octets et 24576 bits.\n"
     ]
    }
   ],
   "source": [
    "tailleFichier(3)"
   ]
  },
  {
   "cell_type": "markdown",
   "metadata": {},
   "source": [
    "# Exercice 5\n",
    "\n",
    "Le code suivant a été écrit par un élève. Il est censé afficher convertir une température de 20°Farenheit en degré Celsius.\n",
    "L'affichage qu'on souhaite obtenir est le suivant : `20 °F équivaut à -6.666666666666667 °C`\n",
    "\n",
    "On donne ci dessous la formule de conversion :  $T_{°C} = \\frac{5}{9}(T_{°F}-32)$\n",
    "\n",
    "1. Malheureusement il ne fonctionne pas (il y a même plusieurs erreurs). Corrigez-le afin de le rendre opérationnel.   \n",
    "_**Attention :** il ne s'agit pas de réécrire entièrement le code, vous devez conserver tout ce qui peut l'être, notamment les noms de variables utilisées et bien sûr le fait d'utiliser une fonction !_\n",
    "\n",
    "2. La programmation demande beaucoup de **rigueur**. Pour s'en apercevoir, écrire sur une feuille toutes les erreurs trouvées"
   ]
  },
  {
   "cell_type": "code",
   "execution_count": null,
   "metadata": {},
   "outputs": [],
   "source": [
    "\"\"\"\n",
    "réalise une conversion °F en °C   \n",
    "    \"\"\"\n",
    "def farenheitToCelsius(tF)\n",
    "   tC = tF - 32 * 5//9\n",
    "    print(tC)\n",
    "\n",
    "tempF = 20\n",
    "tempC = farenheitToCelsius(tempF)\n",
    "print(tempF',°F équivaut à, 'tempC, '°C')"
   ]
  },
  {
   "cell_type": "markdown",
   "metadata": {},
   "source": [
    "# Exercice 6\n",
    "\n",
    ">  Il arrive parfois sur certains site web administratif qu'on demande à un utilisateur de s'identifier en lui demandant d'entrer son numéro de sécurité sociale. Bien sûr, un utilisateur pourra de temps en temps faire des erreurs de saisie (erreur de frappe, numéro incomplet, ...). Nous avons déjà vu que la clé de contrôle d'un numéro de sécurité sociale permettait de vérifier la validité d'un numéro de sécurité sociale.\n",
    "\n",
    "![Secu](img/Securite_sociale.png)\n",
    "\n",
    "> Notre but \"ultime\" est de créer une page web qui doit demander autant de fois que nécessaire (à cause d'erreurs de saisie) un numéro de sécurité sociale à un visiteur avant de le laisser accéder à la page le concernant.\n",
    "Ce but n'est pour l'instant pas réalisable (il vous manque des connaissances en programmation, en réseau et en web) : il sera écrit au fur et à mesure que l'on avance dans l'année. Mais nous pouvons déjà pressentir que c'est un problème plus \"complexe\" qui va demander plus de lignes de code que ce que nous avons écrit jusqu'à présent.  \n",
    "Ce travail mené en plusieurs fois a pour but d'illustrer comment découper un problème \"complexe\" en tâches plus simples grâce aux fonctions. Cette démarche sera particulièrement utile lorsque vous devrez travailler sur des projets plus tard dans l'année. <br><br>\n",
    "\n",
    "1. Dans `bloc6/initiation_a_python/TD_Les_bases_de_python` (exercice 12), nous avons écrit le code permettant de calculer la clé de contrôle d'un numéro de sécurité sociale (sans les 2 derniers chiffres). Aller récupérer ce code (ou sa correction) \n",
    "\n",
    "> Ce code nous sera utile pour résoudre notre \"problème complexe\", nous allons donc l'**encapsuler** dans une fonction `calcul_cle`\n",
    "\n",
    "2. A partir du code que vous avez récupéré à la question précédente, écrire cette fonction `calcul_cle`\n",
    "\n",
    "\n",
    "3. Tester le bon fonctionnement de la fonction `calcul_cle` afin de retrouver la clé de contrôle du numéro de sécurité sociale donnée sur la photo."
   ]
  }
 ],
 "metadata": {
  "kernelspec": {
   "display_name": "Python 3",
   "language": "python",
   "name": "python3"
  },
  "language_info": {
   "codemirror_mode": {
    "name": "ipython",
    "version": 3
   },
   "file_extension": ".py",
   "mimetype": "text/x-python",
   "name": "python",
   "nbconvert_exporter": "python",
   "pygments_lexer": "ipython3",
   "version": "3.10.12"
  },
  "latex_envs": {
   "LaTeX_envs_menu_present": true,
   "autoclose": false,
   "autocomplete": true,
   "bibliofile": "biblio.bib",
   "cite_by": "apalike",
   "current_citInitial": 1,
   "eqLabelWithNumbers": true,
   "eqNumInitial": 1,
   "hotkeys": {
    "equation": "Ctrl-E",
    "itemize": "Ctrl-I"
   },
   "labels_anchors": false,
   "latex_user_defs": false,
   "report_style_numbering": false,
   "user_envs_cfg": false
  }
 },
 "nbformat": 4,
 "nbformat_minor": 4
}
