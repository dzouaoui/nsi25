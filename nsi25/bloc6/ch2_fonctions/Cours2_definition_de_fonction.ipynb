{
 "cells": [
  {
   "cell_type": "markdown",
   "metadata": {},
   "source": [
    "# Rappel\n",
    "\n",
    "![boite noire](img/boiteNoire.png)\n",
    "\n",
    "* Un appel de fonction consiste à l'utiliser, c'est-à-dire l'exécuter\n",
    "\n",
    "\n",
    "* Lorsqu'on appelle une fonction, on a aucune idée de \"comment fonctionne la fonction\". Une  fonction est comme une \"boîte noire\"\n",
    "\n",
    "\n",
    "# Qu'est-ce que définir une fonction\n",
    "\n",
    "**Définir une fonction consiste à créer une \"boîte noire\" et à programmer l'intérieur de la \"boîte noire\" pour que celle-ci fasse le travail souhaité**\n",
    "\n",
    "**TRES IMPORTANT : NE PAS CONFONDRE APPEL ET DEFINITION DE FONCTION**\n",
    "\n",
    "On a vu qu'une fonction est réutilisable. Cela veut dire qu'on peut l'**appeler autant de fois qu'on en a besoin** mais la fonction a été **préalablement définie UNE SEULE FOIS (une fois pour toute)** -*par vous-même ou un autre programmeur*-\n",
    "\n",
    "# Exemple\n",
    "\n",
    "> Considérons une classe de 20 élèves. Chaque élève a eu 3 notes au premier trimestre en NSI, la première note ayant un coefficient 2. On souhaite écrire le code permettant de calculer la moyenne de tous les élèves en NSI.<br> <br>\n",
    "Evidemment, il va falloir calculer 20 fois la moyenne et donc faire 20 fois le même type de calcul. Plutôt que d'écrire 20 fois le même code pour chaque élève, on va définir,une fois pour toute, une fonction `calcul_moyenne` enfermant le code source permettant de calculer une moyenne de 3 notes et on va appeler cette fonction pour chaque élève."
   ]
  },
  {
   "cell_type": "code",
   "execution_count": 1,
   "metadata": {},
   "outputs": [
    {
     "name": "stdout",
     "output_type": "stream",
     "text": [
      "moyenne de l'élève1 :  13.5\n",
      "moyenne de l'élève2 :  11.5\n"
     ]
    }
   ],
   "source": [
    "#----------------------------------\n",
    "# DEFINITION DE LA FONCTION MOYENNE\n",
    "#----------------------------------\n",
    "\n",
    "def calcul_moyenne(x,y,z):\n",
    "    moyenne = (2*x + y + z) / 4\n",
    "    return moyenne\n",
    "\n",
    "\n",
    "#------------------------------\n",
    "# APPELS DE LA FONCTION MOYENNE\n",
    "#------------------------------\n",
    "\n",
    "# Appel de la fonction moyenne pour l'élève 1\n",
    "note1 = 12\n",
    "note2 = 13\n",
    "note3 = 17\n",
    "moyenneEleve1 = calcul_moyenne(note1,note2,note3)\n",
    "\n",
    "# Appel de la fonction moyenne pour l'élève 2\n",
    "note1 = 8\n",
    "note2 = 15\n",
    "note3 = 15\n",
    "moyenneEleve2 = calcul_moyenne(note1,note2,note3)\n",
    "\n",
    "\n",
    "\n",
    "#------------------------------------\n",
    "# AFFICHAGE DES MOYENNES DES 2 ELEVES\n",
    "#------------------------------------\n",
    "\n",
    "print(\"moyenne de l'élève1 : \", moyenneEleve1)\n",
    "print(\"moyenne de l'élève2 : \", moyenneEleve2)"
   ]
  },
  {
   "cell_type": "markdown",
   "metadata": {},
   "source": [
    "### La définition permet de créer la boîte noire `calcul_moyenne`\n",
    "\n",
    "```python  \n",
    "def calcul_moyenne(x,y,z):\n",
    "    moyenne = (x + y + z) / 3  \n",
    "    return moyenne  \n",
    "```\n",
    "\n",
    "![definition fonction](img/defFonction.png)"
   ]
  },
  {
   "cell_type": "markdown",
   "metadata": {},
   "source": [
    "### Les appels permettent d'utiliser la boîte noire `calcul_moyenne`\n",
    "\n",
    "* ```python \n",
    "moyenneEleve1 = moyenne(note1,note2,note3)\n",
    "```\n",
    "![appel fonction](img/appelFonction1.png)\n",
    "\n",
    "\n",
    "\n",
    "* ```python \n",
    "moyenneEleve2 = moyenne(note1,note2,note3)\n",
    "```\n",
    "![appel fonction](img/appelFonction2.png)\n",
    "\n",
    "# Syntaxe pour définir une fonction"
   ]
  },
  {
   "cell_type": "code",
   "execution_count": null,
   "metadata": {},
   "outputs": [],
   "source": [
    "du code\n",
    "du code               # Le code source noté ici ne fait pas partie de la fonction\n",
    "du code\n",
    "\n",
    "# Exemple d'une fonction à 2 paramètres\n",
    "def nom_de_la_fonction(parametre1, parametre2):\n",
    "    du code\n",
    "    du code            # code source de la fonction\n",
    "    du code\n",
    "    return resultat\n",
    "\n",
    "du code\n",
    "du code               # Le code source noté ici ne fait pas partie de la fonction\n",
    "du code"
   ]
  },
  {
   "cell_type": "markdown",
   "metadata": {},
   "source": [
    "Pour définir une fonction en python, il faut **IMPERATIVEMENT et RIGOUREUSEMENT** suivre la sytaxe suivante.\n",
    "\n",
    "1. Le mot clé `def` suivi du nom choisi permet de définir une fonction\n",
    "\n",
    "\n",
    "2. Les (éventuels) paramètres sont notés entre parenthèses et séparés par des virgules après le nom de la fonction\n",
    "    * Il est possible de définir une fonction ne nécesitant aucun paramètre. On aura donc des parenthèses vides.\n",
    "    * L'ordre des paramètres devra être respecté par les arguments lors de l'appel de la fonction\n",
    "\n",
    "\n",
    "3. Les `:` sont **obligatoires**. Ils marquent le début du code source définissant la fonction\n",
    "    * Le code source de la fonction est délimité par un **décalage** appelé **indentation**. Ce décalage est  **obligatoire** car c'est lui qui permet à l'interpréteur python d'identifier où \"commence le code source de la fonction\" et \"où il finit\"\n",
    "    * Cette indentation se fait automatiquement sous Thonny (comme dans tous les éditeurs de code) après chaque `:`\n",
    "    * (*Si nécessaire, il est toujours possible de faire cette indentation grâce à  la  touche de tabulation`TAB` sous Thonny.*)\n",
    "    * L'indentation doit se faire de manière exacte : toutes les lignes du code source doivent être décalées du même **décalage**. Un simple espace de différence génère une erreur `indentationError` !!\n",
    "\n",
    "\n",
    "4. Le `return` permet définir quel **résultat** est renvoyé par la fonction\n",
    "    * On peut définir une fonction sans avoir de `return`. Dans ce cas, le résultat renvoyé par l'appel de la fonction sera `None` (*tout se passe comme si l'interpréteur python ajoutait de lui-même une instruction ``return None`*)\n",
    "    * Dès que l'interpréteur python arrive sur l'instruction `return`, cela provoque l'émission du résultat et la sortie de la fonction !\n",
    "    \n",
    "**Activité : Illustrer les éléments de syntaxe ci-dessus sur Thonny**\n",
    "\n",
    "\n",
    "**Activité : Exercice 1 du TP sur les fonctions**\n",
    "> ### ATTENTION : Les paramètres écrits dans la définition d'une fonction sont des VARIABLES !!\n",
    "En effet, ces paramètres ne sont pas fixes une fois pour toute mais ils vont prendre les valeurs données lors de chaque appel de la fonction.    \n",
    "<br>Par exemple la fonction `calcul_moyenne` définit comment calculer la moyenne, peu importe les 3 notes. Elle doit donc définir le calcul dans le **cas général**. Les valeurs de x, y et z vont donc **varier** à chaque appel de fonction\n",
    "<br><br>Les explications ci-dessus sont évidentes pour certains élèves mais posent d'énormes soucis à d'autres qui n'ont pas bien compris le concept de variable et de [paramètre formel](https://fr.wikipedia.org/wiki/Param%C3%A8tre_(programmation_informatique)#Param%C3%A8tre_formel). Si vous pensez que $2x+1$ et $2y+1$ sont des équations différentes, c'est sans doute votre cas...<br><br>\n",
    "**OBSERVEZ LES DEFINITIONS CI-DESSOUS. ELLES N'ONT AUCUN SENS ET VONT ENGENDRER DES ERREURS :**  \n",
    "\n",
    "\n",
    "```python\n",
    "def calcul_moyenne(15,16,8):\n",
    "    # code de la fonction\n",
    "```\n",
    "```python\n",
    "def ma_fonction('blablabla'):\n",
    "    # code de la fonction\n",
    "```\n",
    "\n",
    "# Passage de paramètres lors de l'appel\n",
    "\n",
    "\n",
    "La règle est la suivante : **PASSAGE PAR ORDRE**\n",
    "\n",
    "```python\n",
    "def calcul_moyenne(x,y,z):\n",
    "    moyenne = (x + y + z) / 3\n",
    "    return moyenne\n",
    "    \n",
    "moyenneEleve1 = moyenne(note1,note2,note3)\n",
    "```\n",
    "\n",
    "Python va faire correspondre :\n",
    "* `note1` à `x` \n",
    "* `note2` à `y`\n",
    "* `note3` à `z` \n",
    "\n",
    "car il se réfère à l'ordre d'écriture des paramètres\n",
    "\n",
    "**Il faut faire attention à l'ordre d'écriture des paramètres lors de l'appel de la fonction !!**\n",
    "\n",
    "**Activités :**\n",
    "1. Illuster le passage de paramètres en mode debug sous Thonny\n",
    "\n",
    "\n",
    "2. Illustrer l'importance de l'ordre d'écriture des paramètres sur Thonny\n",
    "\n",
    "# Fonction qui RENVOIE vs fonction qui AFFICHE : ne pas confondre !\n",
    "\n",
    "**_\"fonction qui `return` vs fonction qui `print`\"_**\n",
    "\n",
    "> **Rappel : Concernant les bonnes pratiques, on a vu qu'une fonction devait SOIT renvoyer un résultat OU BIEN afficher**. Jamais les deux en même temps. Pourquoi ? Tout simplement pour bien séparer ce qui relève de la \"mécanique\" du programme et ce qui relève de l'interface de celui-ci avec l'utilisateur (IHM - Interface Homme Machine).   \n",
    "Par exemple dans un jeu de \"casse-briques\" on a d'une part les fonctions qui gère les mouvements de la balle et les actions de l'utilisateur, constituant la \"mécanique\" du programme (telle que les mouvements de la balle, les rebonds sur une surface, le score etc...) et d'autre part les fonctions qui affiche le tableau de briques ainsi que tout le reste. Ceci permet que les fonctions \"mécaniques\" ne doivent pas être réécrites quand on change de tableau de jeu\n",
    "\n",
    "**ATTENTION :** les élèves confondent souvent les deux au début de leur apprentissage car dans beaucoup de situation (surtout dans le shell), visuellement, on a l'impression que c'est la même chose. En effet, le comportement du shell fait qu'il affiche (par défaut) le résultat d'une instruction...\n",
    "\n",
    "Considérez les deux fonctions `f_avec_return` et `f_avec_print`. L'une utilise un `return`, l'autre un `print`"
   ]
  },
  {
   "cell_type": "code",
   "execution_count": null,
   "metadata": {},
   "outputs": [],
   "source": [
    "def f_avec_return(x):\n",
    "    \"\"\"\n",
    "    Cette fonction multiplie x par 2\n",
    "    \"\"\"\n",
    "    return 2*x  #return est un mot-clé de python pas une fonction : pas de parenthéses\n",
    "\n",
    "def f_avec_print(x):\n",
    "    \"\"\"\n",
    "    Cette fonction multiplie x par 2\n",
    "    \"\"\"\n",
    "    print(2*x) #print est une fonction : parenthéses obligatoires"
   ]
  },
  {
   "cell_type": "markdown",
   "metadata": {},
   "source": [
    "Tester avec Thonny (en mode d'édition) et vous verrez que :\n",
    "\n",
    "* `f_avec_print(4)` affiche bien le résultat 8\n",
    "\n",
    "* `f_avec_return(4)` n'affiche rien du tout !\n",
    "\n",
    "* `resultat = f_avec_return(4)` génère une variable `resultat` qui vaut bien 4 et avec laquelle on peut faire ce qu'on veut par la suite (l'afficher, l'utiliser dans des calculs etc...)\n",
    "\n",
    "* `resultat = f_avec_print(4)` génère une variable `resultat` qui ne vaut pas 4 !! `resultat` vaut `None`. Et donc avec `f_avec_print` on ne peut rien faire d'autre que d'afficher..."
   ]
  },
  {
   "cell_type": "markdown",
   "metadata": {},
   "source": [
    "# Documentation\n",
    "\n",
    "> **Rappel :** La documentation permet d'obtenir de l'aide sur la façon dont on utilise la fonction. Cette documentation est accessible grâce à la fonction  `help`.  \n",
    "Nous allons voir ici d'où provient et comment écrire cette documentation\n",
    "\n",
    "## Bonnes pratiques\n",
    "\n",
    "* Toute fonction définie doit être documentée !! C'est le développeur de la fonction qui doit écrire sa documentation  \n",
    "(*Tout comme le constructeur d'un appareil en écrit le mode d'emploi*)\n",
    "* **Ecrire la documentation AVANT d'écrire le code source de la fonction** (*car parfois les élèves commencent à coder sans même avoir compris ce qu'ils devaient coder...*)\n",
    "\n",
    "## Comment écrire la documentation\n",
    "\n",
    "* La documentation est un simple texte (donc une chaîne de caractère) écrite **directement SOUS l'instruction `def`**\n",
    "* Comme la documentation est souvent longue, souvent écrite sur plusieurs lignes, on l'écrit dans une **docstring**\n",
    "* Une **docstring** est une chaîne de caractères délimitées par des `\"\"\"`\n",
    "* La fonction `help` va juste aller chercher cette docstring et l'afficher\n",
    "\n",
    "## Modèle de documentation\n",
    "\n",
    "En début de première, la documentation doit faire apparaître :\n",
    "* Une description : quelle est la tâche réalisée par la fonction ?\n",
    "* Les paramètres nécessaires ainsi que leur type (c'est ce qu'on appelle la **signature** de la fonction)\n",
    "* Le résultat renvoyé et son type\n",
    "\n",
    "Un modèle de documentation (à compléter) est donné ci-dessous "
   ]
  },
  {
   "cell_type": "code",
   "execution_count": null,
   "metadata": {},
   "outputs": [],
   "source": [
    "# Exemple de docstring pour une fonction à 2 paramètres\n",
    "def nom_de_la_fonction(parametre1,parametre2):\n",
    "    \"\"\"\n",
    "    Description de la fonction : \n",
    "    parametre1 (type) : \n",
    "    parametre2 (type) :\n",
    "    return (type) :\n",
    "    \"\"\"\n",
    "    pass"
   ]
  },
  {
   "cell_type": "markdown",
   "metadata": {},
   "source": [
    "## Exemple\n",
    "\n",
    "Reprenons la fonction `calcul_moyenne`"
   ]
  },
  {
   "cell_type": "code",
   "execution_count": 3,
   "metadata": {},
   "outputs": [],
   "source": [
    "# Reprise de modèle précédent, adapté et complété à notre fonction\n",
    "\n",
    "def calcul_moyenne(x,y,z):\n",
    "    \"\"\"\n",
    "    Description de la fonction : Calcule la moyenne des 3 notes passées en paramètres en respectant certains coefficients\n",
    "    x (int ou float) : note de coefficient 2\n",
    "    y (int ou float) : note de coefficient 1\n",
    "    z (int ou float) : note de coefficient 1\n",
    "    return (int ou float) : moyenne calculée\n",
    "    \"\"\"\n",
    "    moyenne = (2*x + y + z) / 3\n",
    "    return moyenne"
   ]
  },
  {
   "cell_type": "markdown",
   "metadata": {},
   "source": [
    "# Notion de variables locales\n",
    "\n",
    "Lorsqu'un appel à une fonction est réalisé, un **espace local propre** à la fonction est créé dans la mémoire de l'ordinateur. Cet espace est séparé de l'**espace global**. \n",
    "\n",
    "Dans notre analogie mémoire $\\Leftrightarrow$ entrepôt, l'espace local correspond à une zone séparée au sein même de l'entrepôt.\n",
    "\n",
    "\n",
    "## Variables locales\n",
    "\n",
    "* On appelle variable locale, toute **variable définie dans le corps d'une fonction** (par une affectation `=`)\n",
    "* Une variable locale **n'est \"visible\" QUE dans la fonction**\n",
    "* Une variable locale **est détruite après l'appel de la fonction**   \n",
    "(*Les arguments passés à une fonction lors de l'appel sont considérés comme variables locales*)\n",
    "\n",
    "## Intérêt des variables locales\n",
    "\n",
    "Les variables locales sont donc _\"confinées à l’intérieur d’une fonction\"_ au sein de l'espace local à la fonction. \n",
    "\n",
    "* Grâce à ce mécanisme, on peut appeler une fonction sans se préoccuper des noms de variables qui y sont utilisées : **les variables locales ne pourront en effet jamais interférer avec celles définies par ailleurs**.   \n",
    "\n",
    "* Une variable locale peut sans problème avoir le même nom qu'une variable globale. Python ne les confondra pas : Pour lui il s'agit bien de 2 variables distinctes. (voir démonstration ci-dessous dans _pythontutor_ )\n",
    "\n",
    "## Variables globales\n",
    "\n",
    "* On appelle variable globale, toute variable déclarée dans le corps du programme principal\n",
    "* Une variable globale est \"visible\" dans tout le programme principal et dans toutes les fonctions définies dans le programme principal\n",
    "* Possibilité de déclarer une variable comme globale dans la fonction grâce à l'instruction `global`. Cette façon de faire est dangereuse et doit donc être utilisée rarement et avec précaution ! (*Normalement en première, vous ne devriez jamais le faire*)\n",
    "\n",
    "### Démonstration avec pythontutor (disponible sur jupyter notebook ou binder uniquement)\n",
    "\n",
    "La création d'un espace local lors de l'exécution de la fonction est représenté :\n",
    "* Dans _pythontutor_ par la création d'un zone séparée détruit à la fin de l'exécution (voir démonstration ci-dessous) \n",
    "* Dans _Thonny en mode debug_ par l'ouverture d'une fenêtre diférente du programme principal"
   ]
  },
  {
   "cell_type": "code",
   "execution_count": null,
   "metadata": {},
   "outputs": [],
   "source": [
    "# Dans un notebook jupyer, installer les modules nécessaires à la démonstration en décommentant les 3 lignes\n",
    "# ci-dessous et en exécutant la cellule.\n",
    "# INUTILE D'EXECUTER CETTE CELLULE AVEC BINDER\n",
    "\n",
    "#!pip install nbtutor\n",
    "#!jupyter nbextension install --overwrite --py nbtutor\n",
    "#!jupyter nbextension enable nbtutor --py"
   ]
  },
  {
   "cell_type": "code",
   "execution_count": 5,
   "metadata": {},
   "outputs": [],
   "source": [
    "# CELLULE NECESSAIRE POUR LA DEMONSTRATION\n",
    "%load_ext nbtutor"
   ]
  },
  {
   "cell_type": "code",
   "execution_count": 10,
   "metadata": {},
   "outputs": [
    {
     "name": "nbtutor",
     "output_type": "stream",
     "text": [
      "3\n"
     ]
    }
   ],
   "source": [
    "%%nbtutor -r -f\n",
    "\n",
    "var = 3 # var est une variable globale\n",
    "\n",
    "def f():\n",
    "    var = 4 # var est une variable locale\n",
    "    var = var + 1\n",
    "    return var\n",
    "\n",
    "print(var)\n",
    "resultat = f()\n",
    "print(resultat)\n",
    "\n"
   ]
  },
  {
   "cell_type": "markdown",
   "metadata": {},
   "source": [
    "# Méthodes de travail\n",
    "\n",
    "> Pendant toute l'année, dès qu'on vous demande d'écrire une fonction vous devez bien faire lire l'énoncé pour répondre aux questions suivantes **AVANT de commencer à écrire du code python**\n",
    "* Comment doit-on l'appeler (si le nom est imposé, respecter ce nom sinon choisir un nom **approprié**\n",
    "* Combien de paramètres doit-elle prendre ? et quels sont-ils ?\n",
    "* Doit-elle renvoyer un résultat ou afficher quelquechose ?\n",
    "* Quel est le rôle de la fonction ?\n",
    "* Et se rappeler qu'on doit toujours **commencer par écrire la documentation de la fonction !!**\n"
   ]
  }
 ],
 "metadata": {
  "celltoolbar": "Aucun(e)",
  "kernelspec": {
   "display_name": "Python 3",
   "language": "python",
   "name": "python3"
  },
  "language_info": {
   "codemirror_mode": {
    "name": "ipython",
    "version": 3
   },
   "file_extension": ".py",
   "mimetype": "text/x-python",
   "name": "python",
   "nbconvert_exporter": "python",
   "pygments_lexer": "ipython3",
   "version": "3.10.12"
  },
  "latex_envs": {
   "LaTeX_envs_menu_present": true,
   "autoclose": false,
   "autocomplete": true,
   "bibliofile": "biblio.bib",
   "cite_by": "apalike",
   "current_citInitial": 1,
   "eqLabelWithNumbers": true,
   "eqNumInitial": 1,
   "hotkeys": {
    "equation": "Ctrl-E",
    "itemize": "Ctrl-I"
   },
   "labels_anchors": false,
   "latex_user_defs": false,
   "report_style_numbering": false,
   "user_envs_cfg": false
  }
 },
 "nbformat": 4,
 "nbformat_minor": 2
}
