{
 "cells": [
  {
   "cell_type": "markdown",
   "metadata": {},
   "source": [
    "# TP turtle\n",
    "\n",
    "> La tortue désigne un robot virtuel capable de se déplacer dans un plan en laissant une trace ou non de son passage. Elle a été inventée dans les années 1960 au MIT par Seymour Papert qui a conçu un langage informatique [LOGO](http://fr.wikipedia.org/wiki/Logo_%28langage%29) destiné aux enfants. De nombreux langages informatiques ont repris cette idée de tortue et Python n'échappe pas à la règle.\n",
    "* Le **module** `turtle` propose un environnement graphique et un ensemble de **fonctions** permettant le déplacement de la tortue. En se déplaçant, la tortue laisse une trace derrière elle comme un escargot.<br><br>\n",
    "* La tortue apparaît à l’écran sous la forme d’un triangle (voir dessin ci-dessous). Elle est repérée par des coordonnées (x, y) mais aussi par un angle en degrés entre la direction vers laquelle elle \"regarde\" et l’axe horizontal.\n",
    "<img src=\"img/tortue.png\" width=\"40%\"/>\n",
    "\n",
    "Pendant ce tp, vous allez écrire des fonctions qui dessinent des formes géométriques, en déplaçant la tortue. Une bonne connaissance du module turtle, et des **boucles**, permet de réaliser des [formes très abouties](https://www.google.com/search?q=turtle+python&tbm=isch&ved=2ahUKEwjz263JhdrpAhWN8IUKHYwkBTAQ2-cCegQIABAA&oq=turtle+python&gs_lcp=CgNpbWcQAzIECCMQJzICCAAyBAgAEB4yBAgAEB4yBAgAEB4yBAgAEB4yBAgAEB4yBAgAEB4yBAgAEB4yBAgAEB5QppsBWJyqAWDMqwFoAHAAeACAAUyIAaYDkgEBNpgBAKABAaoBC2d3cy13aXotaW1n&sclient=img&ei=NoLRXvPoO43hlwSMyZSAAw&bih=626&biw=1366&client=firefox-b-d), notamment ayant des structures [fractales](https://fr.wikipedia.org/wiki/Fractale) comme [ici](https://www.google.com/search?q=fractal+python+turtle&tbm=isch&ved=2ahUKEwjWtdvChtrpAhUFw4UKHeuVDvEQ2-cCegQIABAA&oq=turtle+python+frac&gs_lcp=CgNpbWcQARgAMgYIABAIEB46BAgjECc6AggAOgQIABAeOgQIABAYUL2EDVjSiw1g5JkNaABwAHgAgAFCiAG0ApIBATWYAQCgAQGqAQtnd3Mtd2l6LWltZw&sclient=img&ei=NYPRXpbHHYWGlwTrq7qIDw&bih=626&biw=1366&client=firefox-b-d)\n",
    "\n",
    "\n",
    "## Découverte du module `turtle`\n",
    "\n",
    "Pour utiliser les fonctions du module, il faut l'importer grâce à la directive `import` (voir cours sur les bibliothèques - bloc6)\n",
    "\n",
    "Le module `turtle` possèdent de nombreuses fonctions dont les principales sont :\n",
    "\n",
    "* `clear` qui efface la zone de dessin\n",
    "\n",
    "\n",
    "* Paramétrages du crayon :\n",
    "    * `down` qui abaisse le stylo\n",
    "    * `up` qui relève le stylo\n",
    "    * `pensize` qui change l’épaisseur du trait\n",
    "    * `pencolor` qui change la couleur (\"red\", \"green\", \"blue\"… ou un triplet de paramètres (r, g, b))\n",
    "\n",
    "\n",
    "* Déplacement de la tortue:\n",
    "    * `forward` qui avance d’un nombre de pas donné\n",
    "    * `backward` qui recule\n",
    "    * `right` qui tourne vers la droite d’un angle donné (en degrés)\n",
    "    * `left` qui tourne vers la gauche.\n",
    "    * `goto` qui déplace la tortue jusqu’à un point de coordonnées (x, y)\n",
    "    \n",
    "**A l'aide des fonctions `help` et `dir`, prenez une dizaine de minutes pour prendre connaissance du module `turtle` et faire quelques essais des fonctions ci-dessus.**\n",
    "\n",
    "## Travail demandé\n",
    "\n",
    "> **Remarque importante** : Pour écrire une fonction, il est vivement recommandé, lorsque c'est possible, d'utiliser une fonction écrite dans une question précédente\n",
    "\n",
    "### 1 - Dessiner un carré\n",
    "\n",
    "Pour tracer un carré au sol, un homme ferait les étapes suivantes :\n",
    "```\n",
    "* Avancer de 100 pas,\n",
    "* Tourner sur la gauche d'un angle droit,\n",
    "* Avancer de 100 pas,\n",
    "* Tourner sur la gauche d'un angle droit,\n",
    "* Avancer de 100 pas,\n",
    "* Tourner sur la gauche d'un angle droit,\n",
    "* Avancer de 100 pas,\n",
    "* Tourner sur la gauche d'un angle droit.\n",
    "```\n",
    "\n",
    "En théorie, on doit se retrouver au point de départ (position et orientation)\n",
    "\n",
    "**Traduire cet algorithme pour la tortue en python et tester**\n",
    "\n",
    "### 2 - Dessiner un carré - Bis\n",
    "\n",
    "Nous pouvons constater qu’il devient fastidieux de réécrire plusieurs fois l'instruction \"Avancer de 100 pas\" et\n",
    "\"Tourner sur la gauche d'un angle droit\" pour écrire le programme de construction d’un carré. Heureusement il est possible de n’écrire qu’une fois les instructions que l’on doit répéter et de dire combien de fois on veut que ces instructions soient répétées.\n",
    "\n",
    "**Simplifier le programme de la construction d’un carré, en utilisant une boucle.**\n",
    "\n",
    "### 3 - Dessiner un carré - Ter\n",
    "**Encapsuler votre code précédent dans une fonction `carre` ayant la spécification suivante :**"
   ]
  },
  {
   "cell_type": "code",
   "execution_count": null,
   "metadata": {},
   "outputs": [],
   "source": [
    "def carre(pas):\n",
    "    \"\"\"\n",
    "    Description de la fonction : Déplace la tortue de sorte qu'elle dessine un carré\n",
    "                                 et revienne au point de départ (même position et orientation)\n",
    "    pas(int) : côté du carré\n",
    "    return : None\n",
    "    \"\"\"\n",
    "    # A compléter"
   ]
  },
  {
   "cell_type": "markdown",
   "metadata": {},
   "source": [
    "### 4 - Dessiner des carrés emboîtés\n",
    "\n",
    "Ecrire le code de la fonction ci-dessous. Des exemples d'appels de cette fonction sont donnés juste après."
   ]
  },
  {
   "cell_type": "code",
   "execution_count": null,
   "metadata": {},
   "outputs": [],
   "source": [
    "def carreEmboite(cote,nb):\n",
    "    \"\"\"\n",
    "    Description de la fonction : Déplace la tortue de sorte qu'elle dessine une succession\n",
    "                                de carrés emboîtés régulièrement espacés\n",
    "    pas(int) : côté du plus petit carré\n",
    "    nb(int): nombre total de carrés\n",
    "    return : None\n",
    "    \"\"\"\n",
    "    #A compléter"
   ]
  },
  {
   "cell_type": "markdown",
   "metadata": {},
   "source": [
    "|carreEmboite(10,10)|carreEmboite(5,50)|\n",
    "|:----------:|:-:|\n",
    "|![](img/carreEmboite10,10.png)|![](img/carreEmboite5,50.png)|"
   ]
  },
  {
   "cell_type": "markdown",
   "metadata": {},
   "source": [
    "### 5 - Dessiner des carrés tournants\n",
    "\n",
    "Ecrire le code de la fonction ci-dessous. Des exemples d'appels de cette fonction sont donnés juste après."
   ]
  },
  {
   "cell_type": "code",
   "execution_count": null,
   "metadata": {},
   "outputs": [],
   "source": [
    "def carreTournant(cote,nb):\n",
    "    \"\"\"\n",
    "    Description de la fonction : Déplace la tortue de sorte qu'elle dessine une succession\n",
    "                                de carrés tournants régulièrement espacés\n",
    "    pas(int) : côté du plus petit carré\n",
    "    nb(int): nombre total de carrés\n",
    "    return : None\n",
    "    \"\"\"\n",
    "    #A compléter"
   ]
  },
  {
   "cell_type": "markdown",
   "metadata": {},
   "source": [
    "|carreTournant(50,7)|carreTournant(70,50)|\n",
    "|:----------:|:-:|\n",
    "|![](img/carreTournant50,7.png)|![](img/carreTournant70,50.png)|"
   ]
  },
  {
   "cell_type": "markdown",
   "metadata": {},
   "source": [
    "###  6 - Dessiner une ligne de carrés\n",
    "\n",
    "Ecrire le code de la fonction ci-dessous. Des exemples d'appels de cette fonction sont donnés juste après."
   ]
  },
  {
   "cell_type": "code",
   "execution_count": null,
   "metadata": {},
   "outputs": [],
   "source": [
    "def ligne2carre(nb,cote,espacement):\n",
    "    \"\"\"\n",
    "    Description de la fonction : Déplace la tortue de sorte qu'elle dessine une ligne de carré\n",
    "    nb(int) : nombre de carrés dessinés\n",
    "    cote(int): côté du carré\n",
    "    espacement(int) : espacement entre 2 carrés successifs\n",
    "    return : None\n",
    "    \"\"\"\n",
    "    #A compléter"
   ]
  },
  {
   "cell_type": "markdown",
   "metadata": {},
   "source": [
    "|ligne2carre(10,15,2)|ligne2carre(20,6,10)|\n",
    "|:----------:|:-:|\n",
    "|![](img/ligne2carre10,15,2.png)|![](img/ligne2carre20,6,10.png)|"
   ]
  },
  {
   "cell_type": "markdown",
   "metadata": {},
   "source": [
    "### 7 - Dessiner un damier\n",
    "\n",
    "Ecrire le code de la fonction ci-dessous. Des exemples d'appels de cette fonction sont donnés juste après."
   ]
  },
  {
   "cell_type": "code",
   "execution_count": null,
   "metadata": {},
   "outputs": [],
   "source": [
    "def damier(longueur,hauteur,cote,espacement):\n",
    "    \"\"\"\n",
    "    Description de la fonction : Déplace la tortue de sorte qu'elle dessine un damier\n",
    "    longueur(int) : nombre de carrés par ligne\n",
    "    hauteur(int) : nombre de carrés par colonne\n",
    "    cote(int): côté du carré\n",
    "    espacement(int) : espacement entre 2 carrés successifs\n",
    "    return : None\n",
    "    \"\"\"\n",
    "    #A compléter"
   ]
  },
  {
   "cell_type": "markdown",
   "metadata": {},
   "source": [
    "|damier(5,5,50,10)|damier(30,20,10,2)|\n",
    "|:----------:|:-:|\n",
    "|![](img/damier5,5,50,10.png)|![](img/damier30,20,10,2.png)|"
   ]
  },
  {
   "cell_type": "markdown",
   "metadata": {},
   "source": [
    "## Pour aller plus loin...\n",
    "\n",
    "Vous pouvez programmer la tortue pour qu'elle réalise les belles fractales ci-dessous...\n",
    "\n",
    "|||[Triangle de Sierpiński](https://fr.wikipedia.org/wiki/Triangle_de_Sierpi%C5%84ski)|\n",
    "|:----------:|:-:|:-:|\n",
    "|![](img/joli1.png)|![](img/joli2.png)|![](img/joli3.png)|\n",
    "\n",
    "### Quelques fractales animées...\n",
    "\n",
    "|||\n",
    "|:-:|:-:|\n",
    "|![](img/Sierpinski.gif)|![](img/tree.gif)|"
   ]
  }
 ],
 "metadata": {
  "kernelspec": {
   "display_name": "Python 3 (ipykernel)",
   "language": "python",
   "name": "python3"
  },
  "language_info": {
   "codemirror_mode": {
    "name": "ipython",
    "version": 3
   },
   "file_extension": ".py",
   "mimetype": "text/x-python",
   "name": "python",
   "nbconvert_exporter": "python",
   "pygments_lexer": "ipython3",
   "version": "3.8.10"
  }
 },
 "nbformat": 4,
 "nbformat_minor": 4
}
