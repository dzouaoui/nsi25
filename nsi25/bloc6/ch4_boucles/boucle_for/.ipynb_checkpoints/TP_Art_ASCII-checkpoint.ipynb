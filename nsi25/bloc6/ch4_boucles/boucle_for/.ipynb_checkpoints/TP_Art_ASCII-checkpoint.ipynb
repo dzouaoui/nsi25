{
 "cells": [
  {
   "cell_type": "markdown",
   "metadata": {},
   "source": [
    "# Art-ASCII\n",
    "\n",
    "> L'Art-ASCII consiste à réaliser des images uniquement à l'aide des lettres et caractères spéciaux contenus dans le code ASCII. Vous pouvez en admirer quelques exemples sur la [page wikipedia](https://fr.wikipedia.org/wiki/Art_ASCII)\n",
    "![art ASCII](img/artASCII.png)"
   ]
  },
  {
   "cell_type": "markdown",
   "metadata": {},
   "source": [
    "> Dans ce TP, on se propose de réaliser quelques **figures géométriques** en Art-ASCII à l'aide de **boucles `for`**.   \n",
    "**Attention :** La plupart du temps, il faudra faire des **boucles imbriquées**. Cela peut vite devenir complexe, il est donc important de procéder par une succession de \"essais/erreurs\" pour écrire du code qui fonctionne.\n",
    "\n",
    "## La fonction `print`\n",
    "\n",
    "La fonction  `print` va naturellement à la ligne après avoir fait son affichage. Ceci est dû à la valeur **par défaut** du paramètre `end` (Vous pouvez consulter la documentation de la fonction `print` grâce à la cellule ci-dessous)"
   ]
  },
  {
   "cell_type": "code",
   "execution_count": null,
   "metadata": {},
   "outputs": [],
   "source": [
    "help(print)"
   ]
  },
  {
   "cell_type": "markdown",
   "metadata": {},
   "source": [
    "Ce comportement par défaut est problématique pour faire de l'Art-ASCII. Heureusement on peut empêcher ce retour à la ligne en donnant une chaîne de caractère vide `\"\"` au paramètre `end`. Voir Exemples ci-dessous"
   ]
  },
  {
   "cell_type": "code",
   "execution_count": 1,
   "metadata": {},
   "outputs": [
    {
     "name": "stdout",
     "output_type": "stream",
     "text": [
      "O\n",
      "X\n",
      "O\n"
     ]
    }
   ],
   "source": [
    "# Comportement par défaut de la fonction print\n",
    "print(\"O\")\n",
    "print(\"X\")\n",
    "print(\"O\")"
   ]
  },
  {
   "cell_type": "code",
   "execution_count": 2,
   "metadata": {},
   "outputs": [
    {
     "name": "stdout",
     "output_type": "stream",
     "text": [
      "OXO"
     ]
    }
   ],
   "source": [
    "# Comportement sans retour à la ligne\n",
    "print(\"O\", end=\"\")\n",
    "print(\"X\", end=\"\")\n",
    "print(\"O\", end=\"\")"
   ]
  },
  {
   "cell_type": "markdown",
   "metadata": {},
   "source": [
    "Enfin, pour faire de l'Art-ASCII, il est utile de faire des retours à la ligne \"sans rien afficher\". Ceci peut se faire simplement en appelant la fonction `print` sans lui donner de paramètre. Voir exemples ci-dessous :"
   ]
  },
  {
   "cell_type": "code",
   "execution_count": 3,
   "metadata": {},
   "outputs": [
    {
     "name": "stdout",
     "output_type": "stream",
     "text": [
      "OXO"
     ]
    }
   ],
   "source": [
    "print(\"O\", end=\"\")\n",
    "print(\"X\", end=\"\")\n",
    "print(\"O\", end=\"\")"
   ]
  },
  {
   "cell_type": "code",
   "execution_count": 4,
   "metadata": {},
   "outputs": [
    {
     "name": "stdout",
     "output_type": "stream",
     "text": [
      "OX\n",
      "O"
     ]
    }
   ],
   "source": [
    "print(\"O\", end=\"\")\n",
    "print(\"X\", end=\"\")\n",
    "print() # On ajoute un retour à la ligne\n",
    "print(\"O\", end=\"\")"
   ]
  },
  {
   "cell_type": "markdown",
   "metadata": {},
   "source": [
    "## Travail demandé\n",
    "\n",
    "> * Pour chaque fonction à écrire, deux exemples d'appels sont systématiquement donnés pour comprendre ce qui est demandé <br><br>\n",
    "* Les fonctions sont de plus en plus complexes :\n",
    "    * La question 1 est de niveau facile\n",
    "    * Les questions 2 à 4 sont de niveau intermédiaire\n",
    "    * Les question 5 et 6 sont de niveau difficile\n",
    "    * La question 7 est de niveau expert ! <br> <br>  \n",
    "* **Attention : Dans tout le TP, l'usage de l'opérateur `*` sur des chaines de caractères est INTERDIT !!**"
   ]
  },
  {
   "cell_type": "markdown",
   "metadata": {},
   "source": [
    "1. Ecrire une fonction `afficher_ligne(n)` qui affiche une ligne de **n** caractères `'O'`"
   ]
  },
  {
   "cell_type": "code",
   "execution_count": 6,
   "metadata": {},
   "outputs": [
    {
     "name": "stdout",
     "output_type": "stream",
     "text": [
      "OOOOO"
     ]
    }
   ],
   "source": [
    "afficher_ligne(5)"
   ]
  },
  {
   "cell_type": "code",
   "execution_count": 7,
   "metadata": {},
   "outputs": [
    {
     "name": "stdout",
     "output_type": "stream",
     "text": [
      "OOOOOOOOOOOO"
     ]
    }
   ],
   "source": [
    "afficher_ligne(12)"
   ]
  },
  {
   "cell_type": "markdown",
   "metadata": {},
   "source": [
    "2. Ecrire une fonction `afficher_carre(n)` qui affiche un carré de côté **n** rempli de caractères `'O'`\n",
    "\n",
    "**Attention : il NE FAUT PAS utiliser la fonction `afficher_ligne` pour écrire le code de la fonction `afficher_carre` !!**"
   ]
  },
  {
   "cell_type": "code",
   "execution_count": 11,
   "metadata": {},
   "outputs": [
    {
     "name": "stdout",
     "output_type": "stream",
     "text": [
      "OOOOO\n",
      "OOOOO\n",
      "OOOOO\n",
      "OOOOO\n",
      "OOOOO\n"
     ]
    }
   ],
   "source": [
    "afficher_carre(5)"
   ]
  },
  {
   "cell_type": "code",
   "execution_count": 12,
   "metadata": {},
   "outputs": [
    {
     "name": "stdout",
     "output_type": "stream",
     "text": [
      "OOOOOOOOOOOO\n",
      "OOOOOOOOOOOO\n",
      "OOOOOOOOOOOO\n",
      "OOOOOOOOOOOO\n",
      "OOOOOOOOOOOO\n",
      "OOOOOOOOOOOO\n",
      "OOOOOOOOOOOO\n",
      "OOOOOOOOOOOO\n",
      "OOOOOOOOOOOO\n",
      "OOOOOOOOOOOO\n",
      "OOOOOOOOOOOO\n",
      "OOOOOOOOOOOO\n"
     ]
    }
   ],
   "source": [
    "afficher_carre(12)"
   ]
  },
  {
   "cell_type": "markdown",
   "metadata": {},
   "source": [
    "3. Ecrire une fonction `afficher_rectangle(hauteur, largeur)` qui affiche un rectangle rempli de caractères `'O'`\n",
    "\n",
    "**Attention : il NE FAUT PAS utiliser la fonction `afficher_ligne` pour écrire le code de la fonction `afficher_rectangle` !!**"
   ]
  },
  {
   "cell_type": "code",
   "execution_count": 14,
   "metadata": {},
   "outputs": [
    {
     "name": "stdout",
     "output_type": "stream",
     "text": [
      "OOO\n",
      "OOO\n",
      "OOO\n",
      "OOO\n",
      "OOO\n",
      "OOO\n",
      "OOO\n",
      "OOO\n"
     ]
    }
   ],
   "source": [
    "afficher_rectangle(8, 3)"
   ]
  },
  {
   "cell_type": "code",
   "execution_count": 15,
   "metadata": {},
   "outputs": [
    {
     "name": "stdout",
     "output_type": "stream",
     "text": [
      "OOOOOOOOOOOOOOOOOOOO\n",
      "OOOOOOOOOOOOOOOOOOOO\n",
      "OOOOOOOOOOOOOOOOOOOO\n",
      "OOOOOOOOOOOOOOOOOOOO\n",
      "OOOOOOOOOOOOOOOOOOOO\n"
     ]
    }
   ],
   "source": [
    "afficher_rectangle(5, 20)"
   ]
  },
  {
   "cell_type": "markdown",
   "metadata": {},
   "source": [
    "4. Ecrire une fonction `afficher_triangle_rectangle(n)` qui affiche un triangle rectangle de hauteur **n** rempli de caractères `'O'`\n",
    "\n",
    "**Attention : il NE FAUT PAS utiliser la fonction `afficher_ligne` pour écrire le code de la fonction `afficher_triangle_rectangle` !!**"
   ]
  },
  {
   "cell_type": "code",
   "execution_count": 22,
   "metadata": {},
   "outputs": [
    {
     "name": "stdout",
     "output_type": "stream",
     "text": [
      "O\n",
      "OO\n",
      "OOO\n",
      "OOOO\n",
      "OOOOO\n"
     ]
    }
   ],
   "source": [
    "afficher_triangle_rectangle(5)"
   ]
  },
  {
   "cell_type": "code",
   "execution_count": 21,
   "metadata": {},
   "outputs": [
    {
     "name": "stdout",
     "output_type": "stream",
     "text": [
      "O\n",
      "OO\n",
      "OOO\n",
      "OOOO\n",
      "OOOOO\n",
      "OOOOOO\n",
      "OOOOOOO\n",
      "OOOOOOOO\n",
      "OOOOOOOOO\n",
      "OOOOOOOOOO\n"
     ]
    }
   ],
   "source": [
    "afficher_triangle_rectangle(10)"
   ]
  },
  {
   "cell_type": "markdown",
   "metadata": {},
   "source": [
    "5. Ecrire une fonction `afficher_carre_diagonale(n))` qui affiche un carré de hauteur **n** rempli de caractères `'O'` avec une diagonale de caractères `'X'`\n",
    "\n",
    "**Attention : il NE FAUT PAS utiliser la fonction `afficher_ligne` pour écrire le code de la fonction `afficher_triangle_rectangle` !!**"
   ]
  },
  {
   "cell_type": "code",
   "execution_count": 24,
   "metadata": {},
   "outputs": [
    {
     "name": "stdout",
     "output_type": "stream",
     "text": [
      "XOOOO\n",
      "OXOOO\n",
      "OOXOO\n",
      "OOOXO\n",
      "OOOOX\n"
     ]
    }
   ],
   "source": [
    "afficher_carre_diagonale(5)"
   ]
  },
  {
   "cell_type": "code",
   "execution_count": 25,
   "metadata": {},
   "outputs": [
    {
     "name": "stdout",
     "output_type": "stream",
     "text": [
      "XOOOOOOO\n",
      "OXOOOOOO\n",
      "OOXOOOOO\n",
      "OOOXOOOO\n",
      "OOOOXOOO\n",
      "OOOOOXOO\n",
      "OOOOOOXO\n",
      "OOOOOOOX\n"
     ]
    }
   ],
   "source": [
    "afficher_carre_diagonale(8)"
   ]
  },
  {
   "cell_type": "markdown",
   "metadata": {},
   "source": [
    "6. Ecrire une fonction `afficher_triangle(n)` qui affiche un triangle \"creux\" de hauteur **n** composé de caractères `'O'`\n",
    "\n",
    "**Attention : il NE FAUT PAS utiliser la fonction `afficher_ligne` pour écrire le code de la fonction `afficher_triangle` !!**"
   ]
  },
  {
   "cell_type": "code",
   "execution_count": 27,
   "metadata": {},
   "outputs": [
    {
     "name": "stdout",
     "output_type": "stream",
     "text": [
      "         O\n",
      "        O O\n",
      "       O   O\n",
      "      O     O\n",
      "     O       O\n",
      "    O         O\n",
      "   O           O\n",
      "  O             O\n",
      " O               O\n",
      "OOOOOOOOOOOOOOOOOOO"
     ]
    }
   ],
   "source": [
    "afficher_triangle(10)"
   ]
  },
  {
   "cell_type": "code",
   "execution_count": 28,
   "metadata": {},
   "outputs": [
    {
     "name": "stdout",
     "output_type": "stream",
     "text": [
      "   O\n",
      "  O O\n",
      " O   O\n",
      "OOOOOOO"
     ]
    }
   ],
   "source": [
    "afficher_triangle(4)"
   ]
  },
  {
   "cell_type": "markdown",
   "metadata": {},
   "source": [
    "7. Ecrire une fonction `afficher_losange(n)` qui affiche un losange \"de vide\" de côté **n** dans un rectangle rempli de caractères `'$'`\n",
    "\n",
    "**Attention : il NE FAUT PAS utiliser la fonction `afficher_ligne` pour écrire le code de la fonction `afficher_losange` !!**"
   ]
  },
  {
   "cell_type": "code",
   "execution_count": 30,
   "metadata": {},
   "outputs": [
    {
     "name": "stdout",
     "output_type": "stream",
     "text": [
      "$$$$ $$$$\n",
      "$$$ $ $$$\n",
      "$$ $$$ $$\n",
      "$ $$$$$ $\n",
      " $$$$$$$ \n",
      "$ $$$$$ $\n",
      "$$ $$$ $$\n",
      "$$$$ $$$$\n"
     ]
    }
   ],
   "source": [
    "afficher_losange(5)"
   ]
  },
  {
   "cell_type": "code",
   "execution_count": 31,
   "metadata": {},
   "outputs": [
    {
     "name": "stdout",
     "output_type": "stream",
     "text": [
      "$$$$$$$$$$$$$$ $$$$$$$$$$$$$$\n",
      "$$$$$$$$$$$$$ $ $$$$$$$$$$$$$\n",
      "$$$$$$$$$$$$ $$$ $$$$$$$$$$$$\n",
      "$$$$$$$$$$$ $$$$$ $$$$$$$$$$$\n",
      "$$$$$$$$$$ $$$$$$$ $$$$$$$$$$\n",
      "$$$$$$$$$ $$$$$$$$$ $$$$$$$$$\n",
      "$$$$$$$$ $$$$$$$$$$$ $$$$$$$$\n",
      "$$$$$$$ $$$$$$$$$$$$$ $$$$$$$\n",
      "$$$$$$ $$$$$$$$$$$$$$$ $$$$$$\n",
      "$$$$$ $$$$$$$$$$$$$$$$$ $$$$$\n",
      "$$$$ $$$$$$$$$$$$$$$$$$$ $$$$\n",
      "$$$ $$$$$$$$$$$$$$$$$$$$$ $$$\n",
      "$$ $$$$$$$$$$$$$$$$$$$$$$$ $$\n",
      "$ $$$$$$$$$$$$$$$$$$$$$$$$$ $\n",
      " $$$$$$$$$$$$$$$$$$$$$$$$$$$ \n",
      "$ $$$$$$$$$$$$$$$$$$$$$$$$$ $\n",
      "$$ $$$$$$$$$$$$$$$$$$$$$$$ $$\n",
      "$$$ $$$$$$$$$$$$$$$$$$$$$ $$$\n",
      "$$$$ $$$$$$$$$$$$$$$$$$$ $$$$\n",
      "$$$$$ $$$$$$$$$$$$$$$$$ $$$$$\n",
      "$$$$$$ $$$$$$$$$$$$$$$ $$$$$$\n",
      "$$$$$$$ $$$$$$$$$$$$$ $$$$$$$\n",
      "$$$$$$$$ $$$$$$$$$$$ $$$$$$$$\n",
      "$$$$$$$$$ $$$$$$$$$ $$$$$$$$$\n",
      "$$$$$$$$$$ $$$$$$$ $$$$$$$$$$\n",
      "$$$$$$$$$$$ $$$$$ $$$$$$$$$$$\n",
      "$$$$$$$$$$$$ $$$ $$$$$$$$$$$$\n",
      "$$$$$$$$$$$$$$ $$$$$$$$$$$$$$\n"
     ]
    }
   ],
   "source": [
    "afficher_losange(15)"
   ]
  }
 ],
 "metadata": {
  "kernelspec": {
   "display_name": "Python 3 (ipykernel)",
   "language": "python",
   "name": "python3"
  },
  "language_info": {
   "codemirror_mode": {
    "name": "ipython",
    "version": 3
   },
   "file_extension": ".py",
   "mimetype": "text/x-python",
   "name": "python",
   "nbconvert_exporter": "python",
   "pygments_lexer": "ipython3",
   "version": "3.8.10"
  },
  "latex_envs": {
   "LaTeX_envs_menu_present": true,
   "autoclose": false,
   "autocomplete": true,
   "bibliofile": "biblio.bib",
   "cite_by": "apalike",
   "current_citInitial": 1,
   "eqLabelWithNumbers": true,
   "eqNumInitial": 1,
   "hotkeys": {
    "equation": "Ctrl-E",
    "itemize": "Ctrl-I"
   },
   "labels_anchors": false,
   "latex_user_defs": false,
   "report_style_numbering": false,
   "user_envs_cfg": false
  }
 },
 "nbformat": 4,
 "nbformat_minor": 4
}
