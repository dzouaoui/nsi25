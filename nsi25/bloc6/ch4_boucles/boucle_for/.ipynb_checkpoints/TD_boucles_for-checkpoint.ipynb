{
 "cells": [
  {
   "cell_type": "markdown",
   "metadata": {},
   "source": [
    "> **Très important :** Dans ce TD, ne pas hésiter à recourir aux outils de \"debuggage\" pour bien comprendre les boucles et trouver les problèmes :\n",
    "* Thonny en mode debug\n",
    "* [Pythontutor en ligne](http://pythontutor.com/live.html#mode=edit)\n",
    "* Pythontutor dans un Notebook jupyter\n",
    "\n",
    "\n",
    "# Exercice 1 : niveau facile\n",
    "\n",
    "1. Pour chaque séquence ci-dessous, écrire l'instruction python permettant de la générer (on utilisera la fonction `range`) :\n",
    "    * 2, 3, 4, 5, 6, 7, 8\n",
    "    * 0, 4, 8, 12, 16, 20, 24\n",
    "    * Les caractères composant une chaîne de caractères appelée `maChaine`. (Par exemple si `maChaine = \"informatique\"`, on veut obtenir la séquence `'i'`, `'n'`, `'f'`, `'o'`, `'r'`, `'m'`, `'a'`, `'t'`, `'i'`, `'q'`, `'u'`, `'e'`)\n",
    "    * Les indices des caractères composant une chaîne de caractères appelée `maChaine`. (Par exemple si `maChaine = \"informatique\"`, on veut obtenir la séquence 0, 1, 2, 3, 4, 5, 6, 7, 8, 9, 10, 11)\n",
    "    * les chiffres de 1 à n inclus (n étant le nombre de caractères d'une chaîne de caractère appelée `maChaine`). (Par exemple si `maChaine = \"informatique\"`, on veut obtenir la séquence 1, 2, 3, 4, 5, 6, 7, 8, 9, 10, 11, 12)\n",
    "   \n",
    "   \n",
    "2. Parcourir chaque séquence ci-dessus à l'aide d'une boucle `for` afin d'afficher chaque valeur de la séquence"
   ]
  },
  {
   "cell_type": "markdown",
   "metadata": {},
   "source": [
    "# Exercice 2 : niveau facile\n",
    "\n",
    "Le code suivant permet d'afficher **10 fois** le message \"Pour progresser en programmation, la pratique est le plus important\". Malheureusement, plusieurs erreurs se sont glissées dans le code, corrigez-les et tester !"
   ]
  },
  {
   "cell_type": "code",
   "execution_count": null,
   "metadata": {},
   "outputs": [],
   "source": [
    "for i in len(10)\n",
    "print(Pour progresser en programmation, la pratique est le plus important)\n",
    "print(Pour progresser en programmation, la pratique est le plus important)\n",
    "print(Pour progresser en programmation, la pratique est le plus important)\n",
    "print(Pour progresser en programmation, la pratique est le plus important)\n",
    "print(Pour progresser en programmation, la pratique est le plus important)\n",
    "print(Pour progresser en programmation, la pratique est le plus important)\n",
    "print(Pour progresser en programmation, la pratique est le plus important)\n",
    "print(Pour progresser en programmation, la pratique est le plus important)\n",
    "print(Pour progresser en programmation, la pratique est le plus important)\n",
    "print(Pour progresser en programmation, la pratique est le plus important)"
   ]
  },
  {
   "cell_type": "markdown",
   "metadata": {},
   "source": [
    "# Exercice 3 : niveau facile\n",
    "\n",
    "1. Ecrire une boucle `for` permettant d'**afficher** la table de multiplication par 7. L'affichage attendu est donné ci-dessous :\n",
    "\n",
    "7 <br/>\n",
    "14    \n",
    "21  \n",
    "28  \n",
    "35  \n",
    "42  \n",
    "49  \n",
    "56  \n",
    "63  \n",
    "70  \n",
    "\n",
    "2. Modifier le code ci-dessus afin que l'affichage soit celui donné ci-dessous :\n",
    "\n",
    "7 * 1 = 7  \n",
    "7 * 2 = 14  \n",
    "7 * 3 = 21  \n",
    "7 * 4 = 28  \n",
    "7 * 5 = 35  \n",
    "7 * 6 = 42  \n",
    "7 * 7 = 49  \n",
    "7 * 8 = 56  \n",
    "7 * 9 = 63  \n",
    "7 * 10 = 70  \n",
    "\n",
    "3. \"Encapsuler\" le code précédent dans une fonction `tableMultiplication` qui :\n",
    "    * prend en **paramètre** l'entier dont on veut la table de multiplication\n",
    "    * **affiche** la table de multiplication\n",
    "\n",
    "Un exemple d'appel de la fonction `tableMultiplication` est donné ci-dessous :"
   ]
  },
  {
   "cell_type": "code",
   "execution_count": 7,
   "metadata": {},
   "outputs": [
    {
     "name": "stdout",
     "output_type": "stream",
     "text": [
      "9 * 1 = 9\n",
      "9 * 2 = 18\n",
      "9 * 3 = 27\n",
      "9 * 4 = 36\n",
      "9 * 5 = 45\n",
      "9 * 6 = 54\n",
      "9 * 7 = 63\n",
      "9 * 8 = 72\n",
      "9 * 9 = 81\n",
      "9 * 10 = 90\n"
     ]
    }
   ],
   "source": [
    "tableMultiplication(9)"
   ]
  },
  {
   "cell_type": "markdown",
   "metadata": {},
   "source": [
    "4.  Écrire une fonction `plusieursTablesMultiplication` qui :\n",
    "    * prend deux entiers a et b en **paramètre**\n",
    "    * **affiche** toutes les tables de multiplication pour les entiers de a à b.\n",
    "    \n",
    "Un exemple d'appel de la fonction `plusieursTablesMultiplication` est donné ci-dessous :  \n",
    "*(Consigne: utiliser la fonction `tableMultiplication` pour écrire le code de `plusieursTablesMultiplication`)*"
   ]
  },
  {
   "cell_type": "code",
   "execution_count": 9,
   "metadata": {},
   "outputs": [
    {
     "name": "stdout",
     "output_type": "stream",
     "text": [
      "3 * 1 = 3\n",
      "3 * 2 = 6\n",
      "3 * 3 = 9\n",
      "3 * 4 = 12\n",
      "3 * 5 = 15\n",
      "3 * 6 = 18\n",
      "3 * 7 = 21\n",
      "3 * 8 = 24\n",
      "3 * 9 = 27\n",
      "3 * 10 = 30\n",
      "4 * 1 = 4\n",
      "4 * 2 = 8\n",
      "4 * 3 = 12\n",
      "4 * 4 = 16\n",
      "4 * 5 = 20\n",
      "4 * 6 = 24\n",
      "4 * 7 = 28\n",
      "4 * 8 = 32\n",
      "4 * 9 = 36\n",
      "4 * 10 = 40\n",
      "5 * 1 = 5\n",
      "5 * 2 = 10\n",
      "5 * 3 = 15\n",
      "5 * 4 = 20\n",
      "5 * 5 = 25\n",
      "5 * 6 = 30\n",
      "5 * 7 = 35\n",
      "5 * 8 = 40\n",
      "5 * 9 = 45\n",
      "5 * 10 = 50\n"
     ]
    }
   ],
   "source": [
    "plusieursTablesMultiplication(3,5)"
   ]
  },
  {
   "cell_type": "markdown",
   "metadata": {},
   "source": [
    "> Si vous avez suivi les consignes, vous avez utiliser la fonction `tableMultiplication`  pour écrire le code de `plusieursTablesMultiplication`\n",
    "\n",
    "5. **A faire avec le professeur :** Dans le corps de la fonction `plusieursTablesMultiplication`, remplacer l'appel de la fonction `tableMultiplication` par son code. Tester la fonction `plusieursTablesMultiplication`\n",
    "\n",
    "> On a maintenant une boucle `for` (interne) imbriquée dans une boucle `for` (externe). Exécuter ce code en mode debug ou avec pythontutor."
   ]
  },
  {
   "cell_type": "markdown",
   "metadata": {},
   "source": [
    "# Exercice 4 : niveau intermédiaire"
   ]
  },
  {
   "cell_type": "code",
   "execution_count": null,
   "metadata": {},
   "outputs": [],
   "source": [
    "def nombreCaracteres(chaine):\n",
    "    compteur = 0\n",
    "    for ..."
   ]
  },
  {
   "cell_type": "markdown",
   "metadata": {},
   "source": [
    "Compléter le code de la fonction `nombreCaracteres` :\n",
    "* qui prend en **paramètres** une chaîne de caractères\n",
    "* qui **renvoie** la longueur de cette chaîne de caractères \n",
    "\n",
    "**L'utilisation de la fonction `len` est b ien sûr interdire !**  \n",
    "*(Indication : Parcourir la chaîne de caractères et incrémenter une variable `compteur` à chaque tour de boucle)*\n",
    "\n",
    "Des exemples d'appel de cette fonction sont donnés ci-dessous :"
   ]
  },
  {
   "cell_type": "code",
   "execution_count": 6,
   "metadata": {},
   "outputs": [
    {
     "data": {
      "text/plain": [
       "6"
      ]
     },
     "execution_count": 6,
     "metadata": {},
     "output_type": "execute_result"
    }
   ],
   "source": [
    "nombreCaracteres(\"Python\")"
   ]
  },
  {
   "cell_type": "code",
   "execution_count": 7,
   "metadata": {},
   "outputs": [
    {
     "data": {
      "text/plain": [
       "10"
      ]
     },
     "execution_count": 7,
     "metadata": {},
     "output_type": "execute_result"
    }
   ],
   "source": [
    "nombreCaracteres(\"Javascript\")"
   ]
  },
  {
   "cell_type": "markdown",
   "metadata": {},
   "source": [
    "# Exercice 5 : niveau intermédiaire\n",
    "\n",
    "Ecrire le code de la fonction `compterOccurence`: \n",
    "* qui prend en **paramètres** :\n",
    "    * une chaîne de caractères `chaine`\n",
    "    * un caractère `c`\n",
    "* et qui **renvoie** le nombre de fois que le caractère apparaît dans `chaine`.\n",
    "\n",
    "*(Indication : Parcourir `chaine` et incrémenter une variable `compteur` à chaque fois qu'on rencontre le cacractère recherché `c`)*\n",
    "\n",
    "Des exemples d'appel de cette fonction sont donnés ci-dessous :"
   ]
  },
  {
   "cell_type": "code",
   "execution_count": 2,
   "metadata": {},
   "outputs": [
    {
     "data": {
      "text/plain": [
       "2"
      ]
     },
     "execution_count": 2,
     "metadata": {},
     "output_type": "execute_result"
    }
   ],
   "source": [
    "compterOccurence(\"Guido Van Rossum\", 'o')"
   ]
  },
  {
   "cell_type": "code",
   "execution_count": 3,
   "metadata": {},
   "outputs": [
    {
     "data": {
      "text/plain": [
       "0"
      ]
     },
     "execution_count": 3,
     "metadata": {},
     "output_type": "execute_result"
    }
   ],
   "source": [
    "compterOccurence(\"Linus Torvalds\", 'z')"
   ]
  },
  {
   "cell_type": "markdown",
   "metadata": {},
   "source": [
    "# Exercice 6 : niveau intermédiaire"
   ]
  },
  {
   "cell_type": "code",
   "execution_count": 5,
   "metadata": {},
   "outputs": [],
   "source": [
    "def rechercheOccurence(chaine, c):\n",
    "    for lettre in chaine:\n",
    "        if lettre == c:\n",
    "            return True\n",
    "    return False"
   ]
  },
  {
   "cell_type": "markdown",
   "metadata": {},
   "source": [
    "1. Exécuter **à la main (sans ordinateur)** l'appel `rechercheOccurence(\"Stallmann\", \"a\")`. Combien de fois \"êtes-vous entré\" dans la boucle `for` ?\n",
    "\n",
    "\n",
    "2. Exécuter **à la main (sans ordinateur)** l'appel `rechercheOccurence(\"Richard\", \"b\")`. Combien de fois \"êtes-vous entré\" dans la boucle `for` ?\n",
    "\n",
    "\n",
    "3. Pourquoi n'obtient-on pas la même valeur dans les 2 questions précédentes (préciser quelle instruction du code de la fonction est responsable de cette différence)\n",
    "\n",
    "\n",
    "4. Ecrire le code de la fonction `rechercheIndice`\n",
    "\n",
    "*(Indication : On peut s'inspirer du code de la fonction `rechercheOccurence` mais comme on recherche un indice, il faudra parcourir les indices de `chaine` plutôt que les caractères de `chaine`...)*"
   ]
  },
  {
   "cell_type": "code",
   "execution_count": null,
   "metadata": {},
   "outputs": [],
   "source": [
    "def rechercheIndice(chaine,c):\n",
    "    \"\"\"\n",
    "    Description de la fonction : renvoie l'indice de la première occurence du caractère c dans chaine\n",
    "    chaine (str) : chaine de caractère dans laquelle la recherche s'effectue\n",
    "    c (str) : caractère recherché\n",
    "    return (int ou None) : indice du caractère c danc chaine (None si le caractère c n'apparaît pas dans chaine)\n",
    "    \"\"\"\n",
    "    # A compléter"
   ]
  },
  {
   "cell_type": "markdown",
   "metadata": {},
   "source": [
    "Quelques exemples d'appels de la fonvtion `rechercheIndice` :"
   ]
  },
  {
   "cell_type": "code",
   "execution_count": 9,
   "metadata": {},
   "outputs": [
    {
     "data": {
      "text/plain": [
       "2"
      ]
     },
     "execution_count": 9,
     "metadata": {},
     "output_type": "execute_result"
    }
   ],
   "source": [
    "rechercheIndice(\"Stallmann\", \"a\")"
   ]
  },
  {
   "cell_type": "code",
   "execution_count": 10,
   "metadata": {},
   "outputs": [],
   "source": [
    "rechercheIndice(\"Richard\", \"b\")"
   ]
  },
  {
   "cell_type": "markdown",
   "metadata": {},
   "source": [
    "# Exercice 7 : niveau intermédiaire\n",
    "\n",
    "On considère la fonction `mystere` ci dessous."
   ]
  },
  {
   "cell_type": "code",
   "execution_count": 17,
   "metadata": {},
   "outputs": [],
   "source": [
    "def mystere(n):\n",
    "    s = 0\n",
    "    n = str(n)\n",
    "    for i in range(len(n)):\n",
    "        s = s + int(n[i])\n",
    "    return s"
   ]
  },
  {
   "cell_type": "markdown",
   "metadata": {},
   "source": [
    "1. Exécuter **à la main (sans ordinateur)** l'appel `mystere(63847)`. Pour cela, il faut dresser un tableau regroupant les valeurs successives de `i` et `s`\n",
    "\n",
    "\n",
    "2. Vérifier en exécutant l'appel `mystere(63847)` en mode debug sous Thonny ou avec pythontutor\n",
    "\n",
    "\n",
    "3. Maintenant que l'on a découvert le fonctionnement de la fonction, plutôt que \"mystere\" comment pourrait-on mieux nommer cette fonction ?\n",
    "\n",
    "\n",
    "4. Ecrire le code d'une fonction `produitChiffres` qui :\n",
    "    * prend un entier n en **paramètre**\n",
    "    * **renvoie** le produit de tous les chiffres de n\n",
    "*(Indication : on pourra s'inspirer du code de `mystere`)*\n",
    "\n",
    "Des exemples d'appel de cette fonction sont donnés ci-dessous :"
   ]
  },
  {
   "cell_type": "code",
   "execution_count": 2,
   "metadata": {},
   "outputs": [
    {
     "data": {
      "text/plain": [
       "24"
      ]
     },
     "execution_count": 2,
     "metadata": {},
     "output_type": "execute_result"
    }
   ],
   "source": [
    "produitChiffres(4132)"
   ]
  },
  {
   "cell_type": "code",
   "execution_count": 3,
   "metadata": {},
   "outputs": [
    {
     "data": {
      "text/plain": [
       "0"
      ]
     },
     "execution_count": 3,
     "metadata": {},
     "output_type": "execute_result"
    }
   ],
   "source": [
    "produitChiffres(9045)"
   ]
  },
  {
   "cell_type": "markdown",
   "metadata": {},
   "source": [
    "# Exercice 8 : niveau intermédiaire\n",
    "\n",
    "Ecrire le code d'une fonction `verlan` qui :\n",
    "* prend une chaîne de caractères en **paramètre**\n",
    "* **renvoie** la chaîne de caractères écrite à l'envers\n",
    "    \n",
    "*(Indication : on pourra partir d'une chaîne de caractère vide et la construire au fur et à mesure qu'on parcourt la chaîne passée en paramètre. L'opérateur de **concaténation** peut être utile.... (voir `/premiere/bloc6/initiation_a_python/Cours_Variables_et_types_simples_en_python .ipynb`))*\n",
    "\n",
    "Des exemples d'appel de cette fonction sont donnés ci-dessous :"
   ]
  },
  {
   "cell_type": "code",
   "execution_count": 28,
   "metadata": {},
   "outputs": [
    {
     "data": {
      "text/plain": [
       "'nohtyP'"
      ]
     },
     "execution_count": 28,
     "metadata": {},
     "output_type": "execute_result"
    }
   ],
   "source": [
    "verlan(\"Python\")"
   ]
  },
  {
   "cell_type": "code",
   "execution_count": 11,
   "metadata": {},
   "outputs": [
    {
     "data": {
      "text/plain": [
       "\"Programmer c'est debugger !\""
      ]
     },
     "execution_count": 11,
     "metadata": {},
     "output_type": "execute_result"
    }
   ],
   "source": [
    "verlan(\"! reggubed tse'c remmargorP\")"
   ]
  },
  {
   "cell_type": "markdown",
   "metadata": {},
   "source": [
    "# Exercice 9 : niveau intermédiaire"
   ]
  },
  {
   "cell_type": "code",
   "execution_count": null,
   "metadata": {},
   "outputs": [],
   "source": [
    "def repetition(chaine,n):\n",
    "    m = \"\"\n",
    "    for c in chaine:\n",
    "        "
   ]
  },
  {
   "cell_type": "markdown",
   "metadata": {},
   "source": [
    "Compléter le code de la fonction `repetition` qui permet de **renvoyer** une chaîne de caractère dont chaque caractère est répété n fois. Ainsi dans l'appel ci-dessous, chaque lettre du mot Python est répétée 4 fois"
   ]
  },
  {
   "cell_type": "code",
   "execution_count": 26,
   "metadata": {},
   "outputs": [
    {
     "data": {
      "text/plain": [
       "'PPPPyyyytttthhhhoooonnnn'"
      ]
     },
     "execution_count": 26,
     "metadata": {},
     "output_type": "execute_result"
    }
   ],
   "source": [
    "repetition(\"Python\",4)"
   ]
  },
  {
   "cell_type": "markdown",
   "metadata": {},
   "source": [
    "# Exercice 10 : niveau intermédiaire\n",
    "\n",
    "> Un **nombre premier** est un entier naturel qui n'admet que deux diviseurs distincts entiers et positifs (1 et lui-même). Par définition 1 n'est pas *premier*.  \n",
    "Ainsi, parmi les entiers inférieurs à 30 :  2, 3, 5, 7, 11, 13, 17, 19, 23, 29 sont des nombres premiers\n",
    "\n",
    "Ecrire une **fonction prédicat** `est_premier` qui prend un entier en **paramètre** et qui **renvoie** un booléen selon que ce nombre est premier ou pas. Tester votre fonction à l’aide de ce [site](https://www.nombres-premiers.fr/liste.html). N'oublier pas de tester votre fonction pour l'entier 1 et 2....\n",
    "\n",
    "*Indications :*\n",
    "* *Pour savoir si $x$ est un nombre premier, une méthode consiste à tester la divisibilité de $x$ par tous les entiers inférieurs à $x$.* \n",
    "* *L'opérateur `%` (voir `/premiere/bloc6/initiation_a_python/Cours_Variables_et_types_simples_en_python .ipynb`) est utile pour tester la divisibilité...)*\n",
    "\n",
    "Des exemples d'appel de cette fonction sont donnés ci-dessous :"
   ]
  },
  {
   "cell_type": "code",
   "execution_count": 9,
   "metadata": {},
   "outputs": [
    {
     "data": {
      "text/plain": [
       "False"
      ]
     },
     "execution_count": 9,
     "metadata": {},
     "output_type": "execute_result"
    }
   ],
   "source": [
    "est_premier(8)"
   ]
  },
  {
   "cell_type": "code",
   "execution_count": 10,
   "metadata": {},
   "outputs": [
    {
     "data": {
      "text/plain": [
       "True"
      ]
     },
     "execution_count": 10,
     "metadata": {},
     "output_type": "execute_result"
    }
   ],
   "source": [
    "est_premier(11)"
   ]
  }
 ],
 "metadata": {
  "kernelspec": {
   "display_name": "Python 3",
   "language": "python",
   "name": "python3"
  },
  "language_info": {
   "codemirror_mode": {
    "name": "ipython",
    "version": 3
   },
   "file_extension": ".py",
   "mimetype": "text/x-python",
   "name": "python",
   "nbconvert_exporter": "python",
   "pygments_lexer": "ipython3",
   "version": "3.8.10"
  }
 },
 "nbformat": 4,
 "nbformat_minor": 4
}
