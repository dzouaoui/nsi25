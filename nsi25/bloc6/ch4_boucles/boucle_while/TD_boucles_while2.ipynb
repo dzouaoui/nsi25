{
 "cells": [
  {
   "cell_type": "markdown",
   "metadata": {},
   "source": [
    "# Exercice 1\n",
    "On considère la fonction `affiche` ci-dessous prenant une liste en paramètre"
   ]
  },
  {
   "cell_type": "code",
   "execution_count": 3,
   "metadata": {},
   "outputs": [],
   "source": [
    "def affiche(liste):\n",
    "    for i in range(len(liste)):\n",
    "                   print(liste[i])"
   ]
  },
  {
   "cell_type": "markdown",
   "metadata": {},
   "source": [
    "1. Sans utiliser l'ordinateur, prédire l'affichage obtenu en exécutant `affiche([6, 1, 4, 9])`\n",
    "2. Tester votre réponse avec thonny et préciser s'il s'agit d'un parcours par éléments ou par indices\n",
    "3. On souhaite écrire la fonction `affiche` mais cette fois-ci avec une boucle `while`. Pour cela recopier et compléter l'algorithme suivant :\n",
    "    * Etape 0 : Commencer à l'indice ...\n",
    "    * Etape 1 : TANT QUE l'indice est inférieur ou égal à ...., on affiche l'élément situé à cet indice\n",
    "    * Etape 2 : On passe à l'indice suivant et on repart à l'étape 2\n",
    "4. Traduire l'algorithme de la question 3 en code python pour créer la nouvelle fonction `affiche` utilisant une boucle `while`\n",
    "5. Tester votre code, y compris en mode pas à pas pour bien comprendre le processus"
   ]
  },
  {
   "cell_type": "markdown",
   "metadata": {},
   "source": [
    "# Exercice 2\n",
    "\n",
    "On considère la fonction `mystere` ci-dessous prenant une liste en paramètre."
   ]
  },
  {
   "cell_type": "code",
   "execution_count": null,
   "metadata": {},
   "outputs": [],
   "source": [
    "def mystere(liste):\n",
    "    res = liste[0]\n",
    "    for e in liste:\n",
    "        if e < res :\n",
    "            res = e\n",
    "    return res"
   ]
  },
  {
   "cell_type": "markdown",
   "metadata": {},
   "source": [
    "1. **Sans utiliser l'ordinateur**, exécuter à la main l'appel `mystere([6, 1, 4, 9])` et compléter le tableau ci-dessous montant l'évolution des variables `res` et `e` (on fera une nouvelle ligne avant chaque tour de boucle)\n",
    "\n",
    "| |`res`|`e`|\n",
    "|:-:|:-:|:-:|\n",
    "|avant la boucle|...|`e` n'existe pas encore|\n",
    "|après premier tour de boucle|...|...|\n",
    "|après deuxième tour de boucle|...|...|\n",
    "|...|...|...|\n",
    "\n",
    "2. Exécuter avec l'ordinateur l'appel `mystere([6, 1, 4, 9])` pour vérifier votre réponse à la question précédente\n",
    "\n",
    "3. **Sans utiliser l'ordinateur**, prédire le résultat de l'appel `mystere([8, 5, 3, 14, 2, 4])`. En déduire le rôle de la fonction `mystere`\n",
    "\n",
    "4. On souhaite réécrire la fonction `mystere` en remplaçant la boucle `for` par une boucle `while`. Pour cela, écrire un algorithme (en français) utilisant le mot **TANT QUE** ayant le même rôle que la fonction `mystere`. On pourra s'inspirer de l'exercice précédent.\n",
    "\n",
    "5. A l'aide de la question précédente, réécrire le code de la fonction `mystere` en remplaçant la boucle `for` par une boucle `while`. Tester"
   ]
  },
  {
   "cell_type": "markdown",
   "metadata": {},
   "source": [
    "| |`res`|`e`|\n",
    "|:-:|:-:|:-:|\n",
    "|avant la boucle|6|`e` n'existe pas encore|\n",
    "|après premier tour de boucle|6|6|\n",
    "|après deuxième tour de boucle|1|1|\n",
    "|après troisième tour de boucle|1|4|\n",
    "|après quatrième tour de boucle|1|9|\n"
   ]
  },
  {
   "cell_type": "markdown",
   "metadata": {},
   "source": [
    "# Exercice 3 :\n",
    "\n",
    "Voici un algorithme :\n",
    "```\n",
    "    N prend la valeur 0    \n",
    "    Tant que N < 10\n",
    "        Afficher N   \n",
    "        N prend la valeur N + 2\n",
    "    Fin Tant que\n",
    "```\n",
    "1.  Traduire cet algorithme en langage Python. Qu’affiche-t-il ?\n",
    "\n",
    "2. Ecrire en français un algorithme qui affiche la liste des nombres entiers impairs compris entre 61 et 100.\n",
    "\n",
    "3. Traduire l'algorithme de la question précédente en langage Python"
   ]
  },
  {
   "cell_type": "markdown",
   "metadata": {},
   "source": [
    "# Exercice 4\n",
    "Soit la fonction: \n",
    "```python\n",
    "def decroissant_for(n):\n",
    "    for i in range(...):\n",
    "        print(i, end='  ')\n",
    "```\n",
    "Cette fonction prend en paramètre un entier naturel `n` et affiche tous les nombres naturels en sens décroissant de n à 1 comme dans l'exemple ci-dessous:\n",
    "\n",
    "```python\n",
    ">>> decroissant_for(6)\n",
    ">>> 6 5 4 3 2 1\n",
    "```\n",
    "1. Compléter la fonction *decroissant_for*.\n",
    "2. Réécrire la fonction *decroissant_while*. Pour cela, supprimer la boucle `for` et la remplacer par une boucle `while`\n",
    "\n",
    "```python\n",
    ">>> decroissant_while(6):\n",
    ">>> 6 5 4 3 2 1\n",
    "\n",
    "```\n"
   ]
  },
  {
   "cell_type": "markdown",
   "metadata": {},
   "source": [
    "# Exercice 5\n",
    "\n",
    "Soient les deux fonctions suivantes :\n",
    "\n",
    "  -------\n",
    "\n",
    "```python \n",
    "def somme1(n1, n2):\n",
    "    S = 0\n",
    "    k = n1\n",
    "    while k < n2:\n",
    "        S = S + k\n",
    "        k = k + 1\n",
    "    return(S)\n",
    "```\n",
    "------\n",
    "```python\n",
    "def somme2(n1, n2):\n",
    "    S = 0\n",
    "    k = n1\n",
    "    while k < n2:\n",
    "        k = k + 1\n",
    "        S = S + k\n",
    "    return(S)\n",
    "```\n",
    "-------\n",
    "\n",
    "1. **Sans utiliser l'ordinateur**, exécuter à la main l'appel `somme1(1, 5)` et compléter le tableau ci-dessous montant l'évolution des variables `S` et `k` (on fera une nouvelle ligne avant chaque tour de boucle)\n",
    "\n",
    "| |`S`|`k`|\n",
    "|:-:|:-:|:-:|\n",
    "|avant la boucle|...|...|\n",
    "|après premier tour de boucle|...|...|\n",
    "|après deuxième tour de boucle|...|...|\n",
    "|...|...|...|\n",
    "\n",
    "2. Vérifier votre résultat de la question précédente en utilisant Thonny en mode pas pas pas\n",
    "\n",
    "3. Refaire les deux questions précédentes pour l'appel `somme2(1, 5)`\n",
    "\n",
    "4. Réécrire ces deux fonctions en remplaçant la boucle `while` par une boucle `for`\n"
   ]
  },
  {
   "cell_type": "markdown",
   "metadata": {},
   "source": [
    "# Exercice 6\n",
    "\n",
    "1. Ecrire un algorithme en français faisant apparaître un **TANT QUE** permettant d'inverser l'ordre des chiffres à l'envers (par exemple, passer de `7295` à `5927` \n",
    "\n",
    "2. A l'aide de la question précédente écrire une fonction `nombre_alenvers` qui prend en paramètre un entier naturel `n` et qui retourne le nombre écrit de droite à gauche. On utilisera une boucle `while`\n",
    "\n",
    "```python\n",
    ">>> nombre_alenvers(1234)\n",
    ">>> 4321\n",
    "```\n",
    "\n",
    "3. Un nombre palindrome est un nombre qui est identique à lui-même écrit à l'envers. Ecrire une fonction `est_palindrome` qui prend un nombre en paramètre et renvoie le booléen `True` si ce nombre est un bombre palindrome et `False` sinon.\n",
    "\n",
    "```python\n",
    ">>> est_palindrome(1234)\n",
    ">>> False\n",
    ">>> est_palindrome(121)\n",
    ">>> True\n",
    "```\n"
   ]
  },
  {
   "cell_type": "markdown",
   "metadata": {},
   "source": [
    "# Exercice 7\n",
    "\n",
    "Alexia s’installe dans un appartement un 1er janvier.\n",
    "    Le loyer mensuel s’élève à 700 euros et le propriétaire prévoit d’augmenter le loyer de 1,5% chaque année.\n",
    "Alexia souhaite quitter l’appartement juste avant que le loyer ne dépasse 800 euros.\n",
    "\n",
    "1. Compléter l’algorithme ci-dessous afin qu’il affiche le nombre d’années où Alexis restera dans cet appartement. \n",
    "\n",
    "### Algorithme :\n",
    "\n",
    "    L prend la valeur 700\n",
    "    N prend la valeur 0\n",
    "    Tant que .........\n",
    "        L.............\n",
    "        N ............\n",
    "    Fin Tant que\n",
    "    Affiher N\n",
    "\n",
    "2. Que faut-il rajouter dans cet algorithme pour qu’il affiche aussi la somme totale qu’Alexia aura versée au propriétaire de son appartement depuis son installation ?\n",
    "3. Traduire cet algorithme en Python."
   ]
  },
  {
   "cell_type": "markdown",
   "metadata": {},
   "source": [
    "# Exercice 8\n",
    "\n",
    "Un nombre entier naturel est dit premier s'il est uniquement divisible par 1 et lui même.\n",
    "1. Sur feuille, écrire un algorithme en pseudo code qui détermine si un entier naturel est premier.\n",
    "2. En utilisant l'instruction while, écrire une fonction `est_premier` qui prend en paramètre un entier naturel et retourne le booléen `True` si cet entier est premier et `False` sinon. \n",
    "\n",
    "```python\n",
    ">>> est_premier(7)\n",
    ">>> True\n",
    ">>> est_premier(8)\n",
    ">>> False\n",
    ">>> est_premier(2)\n",
    ">>> True\n",
    ">>> est_premier(1)\n",
    ">>> False\n",
    "```\n",
    "\n",
    "3. Ecrire une fonction `k_premiers` qui prend en paramètre un entier k et affiche les k premiers nombres premiers.\n",
    "\n",
    "```python\n",
    ">>> k_premiers(3)\n",
    ">>> 2 3 5\n",
    ">>> k_premiers(5)\n",
    ">>> 2 3 5 7 11\n",
    "```"
   ]
  },
  {
   "cell_type": "markdown",
   "metadata": {},
   "source": [
    "\n",
    "# Exercice 9\n",
    "Le but de cet exercice est de chercher la présence d'un caractère c dans une chaine s.\n",
    "\n",
    "1. Ecrire en français un algorithme ( faisaint intervenir un \"tant que\") qui cherche la présence d'un caractère c donné dans une chaine de caractères donnée s.\n",
    "2. Compléter la fonction  en python ci-dessous pour traduire l'algorithme proposé.\n",
    "\n",
    "```python\n",
    "def est_present(c,s):\n",
    "    \"\"\"\n",
    "    recherche le caractère c dans la chaine de caractères s   \n",
    "    c(str) le caractère à chercher\n",
    "    s(str) la chaine à tester\n",
    "    return (bool) : True si le caractère c est présent dans s et False sinon\n",
    "    \"\"\"\n",
    "```    \n",
    "\n",
    "Dans l'exécution, on doit obtenir :\n",
    "\n",
    "```python\n",
    "    >>> est_present('t','python')\n",
    "    True\n",
    "    >>> est_present('z',\"je ne trouve pas\")\n",
    "    False\n",
    "    >>> est_present('a','')\n",
    "    False\n",
    "```\n"
   ]
  },
  {
   "cell_type": "markdown",
   "metadata": {},
   "source": [
    "# Exercice 10\n",
    "\n",
    "On considère l'algorithme de Syracuse suivant : Prendre un nombre entier:\n",
    "\n",
    "- Si ce nombre est pair, le diviser par 2.\n",
    "- Si ce nombre est impair, prendre le triple et ajouter 1.\n",
    "On obtient un nouveau nombre entier et on recommence.\n",
    "\n",
    "La conjecture de Syracuse dit qu’à la fin, on obtient toujours 1.\n",
    "Vous pouvez consulter \n",
    "[wikipedia](https://fr.wikipedia.org/wiki/Conjecture_de_Syracuse)  ou [la vidéo](https://www.youtube.com/watch?v=aRe4ARtQiJY)\n",
    "\n",
    "On peut définir aussi :\n",
    "\n",
    "* Le **temps de vol** est le nombre de tours de boucle pour arriver à 1.\n",
    "* L'**altitude** est le plus grand nombre parmi tous les nombres générés par l'algorithme de Syracuse.\n",
    "\n",
    "**Exemple :** Pour n = 3, la suite de syracuse est:\n",
    "\n",
    "3 - 10 - 5 - 16 - 8 - 4 - 2 - 1\n",
    "\n",
    "Le temps du vol pour 3 est de 7 et son altitude maximale est de 16\n",
    "\n",
    "1. Ecrire une fonction _syracuse_ qui prend comme paramètre un entier naturel non nul et qui affiche les nombres générés par l'algorithme de Syracuse.\n",
    "2. Compléter la fonction _syracuse_ pour afficher en plus le temps de vol et l'altitude de la suite. \n"
   ]
  }
 ],
 "metadata": {
  "kernelspec": {
   "display_name": "Python 3",
   "language": "python",
   "name": "python3"
  },
  "language_info": {
   "codemirror_mode": {
    "name": "ipython",
    "version": 3
   },
   "file_extension": ".py",
   "mimetype": "text/x-python",
   "name": "python",
   "nbconvert_exporter": "python",
   "pygments_lexer": "ipython3",
   "version": "3.10.6"
  },
  "latex_envs": {
   "LaTeX_envs_menu_present": true,
   "autoclose": false,
   "autocomplete": true,
   "bibliofile": "biblio.bib",
   "cite_by": "apalike",
   "current_citInitial": 1,
   "eqLabelWithNumbers": true,
   "eqNumInitial": 1,
   "hotkeys": {
    "equation": "Ctrl-E",
    "itemize": "Ctrl-I"
   },
   "labels_anchors": false,
   "latex_user_defs": false,
   "report_style_numbering": false,
   "user_envs_cfg": false
  }
 },
 "nbformat": 4,
 "nbformat_minor": 4
}
