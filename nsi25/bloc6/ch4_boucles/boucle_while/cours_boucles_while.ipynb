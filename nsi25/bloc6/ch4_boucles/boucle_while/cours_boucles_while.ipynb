{
 "cells": [
  {
   "cell_type": "markdown",
   "metadata": {},
   "source": [
    "# Cours : Boucle While "
   ]
  },
  {
   "cell_type": "markdown",
   "metadata": {},
   "source": [
    "## Exemples de référence pour une mise en situation\n",
    "- Donner un algorithme qui calcule la somme suivante:\n",
    "$$S = 1+2+\\dots+n$$\n",
    "- Soit N un entier donné. A partir de quel nombre n la somme S dépasse N. Donner un algorithme qui répond à la question.\n",
    "\n",
    "Exemple :\n",
    "\n",
    "$S = 1+2+3+4+5=15$\n",
    "\n",
    "Et pour $N=9$, on a $n=4$ car $S=1+2+3+4>N$"
   ]
  },
  {
   "cell_type": "markdown",
   "metadata": {},
   "source": [
    "## 1. Les boucles **tant que**\n",
    "\n",
    "Dans des séances précédantes, on a vu deux notions :\n",
    " - La boucle bornée **for** qui permet d'effectuer un nombre donné d'itérations;\n",
    " - l'enchaînement conditionnel **if** qui permet d'exécuter un bloc d'instructions. \n",
    " \n",
    "La boucle __Tant que__ est une combinaison de ces deux principes : on conditionne l'itération par un test effectué au début de la boucle. L'exécution de la séquence est soumise à une condtion appelée _test_ ou _garde_.\n",
    "\n",
    "Les boucles tant que permettent d’effectuer des itérations tant qu’une certaine condition est vérifiée.\n",
    "On ne connait pas le nombre d’iterations à effectuer, mais à chaque itération, on vérifie si la condition est vraie ou fausse. dès que cette condition est fausse, on sort de la boucle. "
   ]
  },
  {
   "cell_type": "markdown",
   "metadata": {},
   "source": [
    "<img src=\"/home/dzou/d23/d1nsi/nsi23/bloc6/ch4_boucles/boucle_while/img/fig1_logigramme.jpg\"/>"
   ]
  },
  {
   "cell_type": "markdown",
   "metadata": {},
   "source": [
    "### En pseudo code, on a \n",
    "<img src=\"img/fig2_pseudoCode.jpg\"/>"
   ]
  },
  {
   "cell_type": "markdown",
   "metadata": {},
   "source": [
    "## Algorithmes des exemples de référence\n",
    "On a :\n",
    "\n",
    "1- pour La somme des 5 premiers entiers naturels\n",
    "    <img src=\"img/fig3_exempleFor.jpg\"/>\n",
    "2- pour déterminer le plus petit entier naturel $n$ tel que la somme des $n$ entiers naturels non nuls dépassant un entier $N$ donné, on a l'algorithme suivant :\n",
    "    <img src=\"./img/fig4_exempleWhile.jpg\"/>"
   ]
  },
  {
   "cell_type": "markdown",
   "metadata": {},
   "source": [
    "## 2. Remarques importantes.\n",
    "\n",
    "__Trois critères__ pour bien écrire les boucles while :\n",
    "\n",
    "1. En général, il faut <font color='red'>initialiser la condition booléenne test</font>;\n",
    "2. Il faut que <font color='red'> le test soit vrai</font> avant d'entrer dans la boucle;\n",
    "3. A l'intérieur de la boucle il faut une instruction pour \"se rapprocher\" de <font color='red'> la condition test soit fausse </font>.\n",
    "\n",
    "\n",
    "Deux __pièges fréquents__ :\n",
    "1. La __divergence__ ou la __boucle infinie__: écrire une boucle TantQue dans laquelle le test ne devient jamais FAUX. C'est un programme dont l'exécution ne s'arrête jamais ! \n",
    "2. La __boucle inutile__ : écrire une structure TantQue dans laquelle le test n’est jamais VRAI. Les instructions écrites dans la boucle ne s'exécutent jamais !\n"
   ]
  },
  {
   "cell_type": "markdown",
   "metadata": {},
   "source": [
    "## 3. Dans le langage Python\n",
    "La syntaxe de la boucle `while` est :\n",
    "\n",
    " Instruction \n",
    "\n",
    " Instruction \n",
    "\n",
    " $\\color{green}{\\text{while}}$ booléen : \n",
    "\n",
    "    Instruction 1\n",
    "    ..... \n",
    "    Instruction n \n",
    "    \n",
    " Instruction $(n+1)$\n",
    "\n",
    " Instruction ...\n",
    " \n",
    "## Exemple"
   ]
  },
  {
   "cell_type": "code",
   "execution_count": 1,
   "metadata": {},
   "outputs": [
    {
     "name": "stdout",
     "output_type": "stream",
     "text": [
      "2\n",
      "4\n",
      "8\n",
      "16\n",
      "32\n",
      "64\n",
      "128\n"
     ]
    }
   ],
   "source": [
    "i = 2\n",
    "while i <= 200:\n",
    "    print(i)\n",
    "    i = 2*i"
   ]
  },
  {
   "cell_type": "markdown",
   "metadata": {},
   "source": [
    "https://pythontutor.com/visualize.html#code=i%20%3D%202%0Awhile%20i%20%3C%3D%20200%3A%0A%20%20%20%20print%28i%29%0A%20%20%20%20i%20%3D%202*i%0A%20%20%20%20&cumulative=false&curInstr=10&heapPrimitives=nevernest&mode=display&origin=opt-frontend.js&py=3&rawInputLstJSON=%5B%5D&textReferences=false\n"
   ]
  },
  {
   "cell_type": "markdown",
   "metadata": {},
   "source": [
    "<iframe width=\"800\" height=\"500\" frameborder=\"0\" src=\"https://pythontutor.com/iframe-embed.html#code=i%20%3D%202%0Awhile%20i%20%3C%3D%20200%3A%0A%20%20%20%20print%28i%29%0A%20%20%20%20i%20%3D%202*i&codeDivHeight=400&codeDivWidth=350&cumulative=false&curInstr=10&heapPrimitives=nevernest&origin=opt-frontend.js&py=3&rawInputLstJSON=%5B%5D&textReferences=false\"> </iframe>"
   ]
  },
  {
   "cell_type": "markdown",
   "metadata": {},
   "source": [
    "## Boucle while ou boucle for\n",
    "Lors de l'exécution de certaines boucles __while__, le nombre d'itérations peut être prévisible. Le programme suivant utilise 10 tours de boucles : "
   ]
  },
  {
   "cell_type": "code",
   "execution_count": 3,
   "metadata": {},
   "outputs": [
    {
     "name": "stdout",
     "output_type": "stream",
     "text": [
      "0 , 1 , 2 , 3 , 4 , 5 , 6 , 7 , 8 , 9 , "
     ]
    }
   ],
   "source": [
    "k = 0\n",
    "while k < 10:\n",
    "    print(k,', ', end = \"\")\n",
    "    k = k +1"
   ]
  },
  {
   "cell_type": "markdown",
   "metadata": {},
   "source": [
    "Le même résultat pourrait être obtenu avec une boucle __for__:"
   ]
  },
  {
   "cell_type": "code",
   "execution_count": 4,
   "metadata": {},
   "outputs": [
    {
     "name": "stdout",
     "output_type": "stream",
     "text": [
      "0 , 1 , 2 , 3 , 4 , 5 , 6 , 7 , 8 , 9 , "
     ]
    }
   ],
   "source": [
    "for k in range(10):\n",
    "    print(k, ', ', end = \"\")"
   ]
  },
  {
   "cell_type": "markdown",
   "metadata": {},
   "source": [
    "### Important \n",
    "Il est recommandé de préviligier la forme __for__ et de limiter l'usage de la boucle __while__ au cas dans lesquels on ne connait pas à l'avance le nombre d'itérations ou les valeurs de la variable de boucle."
   ]
  },
  {
   "cell_type": "markdown",
   "metadata": {},
   "source": [
    "## Exemples de référence\n",
    "Dans les exemples de référence, la traduction en Python donne :\n",
    "\n",
    "a. Dans le premier cas :"
   ]
  },
  {
   "cell_type": "code",
   "execution_count": 3,
   "metadata": {},
   "outputs": [
    {
     "name": "stdout",
     "output_type": "stream",
     "text": [
      "S =  15\n"
     ]
    }
   ],
   "source": [
    "n = 5\n",
    "S = 0\n",
    "for k in range(n+1):\n",
    "    S = S+k\n",
    "print('S = ',S)"
   ]
  },
  {
   "cell_type": "markdown",
   "metadata": {},
   "source": [
    "b. Dans le deuxième cas, on a:"
   ]
  },
  {
   "cell_type": "code",
   "execution_count": 5,
   "metadata": {},
   "outputs": [
    {
     "name": "stdout",
     "output_type": "stream",
     "text": [
      "N =  9 , S = 10\n"
     ]
    }
   ],
   "source": [
    "N = 9\n",
    "n = 0\n",
    "S = 0\n",
    "while S < N :\n",
    "    n = n + 1\n",
    "    S = S + n\n",
    "print('N = ', N, ', S =', S)"
   ]
  },
  {
   "cell_type": "markdown",
   "metadata": {},
   "source": [
    "## 4. L'instruction break\n",
    "Considérons le problème suivant: On veut une fonction qui teste s'il existe deux éléments $a$ et $b$ dans une liste donnée dans cet ordre mais non forcément consécutifs. \n",
    "\n",
    "On cherche d'abord l'élément $a$ à partir du début de la liste nommée ma_liste, puis l'élément $b$ à partir de l'indice suivant celui auquel $a$ a été trouvé. La deuxième boucle n'effectuera aucun tour si $a$ n'a pas été trouvé. D'où le script :"
   ]
  },
  {
   "cell_type": "code",
   "execution_count": 6,
   "metadata": {},
   "outputs": [
    {
     "data": {
      "text/plain": [
       "True"
      ]
     },
     "execution_count": 6,
     "metadata": {},
     "output_type": "execute_result"
    }
   ],
   "source": [
    "def element_apres(a, b, ma_liste):\n",
    "    i = 0\n",
    "    while i < len(ma_liste):\n",
    "        if ma_liste[i] == a :\n",
    "            break\n",
    "        i = i + 1\n",
    "    while i < len(ma_liste):\n",
    "        if ma_liste[i] == b :\n",
    "            return True\n",
    "        i = i + 1\n",
    "    return False\n",
    "element_apres(1, 2, [2, 0, 3, 4, 1, 6, 2, 8, 9])\n"
   ]
  },
  {
   "cell_type": "markdown",
   "metadata": {},
   "source": [
    "On teste encore :"
   ]
  },
  {
   "cell_type": "code",
   "execution_count": 8,
   "metadata": {},
   "outputs": [
    {
     "data": {
      "text/plain": [
       "True"
      ]
     },
     "execution_count": 8,
     "metadata": {},
     "output_type": "execute_result"
    }
   ],
   "source": [
    "element_apres(4, 8, list(range(10)))"
   ]
  },
  {
   "cell_type": "markdown",
   "metadata": {},
   "source": [
    "ou encore"
   ]
  },
  {
   "cell_type": "code",
   "execution_count": 9,
   "metadata": {},
   "outputs": [
    {
     "data": {
      "text/plain": [
       "False"
      ]
     },
     "execution_count": 9,
     "metadata": {},
     "output_type": "execute_result"
    }
   ],
   "source": [
    "element_apres(4, 10, list(range(10)))"
   ]
  },
  {
   "cell_type": "code",
   "execution_count": null,
   "metadata": {},
   "outputs": [],
   "source": []
  }
 ],
 "metadata": {
  "author": "Boucle While en latex",
  "kernelspec": {
   "display_name": "Python 3",
   "language": "python",
   "name": "python3"
  },
  "language_info": {
   "codemirror_mode": {
    "name": "ipython",
    "version": 3
   },
   "file_extension": ".py",
   "mimetype": "text/x-python",
   "name": "python",
   "nbconvert_exporter": "python",
   "pygments_lexer": "ipython3",
   "version": "3.10.12"
  },
  "latex_envs": {
   "LaTeX_envs_menu_present": true,
   "autoclose": false,
   "autocomplete": true,
   "bibliofile": "biblio.bib",
   "cite_by": "apalike",
   "current_citInitial": 1,
   "eqLabelWithNumbers": true,
   "eqNumInitial": 1,
   "hotkeys": {
    "equation": "Ctrl-E",
    "itemize": "Ctrl-I"
   },
   "labels_anchors": false,
   "latex_user_defs": false,
   "report_style_numbering": false,
   "user_envs_cfg": false
  }
 },
 "nbformat": 4,
 "nbformat_minor": 4
}
