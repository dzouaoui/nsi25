{
 "cells": [
  {
   "cell_type": "markdown",
   "metadata": {},
   "source": [
    "> **AVERTISSEMENT :** Même si ce TP fait penser un problème de math (de niveau début de collège), **il ne faut pas le prendre comme un problème de math**. Ici l'objectif est de faire un peu de [programmation modulaire](https://fr.wikipedia.org/wiki/Programmation_modulaire) sur un cas très simple\n",
    "\n",
    "# Contexte\n",
    "\n",
    "**Problème :** Suite à un dégât des eaux chez un particulier un peintre se propose d'effectuer les réparations. Ces réparations seront-elles entièrement prises en charge par l'assurance qui dans son contrat \"offre\" un remboursement limite de **500€** (forfait) ?\n",
    "\n",
    "Pour établir son devis le peintre demande de lui faire un schèma de la pièce endommagée, notamment, la longueur et la largeur de la pièce.\n",
    "\n",
    "Voici le dessin que je lui ai fourni :\n",
    "<img src=\"appartement.jpg\" width=\"500px\">\n",
    "\n",
    "Voici le prix des fournitures de peinture que le peintre a l'habitude d'utiliser:\n",
    "- pot de peinture de 2,5L à 37,90€,\n",
    "- ruban de masquage de 5m à 2,85€,\n",
    "- bache de protection de 3m x 4m à 0,95€. "
   ]
  },
  {
   "cell_type": "markdown",
   "metadata": {},
   "source": [
    "# Première partie : module geometrie\n",
    "\n",
    "1. Télécharger le fichier `geometrie.py`\n",
    "2. Ouvrir le fichier `geometrie.py` et coder les 2 fonctions présentes :\n",
    " * aire, qui calcule l'aire d'un rectangle, pour une longueur et une largeur données,\n",
    " * perimetre, qui calcule le périmètre d'un rectangle, pour une longueur et une largeur données."
   ]
  },
  {
   "cell_type": "markdown",
   "metadata": {},
   "source": [
    "# Deuxième partie : module devis\n",
    "\n",
    "> Dans cette partie, la fonction `ceil` du module `math` sera très utile...\n",
    "\n",
    "1. Télécharger le fichier `devis.py`,\n",
    "2. Ouvrir le fichier et coder l'ensemble des fonctions présentes :\n",
    " * nombre_pots, qui calcule le nombre de pots nécessaires,\n",
    " * nombre_baches, qui calcule le nombre de bâches nécessaires\n",
    " * nombre_rubans, qui calcule le nombre de rubans nécessaires,\n",
    " * salaire_peintre, qui calcule le salaire du peintre,\n",
    " * est_reparation_couverte, qui indique si les réparations sont couvertes\n",
    " \n",
    "N.B : Pour coder les fonctions de ce module, il faut utiliser les fonctions codées dans le module `geometrie`. Bien sûr **il ne faut pas copier les fonctions du fichier `geometrie.py` dans le fichier `devis.py` mais faire des importations de module : c'est le but !!**"
   ]
  },
  {
   "cell_type": "markdown",
   "metadata": {},
   "source": [
    "# Troisième partie : assemblage\n",
    "\n",
    "1. Télécharger le fichier `degats.py`\n",
    "2. Exécuter le script. En l'état, ce script estime que le forfait d'assurance couvre les frais de réparation. Modifier le script pour qu'il ne prenne pas les valeurs estimées mais réelles (c'est-à-dire les valeurs de l'exécution des fonctions du module devis que vous avez codées.\n",
    "3. Après modification du script, Quelles sont les quantités de pots de peinture, rubans et bâches à acheter pour restaurer la pièce triangulaire ? Le forfait d'assurance de 500€ couvre-t-il les coûts de réparation de la pièce triangulaire ?\n",
    "\n",
    "**Encore une fois, le but est de faire des importations de module !!**"
   ]
  },
  {
   "cell_type": "markdown",
   "metadata": {},
   "source": [
    "# Quatrième partie : Erreur de plan\n",
    "\n",
    "Au départ, nous avons communiqué le plan de l'appartement, or le peintre ne souhaitait connaitre que les dimensions de la pièce à restaurer.\n",
    "\n",
    "Il se trouve que la pièce n'est pas rectangulaire mais triangulaire. C.f le plan suivant :\n",
    "<img src=\"salon.jpg\" width=\"500px\">\n",
    "\n",
    "1. Comment modifier judicieusement nos scripts et modules pour prendre en compte cette nouvelle information ?\n",
    "2. Créer un nouveau module `geometrie_triangle` qui va calculer les nouvelles aires et périmètres de la pièce ? Faut-il modifier les script `devis` et `degats` ? Si oui, quelles sont les modifications à apporter ?\n",
    "3. Quelles sont les quantités de pots de peinture, rubans et bâches à acheter pour restaurer la pièce triangulaire ? Le forfait d'assurance de 500€ couvre-t-il les coûts de réparation de la pièce triangulaire ?"
   ]
  },
  {
   "cell_type": "markdown",
   "metadata": {},
   "source": [
    "# Travail à rendre\n",
    "\n",
    "Dans un dossier `TP_programmation_modulaire` de votre _repository_ sur github déposer vos fichiers suivants :\n",
    "\n",
    "* geometrie.py\n",
    "* degats.py\n",
    "* devis.py\n",
    "* geometrie_triangle.py\n",
    "\n",
    "... bien sur le dossier `TP_programmation_modulaire` est rangé **au bon endroit** dans votre _repository_ (comme d'habitude!!)"
   ]
  },
  {
   "cell_type": "markdown",
   "metadata": {},
   "source": [
    "# Synthèse\n",
    "\n",
    "La programmation modulaire est très utile en projet. Par exemple, si ce projet devait être fait en binôme :\n",
    "1. On découpe le projet en fonction (brainstorming) : travail en binôme\n",
    "2. On répartit les fonctions à programmer : travail en binôme\n",
    "3. Un élève s'occupe du fichier `geometrie.py` et l'autre de `devis.py` : travail individuel\n",
    "4. On assemble le tout dans un programme principal `degats.py` : travail en binôme"
   ]
  }
 ],
 "metadata": {
  "kernelspec": {
   "display_name": "Python 3",
   "language": "python",
   "name": "python3"
  },
  "language_info": {
   "codemirror_mode": {
    "name": "ipython",
    "version": 3
   },
   "file_extension": ".py",
   "mimetype": "text/x-python",
   "name": "python",
   "nbconvert_exporter": "python",
   "pygments_lexer": "ipython3",
   "version": "3.10.6"
  }
 },
 "nbformat": 4,
 "nbformat_minor": 2
}
