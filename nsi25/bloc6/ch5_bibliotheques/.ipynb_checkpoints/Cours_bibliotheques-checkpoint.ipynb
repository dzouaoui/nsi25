{
 "cells": [
  {
   "cell_type": "markdown",
   "metadata": {},
   "source": [
    "# Python : les bibliothèques\n",
    "\n",
    "> Dans ce cours et d'une manière générale en python **bibliothèque** et **module** sont synonymes.\n",
    "\n",
    "\n",
    "## Intérêt des bibliothèques\n",
    "\n",
    "**Exemple :**\n",
    "Vous avez un projet : Vous avez une superbe idée de jeu vidéo [MMORPG](https://fr.wikipedia.org/wiki/Jeu_de_r%C3%B4le_en_ligne_massivement_multijoueur) qui se déroulerait en parallèle du monde réel. Reste plus qu'à programmer tout ça...\n",
    "\n",
    "1. La tâche est absolument immense, il faudra entre autres :\n",
    "    * Programmer la partie multimédia (graphismes, son, entrées au clavier, à la souris ou au joystick)\n",
    "    * Programmer la partie réseau et communication (Monter un serveur, une base de données des joueurs, utiliser des protocoles de communication, gérer la sécurité...)\n",
    "    * Utiliser un service de cartographie\n",
    "    \n",
    "    \n",
    "2. Mais en même temps, il est absolument certain que d'autres développeurs que vous ont déjà été confronté aux mêmes types de problèmes\n",
    "\n",
    "\n",
    "Pour autant que vous travaillez dans le [monde libre](https://fr.wikipedia.org/wiki/Logiciel_libre) plutôt que de vous enfermez dans le [monde prioritaire](https://fr.wikipedia.org/wiki/Logiciel_propri%C3%A9taire), vous aurez accès au travail d'autres développeurs qui seront très utiles pour votre projet.  En effet, au fil du temps, les développeurs ont développé et mis en commun des tas de **\"boîtes à outils\"** (contenant par exemple des fonctions) utiles dans tel ou tel domaine. Ces boîtes à outils sont appelées des **bibliothèques** ou des **modules**. Par exemple :\n",
    "\n",
    "* Pour la partie multimédia d'un jeu video, il existe par exemple le module `pygame`\n",
    "* Pour la partie réseau et communication, il existe par exemple le module `flask`\n",
    "* Pour le service de cartographie, il existe par exempl le module `folium`\n",
    "\n",
    "**Attention :** Il ne faut pas rêver, ces modules ne vont pas faire tout le travail : vous aurez encore un (gros) travail de programmation à faire pour réaliser votre jeu. Mais il sera grandement facilité en utilisant ce genre de modules.\n",
    "\n",
    "**Pour résumer, en programmation, utiliser des modules (on parle de [programmation modulaire](https://fr.wikipedia.org/wiki/Programmation_modulaire)) permet de ne pas sans arrêt [réinventer la roue](https://fr.wikipedia.org/wiki/R%C3%A9inventer_la_roue)**\n",
    "\n",
    "\n",
    "### Exemples"
   ]
  },
  {
   "cell_type": "markdown",
   "metadata": {},
   "source": [
    "* Votre programme nécessite d'afficher une carte. Exemple : une carte, dont le centre, est le lycée Jean Rostand, à Roubaix. : il existe le module `folium`"
   ]
  },
  {
   "cell_type": "code",
   "execution_count": 1,
   "metadata": {},
   "outputs": [
    {
     "ename": "ModuleNotFoundError",
     "evalue": "No module named 'folium'",
     "output_type": "error",
     "traceback": [
      "\u001b[0;31m---------------------------------------------------------------------------\u001b[0m",
      "\u001b[0;31mModuleNotFoundError\u001b[0m                       Traceback (most recent call last)",
      "\u001b[0;32m<ipython-input-1-c7a681a9e88e>\u001b[0m in \u001b[0;36m<module>\u001b[0;34m\u001b[0m\n\u001b[0;32m----> 1\u001b[0;31m \u001b[0;32mimport\u001b[0m \u001b[0mfolium\u001b[0m\u001b[0;34m\u001b[0m\u001b[0;34m\u001b[0m\u001b[0m\n\u001b[0m\u001b[1;32m      2\u001b[0m \u001b[0;34m\u001b[0m\u001b[0m\n\u001b[1;32m      3\u001b[0m \u001b[0mm\u001b[0m \u001b[0;34m=\u001b[0m \u001b[0mfolium\u001b[0m\u001b[0;34m.\u001b[0m\u001b[0mMap\u001b[0m\u001b[0;34m(\u001b[0m\u001b[0mlocation\u001b[0m\u001b[0;34m=\u001b[0m\u001b[0;34m[\u001b[0m\u001b[0;36m50.69555\u001b[0m\u001b[0;34m,\u001b[0m \u001b[0;36m3.1962\u001b[0m\u001b[0;34m]\u001b[0m\u001b[0;34m,\u001b[0m \u001b[0mzoom_start\u001b[0m\u001b[0;34m=\u001b[0m\u001b[0;36m22\u001b[0m\u001b[0;34m)\u001b[0m\u001b[0;34m\u001b[0m\u001b[0;34m\u001b[0m\u001b[0m\n\u001b[1;32m      4\u001b[0m \u001b[0;34m\u001b[0m\u001b[0m\n\u001b[1;32m      5\u001b[0m \u001b[0mfolium\u001b[0m\u001b[0;34m.\u001b[0m\u001b[0mMarker\u001b[0m\u001b[0;34m(\u001b[0m\u001b[0;34m[\u001b[0m\u001b[0;36m50.69555\u001b[0m\u001b[0;34m,\u001b[0m \u001b[0;36m3.1962\u001b[0m\u001b[0;34m]\u001b[0m\u001b[0;34m,\u001b[0m \u001b[0mtooltip\u001b[0m\u001b[0;34m=\u001b[0m\u001b[0;34m\"Nous sommes au Lycée Jean Rostand !\"\u001b[0m\u001b[0;34m)\u001b[0m\u001b[0;34m.\u001b[0m\u001b[0madd_to\u001b[0m\u001b[0;34m(\u001b[0m\u001b[0mm\u001b[0m\u001b[0;34m)\u001b[0m\u001b[0;34m\u001b[0m\u001b[0;34m\u001b[0m\u001b[0m\n",
      "\u001b[0;31mModuleNotFoundError\u001b[0m: No module named 'folium'"
     ]
    }
   ],
   "source": [
    "import folium\n",
    "\n",
    "m = folium.Map(location=[50.69555, 3.1962], zoom_start=22)\n",
    "\n",
    "folium.Marker([50.69555, 3.1962], tooltip=\"Nous sommes au Lycée Jean Rostand !\").add_to(m)\n",
    "\n",
    "m"
   ]
  },
  {
   "cell_type": "markdown",
   "metadata": {},
   "source": [
    " * Votre programme nécessite de faire des calculs mathématiques un peu plus élaborés : il existe le module `math`"
   ]
  },
  {
   "cell_type": "code",
   "execution_count": null,
   "metadata": {},
   "outputs": [],
   "source": [
    "import math\n",
    "\n",
    "# EXEMPLES D'UTILISATION DU MODULE MATH\n",
    "\n",
    "racine = math.sqrt(9) # Le module math contient la fonction sqrt pour calculer des racines carrées\n",
    "valeur = math.sin(math.pi/4) # Le module math contient la fonction sinus et le nombre pi\n",
    "print(racine)\n",
    "print(valeur)"
   ]
  },
  {
   "cell_type": "markdown",
   "metadata": {},
   "source": [
    "* Votre programme nécessite de faire de tracer des courbes : il existe le module `matplotlib`"
   ]
  },
  {
   "cell_type": "code",
   "execution_count": null,
   "metadata": {},
   "outputs": [],
   "source": [
    "import matplotlib.pyplot as plt\n",
    "\n",
    "x = [1, 3, 4, 6]\n",
    "y = [2, 3, 5, 1]\n",
    "plt.plot(x, y)\n",
    "plt.show()"
   ]
  },
  {
   "cell_type": "markdown",
   "metadata": {},
   "source": [
    "Une bibliothèque, c'est un ensemble de fonctions (mais pas seulement....). Nous n'avons pas besoin de réécrire ses fonctions, ni de les maintenir dans notre programme.\n",
    "\n",
    "Met en oeuvre le principe de la programmation **modulaire** :\n",
    "- Réutilisation de code existant\n",
    "- Facilitation de maintenance (il suffit de modifier une fois le code).\n",
    "\n",
    "Il existe des centaines de milliers de bibliothèques. Le site [PyPI](https://pypi.org/) en recense 207000.\n",
    "\n",
    "## Comment utiliser une bibliothèque ?\n",
    "\n",
    "1. Installer la bibliothèque sur sa machine, grâce à la commande shell suivante :\n",
    "```\n",
    "pip3 install <nom de la bibliothèque>\n",
    "```\n",
    "*Remarque* : Sous Thonny, la gestion des modules est indépendante de celle de la machine (voir `premiere/Outils_et_environnement_informatiques/Thonny.ipynb`)\n",
    "\n",
    "2. Importer la bibliothèque dans votre programme :\n",
    "```\n",
    "import <nom de la bibliothèque>\n",
    "```\n",
    "3. Pour utiliser les fonctions d'une bibliothèque, il faut les préfixer du nom de la bibliothèque avec un `.` au milieu\n",
    "```\n",
    "import folium\n",
    "m = folium.Map(location=[50.69555, 3.1962], zoom_start=22)\n",
    "```\n",
    "\n",
    "## Quelles sont les bibliothèques disponibles sur ma machine ?\n",
    "\n",
    "Pour connaitre les bibliothèques installés et disponibles, il faut saisir dans l'interpréteur Python, l'instruction :"
   ]
  },
  {
   "cell_type": "code",
   "execution_count": null,
   "metadata": {},
   "outputs": [],
   "source": [
    "help('modules')"
   ]
  },
  {
   "cell_type": "markdown",
   "metadata": {},
   "source": [
    "Lorsqu'on installe python, certaines bibliothèques, dites **bibliothèques natives**, sont aussi installées :\n",
    "\n",
    "| nom | Descriptif |\n",
    "| :-- | :--- |\n",
    "|random   | fonctions permettant de travailler avec des valeurs aléatoires |\n",
    "|math     | toutes les fonctions utiles pour les opérations mathématiques (cosinus,sinus,exp,etc.) |\n",
    "|sys      | fonctions systèmes |\n",
    "|os       | fonctions permettant d'interagir avec le système d'exploitation |\n",
    "|time     | fonctions permettant de travailler avec le temps |\n",
    "|calendar | fonctions de calendrier |\n",
    "|doctest  | fonctions permettant de manipuler le gestionnaire de tests |\n",
    "\n",
    "## Quelles sont les fonctions disponibles d'une bibliothèque ?\n",
    "\n",
    "Pour connaitre les fonctions disponibles, dans un module, il faut saisir dans l'interpréteur Python l'instruction `dir(nom_du_module)`. Par exemple pour le module `math` :"
   ]
  },
  {
   "cell_type": "code",
   "execution_count": null,
   "metadata": {},
   "outputs": [],
   "source": [
    "dir(math)"
   ]
  },
  {
   "cell_type": "markdown",
   "metadata": {},
   "source": [
    "La commande `help(nom_du_module.nom_de_la_fonction)` permet d'obtenir la documentation d'une fonction. Par exemple pour la fonction `sqrt` du module `math` :"
   ]
  },
  {
   "cell_type": "code",
   "execution_count": null,
   "metadata": {},
   "outputs": [],
   "source": [
    "help(math.sqrt)"
   ]
  },
  {
   "cell_type": "markdown",
   "metadata": {},
   "source": [
    "## Comment créer ses propres bibliothèques ?\n",
    "\n",
    "C'est très simple : Tout fichier python (d'extension `.py`) est un module !! \n",
    "\n",
    "### Activité\n",
    "\n",
    "* Ouvrir le fichier `vieScolaire.py`. On constate qu'il contient une fonction `moyenne`. \n",
    "\n",
    "* On peut donc utiliser ce module dans un autre programme (un autre fichier `.py`) en tappant dans Thonny :"
   ]
  },
  {
   "cell_type": "code",
   "execution_count": 3,
   "metadata": {},
   "outputs": [
    {
     "name": "stdout",
     "output_type": "stream",
     "text": [
      "11.0\n"
     ]
    }
   ],
   "source": [
    "import vieScolaire\n",
    "\n",
    "print(vieScolaire.moyenne([12,13,8,6,16]))"
   ]
  },
  {
   "cell_type": "markdown",
   "metadata": {},
   "source": [
    "* Mais attention le fichier `vieScolaire.py` doit être dans le même répertoire que là où on travaille !!\n",
    "\n",
    "## Que fait la primitive import ?\n",
    "\n",
    "### Activité\n",
    "\n",
    "Importons la bibliothèque `vieScolaire` dans le Shell Python de Thonny et regardons certains éléments :\n",
    "1. Que se passe-t-il dans la vue `variables` avant / après un import ?\n",
    "2. Que se passe-t-il dans la vue `variables` avant / après affectation de la valeur 12 à `vieScolaire` ?\n",
    "3. Que se passe-t-il dans la vue `variables` avant / après modification de la bibliothèque\n",
    "\n",
    "### Conclusion\n",
    "\n",
    "- Après un import, Python créé une variable ayant pour nom, le nom de la bibliothèque et de type `module`,\n",
    "- Comme toute variable, sa valeur peut être modifiée. Donc, **attention à la manipulation des variables !**\n",
    "- Si la bibliothèque est modifiée, les changements sont pris en compte au prochain `import nom_du_module`.\n",
    "\n",
    "### Activité\n",
    "\n",
    "Importons, de différentes manières, la bibliothèque `math` dans Thonny et regardons la vue `variables` :\n",
    "\n",
    "1. `import math`. Quelles sont les variables créées ? De quelle type ?\n",
    "2. `from math import cos, sqrt`. Quelles sont les variables créées ? De quelle type ?\n",
    "3. `from math import *`. Quelles sont les variables créées ? De quelle type ? (A part quelques cas particuliers, cette façon de faire l'importation est déconseillée)\n",
    "\n",
    "### Conclusion\n",
    "\n",
    "Il faut voir l'import d'une bibliothèque comme l'accès à une arborescence :\n",
    "\n",
    "![arborescence](img/arborescence.jpg)\n",
    "\n",
    "\n",
    "| instruction | commentaire |\n",
    "| :------ | :-------- |\n",
    "| <span style='color:red'>import math</span> | On a accès à la racine de l'arborescence (ici math). Pour accéder aux fonctions, il faut descendre dans l'arborescence (en utilisant un `.`). |\n",
    "| <span style='color:blue'>from math import *</span> | On est dans l'arborescence de math. Pour accéder aux fonctions, on utilise directement le nom des fonctions. |\n",
    "| <span style='color:green'>from math import cos, sqrt</span> | On est dans l'arboresence de math, mais filtrée. On a accès, qu'aux fonctions listées, directement par leurs noms. |\n",
    "\n",
    "## Alias\n",
    "\n",
    "Lorque le nom des bibliothèques est long, il peut être judicieux d'utiliser un **alias**, c'est-à-dire un nom symbolique représentant le module.\n",
    "\n",
    "Si le nom de la bibliothèque est suivi par `as`, alors le nom suivant as est directement lié à la bibliothèque importée. \n",
    "\n",
    "Pour utiliser les fonctions, on n'utilise plus le nom du module mais le nom symbolique associé."
   ]
  },
  {
   "cell_type": "code",
   "execution_count": 4,
   "metadata": {},
   "outputs": [
    {
     "name": "stdout",
     "output_type": "stream",
     "text": [
      "11.0\n"
     ]
    }
   ],
   "source": [
    "\n",
    "import  vieScolaire as vs\n",
    "\n",
    "print(vs.moyenne([12,13,8,6,16]))\n"
   ]
  },
  {
   "cell_type": "markdown",
   "metadata": {},
   "source": [
    "## Pense-bête\n",
    "\n",
    "| Quoi | Où | Comment |\n",
    "| :-- | :-- | :--- |\n",
    "| Installer une bibliothèque   | dans un shell | `pip3 install nom_de_la_bibliothèque` |\n",
    "| Lister les bibliothèques disponibles | dans l'interpréteur Python | `help('modules')` |\n",
    "| Charger une bibliothèque | dans un programme | <ul><li> `import nom_de_la_bibliothèque` </li><li>`from nom_de_la_bibliothèque import nom_de_la_fonction`</li><li>`from nom_de_la_bibliothèque import *`</li></ul> |\n",
    "| Lister les fonctions disponibles d'une bibliothèque | dans l'interpréteur Python | `dir(nom_de_la_bibliothèque)`|\n",
    "| Utiliser une fonction d'une bibliothèque | dans un programme | `nom_de_la_bibliothèque.nom_de_la_fonction`|\n",
    "| Utiliser un nom symbolique | dans un programme | `import nom_de_la_bibliothèque as nom_symbolique` |\n",
    "\n",
    "\n",
    "## Sécurité\n",
    "\n",
    "### Activité  \n",
    "\n",
    "**Copier le répertoire `pour_aller_plus_loin` dans un dossier non sensible**\n",
    "\n",
    "Regardons le contenu de la bibliothèque `inconnu` dans Thonny :\n",
    "1. Que fait la fonction `obtenir_message` ?\n",
    "2. Que fait la fonction `obtenir_autre_message` ?\n",
    "\n",
    "Dans un programme, importons la bibliothèque `inconnu`.\n",
    "\n",
    "3. Que se passe-t-il quand on exécute l'instruction `inconnu.obtenir_autre_message()` ? \n",
    "\n",
    "Dans un programme, importons la bibliothèque `math_facile` et testons...\n",
    "\n",
    "\n",
    "```python\n",
    "import math_facile\n",
    "\n",
    "help(math_facile)\n",
    "```\n",
    "\n",
    "```python\n",
    "math_facile.ajoute_un(0)\n",
    "```\n",
    "\n",
    "### Conclusion\n",
    "\n",
    "- Un module contient des instructions que nous n'avons pas forcément écrites,\n",
    "- Il est dangeureux d'importer un module inconnu,\n",
    "- Dans la mesure du possible :\n",
    "  - on importe que les fonctions identifiées et utiles (grâce à l'instruction `from nom_du_module_ import liste_de_fonctions_séparées_par_des_virgules`),\n",
    "  - on importe que des modules avec de la documentation,\n",
    "  - on consulte le contenu de la bibliothèque.\n",
    "  \n",
    "## Package\n",
    "\n",
    "Quand on a un grand nombre de bibliothèques, il peut être intéressant de les organiser dans des dossiers. Un dossier qui rassemble des bibliothèques est appelé un package (paquetage en français). Le nom du package est le même que celui du dossier.  \n",
    "Par exemple, imaginons un dossier `nsi` dans lequel on place le fichier `eleve.py`. La syntaxe pour importer le module `eleve` placé dans le dossier `nsi` est la suivante :\n",
    "\n",
    "```python\n",
    "import nsi.eleve\n",
    "\n",
    "nsi.eleve.une_fonction()\n",
    "```\n",
    "\n",
    "Là encore, la notation pointée permet de rendre compte de l'arborescence :\n",
    "\n",
    "* le fichier `eleve.py` est bien **dans** `nsi`\n",
    "* `une_fonction` est bien définie **dans** le fichier `eleve.py`, lui même **dans** le dossier `nsi`"
   ]
  }
 ],
 "metadata": {
  "kernelspec": {
   "display_name": "Python 3",
   "language": "python",
   "name": "python3"
  },
  "language_info": {
   "codemirror_mode": {
    "name": "ipython",
    "version": 3
   },
   "file_extension": ".py",
   "mimetype": "text/x-python",
   "name": "python",
   "nbconvert_exporter": "python",
   "pygments_lexer": "ipython3",
   "version": "3.8.10"
  }
 },
 "nbformat": 4,
 "nbformat_minor": 4
}
