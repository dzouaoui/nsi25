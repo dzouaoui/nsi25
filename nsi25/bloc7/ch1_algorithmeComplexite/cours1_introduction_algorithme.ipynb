{
 "cells": [
  {
   "cell_type": "markdown",
   "metadata": {},
   "source": [
    "# Qu'est-ce qu'un algorithme ?\n",
    "\n",
    "## Analogie\n",
    "\n",
    "Une recette de cuisine est un algorithme :\n",
    "1. Ajouter 200mL de lait\n",
    "2. Ajouter 100g de farine\n",
    "3. Mélanger\n",
    ".\n",
    ".\n",
    ".\n",
    "10. Tant que la pâte n'est pas levée:\n",
    "    Laisser au four à 200°C\n",
    "11. etc...\n",
    "\n",
    "## Définition plus rigoureuse\n",
    "\n",
    "**Un ALGORITHME est la suite d'INSTRUCTIONS ELEMENTAIRES permettant d'effectuer une TACHE SOUHAITEE en un TEMPS FINI**.\n",
    "\n",
    "Les **instructions élémentaires** sont celles directement liées à ce que la machine sait faire car elle possède les **structures matérielles** permettant de les réaliser (par exemple dans son **Unité arithmétique et logique**) :\n",
    "\n",
    "* Opérations mathématiques ou logiques, affectation (`3*5`, `a and b`, `a = 3`)\n",
    "* Tests (`if`)\n",
    "* Boucles (`for`, `while`)\n",
    "\n",
    "J'insiste : \n",
    "1. Ecrire un algorithme consiste à écrire (en français !!) de manière claire et précise la suite d'**instructions élémentaires** (et uniquement d'instructions élémentaires !!) permettant de réaliser la tâche souhaitée.\n",
    "2. Le seul matériel utile pour écrire un algotithme c'est du papier et un crayon. Surtout pas d'ordinateur : Ecrire un algorithme ne consiste pas à écrire du code python !!\n",
    "3. Une fois l'algorithme écrit, **nimporte qui** sans connaissance particulière, peut réaliser la tâche souhaitée en suivant l'algorithme\n",
    "4. Programmer c'est traduire un algotithme dans un langage informatique (par exemple en python)\n",
    "\n",
    "\n",
    "## Méthodologie du programmeur\n",
    "\n",
    "\"Je dois écrire un programme qui doit réaliser une tâche, pour cela je fais **dans l'ordre**\" :\n",
    "1. Je prends le temps de bien comprendre la tâche demandée\n",
    "2. je conçois l'algorithme (sans ordinateur !!)\n",
    "3. je \"traduis\" cet algorithme dans un langage informatique (python, javascipt etc...)\n",
    "4. je teste mon programme\n",
    "5. je corrige les bugs\n",
    "\n",
    "**La grosse erreur que les élèves font souvent, c'est de se jeter sur l'ordinateur pour écrire du code python sans passer par l'étape de réflexion avec un papier et un crayon**. Bref, de passer directement à l'étape 3 et de se trouver \"curieusement\" bloqué....\n",
    "\n",
    "\n",
    "# Astuces courantes utilisées dans les algorithmes\n",
    "\n",
    "... Quelques méthodes \"basiques\" couramment utilisées dans les algorithme\n",
    "\n",
    "## Parcourir les éléments VS parcourir les indices\n",
    "\n",
    "* Parcourir uniquement les indices quand vous avez besoin d'accéder aux indices dans l'algorithme\n",
    "* Il vaut mieux parcourir les éléments plutôt que les indices (structure plus efficace)"
   ]
  },
  {
   "cell_type": "code",
   "execution_count": 2,
   "metadata": {},
   "outputs": [
    {
     "name": "stdout",
     "output_type": "stream",
     "text": [
      "a\n",
      "b\n",
      "c\n",
      "d\n"
     ]
    }
   ],
   "source": [
    "# PARCOURS DES ELÉMENTS DE LA LISTE\n",
    "liste = ['a','b','c','d']\n",
    "for lettre in liste:\n",
    "    print(lettre)"
   ]
  },
  {
   "cell_type": "code",
   "execution_count": 5,
   "metadata": {},
   "outputs": [
    {
     "name": "stdout",
     "output_type": "stream",
     "text": [
      "0 a\n",
      "1 b\n",
      "2 c\n",
      "3 d\n"
     ]
    }
   ],
   "source": [
    "# PARCOURS DES INDICES DE LA LISTE\n",
    "liste = ['a','b','c','d']\n",
    "\n",
    "for i in range(len(liste)): # rappel : range(len(liste)) est équivalent à [0,1,2,3]\n",
    "    print(i, liste[i])"
   ]
  },
  {
   "cell_type": "markdown",
   "metadata": {},
   "source": [
    "## Les compteurs\n",
    "\n",
    "Un compteur est une variable (initialisée en dehors de la boucle, souvent à 0) et qui est incrémentée de 1 à chaque passage dans une boucle"
   ]
  },
  {
   "cell_type": "code",
   "execution_count": 10,
   "metadata": {
    "scrolled": true
   },
   "outputs": [
    {
     "name": "stdout",
     "output_type": "stream",
     "text": [
      "1\n",
      "2\n",
      "3\n",
      "4\n",
      "5\n",
      "6\n",
      "le nombre de caractères dans python est de : 6\n"
     ]
    }
   ],
   "source": [
    "compteur = 0 # Initialisation\n",
    "\n",
    "for lettre in \"python\":\n",
    "    compteur = compteur + 1 #Incrémentation\n",
    "    print(compteur)\n",
    "    \n",
    "print(\"le nombre de caractères dans python est de :\", compteur)"
   ]
  },
  {
   "cell_type": "markdown",
   "metadata": {},
   "source": [
    "## Les accumulateurs\n",
    "\n",
    "Un accumulateur est semblable à un compteur mais qui est incrémenté d'une valeur différente de 1 à chaque passage dans une boucle"
   ]
  },
  {
   "cell_type": "code",
   "execution_count": 6,
   "metadata": {},
   "outputs": [
    {
     "name": "stdout",
     "output_type": "stream",
     "text": [
      "0\n",
      "1\n",
      "3\n",
      "6\n",
      "10\n",
      "15\n",
      "la somme des entiers strictement inférieurs à 6 est de : 15\n"
     ]
    }
   ],
   "source": [
    "accumulateur = 0 # Initialisation\n",
    "for i in range(6):\n",
    "    accumulateur = accumulateur + i #Incrémentation\n",
    "    print(accumulateur)\n",
    "\n",
    "print(\"la somme des entiers strictement inférieurs à 6 est de :\", accumulateur)"
   ]
  }
 ],
 "metadata": {
  "kernelspec": {
   "display_name": "Python 3 (ipykernel)",
   "language": "python",
   "name": "python3"
  },
  "language_info": {
   "codemirror_mode": {
    "name": "ipython",
    "version": 3
   },
   "file_extension": ".py",
   "mimetype": "text/x-python",
   "name": "python",
   "nbconvert_exporter": "python",
   "pygments_lexer": "ipython3",
   "version": "3.8.10"
  },
  "latex_envs": {
   "LaTeX_envs_menu_present": true,
   "autoclose": false,
   "autocomplete": true,
   "bibliofile": "biblio.bib",
   "cite_by": "apalike",
   "current_citInitial": 1,
   "eqLabelWithNumbers": true,
   "eqNumInitial": 1,
   "hotkeys": {
    "equation": "Ctrl-E",
    "itemize": "Ctrl-I"
   },
   "labels_anchors": false,
   "latex_user_defs": false,
   "report_style_numbering": false,
   "user_envs_cfg": false
  }
 },
 "nbformat": 4,
 "nbformat_minor": 2
}
