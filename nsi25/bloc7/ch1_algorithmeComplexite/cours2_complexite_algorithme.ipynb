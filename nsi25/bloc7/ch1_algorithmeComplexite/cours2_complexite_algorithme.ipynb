{
 "cells": [
  {
   "cell_type": "markdown",
   "metadata": {},
   "source": [
    "# Notion de complexité ou de coût d'un algorithme\n",
    "\n",
    "Supposons qu'une machine doit effectuer une tâche, c'est-à-dire exécuter un algorithme : \n",
    "* Voulez-vous que la machine prenne beaucoup ou peu de temps pour effectuer la tâche ?\n",
    "* Voulez-vous que la machine nécessite beaucoup de mémoire pour effectuer la tâche ?\n",
    "\n",
    "Bien sûr, on préfère qu'un algorithme prenne peu de temps et nécessite peu de mémoire pour être exécuté par la machine !\n",
    "\n",
    "Pour un algorithme, on parle de **complexité** ou de **coût** et on distingue :\n",
    "\n",
    "* la **complexité spatiale** : permet de quantifier l'utilisation des ressources mémoire par l'algorithme\n",
    "* la **complexité temporelle** : permet de quantifier le temps d'exécution de l'algorithme\n",
    "\n",
    "... on n'abordera ici que la complexité temporelle !\n",
    "\n",
    "# Estimation du coût d'un algorithme\n",
    "\n",
    "Estimer la complexité algorithmique temporelle permet de comparer l’efficacité d’algorithmes résolvant le même problème. Dans une situation donnée, cela permet donc d’établir lequel des algorithmes disponibles s'exécutera le plus rapidement.\n",
    "\n",
    "Pour estimer la complexité en temps, on va **compter le nombre d’opérations élémentaires** (affectation, calcul arithmétique ou logique, comparaison…) effectuées par l’algorithme. Par soucis de simplicité, on fera l’hypothèse que **toutes les opérations élémentaires sont à égalité de coût**, soit 1 \"unité de temps\".\n",
    "\n",
    "**Exemple :** pour l'instruction `a = b * 3`, on a 2 opérations élémentaires (1 multiplication + 1 affectation). Cettes instruction consommera donc \"2 unités de temps\"\n",
    "\n",
    "La complexité en temps d’un algorithme dépend :\n",
    "\n",
    "* de la **taille des données** passées en paramètres (par exemple la longueur des listes): plus ces données seront volumineuses, plus il faudra d’opérations élémentaires pour les traiter. On notera `n` la taille des données à traiter (dans le cas de liste, `n` correspond à la longueur de la liste, c'est-à-dire le nombre d'éléments qu'elle contient).\n",
    "* de la façon dont sont réparties les différentes éléments qui constituent la liste. Par exemple, si on effectue une recherche séquentielle d’un élément dans une liste non triée, on parcourt un par un les éléments jusqu’à trouver, ou pas, celui recherché. Ce parcours peut s’arrêter dès le début si le premier élément est « le bon ». Mais on peut également être amené à parcourir la liste en entier si l’élément cherché est en dernière position, ou même n’y figure pas.\n",
    "\n",
    "Cette remarque nous conduit à préciser un peu notre définition de la complexité en temps. En toute rigueur, on peut en effet distinguer deux formes de complexité en temps :\n",
    "\n",
    "* la complexité dans le **meilleur des cas** : c’est la situation la plus favorable. Par exemple : recherche d’un élément situé à la première position d’une liste\n",
    "* la complexité dans le **pire des cas** : c’est la situation la plus défavorable. Par exemple : recherche d’un élément dans une liste alors qu’il n’y figure pas\n",
    "\n",
    "On calculera le plus souvent la complexité dans le pire des cas, car elle est la plus pertinente. Il vaut mieux en effet toujours envisager le pire.\n",
    "\n",
    "# Classe de complexité\n",
    "\n",
    "[](https://fr.wikipedia.org/wiki/Analyse_de_la_complexit%C3%A9_des_algorithmes)\n",
    "\n",
    "Pour comparer l'efficacité des algorithmes, il suffit de comparer leur classe de complexité. \n",
    "Ainsi un algorithme en $0(n)$ (de complexité linéaire) est meilleur qu'un algorithme en $0(n^2)$ (de complexité quadratique) car pour des très grands tableaux de données ($n\\rightarrow  \\infty$) il sera plus rapide\n",
    "\n",
    "|complexité algorithmique|type de complexité|\n",
    "|:-------------|:-|\n",
    "|$0(1)$|constante|\n",
    "|$0(log(n))$|logarithmique|\n",
    "|$0(n\\times log(n))$|linéarithmique|\n",
    "|$0(n)$|linéaire|\n",
    "|$0(n^2)$|quadratique|\n",
    "|$0(n^3)$|cubique|\n",
    "|$0(2^n)$|exponentielle|\n",
    "|$0(n!)$|factorielle|\n",
    "\n",
    "La recherche en informatique consiste à mettre au point des algorithmes \"dans le haut\" du tableau précédent\n",
    "\n",
    "![complexite](img/complexite.png)"
   ]
  }
 ],
 "metadata": {
  "kernelspec": {
   "display_name": "Python 3 (ipykernel)",
   "language": "python",
   "name": "python3"
  },
  "language_info": {
   "codemirror_mode": {
    "name": "ipython",
    "version": 3
   },
   "file_extension": ".py",
   "mimetype": "text/x-python",
   "name": "python",
   "nbconvert_exporter": "python",
   "pygments_lexer": "ipython3",
   "version": "3.8.10"
  },
  "latex_envs": {
   "LaTeX_envs_menu_present": true,
   "autoclose": false,
   "autocomplete": true,
   "bibliofile": "biblio.bib",
   "cite_by": "apalike",
   "current_citInitial": 1,
   "eqLabelWithNumbers": true,
   "eqNumInitial": 1,
   "hotkeys": {
    "equation": "Ctrl-E",
    "itemize": "Ctrl-I"
   },
   "labels_anchors": false,
   "latex_user_defs": false,
   "report_style_numbering": false,
   "user_envs_cfg": false
  }
 },
 "nbformat": 4,
 "nbformat_minor": 4
}
