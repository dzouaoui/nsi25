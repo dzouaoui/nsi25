{
 "cells": [
  {
   "cell_type": "markdown",
   "metadata": {},
   "source": [
    "# Problème du rendu de monnaie (niveau intermédiaire)\n",
    "\n",
    "## Problématique\n",
    "\n",
    "Dans un distributeur de boissons, le monnayeur utilise des pièces de 0,01 €, 0,02 €, 0,05 €, 0,10 €, 0,20 €, 0,50 €, 1 € et 2 €. **Comment rendre une somme donnée de façon optimale, c'est-à-dire avec le NOMBRE MINIMAL de pièces ?**\n",
    "\n",
    "Par exemple, la meilleure façon de rendre 5 € est de rendre deux pièces de 2 € et une pièce de 1 €, même si d'autres façons existent (rendre 5 pièces de 1€, par exemple).\n",
    "\n",
    "Ce problème est *NP-complet*, c'est-à-dire difficile à résoudre : il y a trop de possibilités à explorer dans une approche exhaustive (ou force brute). On se propose d'utiliser un algorithme glouton pour effectuer ce rendu de monnaie.\n",
    "\n",
    "L'heuristique mise en oeuvre est la suivante : **On considère les pièces par valeurs décroissantes. A chaque étape, on prend le plus grand nombre possible de pièces de la valeur considérée.**\n",
    "\n",
    "## Système monétaire européen\n",
    "\n",
    "On considère la liste de pièces suivantes, utilisées dans le système européen (exprimées en centimes) :"
   ]
  },
  {
   "cell_type": "code",
   "execution_count": 13,
   "metadata": {},
   "outputs": [],
   "source": [
    "# valeurs des pièces en centimes\n",
    "systeme_pieces = [200, 100, 50, 20, 10, 5, 2, 1]"
   ]
  },
  {
   "cell_type": "markdown",
   "metadata": {},
   "source": [
    "On suppose que le monnayeur **comporte autant de pièces que nécessaire. Autrement dit, pour chaque type de pièce la quantité disponible est supposée infinie**\n",
    "\n",
    "> L'algorithme glouton peut être écrit en français de la façon suivante :\n",
    "* Commencer par la plus grande pièce du systeme de pièce\n",
    "* **Tant qu'il** est possible de donner cette pièce, rendre cette pièce et recalculer le nouveau *reste à rendre*\n",
    "* **recommencer** l'opération précédente avec la pièce suivante\n",
    "\n",
    "> On souhaite écrire une fonction `rendu_monnaie`, mettant en oeuvre l'algorithme précédent et qui :\n",
    "* **prend** en paramètre le montant à rendre (en centimes) et la liste décroissante des pièces utilisées dans le système monétaire\n",
    "* **renvoie** la liste des pièces utilisées (en centimes).\n",
    "\n",
    "Voici quelques exemples d'appel de cette fonction :"
   ]
  },
  {
   "cell_type": "code",
   "execution_count": 16,
   "metadata": {},
   "outputs": [
    {
     "data": {
      "text/plain": [
       "[50, 5]"
      ]
     },
     "execution_count": 16,
     "metadata": {},
     "output_type": "execute_result"
    }
   ],
   "source": [
    "rendu_monnaie(55, systeme_pieces)"
   ]
  },
  {
   "cell_type": "code",
   "execution_count": 26,
   "metadata": {},
   "outputs": [
    {
     "data": {
      "text/plain": [
       "[20, 20, 2, 1]"
      ]
     },
     "execution_count": 26,
     "metadata": {},
     "output_type": "execute_result"
    }
   ],
   "source": [
    "rendu_monnaie(43, systeme_pieces)"
   ]
  },
  {
   "cell_type": "markdown",
   "metadata": {},
   "source": [
    "Q1. Ecrire la documentation de la fonction `rendu_monnaie` dans la **docstring** de celle-ci. Cette documentation doit comporter :\n",
    "* le rôle et un descriptif de la fonction\n",
    "* les paramètres utilisés et le résultat renvoyé\n",
    "* préciser les types des paramètres et du résultat\n",
    "* Il y a une **précondition**. Laquelle? ajoutez-la dans la doctring\n",
    "\n",
    "> Ouvrir le cours sur la mise au point de programme (bloc6) et relire la partie sur le module `doctest`\n",
    "\n",
    "Q2. Ajouter 3 tests à la docstring en utilisant :\n",
    "* les 2 exemples d'appel ci-dessus \n",
    "* un test supplémentaire à proposer\n",
    "\n",
    "Q3. Ecrire le corps de la fonction `rendu_monnaie` en vous aidant de l'algorithme proposé ci-dessus.  \n",
    "Q4. Afficher le mode **bavard** de la fonction `testmod` afin d'afficher le compte rendu des tests.  \n",
    "Q5. Corriger votre code si les tests ne sont pas passés avec succès !  \n",
    "Q6. Réaliser quelques tests (c'est-à-dire des appels) de la fonction `rendu_monnaie`. La solution renvoyée par l'algorithme glouton vous semble t'il optimal ?\n",
    "\n",
    "## Voyage en InfoLand\n",
    "\n",
    "En Infoland, l’unité de monnaie est l’Ada (symbole A) et le système de monnaie ne comporte que des pièces de 1 A, 3 A,\n",
    "4 A, 10 A, 30 A, 40 A, 100 A.\n",
    "\n",
    "1. Comment rendre de manière optimale 12 A? 5 A? 24 A? 6 A?\n",
    "2. Réaliser quelques tests (c'est-à-dire des appels) de la fonction `rendu_monnaie` dans ce nouveau système monétaire\n",
    "3. D’après vos observations, les solutions proposées sont-elles celles qui minimisent le nombre de pièces rendues ?\n",
    "\n",
    "\n",
    "## Bilan\n",
    "\n",
    "Q1. Quel critère local a-t-on appliqué à chaque étape de la fonction rendu_monnaie ?   \n",
    "Q2. Quel critère global a-t-on cherché à satisfaire dans le problème du rendu de monnaie ?  \n",
    "\n",
    "> Un système monétaire est dit **canonique** si l l'algorithme glouton de rendu de monnaie donne **toujours** une solution optimale\n",
    "\n",
    "Q3. Le système monétaire en InfoLand est-il canonique ? et le système européen ?\n",
    "\n",
    "*Un peu de rigueur scientifique : Constater qu'un algorithme glouton donne un résultat optimal sur quelques essais comme on vient de le faire n'est bien sûr pas suffisant pour dire que le système est canonique. Il faudrait en faire la démonstration (hors programme)*\n",
    "\n",
    "## Pour aller plus loin\n",
    "\n",
    "On suppose maintenant que la quantité des pièces disponibles dans le monnayeur est en quantité limitée...\n",
    "\n",
    "**Idée** : utiliser la structure suivante\n",
    "\n",
    "systeme_pieces = {200:quantité, 100:quantité, ... }"
   ]
  }
 ],
 "metadata": {
  "kernelspec": {
   "display_name": "Python 3",
   "language": "python",
   "name": "python3"
  },
  "language_info": {
   "codemirror_mode": {
    "name": "ipython",
    "version": 3
   },
   "file_extension": ".py",
   "mimetype": "text/x-python",
   "name": "python",
   "nbconvert_exporter": "python",
   "pygments_lexer": "ipython3",
   "version": "3.10.12"
  }
 },
 "nbformat": 4,
 "nbformat_minor": 4
}
