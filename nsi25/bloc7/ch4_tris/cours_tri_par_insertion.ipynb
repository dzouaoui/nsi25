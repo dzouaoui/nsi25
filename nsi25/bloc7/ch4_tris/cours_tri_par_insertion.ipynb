{
 "cells": [
  {
   "cell_type": "markdown",
   "metadata": {},
   "source": [
    "> Dans ce cours, on ne parle que du tri d'entiers par valeurs croissantes. Il faudra se référer aux exercices pour voir quelques adaptations de ce tri à d'autres situations\n",
    "\n",
    "\n",
    "# Principe du tri par insertion\n",
    "\n",
    "> L'idée consiste à construire la partie triée en y insérant à la bonne place chaque élément de la partie non triée\n",
    "\n",
    "<img src=\"img/insertion.gif\">\n",
    "\n",
    "## Tri par insertion\n",
    "\n",
    "* On parcourt le tableau de gauche à droite en maintenant sur la gauche une _\"partie déjà triée\"_ (initialement composée de la première case du tableau et qui va être complétée au fur et à mesure de l'algorithme). Le reste du tableau est appelée _\"partie non triée\"_\n",
    "\n",
    "\n",
    "* A chaque étape, **insérer** le premier élément non encore trié dans la partie déjà triée. Pour cela, on va décaler d'une case vers la droite tous les éléments déjà triés qui sont plus grands que l'élément à insérer puis déposer l'élément à insérer dans la case ainsi libérée\n",
    "\n",
    "\n",
    "* Et ainsi de suite...\n",
    "\n",
    "# Code python"
   ]
  },
  {
   "cell_type": "code",
   "execution_count": null,
   "metadata": {},
   "outputs": [],
   "source": [
    "def tri_par_insertion(t):\n",
    "    for i in range(1, len(t)):\n",
    "        j = i\n",
    "        element_a_inserer = t[i]\n",
    "        \n",
    "        #Les éléments plus grands que que element_a_inserer sont décalés vers la droite  \n",
    "        while j > 0 and t[j - 1] > element_a_inserer :\n",
    "            t[j] = t[j - 1]\n",
    "            j = j - 1\n",
    "            \n",
    "        # On insère l'élément au bon endroit\n",
    "        t[j] = element_a_inserer "
   ]
  },
  {
   "cell_type": "markdown",
   "metadata": {},
   "source": [
    "# Complexite du tri par insertion\n",
    "\n",
    "## Complexité dans le pire cas\n",
    "\n",
    "Le pire cas correspond à une liste initialement triée par ordre décroissant. En effet, dans ce cas il faut décaler systématiquement tous les éléments de la partie triée avant de faire l'insertion. Le tri par insertion est de **complexité quadratique $0(n^2)$ dans le pire cas**.\n",
    "\n",
    "![complexite tri par insertion](img/tri_insertion.png)\n",
    "\n",
    "* A la $1^{ère}$ étape, le tri effectue $1$ décalage (donc a dû faire $1$ comparaison)\n",
    "* A la $2^{ème}$ étape, le tri effectue $2$ décalages (donc a dû faire $2$ comparaisons)\n",
    "* .\n",
    "* .\n",
    "* A la $i^{ème}$ étape, le tri effectue $i$ décalages (donc a dû faire $i$ comparaison)\n",
    "* .\n",
    "* .\n",
    "* A la $n^{ème}$ et dernière étape, le tri effectue $n-1$ décalages (donc a dû faire $n-1$ comparaison)\n",
    "\n",
    "$\\Longrightarrow$ Au total on a $(n-1) + (n-2) + ... + 2 + 1$ comparaisons. Mathématiquement, on peut démontrer que cette somme vaut $\\frac{n(n-1)}{2}$\n",
    "\n",
    "$\\Longrightarrow$ Au total on a $\\frac{n(n-1)}{2}$ comparaisons. Le terme dominant est un terme en $n^2$. On a donc une complexité quadratique en $O(n^2)$\n",
    "\n",
    "## Complexité dans le cas optimal\n",
    "\n",
    "Le cas optimal correspond à une liste déjà triée par ordre croissant. En effet, dans ce cas il n'y a pas besoin de décaler les éléments de la partie triée. Donc dans ce cas optimal, on ne rentre jamais dans la boucle `while`. Il ne reste que la boucle `for` qui parcourt le tableau. Le tri par insertion est de **complexité linéaire $0(n)$ dans le cas optimal**.\n",
    "\n",
    "![complexite tri par insertion](img/tri_insertion2.png)\n",
    "\n",
    "\n",
    "# Terminaison du tri par insertion\n",
    "\n",
    "* La boucle externe est une boucle `for` donc le nombre de passage est déterminé et borné ((n-1) passages)\n",
    "* La boucle interne est une boucle `while` qui potentiellement peut ne pas terminer (boucle infinie)\n",
    "\n",
    "Considérons le **variant** `j` dans le code python. Ce variant constitue une suite d'entiers décroissantes allant de $i$ à $1$ dans le pire des cas. Il y a donc au plus $i$ passages dans la boucle `while`. Celle-ci termine donc\n",
    "\n",
    "$\\Longrightarrow$ L'algorithme du tri par insertion se termine."
   ]
  }
 ],
 "metadata": {
  "kernelspec": {
   "display_name": "Python 3",
   "language": "python",
   "name": "python3"
  },
  "language_info": {
   "codemirror_mode": {
    "name": "ipython",
    "version": 3
   },
   "file_extension": ".py",
   "mimetype": "text/x-python",
   "name": "python",
   "nbconvert_exporter": "python",
   "pygments_lexer": "ipython3",
   "version": "3.7.2"
  }
 },
 "nbformat": 4,
 "nbformat_minor": 4
}
