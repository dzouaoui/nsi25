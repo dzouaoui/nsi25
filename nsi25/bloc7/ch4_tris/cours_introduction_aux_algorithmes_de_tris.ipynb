{
 "cells": [
  {
   "cell_type": "markdown",
   "metadata": {},
   "source": [
    "# Algorithmes de tris\n",
    "\n",
    "## Trier, c'est comparer les éléments entre eux\n",
    "\n",
    "|liste à trier|relation d'ordre|outil de comparaison|liste triée|\n",
    "|:-|:-|:-|:-|\n",
    "|`[2, 6, 0, 1, 10]`|ordre croissant|`<`|`[0, 1, 2, 6, 10]`|\n",
    "|`[2, 6, 0, 1, 10]`|ordre décroissant|`>`|`[10, 6, 2, 1, 0]`|\n",
    "|`['Max', 'Bob', 'Charly', 'Jenny', 'Alice']`|ordre alphabétique|`<` en python|`['Alice', 'Bob', 'Charly', 'Jenny', 'Max']`|"
   ]
  },
  {
   "cell_type": "code",
   "execution_count": 38,
   "metadata": {},
   "outputs": [
    {
     "data": {
      "text/plain": [
       "True"
      ]
     },
     "execution_count": 38,
     "metadata": {},
     "output_type": "execute_result"
    }
   ],
   "source": [
    "#Rappel\n",
    "'Alice' < 'Bob'"
   ]
  },
  {
   "cell_type": "markdown",
   "metadata": {},
   "source": [
    "Trier une liste consiste à ordonner ses éléments selon certaines règles prédéterminées appelées **relation d'ordre**. \n",
    "\n",
    "Il suffit de **comparer** 2 éléments du tableau suivant **la relation d'ordre** pour déterminer \"qui vient avant l'autre\" $\\Longrightarrow$ **La COMPARAISON est l'opération de base du tri**."
   ]
  },
  {
   "cell_type": "markdown",
   "metadata": {},
   "source": [
    "## Pourquoi trier ?\n",
    "\n",
    "Le tri est une opération très courante dans la vie de tous les jours comme en informatique :\n",
    "* trier des livres par ordre alphabétique\n",
    "* trier des fichiers par taille\n",
    "* trier des compétiteurs par performance, par catégorie\n",
    "* etc...\n",
    "\n",
    "Une fois les données triées, il est plus rapide de :\n",
    "* rechercher une donnée (recherche dichotomique)\n",
    "* comparer 2 tableaux entre eux\n",
    "* rechercher l'élément le plus fréquent\n",
    "* compter les éléments identiques d'un tableau\n",
    "* etc ...\n",
    "\n",
    "$\\Longrightarrow$ Le tri est un \"ingrédient de base\" de très nombreux algorithmes. \n",
    "* Pour cette raison, les informaticiens ont cherché à concevoir des algorithmes de tris très efficaces (voir `premiere/bloc7/Cours_complexite_d_un_algorithme`)\n",
    "* Il existe de très nombreux algorithmes de tris différents, fruit de la quête du meilleur algorithme\n",
    "    * tri par sélection (première)\n",
    "    * tri par insertion (première)\n",
    "    * tri fusion (terminale)   \n",
    "    * tri à bulles\n",
    "    * tri rapide\n",
    "    * Timsort (le tri de python)\n",
    "    * [D'autres algorithmes de tris parmi les plus courants...](https://fr.wikipedia.org/wiki/Algorithme_de_tri#Comparaison_des_algorithmes)\n",
    "\n",
    "\n",
    "## Plusieurs algorithmes de tri, lequel choisir ?\n",
    "\n",
    "_C'est simple : on utilise le meilleur tri (meilleure complexité) conçu par les informaticiens_\n",
    "\n",
    "... Malheureusement, ce n'est pas si simple : Il n'y a pas vraiment de \"meilleur\" algorithme de tri.\n",
    "\n",
    "* D'abord parce qu'il n'y a pas 1 mais 2 complexités (même si dans le programme de NSI, on s'intéresse surtout à la complexité temporelle) :\n",
    "    * la complexité temporelle (le temps de calcul de l'algorithme)\n",
    "    * la complexité spatiale (la quantité de mémoire utilisée par l'algorithme)\n",
    "    * Et donc bien souvent une bonne complexité temporelle \"se paye\" par une mauvaise complexité spatiale\n",
    "    \n",
    "\n",
    "* Ensuite parce qu'il faut distinguer complexité :\n",
    "    * Dans le pire cas (situation de départ qui fera que le temps de calcul sera le plus important)\n",
    "    * Dans le cas optimal (situation de départ qui fera que le temps de calcul sera le moins important)\n",
    "    * Dans le cas général\n",
    "    \n",
    "\n",
    "### Mais concrètement on choisit lequel ?\n",
    "\n",
    "* Si le tableau contient de très nombreuses données, on va privilégier des algorithmes de tris de bonne complexité temporelle\n",
    " \n",
    " \n",
    "* Si les données du tableau sont de très grandes tailles, on va privilégier des algorithmes de tris de bonne complexité spatiale  \n",
    "\n",
    "\n",
    "* Le tri [Timsort](https://fr.wikipedia.org/wiki/Timsort), inventé en 2002 et implémenté par python est un très bon choix :\n",
    "    * `sorted` : **fonction** qui **renvoie** une nouvelle liste triée\n",
    "    * `sort` : **méthode** triant une liste en place (**effet de bord**)\n",
    "    \n",
    "\n",
    "* Si on a une idée sur l'état initial du tableau, on peut privilégier un algorithme particulier. Par exemple  on peut utiliser le tri par insertion, pourtant moins bon dans le cas général que le tri TimSort, si on sait que le tableau est déjà presque trié..."
   ]
  }
 ],
 "metadata": {
  "kernelspec": {
   "display_name": "Python 3",
   "language": "python",
   "name": "python3"
  },
  "language_info": {
   "codemirror_mode": {
    "name": "ipython",
    "version": 3
   },
   "file_extension": ".py",
   "mimetype": "text/x-python",
   "name": "python",
   "nbconvert_exporter": "python",
   "pygments_lexer": "ipython3",
   "version": "3.7.2"
  }
 },
 "nbformat": 4,
 "nbformat_minor": 4
}
