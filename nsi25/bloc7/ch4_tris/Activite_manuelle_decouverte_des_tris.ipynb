{
 "cells": [
  {
   "cell_type": "markdown",
   "metadata": {},
   "source": [
    "## Objectif\n",
    "\n",
    "On dispose de boites de poids différent, comment les ranger de gauche à droite par masse croissante ?\n",
    "**Contrainte :** on ne peut les comparer qu’une à une. (Rappel : **la comparaison est l'opération de base du tri**)\n",
    "\n",
    "### Matériel à disposition\n",
    "\n",
    "* Quelques boîtes de poids différents\n",
    "* Une balance permettant de **comparer** le poids de 2 boîtes\n",
    "\n",
    "![balance](img/balance.jpg)\n",
    "\n",
    "## Travail demandé\n",
    "\n",
    "1. Rechercher une stratégie (c'est-à-dire un algorithme) permettant réaliser l'objectif tout en respectant la contrainte\n",
    "2. Ecrire votre stratégie dans un fichier texte `stratégie.md` sous ATOM et le déposer dans votre _repository_ gitlab\n",
    "3. N'importe qui lisant votre fichier doit être capable de mettre en oeuvre votre stratégie et d'atteindre l'objectif sans aucune explication supplémentaire\n",
    "\n",
    "On demande de trouver 2 stratégies différentes\n",
    "\n",
    "**$\\Longrightarrow$ Vous pourrez être amené à montrer votre stratégie au tableau et à la mettre en oeuvre devant la classe**\n"
   ]
  }
 ],
 "metadata": {
  "kernelspec": {
   "display_name": "Python 3",
   "language": "python",
   "name": "python3"
  },
  "language_info": {
   "codemirror_mode": {
    "name": "ipython",
    "version": 3
   },
   "file_extension": ".py",
   "mimetype": "text/x-python",
   "name": "python",
   "nbconvert_exporter": "python",
   "pygments_lexer": "ipython3",
   "version": "3.7.2"
  }
 },
 "nbformat": 4,
 "nbformat_minor": 4
}
