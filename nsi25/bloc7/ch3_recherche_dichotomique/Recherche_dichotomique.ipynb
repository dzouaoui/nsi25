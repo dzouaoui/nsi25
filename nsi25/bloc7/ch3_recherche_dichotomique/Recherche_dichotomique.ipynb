{
 "cells": [
  {
   "cell_type": "markdown",
   "metadata": {},
   "source": [
    "# Algorithme de recherche dichotomique\n",
    "\n",
    "La recherche dichotomique s'effectue sur une liste **PREALABLEMENT TRIÉE** ! On peut donc préalablement utiliser la fonction *sorted()* ou la méthode *sort()* pour trier la liste sur laquelle on veut faire la recherche.\n",
    "\n",
    "## Principe de la recherche dichotomique\n",
    "\n",
    "A chaque étape, on coupe le tableau en deux et on effectue un test pour savoir dans quelle partie se trouve l'élément recherché. Puis on recommence.  \n",
    "C'est le principe du **diviser pour régner**"
   ]
  },
  {
   "cell_type": "code",
   "execution_count": 30,
   "metadata": {
    "code_folding": []
   },
   "outputs": [],
   "source": [
    "def recherche_dichotomique(liste, valeur):\n",
    "   \"\"\"\n",
    "    Rôle : détermine si la valeur est présente dans la liste\n",
    "    \"\"\"\n",
    "    pass       \n",
    "            "
   ]
  },
  {
   "cell_type": "code",
   "execution_count": 4,
   "metadata": {
    "code_folding": []
   },
   "outputs": [
    {
     "name": "stdout",
     "output_type": "stream",
     "text": [
      "[2, 3, 3, 4, 6, 9]\n"
     ]
    }
   ],
   "source": [
    "# Création d'une liste de 6 entiers tirés au hasard entre 0 et 9\n",
    "import random\n",
    "petite_liste = [random.randrange(10) for i in range(6)] # Syntaxe de COMPREHENSION DE LISTE (voir cours listes)\n",
    "petite_liste.sort()\n",
    "print(petite_liste)"
   ]
  },
  {
   "cell_type": "code",
   "execution_count": 32,
   "metadata": {},
   "outputs": [
    {
     "name": "stdout",
     "output_type": "stream",
     "text": [
      "[0, 2, 3, 3, 4, 4, 4, 6, 7, 7, 8, 10, 10, 10, 12, 12, 12, 13, 14, 16, 17, 20, 20, 21, 23, 25, 26, 28, 31, 31, 32, 33, 36, 38, 38, 40, 42, 46, 47, 48, 49, 49, 49, 52, 53, 54, 54, 57, 57, 58, 60, 60, 60, 61, 61, 62, 65, 65, 66, 67, 69, 69, 69, 69, 69, 70, 70, 70, 71, 72, 72, 73, 73, 73, 74, 74, 75, 75, 81, 85, 85, 85, 86, 87, 87, 88, 88, 89, 89, 89, 91, 93, 93, 94, 95, 95, 95, 95, 98, 99]\n"
     ]
    }
   ],
   "source": [
    "import random\n",
    "grande_liste = [random.randrange(100) for i in range(100)]\n",
    "grande_liste.sort()\n",
    "print(grande_liste)"
   ]
  },
  {
   "cell_type": "markdown",
   "metadata": {},
   "source": [
    "Remarque importante : \n",
    "* L'intérêt d'un ordinateur est de traiter des quantités de données très grandes. Ainsi, dans notre cas sur des listes de longueurs allant de quelques centaines à plusieurs milliers de valeurs\n",
    "* Attention au piège : Si on demande à un humain d'effectuer la recherche sur une petite liste, son oeil lui donnera *\"quasiment tout de suite\"* le résultat sans avoir besoin de mettre en oeuvre un algorithme\n",
    "* Pour **trouver l'algorithme**, il faut *\"imaginer faire\"* (ou commencer) le travail à la main sur une liste très longue avec comme seul outil un papier et un crayon. (voir cours d'introduction sur les algorithmes)"
   ]
  },
  {
   "cell_type": "code",
   "execution_count": 33,
   "metadata": {},
   "outputs": [
    {
     "data": {
      "text/plain": [
       "True"
      ]
     },
     "execution_count": 33,
     "metadata": {},
     "output_type": "execute_result"
    }
   ],
   "source": [
    "recherche_dichotomique(grande_liste, 47)"
   ]
  },
  {
   "cell_type": "markdown",
   "metadata": {},
   "source": [
    "## Travail à faire\n",
    "(Indice en fin de TP si nécessaire)\n",
    "\n",
    "1. **Ecrire** la documentation de la fonction en utilisant le modèle de documentation habituel suivant :\n",
    "    * Description de la foncion :\n",
    "    * paramètre(s) (type) :\n",
    "    * Précondition(s) sur les paramètres :\n",
    "    * Return (type) :\n",
    "2. **Ecrire** sur une **FEUILLE** l'algorithme **en français** (façon *\"recette de cuisine\"*). Cette étape est indispensable : ne pas passer à la question suivante sans l'avoir fait!!\n",
    "\n",
    "Rappel : \n",
    "   * Un algorithme est composé d'**instructions élémentaires\"**\n",
    "   * **Nimporte quelle autre personne** doit être en mesure de suivre votre algorithme et trouver le bon résultat sans aide extérieure\n",
    "\n",
    "3. **Traduire** votre algorithme en langage python sur ordinateur. Normalement, si votre algorithme a bien été écrit à la question précédente, cette étape est plus simple, il *\"suffit\"* de respecter la syntaxe python.\n",
    "4. **Tester** le bon fonctionnement de votre fonction sur quelques listes (Bien choisir ses tests). Pour ceux qui peuvent aller plus loin : **Remplacer** cette question par **l'écriture de doctests** et la validation de ces tests automatiquement grâce au module *doctest*\n",
    "\n",
    "### Indices :\n",
    "* Boucle `for` ou boucle `while` : peut-on connaître à l'avance le nombre d'itérations ?\n",
    "* Quelle condition d'arrêt de la boucle ?\n",
    "* Combien de variables sont utiles pour le programme ?\n",
    "* Doit-on initialiser ces variables et si oui à quelles valeurs ?\n",
    "\n",
    "# Exercice 1\n",
    "\n",
    "**Exécuter sur feuille** l'appel `recherche_dichotomique([0,1,1,2,3,5,8,13,21],7)`. Pour cela, **compléter** le tableau ci dessous. Combien de valeurs de tableau sont examinées (il y en a autant que de tours de boucles). Vérifier votre tableau et votre résultat en exécutant cet appel en **mode pas à pas sur Thonny**.\n",
    "\n",
    "|gauche|droit|pivot|\n",
    "|:----:|:---:|:---:|\n",
    "| 0 | 8 | 4 |\n",
    "\n",
    "# Exercice 2\n",
    "\n",
    "1. **Modifier** le code de la fonction recherche_dichotomique() afin qu'elle **affiche** le nombre de tours de boucles effectuées\n",
    "2. \n",
    "    * **Créer** par compréhension des listes de tailles 10, 100, 1000, 10000, 1_000_000 contenant uniquement des 0\n",
    "    * **Lancer** la recherche de la valeur 1 sur ces listes. Comme la valeur 1 n'est pas dans la liste, on se situe dans le **pire cas**. **Compléter** le tableau ci-dessous :\n",
    "    \n",
    "|Taille de la liste|Nombre de valeurs examinées dans le pire cas (recherche_dichotomique)|Nombre de valeurs examinées dans le pire cas (recherche_séquentielle)|\n",
    "|:----------------:|:-----------------------------------:|:-----------------------------------:|\n",
    "| 10 | à compléter | à compléter |\n",
    "| 100 | à compléter | à compléter |\n",
    "| 1000 | à compléter | à compléter |\n",
    "| 10000 | à compléter | à compléter |\n",
    "| 100_000 | à compléter | à compléter |\n",
    "| 1_000_000 | à compléter | à compléter |\n",
    "\n",
    "3. L'algorithme de recherche dichotomique est t-il de complexité linéaire ? **Conclure** en une phrase sur l'intérêt de la recherche dichotomique\n",
    "\n",
    "# Exercice 3\n",
    "\n",
    "> En fait la recherche dichotomique va examiner autant de valeurs que de fois où on peut couper la taille de la liste en 2\n",
    "\n",
    "1. **Ecrire** une fonction *Nb_tours()* qui :\n",
    "    * prend un entier n en **paramètre** (n représente la taille de la liste)\n",
    "    * **renvoie** le plus petit entier k tel que $2^k \\ge n$\n",
    "\n",
    "> Ainsi la fonction *Nb_tours()* renvoie le nombre de valeurs examinées par une recherche dichotomique\n",
    "\n",
    "2. A l'aide de quelques appels de cette fonction, retouver le tableau de l'exercice 2\n",
    "\n",
    "> Mathématiquement, on démontre que ce nombre k est l'arrondi à l'entier supérieur du logarithme en base 2 de n\n",
    "\n",
    "3. Après avoir consulté l'aide de la fonction *ceil()* et *log2()* du module *math*, écrire quelques lignes de code python permettant de retrouver le nombre k \n",
    "\n",
    "**CONCLUSION** : L'algorithme de recherche dichotomique est de **complexité logarithmique**, ce qui est **extrêmement efficace** !\n",
    "\n",
    "## Pour aller plus loin\n",
    "\n",
    "* Ecrire une version 2 de la recherche dichotomique afin qu'elle prenne en paramètre des **matrices nxn**\n",
    "* Ecrire une version 3 de la recherche dichotomique afin que la fonction renvoie l'indice de la valeur recherchée"
   ]
  }
 ],
 "metadata": {
  "kernelspec": {
   "display_name": "Python 3",
   "language": "python",
   "name": "python3"
  },
  "language_info": {
   "codemirror_mode": {
    "name": "ipython",
    "version": 3
   },
   "file_extension": ".py",
   "mimetype": "text/x-python",
   "name": "python",
   "nbconvert_exporter": "python",
   "pygments_lexer": "ipython3",
   "version": "3.10.12"
  },
  "latex_envs": {
   "LaTeX_envs_menu_present": true,
   "autoclose": false,
   "autocomplete": true,
   "bibliofile": "biblio.bib",
   "cite_by": "apalike",
   "current_citInitial": 1,
   "eqLabelWithNumbers": true,
   "eqNumInitial": 1,
   "hotkeys": {
    "equation": "Ctrl-E",
    "itemize": "Ctrl-I"
   },
   "labels_anchors": false,
   "latex_user_defs": false,
   "report_style_numbering": false,
   "user_envs_cfg": false
  }
 },
 "nbformat": 4,
 "nbformat_minor": 2
}
