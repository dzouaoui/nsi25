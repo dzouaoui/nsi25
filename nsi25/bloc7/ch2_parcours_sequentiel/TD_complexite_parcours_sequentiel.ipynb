{
 "cells": [
  {
   "cell_type": "markdown",
   "metadata": {},
   "source": [
    "# Exercice 1\n",
    "\n",
    "> On rappelle que la complexité temporelle correspond au nombre d'opérations élémentaires effectuées pour accomplir la tâche"
   ]
  },
  {
   "cell_type": "code",
   "execution_count": null,
   "metadata": {},
   "outputs": [],
   "source": [
    "def recherche(liste, valeur):\n",
    "    \"\"\"\n",
    "    Description de la fonction : Détermine si la valeur est présente dans la liste\n",
    "    paramètre liste (list)\n",
    "    paramètre valeur (type quelconque)\n",
    "    Return (bool)\n",
    "    \"\"\"\n",
    "    for element in liste:\n",
    "        if element == valeur:\n",
    "            return True\n",
    "    return False"
   ]
  },
  {
   "cell_type": "markdown",
   "metadata": {},
   "source": [
    "1. Calculer la complexité temporelle de l'appel ci-dessous (meilleur cas)"
   ]
  },
  {
   "cell_type": "code",
   "execution_count": null,
   "metadata": {},
   "outputs": [],
   "source": [
    "liste = [12,6,3,8,14,5]\n",
    "recherche(liste,12)"
   ]
  },
  {
   "cell_type": "markdown",
   "metadata": {},
   "source": [
    "2. Calculer la complexité temporelle de l'appel ci-dessous (cas quelconque)"
   ]
  },
  {
   "cell_type": "code",
   "execution_count": null,
   "metadata": {},
   "outputs": [],
   "source": [
    "liste = [12,6,3,8,14,5]\n",
    "recherche(liste,8)"
   ]
  },
  {
   "cell_type": "markdown",
   "metadata": {},
   "source": [
    "3. Calculer la complexité temporelle de l'appel ci-dessous (pire cas)"
   ]
  },
  {
   "cell_type": "code",
   "execution_count": null,
   "metadata": {},
   "outputs": [],
   "source": [
    "liste = [12,6,3,8,14,5]\n",
    "recherche(liste,20)"
   ]
  },
  {
   "cell_type": "markdown",
   "metadata": {},
   "source": [
    "> Généralisation dans le pire cas : Soit une liste contenant `n` éléments ne contenant pas l'élément `20`\n",
    "\n",
    "4. Calculer la complexité temporelle de l'appel ci-dessous en fonction de `n`"
   ]
  },
  {
   "cell_type": "code",
   "execution_count": null,
   "metadata": {},
   "outputs": [],
   "source": [
    "recherche(liste,20)"
   ]
  },
  {
   "cell_type": "markdown",
   "metadata": {},
   "source": [
    "# Exercice 2\n",
    "\n",
    "> On donne la fonction `longueur` ci-dessous mettant en oeuvre 1 algorithme de **parcourt séquentiel** permettant de calculer le nombre des éléments dans une liste"
   ]
  },
  {
   "cell_type": "code",
   "execution_count": null,
   "metadata": {},
   "outputs": [],
   "source": [
    "def longueur(liste):\n",
    "    compteur = 0\n",
    "    for element in liste:\n",
    "        compteur = compteur + 1\n",
    "    return compteur"
   ]
  },
  {
   "cell_type": "markdown",
   "metadata": {},
   "source": [
    "Soit une liste contenant `n` éléments. Calculer la complexité temporelle en fonction de `n` de cet algorithme"
   ]
  }
 ],
 "metadata": {
  "kernelspec": {
   "display_name": "Python 3 (ipykernel)",
   "language": "python",
   "name": "python3"
  },
  "language_info": {
   "codemirror_mode": {
    "name": "ipython",
    "version": 3
   },
   "file_extension": ".py",
   "mimetype": "text/x-python",
   "name": "python",
   "nbconvert_exporter": "python",
   "pygments_lexer": "ipython3",
   "version": "3.8.10"
  },
  "latex_envs": {
   "LaTeX_envs_menu_present": true,
   "autoclose": false,
   "autocomplete": true,
   "bibliofile": "biblio.bib",
   "cite_by": "apalike",
   "current_citInitial": 1,
   "eqLabelWithNumbers": true,
   "eqNumInitial": 1,
   "hotkeys": {
    "equation": "Ctrl-E",
    "itemize": "Ctrl-I"
   },
   "labels_anchors": false,
   "latex_user_defs": false,
   "report_style_numbering": false,
   "user_envs_cfg": false
  }
 },
 "nbformat": 4,
 "nbformat_minor": 4
}
